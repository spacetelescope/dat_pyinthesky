{
 "cells": [
  {
   "cell_type": "markdown",
   "metadata": {},
   "source": [
    "# IFU Data Modeling\n"
   ]
  },
  {
   "cell_type": "markdown",
   "metadata": {},
   "source": [
    "**Use case:** continuum and emission-line modeling of AGN; 1.47-1.87um.<br>\n",
    "**Data:** [NIFS](https://www.gemini.edu/instrumentation/current-instruments/nifs) on Gemini; NGC 4151.<br>\n",
    "**Tools:**  specutils, jdaviz/cubeviz, astropy, matplotlib, bottleneck.<br>\n",
    "**Cross-intrument:** NIRSpec; potentially MIRI <br>\n",
    "**Documentation:** This notebook is part of a STScI's larger [post-pipeline Data Analysis Tools Ecosystem](https://jwst-docs.stsci.edu/jwst-post-pipeline-data-analysis) and can be [downloaded](https://github.com/spacetelescope/jdat_notebooks/tree/main/notebooks/IFU_cube_continuum_fit/) directly from the [JDAT Notebook Github directory](https://github.com/spacetelescope/jdat_notebooks).<br>\n",
    "\n",
    "## Introduction\n",
    "\n",
    "This notebook uses an example 3-D IFU Datacube of the Active Galactic Nucleii NGC 4151 [Storchi-Bergmann et al. 2009,  MNRAS, V 394, pp. 1148-1166](https://ui.adsabs.harvard.edu/abs/2009MNRAS.394.1148S/abstract).  This is a ground-based AO-fed H-band dataset (1.47-1.87um) from the Near-Infrared Integral Field Spectrograph (NIFS) instrument at the Gemini Observatory.  NIFS is a very similar image slicing IFU to JWST NIRSpec.\n",
    "\n",
    "This notebook performs some simple spectral investigations.  The notebook utilizes [jdaviz/cubviz](https://github.com/spacetelescope/jdaviz) to inspect the dataset and extract 1-D spectra.  The continuum is fit in a region near to the 1.644um [Fe II] emission from the AGN outflow and subtracted.  The centrally compact atomic Hydrogen Brackett 12 feature, which is nearby in wavelength and contaminates the [Fe II] outflow emission, is also fit and removed.  The data sub-cubes of the continuum model and the isolated and continuum subtracted [Fe II] emission are then saved.  These saved data sets will ultimately serve as starting points for the future notebooks in this set.\n",
    "\n",
    "**Note:** This notebook is designed to analyze the 1.6440 [Fe II] emission but the wavelengths can be altered to fit and remove continuum around any emission line of interest.\n",
    "\n",
    "## Import Packages\n",
    " - time for timing\n",
    " - numpy for array processing and math\n",
    " - matplotlib.pyplot for plotting images and spectra\n",
    " - astropy.io for reading and writing FITS cubes and images\n",
    " - astropy.modeling for modeling spectral curves\n",
    " - astropy.utils.data for accessing the data\n",
    " - specutils.fitting for spectral data fitting\n",
    " - specutils Spectrum1D for modeling emission lines\n",
    " - jdaviz.app to use cubeviz in the notebook\n",
    "\n"
   ]
  },
  {
   "cell_type": "code",
   "execution_count": 16,
   "metadata": {},
   "outputs": [],
   "source": [
    "# load important packages\n",
    "import time\n",
    "from copy import copy\n",
    "\n",
    "import numpy as np\n",
    "\n",
    "import astropy\n",
    "from astropy.io import fits, ascii\n",
    "from astropy import units as u\n",
    "from astropy.modeling import models\n",
    "from astropy.utils.data import download_file\n",
    "from specutils.fitting import fit_lines\n",
    "from specutils import Spectrum1D\n",
    "\n",
    "from jdaviz.app import Application\n",
    "\n",
    "from IPython.display import HTML\n"
   ]
  },
  {
   "cell_type": "code",
   "execution_count": 6,
   "metadata": {},
   "outputs": [],
   "source": [
    "# load and configure matplotlib\n",
    "%matplotlib inline\n",
    "import matplotlib.pyplot as plt\n",
    "plt.rcParams.update({'figure.max_open_warning': 0})\n"
   ]
  },
  {
   "cell_type": "code",
   "execution_count": 7,
   "metadata": {
    "scrolled": true
   },
   "outputs": [
    {
     "data": {
      "image/png": "[encoded data removed]",
      "text/plain": [
       "<Figure size 432x288 with 1 Axes>"
      ]
     },
     "metadata": {
      "needs_background": "light"
     },
     "output_type": "display_data"
    }
   ],
   "source": [
    "#This cell accesses the datacube file, defines the wavelength grid from header information and then plots a simple\n",
    "# 1-D collapsed spectrum of the IFU data.\n",
    "\n",
    "# Read in a 3-D IFU datacube of interest, and header.\n",
    "cube_file = 'https://data.science.stsci.edu/redirect/JWST/jwst-data_analysis_tools/IFU_cube_continuum_fit/NGC4151_Hband.fits'\n",
    "fn = download_file('https://data.science.stsci.edu/redirect/JWST/jwst-data_analysis_tools/IFU_cube_continuum_fit/NGC4151_Hband.fits', cache=True)\n",
    "cube = fits.getdata(cube_file)\n",
    "header_cube = fits.getheader(cube_file)\n",
    "\n",
    "#grab data information and wavelength definitions.\n",
    "nz, ny, nx = cube.shape\n",
    "crdelt3 = header_cube['CDELT3']\n",
    "crval3 = header_cube['CRVAL3']\n",
    "\n",
    "#define the wavelength grid (microns) from the header (Angstroms)\n",
    "# and the AGN redshift and the emission line of interest.\n",
    "wave =((crdelt3 * (np.arange(0,nz,1))) + crval3)/10000.0\n",
    "redshift = 0.00332\n",
    "emission_line = 1.64400*(1 + redshift)\n",
    "emission_line_index = (np.abs(wave-emission_line)).argmin()\n",
    "\n",
    "# make a simple summed 1d spectrum of the full cube\n",
    "flux1 = np.sum(cube, axis=(1,2))\n",
    "\n",
    "# plot the full 1-D spectrum.\n",
    "plt.figure(0)\n",
    "plt.plot(wave, flux1)\n",
    "plt.show()\n"
   ]
  },
  {
   "cell_type": "markdown",
   "metadata": {},
   "source": [
    "We see that the spectral edges of the summed 1D are 'ratty'.  The 1D spectral array goes beyond the nominal useable data range of the instrument.  We'll ignore the poor spectral regions and focus on the AGN flux.\n",
    "\n",
    "The [Fe II] feature that we are interested in is the bright, strong emission just shortward of 1.65um.  The contaminating H I Br 12 emission is just blueward of the [Fe II].\n",
    "\n",
    "We can use this plot window to read wavelength values of interest to define our analysis spectral ranges (see wavelength/flux grid data to the lower right of the plot window).\n",
    "\n",
    "Special Note - in this particular dataset, a portion of the spectrum on the red side of the [FeII] emission\n",
    "provides a clean measure of the continuum.  The blue-ward side of the [Fe II]\n",
    "and HI Brackett 12 emission has other emission and absorption features that make clear continuum ID very \n",
    "difficult.  As a result, it is more accurate to do a simple linear fit to the red side of the spectrum rather than\n",
    "a more expanded spectral region that encompasses the emission.."
   ]
  },
  {
   "cell_type": "code",
   "execution_count": null,
   "metadata": {
    "scrolled": true
   },
   "outputs": [],
   "source": [
    "\n",
    "#This cell defines the wavelength regions of interest: around the emission line, and the location\n",
    "#where you want to fit and remove the continuum very accurately.  Make a plot that shows the regions.\n",
    "\n",
    "# Here we select a region that includes the emission line\n",
    "# wavelength plus a small range of continuum around it.  \n",
    "# Determine these limits by investigating the flux in the above plot.  Read\n",
    "# the wavelength values off of the plot information at the lower right.\n",
    "\n",
    "wave_emission_limit1 = 1.630\n",
    "wave_emission_limit2 = 1.665\n",
    "\n",
    "# Here we define a spectral range where we will use the\n",
    "# flux to generate a continuum model.  The flux shape in this\n",
    "# AGN is quite linear around the redward emission, so we will use only a \n",
    "# short segment of the spectrum on the red side of the emission \n",
    "# feature.\n",
    "# We again determine these values by investigating the wavelengths in the\n",
    "# above plot window.\n",
    "\n",
    "continuum_limit1 = 1.656\n",
    "continuum_limit2 = 1.673\n",
    "  \n",
    "#Define the wavelength region around the emission - indices\n",
    "wavemin = (np.abs(wave-wave_emission_limit1)).argmin()\n",
    "wavemax = (np.abs(wave-wave_emission_limit2)).argmin()\n",
    "\n",
    "# Define the wavelength region used to fit the continuum flux level  - indices.\n",
    "continuummin = (np.abs(wave-continuum_limit1)).argmin()\n",
    "continuummax = (np.abs(wave-continuum_limit2)).argmin()\n",
    "\n",
    "#show the region used for the emission line and continuum fit.  Alter the wavelengths \n",
    "# above if this doesn't look good.  \n",
    "plt.figure(1)\n",
    "plt.plot(wave, flux1)\n",
    "plt.plot(wave[wavemin:wavemax], flux1[wavemin:wavemax])\n",
    "plt.plot(wave[continuummin:continuummax], flux1[continuummin:continuummax],color='r')\n",
    "plt.show()\n"
   ]
  },
  {
   "cell_type": "code",
   "execution_count": null,
   "metadata": {},
   "outputs": [],
   "source": [
    "print(wave)\n",
    "#print(wave-wave_emission_limit1)\n",
    "#print(continuummin,continuummax)"
   ]
  },
  {
   "cell_type": "markdown",
   "metadata": {},
   "source": [
    " For this particular dataset, this continuum region looks very good.\n",
    " if you have a more structured continuum you can define additional\n",
    " regions and append them into a larger set of wave / flux arrays to \n",
    " derive a more accurate fit in the below poly-fit analysis."
   ]
  },
  {
   "cell_type": "markdown",
   "metadata": {},
   "source": [
    "### Cubeviz Visualization\n",
    "You can also visualize images inside a Jupyter notebook using [Cubeviz](https://jdaviz.readthedocs.io/en/latest/cubeviz/index.html)"
   ]
  },
  {
   "cell_type": "markdown",
   "metadata": {},
   "source": [
    "### Video1: \n",
    "\n",
    "YouTube Demo"
   ]
  },
  {
   "cell_type": "code",
   "execution_count": 18,
   "metadata": {},
   "outputs": [
    {
     "data": {
      "image/jpeg": "[encoded data removed]",
      "text/html": [
       "\n",
       "        <iframe\n",
       "            width=\"400\"\n",
       "            height=\"300\"\n",
       "            src=\"https://www.youtube.com/embed/HMSYwiH3Gl4\"\n",
       "            frameborder=\"0\"\n",
       "            allowfullscreen\n",
       "        ></iframe>\n",
       "        "
      ],
      "text/plain": [
       "<IPython.lib.display.YouTubeVideo at 0x7fe5005f6730>"
      ]
     },
     "metadata": {},
     "output_type": "display_data"
    }
   ],
   "source": [
    "from IPython.display import YouTubeVideo\n",
    "vid = YouTubeVideo(\"HMSYwiH3Gl4\")\n",
    "display(vid)"
   ]
  },
  {
   "cell_type": "code",
   "execution_count": null,
   "metadata": {},
   "outputs": [],
   "source": [
    "from jdaviz import CubeViz\n",
    "cubeviz = CubeViz()\n",
    "cubeviz.app"
   ]
  },
  {
   "cell_type": "code",
   "execution_count": null,
   "metadata": {},
   "outputs": [],
   "source": [
    "# Here, we load the data into the cubeviz app.\n",
    "cubeviz.load_data(fn) "
   ]
  },
  {
   "cell_type": "markdown",
   "metadata": {},
   "source": [
    "### Some Notes:\n",
    "\n",
    "*If your cell window requires you to scroll to see the different displays in cubeviz, you can toggle the scroll window in the main menu of the notebook: Cell -> Current Outputs -> Toggle Scrolling\n",
    "\n",
    "*In the datacube viewing panel, you can select the 'layer' tab (horizontal line settings icon) in the upper panel within the viewer and change the display scaling.  Decreasing the maximum display value by 10x brings out the low level extended emission in this dataset.  In this cube, data from slice ~1060 to ~1090 shows the extended [Fe II] emission.  "
   ]
  },
  {
   "cell_type": "markdown",
   "metadata": {},
   "source": [
    "### Video2: \n",
    "\n",
    "Here is a video illustrating how to load and manipulate data for this particular notebook."
   ]
  },
  {
   "cell_type": "code",
   "execution_count": 25,
   "metadata": {},
   "outputs": [
    {
     "data": {
      "text/html": [
       "<iframe width=\"700\" height=\"500\" src=\"https://data.science.stsci.edu/redirect/JWST/jwst-data_analysis_tools/IFU_cube_continuum_fit/cubeviz1.mov\" frameborder=\"0\" allowfullscreen></iframe>"
      ],
      "text/plain": [
       "<IPython.core.display.HTML object>"
      ]
     },
     "execution_count": 25,
     "metadata": {},
     "output_type": "execute_result"
    }
   ],
   "source": [
    "HTML('<iframe width=\"700\" height=\"500\" src=\"https://data.science.stsci.edu/redirect/JWST/jwst-data_analysis_tools/IFU_cube_continuum_fit/cubeviz1.mov\" frameborder=\"0\" allowfullscreen></iframe>')\n"
   ]
  },
  {
   "cell_type": "markdown",
   "metadata": {},
   "source": [
    "### Video3:\n",
    "\n",
    "Here is a video illustrating how to define your regions of interest and extract them into the notebook for more analysis below."
   ]
  },
  {
   "cell_type": "code",
   "execution_count": 26,
   "metadata": {},
   "outputs": [
    {
     "data": {
      "text/html": [
       "<iframe width=\"700\" height=\"500\" src=\"https://data.science.stsci.edu/redirect/JWST/jwst-data_analysis_tools/IFU_cube_continuum_fit/cubeviz2_1.mov\" frameborder=\"0\" allowfullscreen></iframe>"
      ],
      "text/plain": [
       "<IPython.core.display.HTML object>"
      ]
     },
     "execution_count": 26,
     "metadata": {},
     "output_type": "execute_result"
    }
   ],
   "source": [
    "#PART 1\n",
    "HTML('<iframe width=\"700\" height=\"500\" src=\"https://data.science.stsci.edu/redirect/JWST/jwst-data_analysis_tools/IFU_cube_continuum_fit/cubeviz2_1.mov\" frameborder=\"0\" allowfullscreen></iframe>')"
   ]
  },
  {
   "cell_type": "code",
   "execution_count": 27,
   "metadata": {},
   "outputs": [
    {
     "data": {
      "text/html": [
       "<iframe width=\"700\" height=\"500\" src=\"https://data.science.stsci.edu/redirect/JWST/jwst-data_analysis_tools/IFU_cube_continuum_fit/cubeviz2_2.mov\" frameborder=\"0\" allowfullscreen></iframe>"
      ],
      "text/plain": [
       "<IPython.core.display.HTML object>"
      ]
     },
     "execution_count": 27,
     "metadata": {},
     "output_type": "execute_result"
    }
   ],
   "source": [
    "#PART 2\n",
    "HTML('<iframe width=\"700\" height=\"500\" src=\"https://data.science.stsci.edu/redirect/JWST/jwst-data_analysis_tools/IFU_cube_continuum_fit/cubeviz2_2.mov\" frameborder=\"0\" allowfullscreen></iframe>')\n"
   ]
  },
  {
   "cell_type": "markdown",
   "metadata": {},
   "source": [
    "# Extract Subset Spectrum in Cubeviz Spectrum Viewer"
   ]
  },
  {
   "cell_type": "markdown",
   "metadata": {},
   "source": [
    "Retrieve the spectrum (Subset1) of the user-defined region from the Spectrum Viewer as a Spectrum1D object."
   ]
  },
  {
   "cell_type": "code",
   "execution_count": null,
   "metadata": {},
   "outputs": [],
   "source": [
    "#Extract spectra corresponding to the colored regions in cubeviz\n",
    "spectrum1 = cubeviz.app.get_data_from_viewer('spectrum-viewer','Subset 1') #AGN Center\n",
    "spectrum2 = cubeviz.app.get_data_from_viewer('spectrum-viewer','Subset 2') #Red shifted component\n",
    "spectrum3 = cubeviz.app.get_data_from_viewer('spectrum-viewer','Subset 3') #Blue shifted component\n",
    "#spectrum3 = cubeviz.app.get_data_from_viewer('spectrum-viewer')['Subset 3'] #Blue shifted component\n",
    "spectrum1"
   ]
  },
  {
   "cell_type": "code",
   "execution_count": null,
   "metadata": {},
   "outputs": [],
   "source": [
    "#regions = cubeviz.specviz.get_spectral_regions()\n",
    "#regions"
   ]
  },
  {
   "cell_type": "code",
   "execution_count": null,
   "metadata": {},
   "outputs": [],
   "source": [
    "#regions = cubeviz.app.get_data_from_viewer('flux-viewer')['Subset 4'] #AGN Center\n",
    "#regions"
   ]
  },
  {
   "cell_type": "code",
   "execution_count": null,
   "metadata": {},
   "outputs": [],
   "source": [
    "#regions = cubeviz.app.get"
   ]
  },
  {
   "cell_type": "code",
   "execution_count": null,
   "metadata": {
    "scrolled": true
   },
   "outputs": [],
   "source": [
    "#Extract the spectral regions defined in the spectral viewer\n",
    "from specutils.spectra import SpectralRegion\n",
    "regions = cubeviz.specviz.get_spectral_regions()\n",
    "regions\n",
    "\n",
    "line_region = regions[\"Subset 4\"]\n",
    "continuum_region = regions[\"Subset 5\"]"
   ]
  },
  {
   "cell_type": "code",
   "execution_count": null,
   "metadata": {},
   "outputs": [],
   "source": [
    "#Define Missing Spectral Regions if User Did Not in Cubeviz\n",
    "if not regions:\n",
    "    line_region = SpectralRegion(1.630*u.um, 1.665*u.um)\n",
    "    \n",
    "if not regions:\n",
    "    continuum_region = SpectralRegion(1.656*u.um, 1.673*u.um)"
   ]
  },
  {
   "cell_type": "code",
   "execution_count": null,
   "metadata": {},
   "outputs": [],
   "source": [
    "#Apply the spectral region\n",
    "from specutils.manipulation import extract_region\n",
    "\n",
    "if not spectrum1:\n",
    "    flux_agn = np.sum(cube[:,(ny//2)-3:(ny//2)+3,(nx//2)-3:(nx//2)+3], axis=(1,2))\n",
    "    tmpspec = Spectrum1D(flux=flux_agn*u.Unit('count'), spectral_axis=wave*u.micron) \n",
    "    spec_agn = extract_region(tmpspec, line_region)\n",
    "    spec_agn_continuum = extract_region(tmpspec, continuum_region)\n",
    "else: \n",
    "    spec_agn = extract_region(spectrum1, line_region)\n",
    "    spec_agn_continuum = extract_region(spectrum1, continuum_region)\n",
    "\n",
    "if not spectrum2:\n",
    "    flux_feii_red = np.sum(cube[:,(36)-3:(36)+3,(12)-3:(12)+3], axis=(1,2))\n",
    "    tmpspec = Spectrum1D(flux=flux_feii_red*u.Unit('count'), spectral_axis=wave*u.micron) \n",
    "    spec_feii_red = extract_region(tmpspec, line_region)\n",
    "    spec_feii_red_continuum = extract_region(tmpspec, continuum_region)\n",
    "else:    \n",
    "    spec_feii_red = extract_region(spectrum2, line_region)\n",
    "    spec_feii_red_continuum = extract_region(spectrum2, continuum_region)\n",
    "\n",
    "if not spectrum3:\n",
    "    flux_feii_blue = np.sum(cube[:,(28)-3:(28)+3,(50)-3:(50)+3], axis=(1,2))\n",
    "    tmpspec = Spectrum1D(flux=flux_feii_blue*u.Unit('count'), spectral_axis=wave*u.micron) \n",
    "    spec_feii_blue = extract_region(tmpspec, line_region)\n",
    "    spec_feii_blue_continuum = extract_region(tmpspec, continuum_region)\n",
    "else:     \n",
    "    spec_feii_blue = extract_region(spectrum3, line_region)\n",
    "    spec_feii_blue_continuum = extract_region(spectrum3, continuum_region)"
   ]
  },
  {
   "cell_type": "code",
   "execution_count": null,
   "metadata": {},
   "outputs": [],
   "source": [
    "#Visualize new subsets\n",
    "plt.figure()\n",
    "plt.plot(spec_agn.spectral_axis,spec_agn.flux,color='black')"
   ]
  },
  {
   "cell_type": "code",
   "execution_count": null,
   "metadata": {},
   "outputs": [],
   "source": [
    "#Visualize new subsets\n",
    "plt.figure()\n",
    "plt.plot(spec_feii_blue.spectral_axis,spec_feii_blue.flux,color='b')\n",
    "plt.plot(spec_feii_red.spectral_axis,spec_feii_red.flux,color='r')"
   ]
  },
  {
   "cell_type": "code",
   "execution_count": 28,
   "metadata": {},
   "outputs": [
    {
     "data": {
      "text/html": [
       "<iframe width=\"700\" height=\"500\" src=\"https://data.science.stsci.edu/redirect/JWST/jwst-data_analysis_tools/IFU_cube_continuum_fit/bestfitcube_p1.mov\" frameborder=\"0\" allowfullscreen></iframe>"
      ],
      "text/plain": [
       "<IPython.core.display.HTML object>"
      ]
     },
     "execution_count": 28,
     "metadata": {},
     "output_type": "execute_result"
    }
   ],
   "source": [
    "#EDITOR NOTE, LIST HERE DIFFERENT VIEWERS\n",
    "#Now fit the continuum in Cubeviz\n",
    "\n",
    "#PART 1\n",
    "HTML('<iframe width=\"700\" height=\"500\" src=\"https://data.science.stsci.edu/redirect/JWST/jwst-data_analysis_tools/IFU_cube_continuum_fit/bestfitcube_p1.mov\" frameborder=\"0\" allowfullscreen></iframe>')"
   ]
  },
  {
   "cell_type": "code",
   "execution_count": 29,
   "metadata": {},
   "outputs": [
    {
     "data": {
      "text/html": [
       "<iframe width=\"700\" height=\"500\" src=\"https://data.science.stsci.edu/redirect/JWST/jwst-data_analysis_tools/IFU_cube_continuum_fit/bestfitcube_p2.mov\" frameborder=\"0\" allowfullscreen></iframe>"
      ],
      "text/plain": [
       "<IPython.core.display.HTML object>"
      ]
     },
     "execution_count": 29,
     "metadata": {},
     "output_type": "execute_result"
    }
   ],
   "source": [
    "#PART 2\n",
    "HTML('<iframe width=\"700\" height=\"500\" src=\"https://data.science.stsci.edu/redirect/JWST/jwst-data_analysis_tools/IFU_cube_continuum_fit/bestfitcube_p2.mov\" frameborder=\"0\" allowfullscreen></iframe>')"
   ]
  },
  {
   "cell_type": "code",
   "execution_count": null,
   "metadata": {},
   "outputs": [],
   "source": [
    "#List Data from Viewer\n",
    "regions = cubeviz.app.get_data_from_viewer(\"uncert-viewer\")\n",
    "regions"
   ]
  },
  {
   "cell_type": "code",
   "execution_count": null,
   "metadata": {},
   "outputs": [],
   "source": [
    "#Extract Continuum Model from Cubeviz above\n",
    "cont_psf_cube = cubeviz.app.get_data_from_viewer(\"uncert-viewer\", \"LinFitCont [Cube] 1\")\n",
    "#cont_psf_cubee = cubeviz.app.get_data_from_viewer(\"uncert-viewer\", \"LinFitCont [Cube] 2\")"
   ]
  },
  {
   "cell_type": "markdown",
   "metadata": {},
   "source": [
    "## Important Note: Always save data and variables when possible."
   ]
  },
  {
   "cell_type": "code",
   "execution_count": null,
   "metadata": {},
   "outputs": [],
   "source": [
    "#Subtract Continuum\n",
    "\n",
    "#Re-read in original IFU cube for manipulation\n",
    "cube_file = 'https://data.science.stsci.edu/redirect/JWST/jwst-data_analysis_tools/IFU_cube_continuum_fit/NGC4151_Hband.fits'\n",
    "newfn = download_file('https://data.science.stsci.edu/redirect/JWST/jwst-data_analysis_tools/IFU_cube_continuum_fit/NGC4151_Hband.fits', cache=True)\n",
    "newheader_cube = fits.getheader(cube_file)\n",
    "\n",
    "#Delete any existing output in current directory\n",
    "import os\n",
    "if os.path.exists(\"NGC4151_Hband_ContinuumSubtract.fits\"):\n",
    "  os.remove(\"NGC4151_Hband_ContinuumSubtract.fits\")\n",
    "else:\n",
    "  print(\"The file does not exist\")\n",
    "\n",
    "import os\n",
    "if os.path.exists(\"NGC4151_Hband_ContinuumPSF.fits\"):\n",
    "  os.remove(\"NGC4151_Hband_ContinuumPSF.fits\")\n",
    "else:\n",
    "  print(\"The file does not exist\")\n",
    "\n",
    "#Check to see if user made a continuum fit in Cubeviz, make continuum subtraction, and save output\n",
    "if not cont_psf_cube:\n",
    "    start_time = time.time()\n",
    "\n",
    "    cont_sub_cube=np.zeros([nz,ny,nx])\n",
    "    cont_psf_cube=np.zeros([nz,ny,nx])\n",
    "\n",
    "    for i in range(1, nx-2):\n",
    "        for j in range(1, ny-2):\n",
    "            flux1 = cube[:,j,i]      \n",
    "            cont_fit = np.polyfit(wave[continuummin:continuummax], flux1[continuummin:continuummax], 1)\n",
    "            fitval = np.poly1d(cont_fit)\n",
    "            continuum = fitval(wave)        \n",
    "            cont_sub_cube[:,j,i]= flux1 - continuum\n",
    "            cont_psf_cube[:,j,i]= continuum \n",
    "\n",
    "    del newheader_cube['MODE']\n",
    "    fits.writeto('NGC4151_Hband_ContinuumSubtract.fits', cont_sub_cube, newheader_cube, overwrite=True)\n",
    "    fits.writeto('NGC4151_Hband_ContinuumPSF.fits', cont_psf_cube, newheader_cube, overwrite=True)\n",
    "    print('Continuum subtracted cube saved. PSF continuum cube saved.')\n",
    "else:\n",
    "    with fits.open(newfn, memmap=False) as cont_sub_cube:\n",
    "        sci = cont_sub_cube['SCI'].data\n",
    "\n",
    "        #Get List of different viewers\n",
    "        #linfitcube = cubeviz.app.get_data_from_viewer(\"uncert-viewer\", \"LinFitCube [Cube] 1\")\n",
    "        continuumflux = cont_psf_cube[\"flux\"]\n",
    "\n",
    "        sci_contsub = sci-continuumflux\n",
    "        cont_sub_cube['SCI'].data = sci_contsub \n",
    "        #cubeviz.app.load_data(newcube)\n",
    "        #del newheader_cube['MODE']\n",
    "        del cont_sub_cube['PRIMARY'].header['MODE']\n",
    "        cont_sub_cube.writeto('NGC4151_Hband_ContinuumSubtract.fits')\n",
    "        del newheader_cube['MODE']\n",
    "        fits.writeto('NGC4151_Hband_ContinuumPSF.fits', continuumflux, newheader_cube, overwrite=True)"
   ]
  },
  {
   "cell_type": "code",
   "execution_count": null,
   "metadata": {},
   "outputs": [],
   "source": [
    "#You can also read out your model fit parameters \n",
    "params=cubeviz.get_model_parameters(model_label=\"LinFitCont\")\n",
    "params"
   ]
  },
  {
   "cell_type": "code",
   "execution_count": null,
   "metadata": {},
   "outputs": [],
   "source": [
    "#And this is how you can acces the model fits\n",
    "params['LinFitCont_3d']['slope']"
   ]
  },
  {
   "cell_type": "code",
   "execution_count": null,
   "metadata": {},
   "outputs": [],
   "source": [
    "#Open up a new instance of Cubeviz to visualize continuum subtracted data\n",
    "from jdaviz import CubeViz\n",
    "cubeviz2 = CubeViz()\n",
    "cubeviz2.app"
   ]
  },
  {
   "cell_type": "code",
   "execution_count": null,
   "metadata": {},
   "outputs": [],
   "source": [
    "cont_sub_cube = 'NGC4151_Hband_ContinuumSubtract.fits'\n",
    "cubeviz2.app.load_data(cont_sub_cube, data_label='Continuum Subtracted')"
   ]
  },
  {
   "cell_type": "code",
   "execution_count": 30,
   "metadata": {},
   "outputs": [
    {
     "data": {
      "text/html": [
       "<iframe width=\"700\" height=\"500\" src=\"https://data.science.stsci.edu/redirect/JWST/jwst-data_analysis_tools/IFU_cube_continuum_fit/multifit_p1.mov\" frameborder=\"0\" allowfullscreen></iframe>"
      ],
      "text/plain": [
       "<IPython.core.display.HTML object>"
      ]
     },
     "execution_count": 30,
     "metadata": {},
     "output_type": "execute_result"
    }
   ],
   "source": [
    "# Now we want to investigate an initial fit to the\n",
    "# Br 12 emission feature, which is a pesky contaminant nearby in wavelength\n",
    "# to our target [Fe II] emission.  The Br 12 is centrally compact and arises from\n",
    "# only from the nucleus of the AGN, not from the outflow.  Make a plot of the fit\n",
    "# results.\n",
    "\n",
    "#PART1\n",
    "\n",
    "HTML('<iframe width=\"700\" height=\"500\" src=\"https://data.science.stsci.edu/redirect/JWST/jwst-data_analysis_tools/IFU_cube_continuum_fit/multifit_p1.mov\" frameborder=\"0\" allowfullscreen></iframe>')"
   ]
  },
  {
   "cell_type": "code",
   "execution_count": 32,
   "metadata": {},
   "outputs": [
    {
     "data": {
      "text/html": [
       "<iframe width=\"700\" height=\"500\" src=\"https://data.science.stsci.edu/redirect/JWST/jwst-data_analysis_tools/IFU_cube_continuum_fit/multifit_p2.mov\" frameborder=\"0\" allowfullscreen></iframe>"
      ],
      "text/plain": [
       "<IPython.core.display.HTML object>"
      ]
     },
     "execution_count": 32,
     "metadata": {},
     "output_type": "execute_result"
    }
   ],
   "source": [
    "#PART2\n",
    "HTML('<iframe width=\"700\" height=\"500\" src=\"https://data.science.stsci.edu/redirect/JWST/jwst-data_analysis_tools/IFU_cube_continuum_fit/multifit_p2.mov\" frameborder=\"0\" allowfullscreen></iframe>')\n"
   ]
  },
  {
   "cell_type": "code",
   "execution_count": null,
   "metadata": {},
   "outputs": [],
   "source": [
    "# Wow, that multi-component fit looks great.  Good deal.\n",
    "\n",
    "# Now we're going to use the continuum psf cube from a prior cell \n",
    "# with the Brackett model created in the above cell to create a full\n",
    "# 3-D model of the central emission that isn't caused by the outflow [Fe II].\n",
    "\n",
    "#Extract the spectral regions defined in the spectral viewer\n",
    "regions = cubeviz2.specviz.get_spectral_regions()\n",
    "regions\n",
    "\n",
    "line_region = regions[\"Subset 1\"]"
   ]
  },
  {
   "cell_type": "code",
   "execution_count": null,
   "metadata": {},
   "outputs": [],
   "source": [
    "spec=cubeviz2.app.get_data_from_viewer('spectrum-viewer') #AGN Center\n",
    "spec"
   ]
  },
  {
   "cell_type": "code",
   "execution_count": null,
   "metadata": {},
   "outputs": [],
   "source": [
    "#Get Gauss Model Spectrum and Model Cube\n",
    "all_spec = cubeviz2.app.get_data_from_viewer('spectrum-viewer','Continuum Subtracted[SCI]') #AGN Center Data Cube\n",
    "gauss_spec = cubeviz2.app.get_data_from_viewer('spectrum-viewer','GaussAll') #AGN Center Model Spec\n",
    "gauss_cube = cubeviz2.app.get_data_from_viewer(\"uncert-viewer\", \"GaussAll [Cube] 1\") #AGN Center Model Cube"
   ]
  },
  {
   "cell_type": "code",
   "execution_count": null,
   "metadata": {},
   "outputs": [],
   "source": [
    "#You can also read out your model fit parameters \n",
    "params=cubeviz2.get_model_parameters(model_label=\"GaussAll\")\n",
    "params"
   ]
  },
  {
   "cell_type": "code",
   "execution_count": null,
   "metadata": {},
   "outputs": [],
   "source": [
    "#Overwrite Gauss Model with only 2 of the components of interest\n",
    "gauss_cube_2component = gauss_cube[\"flux\"]*0\n",
    "from astropy.modeling import models\n",
    "\n",
    "nz, ny, nx = gauss_cube_2component.shape\n",
    "for i in range(0, nx-1):\n",
    "    for j in range(0, ny-1):\n",
    "        amp1=params['GaussAll_3d']['amplitude_0'][i][j]\n",
    "        amp2=params['GaussAll_3d']['amplitude_2'][i][j]\n",
    "        m1=params['GaussAll_3d']['mean_0'][i][j]\n",
    "        m2=params['GaussAll_3d']['mean_2'][i][j]\n",
    "        stdev1=params['GaussAll_3d']['stddev_0'][i][j]\n",
    "        stdev2=params['GaussAll_3d']['stddev_2'][i][j]\n",
    "        g1 = models.Gaussian1D(amplitude=amp1*u.Unit('count'), mean=m1*u.m, stddev=stdev1*u.m)\n",
    "        g2 = models.Gaussian1D(amplitude=amp2*u.Unit('count'), mean=m2*u.m, stddev=stdev2*u.m)\n",
    "        gauss_cube_2component[:,i,j] = g1(all_spec.spectral_axis)+g2(all_spec.spectral_axis)"
   ]
  },
  {
   "cell_type": "code",
   "execution_count": null,
   "metadata": {},
   "outputs": [],
   "source": [
    "#Add the continuum cube to the new model cube\n",
    "continuum_file = 'NGC4151_Hband_ContinuumPSF.fits'\n",
    "newfull_header = fits.getheader(continuum_file)\n",
    "with fits.open(continuum_file, memmap=False) as continuum_cube: \n",
    "    #print(continuum_cube[0].data)\n",
    "    continuum_data = continuum_cube[0].data\n",
    "    full_model = gauss_cube_2component+continuum_data"
   ]
  },
  {
   "cell_type": "code",
   "execution_count": null,
   "metadata": {},
   "outputs": [],
   "source": [
    "# subtract the model to create the final cube where the [Fe II] emission is isolated.\n",
    "#Re-read in original IFU cube for manipulation\n",
    "cube_file = 'https://data.science.stsci.edu/redirect/JWST/jwst-data_analysis_tools/IFU_cube_continuum_fit/NGC4151_Hband.fits'\n",
    "newfinalsub_header = fits.getheader(cube_file)\n",
    "with fits.open(cube_file, memmap=False) as original_cube: \n",
    "    original_data = original_cube['SCI'].data\n",
    "    final_sub_cube = original_data - full_model"
   ]
  },
  {
   "cell_type": "code",
   "execution_count": null,
   "metadata": {},
   "outputs": [],
   "source": [
    "#Delete any existing output in current directory\n",
    "import os\n",
    "if os.path.exists(\"NGC4151_Hband_FinalSubtract.fits\"):\n",
    "  os.remove(\"NGC4151_Hband_FinalSubtract.fits\")\n",
    "else:\n",
    "  print(\"The file does not exist\")\n",
    "\n",
    "import os\n",
    "if os.path.exists(\"NGC4151_Hband_ContinuumandBrackettModel.fits\"):\n",
    "  os.remove(\"NGC4151_Hband_ContinuumandBrackettModel.fits\")\n",
    "else:\n",
    "  print(\"The file does not exist\")"
   ]
  },
  {
   "cell_type": "code",
   "execution_count": null,
   "metadata": {},
   "outputs": [],
   "source": [
    "#del newfull_header['MODE']\n",
    "del newfinalsub_header['MODE']\n",
    "fits.writeto('NGC4151_Hband_ContinuumandBrackettModel.fits', full_model, newfull_header, overwrite=True)\n",
    "fits.writeto('NGC4151_Hband_FinalSubtract.fits', final_sub_cube, newfinalsub_header, overwrite=True)\n",
    "print('Continuum subtracted cube saved. PSF continuum cube saved.')"
   ]
  },
  {
   "cell_type": "code",
   "execution_count": null,
   "metadata": {},
   "outputs": [],
   "source": [
    "#Make the final plots to illustrated\n",
    "plt.figure()\n",
    "plt.xlim([1.630E-6, 1.665E-6])\n",
    "plt.ylim([600, 900])\n",
    "plt.plot(all_spec.spectral_axis, continuum_data[:,30,30],label='Continuum')\n",
    "plt.plot(all_spec.spectral_axis, original_data[:,30,30],label='Original Data')\n",
    "plt.plot(all_spec.spectral_axis, full_model[:,30,30],label='2 Component Model')\n",
    "plt.plot(all_spec.spectral_axis, final_sub_cube[:,30,30]+700,label='Model Subtraction+Offset')\n",
    "plt.legend()\n",
    "plt.show()"
   ]
  },
  {
   "cell_type": "markdown",
   "metadata": {},
   "source": [
    "## Alternative Code in Case You Don't Use CubeViz"
   ]
  },
  {
   "cell_type": "code",
   "execution_count": null,
   "metadata": {},
   "outputs": [],
   "source": [
    "\n",
    "# This cell builds the spectrum at the central location into the format\n",
    "# needed for use with specutils.  It then investigates an initial fit to the\n",
    "# Br 12 emission feature, which is a pesky contaminant nearby in wavelength\n",
    "# to our target [Fe II] emission.  The Br 12 is centrally compact and arises from\n",
    "# only from the nucleus of the AGN, not from the outflow.  Make a plot of the fit\n",
    "# results.\n",
    "\n",
    "#zoom in wavelength into the region of interest, create subcube and subwave arrays.\n",
    "flux = (cont_sub_cube[wavemin:wavemax,30,30])\n",
    "minwave = wave[wavemin:wavemax]\n",
    "\n",
    "# put the flux spectrum into the spec utils expected format.\n",
    "spectrum = Spectrum1D(flux=(flux)*u.Unit('count'), spectral_axis=minwave*u.micron)\n",
    "\n",
    "#define the fit the line for the Brackett emission (position was found by hand @ pix 1023):\n",
    "# the central emission is best fit by two gaussian components: one @ br12, one @ [Fe II].\n",
    "# Here we fit a third component too: the [Fe II] outflow emission.\n",
    "l1 = models.Gaussian1D(amplitude = (flux[1023-wavemin])*u.Unit('count'), mean = minwave[1023-wavemin]*u.micron, stddev = 0.0009*u.micron)\n",
    "l2 = models.Gaussian1D(amplitude = (flux[emission_line_index-wavemin])*u.Unit('count'), mean = minwave[emission_line_index-wavemin]*u.micron, stddev = 0.005*u.micron)\n",
    "#define and fit the line for the outflow [Fe II] emission:\n",
    "l3 = models.Gaussian1D(amplitude = (flux[emission_line_index-wavemin])*u.Unit('count'), mean = minwave[emission_line_index-wavemin]*u.micron, stddev = 0.0008*u.micron)\n",
    "\n",
    "#run the lfit - this tweaks the above parameters to optimize the fits of the three components.\n",
    "lfit = fit_lines(spectrum, l1 + l2 + l3)\n",
    "#make the yfit\n",
    "y_fit = lfit(minwave*u.micron)\n",
    "\n",
    "# Build the fits from the fit_lines function into specutils format for plotting.\n",
    "lineflux = (lfit[0](minwave*u.micron))\n",
    "linemodel = Spectrum1D(spectral_axis=minwave*u.micron, flux=lineflux*u.Unit('count'))\n",
    "\n",
    "component1 = lfit[0](minwave*u.micron)\n",
    "component2 = lfit[1](minwave*u.micron)\n",
    "component3 = lfit[2](minwave*u.micron)\n",
    "\n",
    "plt.figure(8)\n",
    "plt.plot(minwave, flux)\n",
    "plt.plot(minwave, component1)\n",
    "plt.plot(minwave, component2)\n",
    "plt.plot(minwave, component3)\n",
    "plt.plot(minwave, component1 + component2 + component3)\n",
    "plt.show()\n",
    "\n",
    "#we want to isolate just the [Fe II] outflow emission, so subtract off the central compact flux sources\n",
    "central_flux_model_only = component1 + component2\n",
    "\n"
   ]
  },
  {
   "cell_type": "code",
   "execution_count": null,
   "metadata": {},
   "outputs": [],
   "source": [
    "\n",
    "# Wow, that multi-component fit looks great.  Good deal.\n",
    "\n",
    "#now we're going to use the continuum psf cube from a prior cell \n",
    "# with the Brackett model created in the above cell to create a full\n",
    "# 3-D model of the central emission that isn't caused by the outflow [Fe II].\n",
    "\n",
    "continuum_subcube = cont_psf_cube[wavemin:wavemax,:,:]\n",
    "nz, ny, nx = continuum_subcube.shape\n",
    "\n",
    "model_cube=np.zeros([nz,ny,nx])\n",
    "\n",
    "#construct the scaled Brackett flux model\n",
    "model_cube[0,:,:] = continuum_subcube[0,:,:] * (central_flux_model_only[0]/continuum_subcube[0, 30, 30])\n",
    "for i in range(1, nz-2):\n",
    "    model_cube[i,:,:] = continuum_subcube[i,:,:] * (central_flux_model_only[i] / continuum_subcube[i, 30, 30])\n",
    "model_cube[nz-1,:,:] = continuum_subcube[nz-1,:,:] * (central_flux_model_only[nz-1] / continuum_subcube[nz-1,30,30])\n",
    "\n",
    "# the full model of the AGN central emission is the continuum plus Brackett line.\n",
    "full_model = continuum_subcube + model_cube\n",
    "\n",
    "# subtract the model to create the final cube where the [Fe II] emission\n",
    "# is isolated.\n",
    "final_sub_cube = cube[wavemin:wavemax,:,:] - full_model\n",
    "\n",
    "# make an appropriate header for the output sub-cube\n",
    "header_cube_small = copy(header_cube)\n",
    "del header_cube_small['CRVAL3']\n",
    "header_cube_small['CRVAL3'] = wave[wavemin] * 10000.0\n",
    "del header_cube_small['CRPIX3']\n",
    "header_cube_small['CRPIX3'] = 1\n",
    "\n",
    "# Save the .fits data sub-cube that has the continuum and Br model subtracted off of the\n",
    "# [Fe II] emission, and the datacube that is the continuum+Br model.\n",
    "fits.writeto('NGC4151_Hband_FinalSubtract.fits', final_sub_cube, header_cube_small, overwrite=True)\n",
    "fits.writeto('NGC4151_Hband_ContinuumandBrackettModel.fits', full_model, header_cube_small, overwrite=True)\n",
    "print('Continuum and Brackett subtracted cube saved.  Full model cube saved.')\n",
    "\n",
    "#make a plot of the central spectrum, the full model and the continuum.\n",
    "plt.figure(9)\n",
    "plt.plot(minwave, continuum_subcube[:,30,30])\n",
    "#plt.plot(minwave, cube[wavemin:wavemax,30,30])\n",
    "plt.plot(minwave, full_model[:,30,30])\n",
    "plt.show()\n",
    "\n"
   ]
  },
  {
   "cell_type": "code",
   "execution_count": null,
   "metadata": {},
   "outputs": [],
   "source": []
  }
 ],
 "metadata": {
  "kernelspec": {
   "display_name": "Python 3 (ipykernel)",
   "language": "python",
   "name": "python3"
  },
  "language_info": {
   "codemirror_mode": {
    "name": "ipython",
    "version": 3
   },
   "file_extension": ".py",
   "mimetype": "text/x-python",
   "name": "python",
   "nbconvert_exporter": "python",
   "pygments_lexer": "ipython3",
   "version": "3.9.6"
  }
 },
 "nbformat": 4,
 "nbformat_minor": 4
}
