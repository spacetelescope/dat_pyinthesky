{
 "cells": [
  {
   "cell_type": "markdown",
   "id": "b58d6954",
   "metadata": {},
   "source": [
    "# MIRI PSF Photometry #3 - Create your first MIRI Color-Magnitude Diagram\n",
    "\n",
    "**Author**: Ori Fox\n",
    "<br>\n",
    "**Last Updated**: March, 2022"
   ]
  },
  {
   "cell_type": "markdown",
   "id": "7df4f696",
   "metadata": {},
   "source": [
    "## Table of contents\n",
    "1. [Introduction](#intro)<br>\n",
    "2. [Setup](#setup)<br>\n",
    "    2.1 [Python imports](#py_imports)<br>\n",
    "    2.2 [Plotting functions imports](#matpl_imports)<br>\n",
    "    2.3 [PSF FWHM dictionary](#psf_fwhm)<br>\n",
    "3. [Import image to analyze](#data)<br>\n",
    "4. [Create your first MIRI Color-Magnitude Diagram](#bonusI)<br>\n",
    "    4.1 [Load images and output catalogs](#load_data)<br>\n",
    "    4.2 [Cross-match PSF photometry catalogs](#cross_match)<br>\n",
    "    4.3 [Load input catalogs](#load_input)<br>\n",
    "    4.4 [Cross-match input catalogs](#cross_match_input)<br>\n",
    "    4.5 [Instrumental Color-Magnitude Diagram](#cmd)<br>"
   ]
  },
  {
   "cell_type": "markdown",
   "id": "4f572688",
   "metadata": {},
   "source": [
    "1.<font color='white'>-</font>Introduction <a class=\"anchor\" id=\"intro\"></a>\n",
    "------------------"
   ]
  },
  {
   "cell_type": "markdown",
   "id": "95891849",
   "metadata": {},
   "source": [
    "**Data**: MIRI simulated images obtained using [MIRISIM](https://www.stsci.edu/jwst/science-planning/proposal-planning-toolbox/mirisim) and run through the [JWST pipeline](https://jwst-pipeline.readthedocs.io/en/latest/) of Isochrone of 10-Gyr old population, [Fe/H]=-1 Population placed at 2.5 kpc from the Sun. Salpeter-like IMF, tweaked to have more massive stars (since positions are random, it ensures at least a few bright stars in each image). Kept only sources brighter than J=17 (random cut to speed up MIRISim) and fainter than Ks=10 (to avoid too-bright stars that would have PSF spikes clearly cut by MIRISim in the image)\n",
    "\n",
    "Here is the [ReadMe](https://stsci.app.box.com/s/2b6evrie2swaybarxhdmpqizktl3g0wm/file/869444882607). All data simulations can be found on [STScI's simulation page](https://www.stsci.edu/jwst/science-planning/proposal-planning-toolbox/simulated-data).\n",
    "\n",
    "PSF Photometry can be obtained using:\n",
    "\n",
    "* single PSF model obtained from WebbPSF\n",
    "* grid of PSF models from WebbPSF\n",
    "* single effective PSF (ePSF)\n",
    "* grid of effective PSF (bonus part II)\n",
    "\n",
    "The notebook shows:\n",
    "\n",
    "* how to obtain the PSF model from WebbPSF (or build an ePSF)\n",
    "* how to perform PSF photometry on the image\n",
    "* how to cross-match the catalogs of the different images (bonus part I)"
   ]
  },
  {
   "cell_type": "markdown",
   "id": "1cf3d18f",
   "metadata": {},
   "source": [
    "2.<font color='white'>-</font>Setup <a class=\"anchor\" id=\"setup\"></a>\n",
    "------------------"
   ]
  },
  {
   "cell_type": "markdown",
   "id": "bd038c76",
   "metadata": {},
   "source": [
    "In this section we import all the necessary python packages and we define some plotting parameters."
   ]
  },
  {
   "cell_type": "markdown",
   "id": "5b762602",
   "metadata": {},
   "source": [
    "### 2.1<font color='white'>-</font>Python imports<a class=\"anchor\" id=\"py_imports\"></a> ###"
   ]
  },
  {
   "cell_type": "code",
   "execution_count": 1,
   "id": "8c50eace",
   "metadata": {},
   "outputs": [
    {
     "name": "stdout",
     "output_type": "stream",
     "text": [
      "**WARNING**: LOCAL JWST PRD VERSION PRDOPSSOC-044 DOESN'T MATCH THE CURRENT ONLINE VERSION PRDOPSSOC-045\n",
      "Please consider updating pysiaf, e.g. pip install --upgrade pysiaf or conda update pysiaf\n"
     ]
    }
   ],
   "source": [
    "import os\n",
    "\n",
    "if not os.environ.get('WEBBPSF_PATH'):\n",
    "    os.environ['WEBBPSF_PATH'] = '/data/webbpsf-data'\n",
    "\n",
    "import sys\n",
    "import time\n",
    "\n",
    "import numpy as np\n",
    "\n",
    "import pandas as pd\n",
    "\n",
    "import glob as glob\n",
    "\n",
    "import urllib.request\n",
    "\n",
    "import tarfile\n",
    "\n",
    "from astropy.io import fits\n",
    "from astropy.visualization import simple_norm\n",
    "from astropy.nddata import NDData\n",
    "from astropy.modeling.fitting import LevMarLSQFitter\n",
    "from astropy.table import Table, QTable\n",
    "from astropy.coordinates import SkyCoord, match_coordinates_sky\n",
    "from astropy import units as u\n",
    "\n",
    "from photutils.background import MMMBackground, MADStdBackgroundRMS, Background2D\n",
    "from photutils.detection import DAOStarFinder\n",
    "from photutils import EPSFBuilder, GriddedPSFModel\n",
    "from photutils.psf import DAOGroup, extract_stars, IterativelySubtractedPSFPhotometry\n",
    "\n",
    "import jwst\n",
    "from jwst.datamodels import ImageModel\n",
    "\n",
    "import webbpsf\n",
    "from webbpsf.utils import to_griddedpsfmodel\n",
    "\n",
    "import pysynphot  # PYSIN_CDBS must be defined in the user's environment (see note below)\n",
    "\n",
    "from collections import OrderedDict\n",
    "from astropy.wcs import WCS"
   ]
  },
  {
   "cell_type": "code",
   "execution_count": 2,
   "id": "dea5f1e7",
   "metadata": {},
   "outputs": [
    {
     "name": "stderr",
     "output_type": "stream",
     "text": [
      "2022-04-19 09:46:01,179 - stpipe - WARNING - /var/folders/yh/kl4y3s1x3_j3ywy3qq67g3vc0001kc/T/ipykernel_22153/2969300567.py:51: DeprecationWarning: Importing display from IPython.core.display is deprecated since IPython 7.14, please import from IPython display\n",
      "  from IPython.core.display import display, HTML\n",
      "\n"
     ]
    },
    {
     "data": {
      "text/html": [
       "<style>.container { width:90% !important; }</style>"
      ],
      "text/plain": [
       "<IPython.core.display.HTML object>"
      ]
     },
     "metadata": {},
     "output_type": "display_data"
    }
   ],
   "source": [
    "#\n",
    "# General tools\n",
    "#\n",
    "import glob\n",
    "import os\n",
    "import shutil\n",
    "import sys\n",
    "import random\n",
    "import urllib\n",
    "import zipfile\n",
    "#\n",
    "# Astropy tools\n",
    "#\n",
    "from astropy.coordinates import match_coordinates_sky, SkyCoord\n",
    "from astropy.io import fits, ascii\n",
    "from astropy.stats import SigmaClip, sigma_clipped_stats\n",
    "from astropy.table import Table, Column, vstack\n",
    "import astropy.units as u\n",
    "from astropy.visualization import LogStretch, LinearStretch, PercentileInterval, ManualInterval\n",
    "from astropy.nddata import Cutout2D\n",
    "#\n",
    "# JWST models\n",
    "#\n",
    "from jwst import datamodels, associations\n",
    "from jwst.datamodels import ImageModel, dqflags\n",
    "#\n",
    "# Matplotlib tools\n",
    "#\n",
    "from matplotlib import style, pyplot as plt, rcParams\n",
    "from matplotlib.colors import LogNorm\n",
    "from matplotlib.pyplot import figure\n",
    "from mpl_toolkits.axes_grid1.axes_divider import make_axes_locatable\n",
    "#\n",
    "# Numpy library\n",
    "#\n",
    "import numpy as np\n",
    "#\n",
    "# Photutils library and tools\n",
    "#\n",
    "import photutils\n",
    "from photutils.aperture import CircularAperture, CircularAnnulus, aperture_photometry\n",
    "from photutils import Background2D, MedianBackground, ModeEstimatorBackground, MMMBackground\n",
    "#\n",
    "# Scipy tools\n",
    "#\n",
    "from scipy import stats\n",
    "from scipy.interpolate import CubicSpline\n",
    "#\n",
    "# Use 90% of the window width\n",
    "#\n",
    "from IPython.core.display import display, HTML\n",
    "display(HTML(\"<style>.container { width:90% !important; }</style>\"))"
   ]
  },
  {
   "cell_type": "markdown",
   "id": "956910c8",
   "metadata": {},
   "source": [
    "### 2.2<font color='white'>-</font>Plotting function imports<a class=\"anchor\" id=\"matpl_imports\"></a> ###"
   ]
  },
  {
   "cell_type": "code",
   "execution_count": 3,
   "id": "9dee46d0",
   "metadata": {},
   "outputs": [],
   "source": [
    "%matplotlib inline\n",
    "from matplotlib import style, pyplot as plt\n",
    "import matplotlib.patches as patches\n",
    "import matplotlib.ticker as ticker\n",
    "\n",
    "from mpl_toolkits.axes_grid1 import make_axes_locatable\n",
    "\n",
    "plt.rcParams['image.cmap'] = 'viridis'\n",
    "plt.rcParams['image.origin'] = 'lower'\n",
    "plt.rcParams['axes.titlesize'] = plt.rcParams['axes.labelsize'] = 30\n",
    "plt.rcParams['xtick.labelsize'] = plt.rcParams['ytick.labelsize'] = 20\n",
    "\n",
    "font1 = {'family': 'helvetica', 'color': 'black', 'weight': 'normal', 'size': '12'}\n",
    "font2 = {'family': 'helvetica', 'color': 'black', 'weight': 'normal', 'size': '20'}"
   ]
  },
  {
   "cell_type": "code",
   "execution_count": 4,
   "id": "92799ab2",
   "metadata": {},
   "outputs": [],
   "source": [
    "%matplotlib inline\n",
    "# Figure size\n",
    "plt.rcParams['figure.figsize'] = [15, 15]\n",
    "# Figure text and font\n",
    "plt.rc('text', usetex=True)\n",
    "plt.rc('font', size=15)"
   ]
  },
  {
   "cell_type": "markdown",
   "id": "052f86b2",
   "metadata": {},
   "source": [
    "### 2.4 Useful Definitions"
   ]
  },
  {
   "cell_type": "code",
   "execution_count": 5,
   "id": "1fc48d58",
   "metadata": {},
   "outputs": [],
   "source": [
    "def arcsec2pix(x):\n",
    "    '''\n",
    "    Function that converts arcsec in MIRIM pixels.\n",
    "    It is used to setup the secondary axes in a plot.\n",
    "    \n",
    "    Inputs\n",
    "    ----------\n",
    "    x : float or array(float)\n",
    "        The value in arcsec.\n",
    "        \n",
    "    Outputs\n",
    "    ----------\n",
    "    The value(s) in MIRIM pixel.\n",
    "    '''\n",
    "    \n",
    "    return x/0.11"
   ]
  },
  {
   "cell_type": "code",
   "execution_count": 6,
   "id": "758d84fb",
   "metadata": {},
   "outputs": [],
   "source": [
    "def pix2arcsec(x):\n",
    "    '''\n",
    "    Function that converts MIRIM pixels in arcsec.\n",
    "    It is used to setup the secondary axes in a plot.\n",
    "    \n",
    "    Inputs\n",
    "    ----------\n",
    "    x : float or array(float)\n",
    "        The value in MIRIM pixels.\n",
    "        \n",
    "    Outputs\n",
    "    ----------\n",
    "    The value(s) in arcsec.\n",
    "    '''\n",
    "    \n",
    "    return x*0.11"
   ]
  },
  {
   "cell_type": "code",
   "execution_count": 7,
   "id": "6bd572fd",
   "metadata": {},
   "outputs": [
    {
     "name": "stdout",
     "output_type": "stream",
     "text": [
      "\n",
      "F560W-filter images:\n",
      "     1) ./data/det_image_seq1_MIRIMAGE_F560Wexp1_cal.fits\n",
      "     2) ./data/det_image_seq4_MIRIMAGE_F560Wexp1_cal.fits\n",
      "     3) ./data/det_image_seq3_MIRIMAGE_F560Wexp1_cal.fits\n",
      "     4) ./data/det_image_seq2_MIRIMAGE_F560Wexp1_cal.fits\n",
      "\n",
      "1 catalog found: ./data/complex_scene_F560W_combined_cat.ecsv\n",
      "\n",
      "F770W-filter images:\n",
      "     1) ./data/det_image_seq2_MIRIMAGE_F770Wexp1_cal.fits\n",
      "     2) ./data/det_image_seq3_MIRIMAGE_F770Wexp1_cal.fits\n",
      "     3) ./data/det_image_seq4_MIRIMAGE_F770Wexp1_cal.fits\n",
      "     4) ./data/det_image_seq1_MIRIMAGE_F770Wexp1_cal.fits\n",
      "\n",
      "1 catalog found: ./data/complex_scene_F770W_combined_cat.ecsv\n"
     ]
    }
   ],
   "source": [
    "folder_path = './data/'\n",
    "filter_names = ['F560W', 'F770W']\n",
    "\n",
    "img_names = {}\n",
    "cat_names = {}\n",
    "for f in filter_names:\n",
    "    print('')\n",
    "    print(r'{0}-filter images:'.format(f))\n",
    "    names = glob.glob(folder_path + 'det_*' + f + '*_cal.fits')\n",
    "    for n in range(len(names)):\n",
    "        print(r'     {0}) {1}'.format(n+1, names[n]))\n",
    "    img_names[f] = names\n",
    "    names = glob.glob(folder_path + 'complex_*' + f + '*cat*.ecsv')\n",
    "    cat_names[f] = names\n",
    "    print('')\n",
    "    print(r'1 catalog found: {0}'.format(names[0]))"
   ]
  },
  {
   "cell_type": "markdown",
   "id": "c27cf3db",
   "metadata": {},
   "source": [
    "**Note**: in this particular example, we analyze each image separately to provide a general overview of the different steps necessary to perform PSF photometry and to highlight the different functions adopted in this notebook."
   ]
  },
  {
   "cell_type": "markdown",
   "id": "6d2e034c",
   "metadata": {},
   "source": [
    "3.<font color='white'>-</font>Create your first NIRCam Color-Magnitude Diagram<a class=\"anchor\" id=\"bonusI\"></a>\n",
    "------------------"
   ]
  },
  {
   "cell_type": "markdown",
   "id": "58259625",
   "metadata": {},
   "source": [
    "### 3.1<font color='white'>-</font>Load images and output catalogs<a class=\"anchor\" id=\"load_data\"></a> ###"
   ]
  },
  {
   "cell_type": "code",
   "execution_count": 8,
   "id": "c5440b51",
   "metadata": {},
   "outputs": [],
   "source": [
    "if os.path.isfile('./PHOT_OUTPUT/phot_MIRIM_F560W.pkl'):\n",
    "    phot_f560w = './PHOT_OUTPUT/phot_MIRIM_F560W.pkl'\n",
    "\n",
    "#else:\n",
    "#    print('Downloading F115W PSF photometry')\n",
    "#    \n",
    "#    boxlink_ph_f115w = 'https://stsci.box.com/shared/static/f4s4ziwh7tb3827g0ac362swwta28lti.pkl'\n",
    "#    boxfile_ph_f115w = './phot_webbpsf_grid16_NRCB1_F115W.pkl'\n",
    "#    urllib.request.urlretrieve(boxlink_ph_f115w, boxfile_ph_f115w)\n",
    "#    phot_f115w = boxfile_ph_f115w\n",
    "#\n",
    "if os.path.isfile('./PHOT_OUTPUT/phot_MIRIM_F770W.pkl'):\n",
    "    phot_f770w = './PHOT_OUTPUT/phot_MIRIM_F770W.pkl'\n",
    "\n",
    "#else:\n",
    "#    print('Downloading F200W PSF Photometry')\n",
    "#    \n",
    "#    boxlink_ph_f200w = 'https://stsci.box.com/shared/static/983dxnxqz594ogn00e6m7ek7vq22gifr.pkl'\n",
    "#    boxfile_ph_f200w = './phot_webbpsf_grid16_NRCB1_F200W.pkl'\n",
    "#    urllib.request.urlretrieve(boxlink_ph_f200w, boxfile_ph_f200w)\n",
    "#    phot_f200w = boxfile_ph_f200w\n",
    "\n",
    "ph_f560w = pd.read_pickle(phot_f560w)\n",
    "ph_f770w = pd.read_pickle(phot_f770w)\n",
    "\n",
    "results_f560w = QTable.from_pandas(ph_f560w)\n",
    "results_f770w = QTable.from_pandas(ph_f770w)\n",
    "\n",
    "#image_f560w = ImageModel('./data/det_image_seq1_MIRIMAGE_F560Wexp1_cal.fits')\n",
    "#image_f770w = ImageModel('./data/det_image_seq2_MIRIMAGE_F770Wexp1_cal.fits')\n",
    "\n",
    "#image_f560w = ImageModel('./data/jw01171-o004_t001_miri_f560w_i2d.fits')\n",
    "#image_f770w = ImageModel('./data/jw01171-o003_t001_miri_f770w_i2d.fits')\n",
    "image_f560w = ImageModel('./data/jw01171001001_02101_00004_mirimage_cal.fits')\n",
    "image_f770w = ImageModel('./data/jw01171001001_02101_00003_mirimage_cal.fits')"
   ]
  },
  {
   "cell_type": "raw",
   "id": "7405b38b-ce88-459f-b6f7-2b0506bce1dc",
   "metadata": {},
   "source": [
    "if os.path.isfile('./PHOT_OUTPUT/phot_MIRIM_F770W.pkl'):\n",
    "    phot_f770w = './PHOT_OUTPUT/phot_MIRIM_F770W.pkl'\n",
    "\n",
    "ph_f770w = pd.read_pickle(phot_f770w)\n",
    "results_f770w = QTable.from_pandas(ph_f770w)"
   ]
  },
  {
   "cell_type": "markdown",
   "id": "72643e44",
   "metadata": {},
   "source": [
    "### 3.2<font color='white'>-</font>Cross-match PSF photometry catalogs<a class=\"anchor\" id=\"cross_match\"></a> ###"
   ]
  },
  {
   "cell_type": "markdown",
   "id": "003f1010",
   "metadata": {},
   "source": [
    "We select only stars with positive flux and we use the information from the image WCS to transform detector coordinates (x,y) to celestial coordinate (RA,Dec). \n",
    "\n",
    "We use the [SkyCoord](https://docs.astropy.org/en/stable/api/astropy.coordinates.SkyCoord.html) class and the [match_coordinates_sky](https://docs.astropy.org/en/stable/api/astropy.coordinates.match_coordinates_sky.html) function to finds the nearest on-sky matches between the set of catalog coordinates.\n",
    "\n",
    "We impose that a star is the same in both catalogs if the separation is < than `max_sep`, where `max_sep` is 0.015 arcsec (i.e., 0.5 px). "
   ]
  },
  {
   "cell_type": "code",
   "execution_count": 9,
   "id": "68410f33",
   "metadata": {},
   "outputs": [],
   "source": [
    "mask_f560w = ((results_f560w['x_fit'] > 0) & (results_f560w['x_fit'] < 2048) & \n",
    "              (results_f560w['y_fit'] > 0) & (results_f560w['y_fit'] < 2048) & \n",
    "              (results_f560w['flux_fit'] > 0))\n",
    "\n",
    "result_clean_f560w = results_f560w[mask_f560w]\n",
    "\n",
    "ra_f560w, dec_f560w = image_f560w.meta.wcs(result_clean_f560w['x_fit'], result_clean_f560w['y_fit'])\n",
    "radec_f560w = SkyCoord(ra_f560w, dec_f560w, unit='deg')\n",
    "result_clean_f560w['radec'] = radec_f560w\n",
    "\n",
    "mask_f770w = ((results_f770w['x_fit'] > 0) & (results_f770w['x_fit'] < 2048) & \n",
    "              (results_f770w['y_fit'] > 0) & (results_f770w['y_fit'] < 2048) & \n",
    "              (results_f770w['flux_fit'] > 0))\n",
    "\n",
    "result_clean_f770w = results_f770w[mask_f770w]\n",
    "\n",
    "ra_f770w, dec_f770w = image_f770w.meta.wcs(result_clean_f770w['x_fit'], result_clean_f770w['y_fit'])\n",
    "radec_f770w = SkyCoord(ra_f770w, dec_f770w, unit='deg')\n",
    "result_clean_f770w['radec'] = radec_f770w"
   ]
  },
  {
   "cell_type": "code",
   "execution_count": 10,
   "id": "3c586bf2",
   "metadata": {},
   "outputs": [],
   "source": [
    "#Clean up array with NANs\n",
    "\n",
    "res1 = result_clean_f560w\n",
    "res2 = result_clean_f770w\n",
    "\n",
    "clean1 = (~np.isnan(res1['radec'].ra) & ~np.isnan(res1['radec'].dec))\n",
    "res1 = res1[clean1]\n",
    "\n",
    "clean2 = (~np.isnan(res2['radec'].ra) & ~np.isnan(res2['radec'].dec))\n",
    "res2 = res2[clean2]"
   ]
  },
  {
   "cell_type": "code",
   "execution_count": 11,
   "id": "b3472fe9",
   "metadata": {},
   "outputs": [
    {
     "name": "stdout",
     "output_type": "stream",
     "text": [
      "Number of sources in common between the two filters: 662\n"
     ]
    }
   ],
   "source": [
    "max_sep = 0.12 * u.arcsec #1/2 FWHM https://jwst-docs.stsci.edu/jwst-mid-infrared-instrument/miri-predicted-performance/miri-point-spread-functions\n",
    "\n",
    "filt1 = 'F560W'\n",
    "filt2 = 'F770W'\n",
    "\n",
    "#res1 = result_clean_f560w\n",
    "#res2 = result_clean_f770w\n",
    "\n",
    "idx, d2d, _ = match_coordinates_sky(res1['radec'], res2['radec'])\n",
    "\n",
    "sep_constraint = d2d < max_sep\n",
    "\n",
    "match_phot_single = Table()\n",
    "\n",
    "x_0_F560W = res1['x_0'][sep_constraint]\n",
    "y_0_F560W = res1['y_0'][sep_constraint]\n",
    "x_fit_F560W = res1['x_fit'][sep_constraint]\n",
    "y_fit_F560W = res1['y_fit'][sep_constraint]\n",
    "radec_F560W = res1['radec'][sep_constraint]\n",
    "mag_F560W = (-2.5 * np.log10(res1['flux_fit']))[sep_constraint]\n",
    "emag_F560W = (1.086 * (res1['flux_unc'] / res1['flux_fit']))[sep_constraint]\n",
    "\n",
    "x_0_F770W = res2['x_0'][idx[sep_constraint]]\n",
    "y_0_F770W = res2['y_0'][idx[sep_constraint]]\n",
    "x_fit_F770W = res2['x_fit'][idx[sep_constraint]]\n",
    "y_fit_F770W = res2['y_fit'][idx[sep_constraint]]\n",
    "radec_F770W = res2['radec'][idx][sep_constraint]\n",
    "mag_F770W = (-2.5 * np.log10(res2['flux_fit']))[idx[sep_constraint]]\n",
    "emag_F770W = (1.086 * (res2['flux_unc'] / res2['flux_fit']))[idx[sep_constraint]]\n",
    "\n",
    "match_phot_single['x_0_' + filt1] = x_0_F560W\n",
    "match_phot_single['y_0_' + filt1] = y_0_F560W\n",
    "match_phot_single['x_fit_' + filt1] = x_fit_F560W\n",
    "match_phot_single['y_fit_' + filt1] = y_fit_F560W\n",
    "match_phot_single['radec_' + filt1] = radec_F560W\n",
    "match_phot_single['mag_' + filt1] = mag_F560W\n",
    "match_phot_single['emag_' + filt1] = emag_F560W\n",
    "match_phot_single['x_0_' + filt2] = x_0_F770W\n",
    "match_phot_single['y_0_' + filt2] = y_0_F770W\n",
    "match_phot_single['x_fit_' + filt2] = x_fit_F770W\n",
    "match_phot_single['y_fit_' + filt2] = y_fit_F770W\n",
    "match_phot_single['radec_' + filt2] = radec_F770W\n",
    "match_phot_single['mag_' + filt2] = mag_F770W\n",
    "match_phot_single['emag_' + filt2] = emag_F770W\n",
    "\n",
    "print('Number of sources in common between the two filters:', len(match_phot_single)) "
   ]
  },
  {
   "cell_type": "code",
   "execution_count": 12,
   "id": "57c48737",
   "metadata": {},
   "outputs": [
    {
     "data": {
      "text/html": [
       "<div><i>Table length=662</i>\n",
       "<table id=\"table140285179570064\" class=\"table-striped table-bordered table-condensed\">\n",
       "<thead><tr><th>x_0_F560W</th><th>y_0_F560W</th><th>x_fit_F560W</th><th>y_fit_F560W</th><th>radec_F560W</th><th>mag_F560W</th><th>emag_F560W</th><th>x_0_F770W</th><th>y_0_F770W</th><th>x_fit_F770W</th><th>y_fit_F770W</th><th>radec_F770W</th><th>mag_F770W</th><th>emag_F770W</th></tr></thead>\n",
       "<thead><tr><th></th><th></th><th></th><th></th><th>deg,deg</th><th></th><th></th><th></th><th></th><th></th><th></th><th>deg,deg</th><th></th><th></th></tr></thead>\n",
       "<thead><tr><th>float64</th><th>float64</th><th>float64</th><th>float64</th><th>SkyCoord</th><th>float64</th><th>float64</th><th>float64</th><th>float64</th><th>float64</th><th>float64</th><th>SkyCoord</th><th>float64</th><th>float64</th></tr></thead>\n",
       "<tr><td>730.9292220032261</td><td>21.343393144390525</td><td>730.9907265862514</td><td>21.245593731424478</td><td>80.45445435128741,-69.48974891641282</td><td>-5.0872443917455</td><td>--</td><td>713.3832928843306</td><td>11.105699203977952</td><td>713.4842672080218</td><td>11.07062975805047</td><td>80.45445552152269,-69.48975056630175</td><td>-5.047653474528123</td><td>--</td></tr>\n",
       "<tr><td>562.6769768367545</td><td>22.960548449283525</td><td>562.6928356926389</td><td>22.93573085921054</td><td>80.44606710851626,-69.49401896318994</td><td>-4.598969032399184</td><td>--</td><td>545.2913011706239</td><td>12.789178212417834</td><td>545.3200746275818</td><td>12.80708306907785</td><td>80.44607911339085,-69.49401824960546</td><td>-4.608699243127274</td><td>--</td></tr>\n",
       "<tr><td>785.9011356708261</td><td>27.58754210477322</td><td>785.9918431186858</td><td>27.661122898601292</td><td>80.45768614715504,-69.4884750939493</td><td>-7.117400633958378</td><td>--</td><td>768.5169839621077</td><td>17.45343488044597</td><td>768.5100243029525</td><td>17.428194097089207</td><td>80.45768400747315,-69.48847490660803</td><td>-7.148519877261618</td><td>--</td></tr>\n",
       "<tr><td>589.5744679766393</td><td>29.562414830072573</td><td>589.6146130444984</td><td>29.463167435710936</td><td>80.4478850670049,-69.4934534783995</td><td>-7.693299185111543</td><td>--</td><td>572.2097562194766</td><td>19.246331271795427</td><td>572.2003385970049</td><td>19.249835807947747</td><td>80.44788818995465,-69.49345215044121</td><td>-7.676744233235235</td><td>--</td></tr>\n",
       "<tr><td>556.8950571154606</td><td>30.27511962814408</td><td>556.9437557181221</td><td>30.215911203472633</td><td>80.44628789719083,-69.49429014025219</td><td>-3.931929859788021</td><td>--</td><td>539.3423194511672</td><td>20.078340824609477</td><td>539.3400718750498</td><td>20.10950530720806</td><td>80.44628918605954,-69.49429547116623</td><td>-3.832594405153019</td><td>--</td></tr>\n",
       "<tr><td>...</td><td>...</td><td>...</td><td>...</td><td>...</td><td>...</td><td>...</td><td>...</td><td>...</td><td>...</td><td>...</td><td>...</td><td>...</td><td>...</td></tr>\n",
       "<tr><td>777.2572552910912</td><td>1000.4094600240203</td><td>785.4991123821012</td><td>1000.8981602687502</td><td>80.52720700488541,-69.50577203356659</td><td>-3.0070456990167758</td><td>--</td><td>766.9458120870643</td><td>990.8456269229617</td><td>767.0022131636287</td><td>990.9953785828937</td><td>80.52718465112413,-69.50579583687845</td><td>-3.4314059783080197</td><td>--</td></tr>\n",
       "<tr><td>784.2012858130036</td><td>935.6485358155012</td><td>783.8669870651802</td><td>937.0649644166086</td><td>80.52258007265608,-69.50468254762603</td><td>-8.87683558931345</td><td>--</td><td>766.2995807592458</td><td>924.7543680538097</td><td>766.2974127239279</td><td>926.3070617299221</td><td>80.52254094438075,-69.50466803301416</td><td>-6.9178775097422776</td><td>--</td></tr>\n",
       "<tr><td>782.161379302078</td><td>935.2140558859713</td><td>781.9376037241105</td><td>934.4476827025271</td><td>80.52229783620504,-69.50468448086494</td><td>-8.651053547131632</td><td>--</td><td>766.8905666692241</td><td>925.4365038089998</td><td>765.1374886474183</td><td>924.5967957339101</td><td>80.52236144046897,-69.50466676511523</td><td>-6.800614350765397</td><td>--</td></tr>\n",
       "<tr><td>744.5887736362184</td><td>298.6131726819073</td><td>744.6544724491597</td><td>298.54532832291903</td><td>80.47483311609899,-69.49427874902739</td><td>-3.5145821320240653</td><td>--</td><td>726.9969401855307</td><td>288.4140153804212</td><td>727.0092268420611</td><td>288.53093717700375</td><td>80.47482726174323,-69.49428208580521</td><td>-3.787524782225792</td><td>--</td></tr>\n",
       "<tr><td>829.4680818714913</td><td>201.95920601461933</td><td>834.0292519403355</td><td>201.14970539480206</td><td>80.47237448599644,-69.49029916976508</td><td>-2.4454427588397625</td><td>0.6559753467606917</td><td>816.6858465176474</td><td>191.81839001649192</td><td>816.6886123113143</td><td>191.4339761590453</td><td>80.47240829184695,-69.49030139168447</td><td>-3.3092395928508207</td><td>--</td></tr>\n",
       "<tr><td>781.1296483538308</td><td>925.1273080360944</td><td>777.2376119807643</td><td>925.9347880035896</td><td>80.52145784195953,-69.50465128311778</td><td>-5.039721223480276</td><td>--</td><td>759.7812507948928</td><td>916.0060786715015</td><td>759.4864362142648</td><td>915.6397938689713</td><td>80.52144221565092,-69.50464949505253</td><td>-4.725551191429701</td><td>--</td></tr>\n",
       "</table></div>"
      ],
      "text/plain": [
       "<Table length=662>\n",
       "    x_0_F560W         y_0_F560W         x_fit_F560W       y_fit_F560W     ...    y_fit_F770W                 radec_F770W                   mag_F770W      emag_F770W\n",
       "                                                                          ...                                  deg,deg                                              \n",
       "     float64           float64            float64           float64       ...      float64                     SkyCoord                     float64        float64  \n",
       "----------------- ------------------ ----------------- ------------------ ... ------------------ ------------------------------------ ------------------- ----------\n",
       "730.9292220032261 21.343393144390525 730.9907265862514 21.245593731424478 ...  11.07062975805047 80.45445552152269,-69.48975056630175  -5.047653474528123         --\n",
       "562.6769768367545 22.960548449283525 562.6928356926389  22.93573085921054 ...  12.80708306907785 80.44607911339085,-69.49401824960546  -4.608699243127274         --\n",
       "785.9011356708261  27.58754210477322 785.9918431186858 27.661122898601292 ... 17.428194097089207 80.45768400747315,-69.48847490660803  -7.148519877261618         --\n",
       "589.5744679766393 29.562414830072573 589.6146130444984 29.463167435710936 ... 19.249835807947747 80.44788818995465,-69.49345215044121  -7.676744233235235         --\n",
       "556.8950571154606  30.27511962814408 556.9437557181221 30.215911203472633 ...  20.10950530720806 80.44628918605954,-69.49429547116623  -3.832594405153019         --\n",
       "              ...                ...               ...                ... ...                ...                                  ...                 ...        ...\n",
       "777.2572552910912 1000.4094600240203 785.4991123821012 1000.8981602687502 ...  990.9953785828937 80.52718465112413,-69.50579583687845 -3.4314059783080197         --\n",
       "784.2012858130036  935.6485358155012 783.8669870651802  937.0649644166086 ...  926.3070617299221 80.52254094438075,-69.50466803301416 -6.9178775097422776         --\n",
       " 782.161379302078  935.2140558859713 781.9376037241105  934.4476827025271 ...  924.5967957339101 80.52236144046897,-69.50466676511523  -6.800614350765397         --\n",
       "744.5887736362184  298.6131726819073 744.6544724491597 298.54532832291903 ... 288.53093717700375 80.47482726174323,-69.49428208580521  -3.787524782225792         --\n",
       "829.4680818714913 201.95920601461933 834.0292519403355 201.14970539480206 ...  191.4339761590453 80.47240829184695,-69.49030139168447 -3.3092395928508207         --\n",
       "781.1296483538308  925.1273080360944 777.2376119807643  925.9347880035896 ...  915.6397938689713 80.52144221565092,-69.50464949505253  -4.725551191429701         --"
      ]
     },
     "execution_count": 12,
     "metadata": {},
     "output_type": "execute_result"
    }
   ],
   "source": [
    "match_phot_single"
   ]
  },
  {
   "cell_type": "markdown",
   "id": "d2c2fcb6",
   "metadata": {},
   "source": [
    "### 3.3<font color='white'>-</font>Photometric Calibration<a class=\"anchor\" id=\"wcs\"></a> ###\n",
    "\n"
   ]
  },
  {
   "cell_type": "code",
   "execution_count": 13,
   "id": "cbb1a56a",
   "metadata": {},
   "outputs": [
    {
     "name": "stdout",
     "output_type": "stream",
     "text": [
      "label xcentroid ycentroid                sky_centroid                ...                sky_bbox_ul                                sky_bbox_lr                               sky_bbox_ur               \n",
      "                                           deg,deg                   ...                  deg,deg                                    deg,deg                                   deg,deg                 \n",
      "----- --------- --------- ------------------------------------------ ... ------------------------------------------ ----------------------------------------- -----------------------------------------\n",
      "    1  757.7435   31.3451    359.99836120500316,-0.01737844736582643 ... 0.003246972520384926,-0.016720884313430235    359.9947473963536,-0.01779814721966357   359.9949061661661,-0.015988928352511637\n",
      "  ...       ...       ...                                        ... ...                                        ...                                       ...                                       ...\n",
      " 1412  786.1478 1138.8680 0.00047055570240872184,0.01665987861286094 ... 0.0005281668253658369,0.016736154401478635 0.00039474385425596493,0.0166242595459828 0.0004055079092133646,0.01674691845172965\n",
      " 1413  573.3072 1140.3708  0.007001298771051743,0.016133204940665547 ...                                    nan,nan   0.00689835746875745,0.01608442949857169                                   nan,nan\n",
      "Length = 1413 rows\n",
      "label xcentroid ycentroid                sky_centroid               ...               sky_bbox_ul                             sky_bbox_lr                              sky_bbox_ur               \n",
      "                                           deg,deg                  ...                 deg,deg                                 deg,deg                                  deg,deg                 \n",
      "----- --------- --------- ----------------------------------------- ... --------------------------------------- ---------------------------------------- ----------------------------------------\n",
      "    1  771.3283   32.6637  359.99794827756364,-0.017301057668209628 ... 359.9990110177998,-0.016750458483331995  359.99689402462656,-0.01798611945311834  359.9970178112104,-0.016575542595886655\n",
      "  ...       ...       ...                                       ... ...                                     ...                                      ...                                      ...\n",
      "  905  123.4718 1134.9854  0.02078097337460531,0.014757936673418863 ... 0.02088425230100589,0.01488837712489459 0.02065076221065814,0.014692561230691636 0.02066959929636816,0.014907214225508345\n",
      "  906  278.3101 1139.7410 0.016045698605735514,0.015320435893069825 ...                                 nan,nan 0.01569384233580126,0.015251164360703085                                  nan,nan\n",
      "Length = 906 rows\n"
     ]
    }
   ],
   "source": [
    "calib_cat_F560W = Table.read(cat_names['F560W'][0])\n",
    "calib_cat_F560W.pprint_all(max_lines=1, max_width=200)\n",
    "calib_cat_F770W = Table.read(cat_names['F770W'][0])\n",
    "calib_cat_F770W.pprint_all(max_lines=1, max_width=200)"
   ]
  },
  {
   "cell_type": "markdown",
   "id": "142c6d4d",
   "metadata": {},
   "source": [
    "For the cross-match of these catalogs, we can use [_match_coordinates_sky_](https://docs.astropy.org/en/stable/coordinates/matchsep.html#matching-catalogs). This function uses a proximity-based approach to find the same star in two catalogs. It requires coordinates to be stored as [_SkyCoord_](https://docs.astropy.org/en/stable/api/astropy.coordinates.SkyCoord.html#astropy.coordinates.SkyCoord) objects."
   ]
  },
  {
   "cell_type": "code",
   "execution_count": 14,
   "id": "a863e8c5",
   "metadata": {},
   "outputs": [],
   "source": [
    "coord_cal = SkyCoord(ra=match_phot_single['radec_F560W'][:].ra, dec=match_phot_single['radec_F560W'][:].dec, unit=\"deg\")\n",
    "coord_i2d = SkyCoord(ra=calib_cat_F560W['sky_centroid'].ra.degree, dec=calib_cat_F560W['sky_centroid'].dec.degree, unit=\"deg\")\n",
    "ind_i2d_cat, dist_2d, _ = match_coordinates_sky(coord_cal, coord_i2d)"
   ]
  },
  {
   "cell_type": "markdown",
   "id": "80d5f1b6",
   "metadata": {},
   "source": [
    "The first output _ind_i2d_cat_ is an array containing the indexes of the stars in the pipeline source catalog that are the closest objects to each source in our F560W-filter catalog. The second output _dist_2d_ is an array with the on-sky distances between sources. We do not need to save the last output because it corresponds to an array of 3D distances between sources. We do not need it here.\n",
    "\n",
    "Being based just on proximity, this algorithm can present some issues in very crowded environments. It is always a good idea to check the result of the cross-match:"
   ]
  },
  {
   "cell_type": "code",
   "execution_count": 15,
   "id": "b730a0e9",
   "metadata": {},
   "outputs": [
    {
     "data": {
      "image/png": "[encoded data removed]",
      "text/plain": [
       "<Figure size 1080x1080 with 1 Axes>"
      ]
     },
     "metadata": {
      "needs_background": "light"
     },
     "output_type": "display_data"
    }
   ],
   "source": [
    "delta_ra = 3600.0*(match_phot_single['radec_F560W'][:].ra.degree*np.cos(np.deg2rad(match_phot_single['radec_F560W'][:].dec.degree)) - \n",
    "                   calib_cat_F560W[ind_i2d_cat]['sky_centroid'].ra.degree*np.cos(np.deg2rad(calib_cat_F560W[ind_i2d_cat]['sky_centroid'].dec.degree)))\n",
    "\n",
    "delta_dec = 3600.0*(match_phot_single['radec_F560W'][:].dec.degree - calib_cat_F560W[ind_i2d_cat]['sky_centroid'].dec.degree)\n",
    "\n",
    "fig, ax = plt.subplots()\n",
    "ax.scatter(delta_ra, delta_dec, lw=0.5, s=5, color='black', marker='o')\n",
    "circle = plt.Circle((0, 0), 0.055, color='r', fill=False)\n",
    "ax.add_patch(circle)\n",
    "ax.set_xlim(-0.5, 0.5)\n",
    "ax.set_ylim(-0.5, 0.5)\n",
    "ax.axhline(0, color='red', ls='--')\n",
    "ax.axvline(0, color='red', ls='--')\n",
    "ax.set_aspect('equal', 'box')\n",
    "ax.set_xlabel(r'$\\Delta\\textrm{(R.A.}\\cos\\textrm{Dec.) [arcsec]}$')\n",
    "ax.set_ylabel(r'$\\Delta\\textrm{Dec. [arcsec]}$')\n",
    "\n",
    "ax2 = ax.secondary_xaxis('top', functions=(arcsec2pix, pix2arcsec))\n",
    "ax2.set_xlabel(r'$\\Delta\\textrm{(R.A.}\\cos\\textrm{Dec.) [MIRIM pixel]}$')\n",
    "ay2 = ax.secondary_yaxis('right', functions=(arcsec2pix, pix2arcsec))\n",
    "ay2.set_ylabel(r'$\\Delta\\textrm{Dec. [MIRIM pixel]}$')\n",
    "\n",
    "plt.tight_layout()"
   ]
  },
  {
   "cell_type": "code",
   "execution_count": 16,
   "id": "0ba47363",
   "metadata": {},
   "outputs": [],
   "source": [
    "phot_F560W_matched = match_phot_single[dist_2d.arcsec/0.11 < 0.5]\n",
    "calib_cat_F560W_matched = calib_cat_F560W[ind_i2d_cat[dist_2d.arcsec/0.11 < 0.5]]"
   ]
  },
  {
   "cell_type": "code",
   "execution_count": 17,
   "id": "0f8003d9",
   "metadata": {},
   "outputs": [],
   "source": [
    "coord_cal = SkyCoord(ra=match_phot_single['radec_F770W'][:].ra, dec=match_phot_single['radec_F770W'][:].dec, unit=\"deg\")\n",
    "coord_i2d = SkyCoord(ra=calib_cat_F770W['sky_centroid'].ra.degree, dec=calib_cat_F770W['sky_centroid'].dec.degree, unit=\"deg\")\n",
    "ind_i2d_cat, dist_2d, _ = match_coordinates_sky(coord_cal, coord_i2d)"
   ]
  },
  {
   "cell_type": "code",
   "execution_count": 18,
   "id": "4ad30f6e",
   "metadata": {},
   "outputs": [
    {
     "data": {
      "image/png": "[encoded data removed]",
      "text/plain": [
       "<Figure size 1080x1080 with 1 Axes>"
      ]
     },
     "metadata": {
      "needs_background": "light"
     },
     "output_type": "display_data"
    }
   ],
   "source": [
    "delta_ra = 3600.0*(match_phot_single['radec_F770W'][:].ra.degree*np.cos(np.deg2rad(match_phot_single['radec_F770W'][:].dec.degree)) - \n",
    "                   calib_cat_F770W[ind_i2d_cat]['sky_centroid'].ra.degree*np.cos(np.deg2rad(calib_cat_F770W[ind_i2d_cat]['sky_centroid'].dec.degree)))\n",
    "\n",
    "delta_dec = 3600.0*(match_phot_single['radec_F770W'][:].dec.degree - calib_cat_F770W[ind_i2d_cat]['sky_centroid'].dec.degree)\n",
    "\n",
    "fig, ax = plt.subplots()\n",
    "ax.scatter(delta_ra, delta_dec, lw=0.5, s=5, color='black', marker='o')\n",
    "circle = plt.Circle((0, 0), 0.055, color='r', fill=False)\n",
    "ax.add_patch(circle)\n",
    "ax.set_xlim(-0.5, 0.5)\n",
    "ax.set_ylim(-0.5, 0.5)\n",
    "ax.axhline(0, color='red', ls='--')\n",
    "ax.axvline(0, color='red', ls='--')\n",
    "ax.set_aspect('equal', 'box')\n",
    "ax.set_xlabel(r'$\\Delta\\textrm{(R.A.}\\cos\\textrm{Dec.) [arcsec]}$')\n",
    "ax.set_ylabel(r'$\\Delta\\textrm{Dec. [arcsec]}$')\n",
    "\n",
    "ax2 = ax.secondary_xaxis('top', functions=(arcsec2pix, pix2arcsec))\n",
    "ax2.set_xlabel(r'$\\Delta\\textrm{(R.A.}\\cos\\textrm{Dec.) [MIRIM pixel]}$')\n",
    "ay2 = ax.secondary_yaxis('right', functions=(arcsec2pix, pix2arcsec))\n",
    "ay2.set_ylabel(r'$\\Delta\\textrm{Dec. [MIRIM pixel]}$')\n",
    "\n",
    "plt.tight_layout()"
   ]
  },
  {
   "cell_type": "markdown",
   "id": "9a4e08f4",
   "metadata": {},
   "source": [
    "Let's define as \"found\" only objects with a positional rms lower than 0.5 MIRIM pixel, i.e., 0.055 arcsec."
   ]
  },
  {
   "cell_type": "code",
   "execution_count": 19,
   "id": "33c326b4",
   "metadata": {},
   "outputs": [],
   "source": [
    "phot_F770W_matched = match_phot_single[dist_2d.arcsec/0.11 < 0.5]\n",
    "calib_cat_F770W_matched = calib_cat_F770W[ind_i2d_cat[dist_2d.arcsec/0.11 < 0.5]]"
   ]
  },
  {
   "cell_type": "markdown",
   "id": "856db614",
   "metadata": {},
   "source": [
    "Next, we need to compute the zero-point between the magnitudes in our custom _cal.fits_-based catalog and those in the pipeline source catalog. This simple step takes into account for (1) the finite-aperture correction and (2) the AB (or Vega) magnitude zero-point. The finite-aperture correction is necessary because the flux measured within a finite aperture is just a fraction of the total signal of a source. In this example, we calibrate our instrumental magnitude r1.\n",
    "\n",
    "We do not need to use all stars. It is preferred to use only bright sources since they should be well-measured in both catalogs. For this specific example, we only apply a magnitude-based selection. You can apply all necessary criteria to ensure the selection of the best objects for the task."
   ]
  },
  {
   "cell_type": "code",
   "execution_count": 20,
   "id": "94d693cb",
   "metadata": {},
   "outputs": [
    {
     "name": "stderr",
     "output_type": "stream",
     "text": [
      "2022-04-19 09:46:04,405 - stpipe - WARNING - /var/folders/yh/kl4y3s1x3_j3ywy3qq67g3vc0001kc/T/ipykernel_22153/4037223197.py:9: FutureWarning: Format strings passed to MaskedConstant are ignored, but in future may error or produce different behavior\n",
      "  print(r' Magnitude zero-point: {0:.3f} mag'.format(mag_med_F560W))\n",
      "\n"
     ]
    },
    {
     "name": "stdout",
     "output_type": "stream",
     "text": [
      "\n",
      " Magnitude zero-point: -- mag\n"
     ]
    }
   ],
   "source": [
    "# Magnitude limit\n",
    "ok = phot_F560W_matched['mag_F560W'] < -3\n",
    "\n",
    "delta_mag = phot_F560W_matched['mag_F560W'][ok]-calib_cat_F560W_matched['aper_total_abmag'][ok]\n",
    "\n",
    "_, mag_med_F560W, mag_rms_F560W = sigma_clipped_stats(delta_mag, sigma=2.0, maxiters=10)\n",
    "\n",
    "print('')\n",
    "print(r' Magnitude zero-point: {0:.3f} mag'.format(mag_med_F560W))"
   ]
  },
  {
   "cell_type": "code",
   "execution_count": 21,
   "id": "eb3873a1",
   "metadata": {},
   "outputs": [
    {
     "name": "stderr",
     "output_type": "stream",
     "text": [
      "2022-04-19 09:46:04,411 - stpipe - WARNING - /var/folders/yh/kl4y3s1x3_j3ywy3qq67g3vc0001kc/T/ipykernel_22153/3454662184.py:10: FutureWarning: Format strings passed to MaskedConstant are ignored, but in future may error or produce different behavior\n",
      "  print(r' Magnitude zero-point: {0:.3f} mag'.format(mag_med_F770W))\n",
      "\n"
     ]
    },
    {
     "name": "stdout",
     "output_type": "stream",
     "text": [
      "\n",
      " Magnitude zero-point: -- mag\n"
     ]
    }
   ],
   "source": [
    "# Magnitude limit\n",
    "ok = phot_F770W_matched['mag_F770W'] < -3.5\n",
    "\n",
    "delta_mag = phot_F770W_matched['mag_F770W'][ok]-calib_cat_F770W_matched['aper_total_abmag'][ok]\n",
    "\n",
    "# Complete the line below\n",
    "_, mag_med_F770W, mag_rms_F770W = sigma_clipped_stats(delta_mag, sigma=2.0, maxiters=10)\n",
    "\n",
    "print('')\n",
    "print(r' Magnitude zero-point: {0:.3f} mag'.format(mag_med_F770W))"
   ]
  },
  {
   "cell_type": "markdown",
   "id": "469b40a2",
   "metadata": {},
   "source": [
    "Let's plot the $\\Delta$mag as a function of instrumental magnitude."
   ]
  },
  {
   "cell_type": "code",
   "execution_count": 22,
   "id": "f40ad7cb",
   "metadata": {},
   "outputs": [
    {
     "name": "stderr",
     "output_type": "stream",
     "text": [
      "2022-04-19 09:46:04,436 - stpipe - WARNING - /Users/ofox/miniconda3/envs/hackphot/lib/python3.8/site-packages/matplotlib/cbook/__init__.py:1298: UserWarning: Warning: converting a masked element to nan.\n",
      "  return np.asarray(x, float)\n",
      "\n"
     ]
    },
    {
     "data": {
      "image/png": "[encoded data removed]",
      "text/plain": [
       "<Figure size 1080x1080 with 1 Axes>"
      ]
     },
     "metadata": {
      "needs_background": "light"
     },
     "output_type": "display_data"
    }
   ],
   "source": [
    "fig, ax = plt.subplots()\n",
    "ax.scatter(phot_F560W_matched['mag_F560W'], phot_F560W_matched['mag_F560W']-calib_cat_F560W_matched['aper_total_abmag'], \n",
    "           lw=0.5, s=5, color='black', marker='o')\n",
    "ax.set_xlim(-8, -2)\n",
    "ax.set_ylim(-26, -24)\n",
    "ax.axhline(mag_med_F560W, color='red', ls='--')\n",
    "ax.set_xlabel(r'F560W mag')\n",
    "ax.set_ylabel(r'$\\Delta$mag')\n",
    "plt.tight_layout()"
   ]
  },
  {
   "cell_type": "code",
   "execution_count": 23,
   "id": "6f4c735d",
   "metadata": {},
   "outputs": [
    {
     "data": {
      "image/png": "[encoded data removed]",
      "text/plain": [
       "<Figure size 1080x1080 with 1 Axes>"
      ]
     },
     "metadata": {
      "needs_background": "light"
     },
     "output_type": "display_data"
    }
   ],
   "source": [
    "fig, ax = plt.subplots()\n",
    "ax.scatter(phot_F770W_matched['mag_F770W'], phot_F770W_matched['mag_F770W']-calib_cat_F770W_matched['aper_total_abmag'], \n",
    "           lw=0.5, s=5, color='black', marker='o')\n",
    "ax.set_xlim(-8, -2)\n",
    "ax.set_ylim(-26, -24)\n",
    "ax.axhline(mag_med_F770W, color='red', ls='--')\n",
    "ax.set_xlabel(r'F770W mag')\n",
    "ax.set_ylabel(r'$\\Delta$mag')\n",
    "plt.tight_layout()"
   ]
  },
  {
   "cell_type": "markdown",
   "id": "eda043dc",
   "metadata": {},
   "source": [
    "Finally, the calibrate AB mag of our stars is simply:"
   ]
  },
  {
   "cell_type": "code",
   "execution_count": 24,
   "id": "8384c71a",
   "metadata": {},
   "outputs": [],
   "source": [
    "match_phot_single['ABmag_F560W'] = match_phot_single['mag_F560W'] - mag_med_F560W\n",
    "match_phot_single['ABmag_F770W'] = match_phot_single['mag_F770W'] - mag_med_F770W"
   ]
  },
  {
   "cell_type": "markdown",
   "id": "a50d6492",
   "metadata": {},
   "source": [
    "The same procedure can be used to convert our instrumental magnitudes in the Vega system."
   ]
  },
  {
   "cell_type": "markdown",
   "id": "f149415d",
   "metadata": {},
   "source": [
    "We have built two catalogs for the same field in two filters. We can combine the photometry in these catalogs to create our first mid-infrared color-magnitude diagram."
   ]
  },
  {
   "cell_type": "markdown",
   "id": "a081a337",
   "metadata": {},
   "source": [
    "Let's check the result of the cross-match:"
   ]
  },
  {
   "cell_type": "markdown",
   "id": "69f37dc0",
   "metadata": {},
   "source": [
    "Finally, we can make our first mid-infrared color-magnitude diagram:"
   ]
  },
  {
   "cell_type": "code",
   "execution_count": 25,
   "id": "b747ead3-7eb5-42e2-9db2-be23156a01ff",
   "metadata": {},
   "outputs": [
    {
     "data": {
      "image/png": "[encoded data removed]",
      "text/plain": [
       "<Figure size 1080x1080 with 1 Axes>"
      ]
     },
     "metadata": {
      "needs_background": "light"
     },
     "output_type": "display_data"
    }
   ],
   "source": [
    "fig, ax = plt.subplots()\n",
    "ax.set_aspect(0.35)\n",
    "ax.scatter(match_phot_single['mag_F560W']-match_phot_single['mag_F770W'], \n",
    "           match_phot_single['mag_F770W'], lw=0.5, s=5, marker='o', color='black')\n",
    "ax.set_xlim(-01.0+0.5, 0.02+0.5)\n",
    "ax.set_ylim(24-27, 17-27)\n",
    "ax.set_xlabel(r'$(m_{\\textrm{F560W}}-m_{\\textrm{F770W}})$')\n",
    "ax.set_ylabel(r'$m_{\\textrm{F770W}}$')\n",
    "ax.set_title(r'The First MIRI CMD (LMC)')\n",
    "plt.tight_layout()\n",
    "#match_phot_single['mag_F560W']-match_phot_single['mag_F770W']\n",
    "#match_phot_single['mag_F770W']"
   ]
  },
  {
   "cell_type": "markdown",
   "id": "5630029f-31d1-42cd-8454-225e86cabc48",
   "metadata": {},
   "source": [
    "<hr style=\"border:1px solid gray\"> </hr>"
   ]
  },
  {
   "cell_type": "markdown",
   "id": "843b5201-6f57-46f0-9da0-b738714178d3",
   "metadata": {},
   "source": [
    "<img style=\"float: center;\" src=\"https://raw.githubusercontent.com/spacetelescope/notebooks/master/assets/stsci_pri_combo_mark_horizonal_white_bkgd.png\" alt=\"Space Telescope Logo\" width=\"200px\"/>"
   ]
  }
 ],
 "metadata": {
  "kernelspec": {
   "display_name": "Python 3 (ipykernel)",
   "language": "python",
   "name": "python3"
  },
  "language_info": {
   "codemirror_mode": {
    "name": "ipython",
    "version": 3
   },
   "file_extension": ".py",
   "mimetype": "text/x-python",
   "name": "python",
   "nbconvert_exporter": "python",
   "pygments_lexer": "ipython3",
   "version": "3.8.10"
  },
  "toc-showcode": false
 },
 "nbformat": 4,
 "nbformat_minor": 5
}
