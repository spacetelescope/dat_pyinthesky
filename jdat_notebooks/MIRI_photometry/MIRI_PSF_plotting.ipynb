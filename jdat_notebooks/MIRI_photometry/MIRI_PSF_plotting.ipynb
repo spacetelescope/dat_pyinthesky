{
 "cells": [
  {
   "cell_type": "markdown",
   "id": "b58d6954",
   "metadata": {},
   "source": [
    "# MIRI PSF Photometry #3 - Create your first MIRI Color-Magnitude Diagram\n",
    "\n",
    "**Author**: Ori Fox\n",
    "<br>\n",
    "**Last Updated**: March, 2022"
   ]
  },
  {
   "cell_type": "markdown",
   "id": "7df4f696",
   "metadata": {},
   "source": [
    "## Table of contents\n",
    "1. [Introduction](#intro)<br>\n",
    "2. [Setup](#setup)<br>\n",
    "    2.1 [Python imports](#py_imports)<br>\n",
    "    2.2 [Plotting functions imports](#matpl_imports)<br>\n",
    "    2.3 [PSF FWHM dictionary](#psf_fwhm)<br>\n",
    "3. [Import image to analyze](#data)<br>\n",
    "4. [Create your first MIRI Color-Magnitude Diagram](#bonusI)<br>\n",
    "    4.1 [Load images and output catalogs](#load_data)<br>\n",
    "    4.2 [Cross-match PSF photometry catalogs](#cross_match)<br>\n",
    "    4.3 [Load input catalogs](#load_input)<br>\n",
    "    4.4 [Cross-match input catalogs](#cross_match_input)<br>\n",
    "    4.5 [Instrumental Color-Magnitude Diagram](#cmd)<br>"
   ]
  },
  {
   "cell_type": "markdown",
   "id": "4f572688",
   "metadata": {},
   "source": [
    "1.<font color='white'>-</font>Introduction <a class=\"anchor\" id=\"intro\"></a>\n",
    "------------------"
   ]
  },
  {
   "cell_type": "markdown",
   "id": "95891849",
   "metadata": {},
   "source": [
    "**Data**: MIRI simulated images obtained using [MIRISIM](https://www.stsci.edu/jwst/science-planning/proposal-planning-toolbox/mirisim) and run through the [JWST pipeline](https://jwst-pipeline.readthedocs.io/en/latest/) of Isochrone of 10-Gyr old population, [Fe/H]=-1 Population placed at 2.5 kpc from the Sun. Salpeter-like IMF, tweaked to have more massive stars (since positions are random, it ensures at least a few bright stars in each image). Kept only sources brighter than J=17 (random cut to speed up MIRISim) and fainter than Ks=10 (to avoid too-bright stars that would have PSF spikes clearly cut by MIRISim in the image)\n",
    "\n",
    "Here is the [ReadMe](https://stsci.app.box.com/s/2b6evrie2swaybarxhdmpqizktl3g0wm/file/869444882607). All data simulations can be found on [STScI's simulation page](https://www.stsci.edu/jwst/science-planning/proposal-planning-toolbox/simulated-data).\n",
    "\n",
    "PSF Photometry can be obtained using:\n",
    "\n",
    "* single PSF model obtained from WebbPSF\n",
    "* grid of PSF models from WebbPSF\n",
    "* single effective PSF (ePSF)\n",
    "* grid of effective PSF (bonus part II)\n",
    "\n",
    "The notebook shows:\n",
    "\n",
    "* how to obtain the PSF model from WebbPSF (or build an ePSF)\n",
    "* how to perform PSF photometry on the image\n",
    "* how to cross-match the catalogs of the different images (bonus part I)"
   ]
  },
  {
   "cell_type": "markdown",
   "id": "1cf3d18f",
   "metadata": {},
   "source": [
    "2.<font color='white'>-</font>Setup <a class=\"anchor\" id=\"setup\"></a>\n",
    "------------------"
   ]
  },
  {
   "cell_type": "markdown",
   "id": "bd038c76",
   "metadata": {},
   "source": [
    "In this section we import all the necessary python packages and we define some plotting parameters."
   ]
  },
  {
   "cell_type": "markdown",
   "id": "5b762602",
   "metadata": {},
   "source": [
    "### 2.1<font color='white'>-</font>Python imports<a class=\"anchor\" id=\"py_imports\"></a> ###"
   ]
  },
  {
   "cell_type": "code",
   "execution_count": 1,
   "id": "8c50eace",
   "metadata": {},
   "outputs": [],
   "source": [
    "import os\n",
    "\n",
    "if not os.environ.get('WEBBPSF_PATH'):\n",
    "    os.environ['WEBBPSF_PATH'] = '/data/webbpsf-data'\n",
    "\n",
    "import sys\n",
    "import time\n",
    "\n",
    "import numpy as np\n",
    "\n",
    "import pandas as pd\n",
    "\n",
    "import glob as glob\n",
    "\n",
    "import urllib.request\n",
    "\n",
    "import tarfile\n",
    "\n",
    "from astropy.io import fits\n",
    "from astropy.visualization import simple_norm\n",
    "from astropy.nddata import NDData\n",
    "from astropy.modeling.fitting import LevMarLSQFitter\n",
    "from astropy.table import Table, QTable\n",
    "from astropy.coordinates import SkyCoord, match_coordinates_sky\n",
    "from astropy import units as u\n",
    "\n",
    "from photutils.background import MMMBackground, MADStdBackgroundRMS, Background2D\n",
    "from photutils.detection import DAOStarFinder\n",
    "from photutils import EPSFBuilder, GriddedPSFModel\n",
    "from photutils.psf import DAOGroup, extract_stars, IterativelySubtractedPSFPhotometry\n",
    "\n",
    "import jwst\n",
    "from jwst.datamodels import ImageModel\n",
    "\n",
    "import webbpsf\n",
    "from webbpsf.utils import to_griddedpsfmodel\n",
    "\n",
    "import pysynphot  # PYSIN_CDBS must be defined in the user's environment (see note below)\n",
    "\n",
    "from collections import OrderedDict\n",
    "from astropy.wcs import WCS"
   ]
  },
  {
   "cell_type": "code",
   "execution_count": 2,
   "id": "dea5f1e7",
   "metadata": {},
   "outputs": [
    {
     "name": "stderr",
     "output_type": "stream",
     "text": [
      "2022-03-30 15:44:15,370 - stpipe - WARNING - /var/folders/yh/kl4y3s1x3_j3ywy3qq67g3vc0001kc/T/ipykernel_55008/2969300567.py:51: DeprecationWarning: Importing display from IPython.core.display is deprecated since IPython 7.14, please import from IPython display\n",
      "  from IPython.core.display import display, HTML\n",
      "\n"
     ]
    },
    {
     "data": {
      "text/html": [
       "<style>.container { width:90% !important; }</style>"
      ],
      "text/plain": [
       "<IPython.core.display.HTML object>"
      ]
     },
     "metadata": {},
     "output_type": "display_data"
    }
   ],
   "source": [
    "#\n",
    "# General tools\n",
    "#\n",
    "import glob\n",
    "import os\n",
    "import shutil\n",
    "import sys\n",
    "import random\n",
    "import urllib\n",
    "import zipfile\n",
    "#\n",
    "# Astropy tools\n",
    "#\n",
    "from astropy.coordinates import match_coordinates_sky, SkyCoord\n",
    "from astropy.io import fits, ascii\n",
    "from astropy.stats import SigmaClip, sigma_clipped_stats\n",
    "from astropy.table import Table, Column, vstack\n",
    "import astropy.units as u\n",
    "from astropy.visualization import LogStretch, LinearStretch, PercentileInterval, ManualInterval\n",
    "from astropy.nddata import Cutout2D\n",
    "#\n",
    "# JWST models\n",
    "#\n",
    "from jwst import datamodels, associations\n",
    "from jwst.datamodels import ImageModel, dqflags\n",
    "#\n",
    "# Matplotlib tools\n",
    "#\n",
    "from matplotlib import style, pyplot as plt, rcParams\n",
    "from matplotlib.colors import LogNorm\n",
    "from matplotlib.pyplot import figure\n",
    "from mpl_toolkits.axes_grid1.axes_divider import make_axes_locatable\n",
    "#\n",
    "# Numpy library\n",
    "#\n",
    "import numpy as np\n",
    "#\n",
    "# Photutils library and tools\n",
    "#\n",
    "import photutils\n",
    "from photutils.aperture import CircularAperture, CircularAnnulus, aperture_photometry\n",
    "from photutils import Background2D, MedianBackground, ModeEstimatorBackground, MMMBackground\n",
    "#\n",
    "# Scipy tools\n",
    "#\n",
    "from scipy import stats\n",
    "from scipy.interpolate import CubicSpline\n",
    "#\n",
    "# Use 90% of the window width\n",
    "#\n",
    "from IPython.core.display import display, HTML\n",
    "display(HTML(\"<style>.container { width:90% !important; }</style>\"))"
   ]
  },
  {
   "cell_type": "markdown",
   "id": "35987e59",
   "metadata": {},
   "source": [
    "<div class=\"alert alert-block alert-info\">\n",
    "\n",
    "**Note on pysynphot**: Data files for pysynphot are distributed separately by Calibration Reference Data System. They are expected to follow a certain directory structure under the root directory, identified by the PYSYN_CDBS environment variable that must be set prior to using this package. In the example below, the root directory is arbitrarily named /my/local/dir/trds/. \\\n",
    "export PYSYN_CDBS=/my/local/dir/trds/ \\\n",
    "See documentation [here](https://pysynphot.readthedocs.io/en/latest/#installation-and-setup) for the configuration and download of the data files.\n",
    "    \n",
    "<div >"
   ]
  },
  {
   "cell_type": "markdown",
   "id": "956910c8",
   "metadata": {},
   "source": [
    "### 2.2<font color='white'>-</font>Plotting function imports<a class=\"anchor\" id=\"matpl_imports\"></a> ###"
   ]
  },
  {
   "cell_type": "markdown",
   "id": "04df7084-75fc-4a64-9742-67d6f41582d3",
   "metadata": {},
   "source": [
    "<div class=\"alert alert-block alert-warning\">\n",
    "    <h3><u><b>Warning</b></u></h3>\n",
    "\n",
    "If the plots in this notebook don't render properly, you may need to install LaTeX. Find more information on a system-wide installation [here](https://www.latex-project.org/get/) and on a Jupyter-specific nbextension [here](https://jupyter-contrib-nbextensions.readthedocs.io/en/latest/nbextensions/latex_envs/README.html).\n",
    "</div>"
   ]
  },
  {
   "cell_type": "code",
   "execution_count": 3,
   "id": "9dee46d0",
   "metadata": {},
   "outputs": [],
   "source": [
    "%matplotlib inline\n",
    "from matplotlib import style, pyplot as plt\n",
    "import matplotlib.patches as patches\n",
    "import matplotlib.ticker as ticker\n",
    "\n",
    "from mpl_toolkits.axes_grid1 import make_axes_locatable\n",
    "\n",
    "plt.rcParams['image.cmap'] = 'viridis'\n",
    "plt.rcParams['image.origin'] = 'lower'\n",
    "plt.rcParams['axes.titlesize'] = plt.rcParams['axes.labelsize'] = 30\n",
    "plt.rcParams['xtick.labelsize'] = plt.rcParams['ytick.labelsize'] = 20\n",
    "\n",
    "font1 = {'family': 'helvetica', 'color': 'black', 'weight': 'normal', 'size': '12'}\n",
    "font2 = {'family': 'helvetica', 'color': 'black', 'weight': 'normal', 'size': '20'}"
   ]
  },
  {
   "cell_type": "code",
   "execution_count": 4,
   "id": "92799ab2",
   "metadata": {},
   "outputs": [],
   "source": [
    "%matplotlib inline\n",
    "# Figure size\n",
    "plt.rcParams['figure.figsize'] = [15, 15]\n",
    "# Figure text and font\n",
    "plt.rc('text', usetex=True)\n",
    "plt.rc('font', size=15)"
   ]
  },
  {
   "cell_type": "markdown",
   "id": "64814f46",
   "metadata": {},
   "source": [
    "### 2.3<font color='white'>-</font>PSF FWHM dictionary<a class=\"anchor\" id=\"psf_fwhm\"></a> ###"
   ]
  },
  {
   "cell_type": "markdown",
   "id": "7f5a21ce",
   "metadata": {},
   "source": [
    "The dictionary contains the NIRCam point spread function (PSF) FWHM, from the [NIRCam Point Spread Function](https://jwst-docs.stsci.edu/near-infrared-camera/nircam-predicted-performance/nircam-point-spread-functions) JDox page. The FWHM are calculated from the analysis of the expected NIRCam PSFs simulated with [WebbPSF](https://www.stsci.edu/jwst/science-planning/proposal-planning-toolbox/psf-simulation-tool). \n",
    "\n",
    "**Note**: this dictionary will be updated once the values for the FWHM will be available for each detectors after commissioning."
   ]
  },
  {
   "cell_type": "code",
   "execution_count": 5,
   "id": "176a76b6",
   "metadata": {},
   "outputs": [],
   "source": [
    "filters = ['F560W', 'F770W', 'F1000W', 'F1130W', 'F1280W', 'F1500W', 'F1800W', 'F2100W', 'F2550W']\n",
    "\n",
    "psf_fwhm = [1.636, 2.187, 2.888, 3.318, 3.713, 4.354, 5.224, 5.989, 7.312] #pixls\n",
    "\n",
    "dict_utils = {filters[i]: {'psf fwhm': psf_fwhm[i]} for i in range(len(filters))}"
   ]
  },
  {
   "cell_type": "markdown",
   "id": "052f86b2",
   "metadata": {},
   "source": [
    "### 2.4 Useful Functions"
   ]
  },
  {
   "cell_type": "code",
   "execution_count": 6,
   "id": "d45e4e18",
   "metadata": {},
   "outputs": [],
   "source": [
    "def imshow_me_wcolorbar(img, vmin, vmax, tlabel, xlabel, ylabel, blabel, cmap):\n",
    "    '''\n",
    "    Function to show an image.\n",
    "    \n",
    "    Inputs\n",
    "    ----------\n",
    "    img : 2D numpy.ndarray\n",
    "        The input 2D array.\n",
    "    vmin : float\n",
    "        The minimum value for the colorbar.\n",
    "    vmax : float\n",
    "        The maximum value for the colorbar.\n",
    "    tlabel : string\n",
    "        The plot title.\n",
    "    xlabel : string\n",
    "        The X-axis label.\n",
    "    ylabel : string\n",
    "        The Y-axis label.\n",
    "    blabel : string\n",
    "        The colorbar label.\n",
    "    cmap : string\n",
    "        The name of the colormap.\n",
    "    '''\n",
    "    \n",
    "    fig, ax = plt.subplots()\n",
    "    cax = ax.imshow(img, vmin=vmin, vmax=vmax, origin='lower', cmap=cmap)\n",
    "    ax_divider = make_axes_locatable(ax)\n",
    "    cax1 = ax_divider.append_axes('right', size='3%', pad='2%')\n",
    "    cb = fig.colorbar(cax, cax=cax1)\n",
    "    cb.ax.set_ylabel(r'{0}'.format(blabel))\n",
    "    ax.set_xlabel(r'{0}'.format(xlabel))\n",
    "    ax.set_ylabel(r'{0}'.format(ylabel))\n",
    "    ax.set_title(r'{0}'.format(tlabel))\n",
    "    plt.tight_layout()\n",
    "    \n",
    "    return"
   ]
  },
  {
   "cell_type": "code",
   "execution_count": 7,
   "id": "ff2fd8d3",
   "metadata": {},
   "outputs": [],
   "source": [
    "def imshow_me_wcolorbar_setup(img, vmin, vmax, tlabel, xlabel, ylabel, blabel, cmap):\n",
    "    '''\n",
    "    Function to setup an image to show. Similar to imshow_me_wcolorbar,\n",
    "    but it does not show the image directly, thus allowing to plot\n",
    "    something else after the call.\n",
    "    \n",
    "    Inputs\n",
    "    ----------\n",
    "    img : 2D numpy.ndarray\n",
    "        The input 2D array.\n",
    "    vmin : float\n",
    "        The minimum value for the colorbar.\n",
    "    vmax : float\n",
    "        The maximum value for the colorbar.\n",
    "    tlabel : string\n",
    "        The plot title.\n",
    "    xlabel : string\n",
    "        The X-axis label.\n",
    "    ylabel : string\n",
    "        The Y-axis label.\n",
    "    blabel : string\n",
    "        The colorbar label.\n",
    "    cmap : string\n",
    "        The name of the colormap.\n",
    "    '''\n",
    "    \n",
    "    cax = ax.imshow(img, vmin=vmin, vmax=vmax, origin='lower', cmap=cmap)\n",
    "    ax_divider = make_axes_locatable(ax)\n",
    "    cax1 = ax_divider.append_axes('right', size='3%', pad='2%')\n",
    "    cb = fig.colorbar(cax, cax=cax1)\n",
    "    cb.ax.set_ylabel(r'{0}'.format(blabel))\n",
    "    ax.set_xlabel(r'{0}'.format(xlabel))\n",
    "    ax.set_ylabel(r'{0}'.format(ylabel))\n",
    "    ax.set_title(r'{0}'.format(tlabel))\n",
    "    \n",
    "    return"
   ]
  },
  {
   "cell_type": "code",
   "execution_count": 8,
   "id": "593dbb73",
   "metadata": {},
   "outputs": [],
   "source": [
    "def imshow_cutouts(img, tab, id_sel, xlabel, ylabel, cmap):\n",
    "    '''\n",
    "    Function to show four cutouts from an image.\n",
    "    \n",
    "    Inputs\n",
    "    ----------\n",
    "    img : 2D numpy.ndarray\n",
    "        The input 2D array.\n",
    "    tab : Table\n",
    "        The table with at least (x,y,id) columns.\n",
    "    id_sel : array(int)\n",
    "        The ID of the sources in tab to show in the cutouts.\n",
    "    xlabel : string\n",
    "        The X-axis label.\n",
    "    ylabel : string\n",
    "        The Y-axis label.\n",
    "    cmap : string\n",
    "        The name of the colormap.\n",
    "    '''\n",
    "    \n",
    "    fig, ax = plt.subplots(2, 2)\n",
    "\n",
    "    x, y = tab['x'][tab['id'] == id_sel[0]], tab['y'][tab['id'] == id_sel[0]]\n",
    "    cutout = Cutout2D(img, (x, y), (51, 51))\n",
    "    ax[0, 0].imshow(cutout.data, vmin=-0.1, vmax=1.0, origin='lower', cmap=cmap)\n",
    "    ax[0, 0].scatter(cutout.input_position_cutout[0], cutout.input_position_cutout[1], lw=0.5, s=15, \n",
    "                     marker='o', edgecolors='deepskyblue', facecolors='none')\n",
    "    ax[0, 0].annotate(r'(x,y)$\\sim$({0},{1})'.format(int(x[0]), int(y[0])), xy=(0.5, 0.95), xycoords='axes fraction',\n",
    "                      horizontalalignment='center', verticalalignment='center')\n",
    "    ax[0, 0].set_xlabel(r'{0}'.format(xlabel))\n",
    "    ax[0, 0].set_ylabel(r'{0}'.format(ylabel))\n",
    "\n",
    "    x, y = tab['x'][tab['id'] == id_sel[1]], tab['y'][tab['id'] == id_sel[1]]\n",
    "    cutout = Cutout2D(img, (x, y), (51, 51))\n",
    "    ax[0, 1].imshow(cutout.data, vmin=-0.1, vmax=1.0, origin='lower', cmap=cmap)\n",
    "    ax[0, 1].scatter(cutout.input_position_cutout[0], cutout.input_position_cutout[1], lw=0.5, s=15, \n",
    "                     marker='o', edgecolors='deepskyblue', facecolors='none')\n",
    "    ax[0, 1].annotate(r'(x,y)$\\sim$({0},{1})'.format(int(x[0]), int(y[0])), xy=(0.5, 0.95), xycoords='axes fraction', \n",
    "                      horizontalalignment='center', verticalalignment='center')\n",
    "    ax[0, 1].set_xlabel(r'{0}'.format(xlabel))\n",
    "    ax[0, 1].set_ylabel(r'{0}'.format(ylabel))\n",
    "\n",
    "    x, y = tab['x'][tab['id'] == id_sel[2]], tab['y'][tab['id'] == id_sel[2]]\n",
    "    cutout = Cutout2D(img, (x, y), (51, 51))\n",
    "    ax[1, 0].imshow(cutout.data, vmin=-0.1, vmax=1.0, origin='lower', cmap=cmap)\n",
    "    ax[1, 0].scatter(cutout.input_position_cutout[0], cutout.input_position_cutout[1], lw=0.5, s=15, \n",
    "                     marker='o', edgecolors='deepskyblue', facecolors='none')\n",
    "    ax[1, 0].annotate(r'(x,y)$\\sim$({0},{1})'.format(int(x[0]), int(y[0])), xy=(0.5, 0.95), xycoords='axes fraction', \n",
    "                      horizontalalignment='center', verticalalignment='center')\n",
    "    ax[1, 0].set_xlabel(r'{0}'.format(xlabel))\n",
    "    ax[1, 0].set_ylabel(r'{0}'.format(ylabel))\n",
    "\n",
    "    x, y = tab['x'][tab['id'] == id_sel[3]], tab['y'][tab['id'] == id_sel[3]]\n",
    "    cutout = Cutout2D(img, (x, y), (51, 51))\n",
    "    ax[1, 1].imshow(cutout.data, vmin=-0.1, vmax=1.0, origin='lower', cmap=cmap)\n",
    "    ax[1, 1].scatter(cutout.input_position_cutout[0], cutout.input_position_cutout[1], lw=0.5, s=15, \n",
    "                     marker='o', edgecolors='deepskyblue', facecolors='none')\n",
    "    ax[1, 1].annotate(r'(x,y)$\\sim$({0},{1})'.format(int(x[0]), int(y[0])), xy=(0.5, 0.95), xycoords='axes fraction', \n",
    "                      horizontalalignment='center', verticalalignment='center')\n",
    "    ax[1, 1].set_xlabel(r'{0}'.format(xlabel))\n",
    "    ax[1, 1].set_ylabel(r'{0}'.format(ylabel))\n",
    "    \n",
    "    plt.tight_layout()\n",
    "    \n",
    "    return"
   ]
  },
  {
   "cell_type": "code",
   "execution_count": 9,
   "id": "1fc48d58",
   "metadata": {},
   "outputs": [],
   "source": [
    "def arcsec2pix(x):\n",
    "    '''\n",
    "    Function that converts arcsec in MIRIM pixels.\n",
    "    It is used to setup the secondary axes in a plot.\n",
    "    \n",
    "    Inputs\n",
    "    ----------\n",
    "    x : float or array(float)\n",
    "        The value in arcsec.\n",
    "        \n",
    "    Outputs\n",
    "    ----------\n",
    "    The value(s) in MIRIM pixel.\n",
    "    '''\n",
    "    \n",
    "    return x/0.11"
   ]
  },
  {
   "cell_type": "code",
   "execution_count": 10,
   "id": "758d84fb",
   "metadata": {},
   "outputs": [],
   "source": [
    "def pix2arcsec(x):\n",
    "    '''\n",
    "    Function that converts MIRIM pixels in arcsec.\n",
    "    It is used to setup the secondary axes in a plot.\n",
    "    \n",
    "    Inputs\n",
    "    ----------\n",
    "    x : float or array(float)\n",
    "        The value in MIRIM pixels.\n",
    "        \n",
    "    Outputs\n",
    "    ----------\n",
    "    The value(s) in arcsec.\n",
    "    '''\n",
    "    \n",
    "    return x*0.11"
   ]
  },
  {
   "cell_type": "markdown",
   "id": "1b87bbda",
   "metadata": {},
   "source": [
    "These last three functions will be used to speed-up the exercise."
   ]
  },
  {
   "cell_type": "code",
   "execution_count": 11,
   "id": "feaa6e3c",
   "metadata": {},
   "outputs": [],
   "source": [
    "def prepare_image(img_name):\n",
    "    '''\n",
    "    Function that reads one image, flag all pixels with DQ flags different \n",
    "    from [0, 2, 4, 6] and adds a random background gradient.\n",
    "    To be used in the exercise.\n",
    "    \n",
    "    Inputs\n",
    "    ----------\n",
    "    img_name : string\n",
    "        The name of the image.\n",
    "        \n",
    "    Outputs\n",
    "    ----------\n",
    "    img : ImageModel\n",
    "        The data model of the image.\n",
    "    img_mod : 2D numpy.ndarray\n",
    "        The image data with the additional random background gradient.\n",
    "    '''\n",
    "    \n",
    "    img = datamodels.open(img_name)\n",
    "    ok = np.zeros(img.data.shape, dtype='int')\n",
    "    for v in [0, 2, 4, 6]:\n",
    "        ok = ok + np.where(img.dq == v, 1, 0)\n",
    "\n",
    "    img.data[ok == 0] = np.nan\n",
    "    \n",
    "    x = np.linspace(0, 1, img.meta.subarray.xsize)\n",
    "    y = np.linspace(0, 1, img.meta.subarray.ysize)\n",
    "    X, Y = np.meshgrid(x, y)\n",
    "    if (np.random.rand(1) > 0.5):\n",
    "        sx = +1\n",
    "    else:\n",
    "        sx = -1\n",
    "    if (np.random.rand(1) > 0.5):\n",
    "        sy = +1\n",
    "    else:\n",
    "        sy = -1\n",
    "    Z = (10*(np.random.rand(1)-0.5))*np.exp(sx*X/(4+2*(np.random.rand(1)-0.5)))*np.exp(sy*Y/(4+4*(np.random.rand(1)-0.5)))\n",
    "    \n",
    "    img_mod = img.data.copy() + Z\n",
    "    \n",
    "    _, sky_med, sky_sig = sigma_clipped_stats(img_mod[np.isfinite(img_mod)], sigma=5.0, maxiters=5)\n",
    "    \n",
    "    print('')\n",
    "    print(r' Suggested min value: {0}'.format(sky_med-sky_sig))\n",
    "    print(r' Suggested max value: {0}'.format(sky_med+sky_sig))\n",
    "    print('')\n",
    "\n",
    "    cmin = sky_med-sky_sig\n",
    "    cmax = sky_med+sky_sig\n",
    "    \n",
    "    return img, img_mod, cmin, cmax"
   ]
  },
  {
   "cell_type": "code",
   "execution_count": 12,
   "id": "0bb163fe",
   "metadata": {},
   "outputs": [],
   "source": [
    "def prepare_table(img, xy_tmp, aperture_radius, sky, flux, rad_label):\n",
    "    '''\n",
    "    Function that performs additional steps discussed in the notebook.\n",
    "    To be used in the exercise.\n",
    "    \n",
    "    Inputs\n",
    "    ----------\n",
    "    img : ImageModel\n",
    "        The data model of the image.\n",
    "    xy_tmp : Table\n",
    "        The table created by DAOStarFinder with the sources detected\n",
    "        in the image.\n",
    "    aperture_radius : float\n",
    "        The aperture radius used for the aperture photometry.\n",
    "    sky : array(float)\n",
    "        The array with the local sky background for each source.\n",
    "    flux : array(float)\n",
    "        The array with the sky-subtracted flux for each source.\n",
    "    rad_label : string\n",
    "        The label for the photometry in the Table.\n",
    "        \n",
    "    Outputs\n",
    "    ----------\n",
    "    aperture_table : Table\n",
    "        The final astro-photometric table.\n",
    "    '''\n",
    "    \n",
    "    aperture_table = Table()\n",
    "\n",
    "    aperture_table['x'] = xy_tmp['xcentroid']\n",
    "    aperture_table['y'] = xy_tmp['ycentroid']\n",
    "    aperture_table['sharpness'] = xy_tmp['sharpness']\n",
    "    aperture_table['roundness1'] = xy_tmp['roundness1']\n",
    "    aperture_table['roundness2'] = xy_tmp['roundness2']\n",
    "\n",
    "    aperture_table['id'] = xy_tmp['id']\n",
    "    \n",
    "    aperture_table['local_sky_' + rad_label] = sky\n",
    "    aperture_table['aperture_' + rad_label + '_skysub'] = flux\n",
    "    \n",
    "    keep_good = np.logical_and(np.isfinite(aperture_table['aperture_' + rad_label + '_skysub']), \n",
    "                               aperture_table['aperture_' + rad_label + '_skysub'] > 0.)\n",
    "    aperture_table = aperture_table[keep_good]\n",
    "        \n",
    "    aperture_table['mag_' + rad_label] = -2.5*np.log10(aperture_table['aperture_' + rad_label + '_skysub'])\n",
    "\n",
    "    aperture_table['flag_' + rad_label] = np.zeros(len(aperture_table), dtype=int)\n",
    "    for s in aperture_table:\n",
    "        jmin = max(1, int(np.floor(s['y']-aperture_radius)))\n",
    "        jmax = min(round(s['y']+aperture_radius)+1, img.shape[0])\n",
    "        imin = max(1, int(np.floor(s['x']-aperture_radius)))\n",
    "        imax = min(round(s['x']+aperture_radius)+1, img.shape[1])\n",
    "        if (np.sum(img.dq[jmin:jmax, imin:imax] == 6) > 0):\n",
    "            s['flag_' + rad_label] = 6\n",
    "        elif (np.sum(img.dq[jmin:jmax, imin:imax] == 2) > 0):\n",
    "            s['flag_' + rad_label] = 2\n",
    "        elif (np.sum(img.dq[jmin:jmax, imin:imax] == 4) > 0):\n",
    "            s['flag_' + rad_label] = 4       \n",
    "\n",
    "    aperture_table['ra'] = aperture_table['x']\n",
    "    aperture_table['dec'] = aperture_table['y']\n",
    "    for a in aperture_table:\n",
    "        rd = img.meta.wcs.transform(\"detector\", \"world\", a['x'], a['y'])    \n",
    "        a['ra'] = rd[0]\n",
    "        if (a['ra'] > 180):\n",
    "            a['ra'] -= 360.0\n",
    "        a['dec'] = rd[1]\n",
    "        \n",
    "    return aperture_table"
   ]
  },
  {
   "cell_type": "code",
   "execution_count": 13,
   "id": "9f28926d",
   "metadata": {},
   "outputs": [],
   "source": [
    "def prepare_phot_cal(cat_name, tmp, sel_radius):\n",
    "    '''\n",
    "    Function that cross-matches two catalogs and plot the positional residuals.\n",
    "    To be used in the exercise.\n",
    "    \n",
    "    Inputs\n",
    "    ----------\n",
    "    cat_name : string\n",
    "        The name of the pipeline source catalog\n",
    "    tmp : Table\n",
    "        The astro-photometric table.\n",
    "    sel_radius : float\n",
    "        The radius for the positional-residual selection in arcsec.\n",
    "        \n",
    "    Outputs\n",
    "    ----------\n",
    "    calib_cat : Table\n",
    "        The pipeline source catalog.\n",
    "    ind_i2d_cat: array(int)\n",
    "        The array with the indexes from match_sky_coordinates.\n",
    "    dist_2d: array(float)\n",
    "        The array with the 2D distances from match_sky_coordinates.\n",
    "    '''\n",
    "    \n",
    "    calib_cat = Table.read(cat_name)\n",
    "\n",
    "    coord_cal = SkyCoord(ra=tmp['ra'], dec=tmp['dec'], unit=\"deg\")\n",
    "    coord_i2d = SkyCoord(ra=calib_cat['sky_centroid'].ra.degree, dec=calib_cat['sky_centroid'].dec.degree, unit=\"deg\")\n",
    "    ind_i2d_cat, dist_2d, a = match_coordinates_sky(coord_cal, coord_i2d)\n",
    "\n",
    "    delta_ra = 3600.0*(tmp['ra']*np.cos(np.deg2rad(tmp['dec'])) - \n",
    "                       calib_cat[ind_i2d_cat]['sky_centroid'].ra.degree * \n",
    "                       np.cos(np.deg2rad(calib_cat[ind_i2d_cat]['sky_centroid'].dec.degree)))\n",
    "\n",
    "    delta_dec = 3600.0*(tmp['dec']-calib_cat[ind_i2d_cat]['sky_centroid'].dec.degree)\n",
    "\n",
    "    fig, ax = plt.subplots()\n",
    "    ax.scatter(delta_ra, delta_dec, lw=0.5, s=5, color='black', marker='o')\n",
    "    circle = plt.Circle((0, 0), sel_radius, color='r', fill=False)\n",
    "    ax.add_patch(circle)\n",
    "    ax.set_xlim(-0.5, 0.5)\n",
    "    ax.set_ylim(-0.5, 0.5)\n",
    "    ax.axhline(0, color='red', ls='--')\n",
    "    ax.axvline(0, color='red', ls='--')\n",
    "    ax.set_aspect('equal', 'box')\n",
    "    ax.set_xlabel(r'$\\Delta\\textrm{(R.A.}\\cos\\textrm{Dec.) [arcsec]}$')\n",
    "    ax.set_ylabel(r'$\\Delta\\textrm{Dec. [arcsec]}$')\n",
    "\n",
    "    ax2 = ax.secondary_xaxis('top', functions=(arcsec2pix, pix2arcsec))\n",
    "    ax2.set_xlabel(r'$\\Delta\\textrm{(R.A.}\\cos\\textrm{Dec.) [MIRIM pixel]}$')\n",
    "    ay2 = ax.secondary_yaxis('right', functions=(arcsec2pix, pix2arcsec))\n",
    "    ay2.set_ylabel(r'$\\Delta\\textrm{Dec. [MIRIM pixel]}$')\n",
    "\n",
    "    plt.tight_layout()\n",
    "\n",
    "    return calib_cat, ind_i2d_cat, dist_2d"
   ]
  },
  {
   "cell_type": "markdown",
   "id": "45611278",
   "metadata": {},
   "source": [
    "We adopted as Background estimator the function [MMMBackground](https://photutils.readthedocs.io/en/stable/api/photutils.background.MMMBackground.html#photutils.background.MMMBackground), which calculates the background in an array using the DAOPHOT MMM algorithm, on the whole image (The background is calculated using a mode estimator of the form `(3 * median) - (2 * mean)`). \n",
    "\n",
    "When dealing with a variable background and/or the need to mask the regions where we have no data (for example, if we are analyzing an image with all the 4 NIRCam SW detectors, i.e. containing the chip gaps), we can set `var_bkg = True` and use a more complex algorithm that takes into account those issues."
   ]
  },
  {
   "cell_type": "code",
   "execution_count": 14,
   "id": "ff91abd7",
   "metadata": {},
   "outputs": [],
   "source": [
    "def calc_bkg(var_bkg=False):\n",
    "    \n",
    "    bkgrms = MADStdBackgroundRMS()\n",
    "    mmm_bkg = MMMBackground()\n",
    "    im = fits.open(dict_images[det][filt]['images'][0])\n",
    "\n",
    "    if var_bkg:\n",
    "        print('Using 2D Background')\n",
    "        sigma_clip = SigmaClip(sigma=3.0, maxiters=10)\n",
    "        #coverage_mask = (data == 0)\n",
    "        \n",
    "        # Mask all nan or inf pixels\n",
    "        coverage_mask = np.full(np.shape(im[1].data), False, dtype=bool)\n",
    "        coverage_mask[np.isnan(im[1].data)] = True\n",
    "        coverage_mask[~np.isfinite(im[1].data)] = True\n",
    "\n",
    "        bkg = Background2D(data, (20, 20), filter_size=(30, 30), sigma_clip=sigma_clip, bkg_estimator=mmm_bkg,\n",
    "                           coverage_mask=coverage_mask, fill_value=0.0)\n",
    "\n",
    "        data_bkgsub = data.copy()\n",
    "        data_bkgsub = data_bkgsub - bkg.background\n",
    "\n",
    "        #_, _, std = sigma_clipped_stats(data_bkgsub)\n",
    "        std = bkg.background_rms_median\n",
    "\n",
    "    else:\n",
    "\n",
    "        std = bkgrms(data)\n",
    "        bkg = mmm_bkg(data)\n",
    "\n",
    "        data_bkgsub = data.copy()\n",
    "        data_bkgsub -= bkg\n",
    "\n",
    "    return data_bkgsub, std"
   ]
  },
  {
   "cell_type": "markdown",
   "id": "3c7f81bd",
   "metadata": {},
   "source": [
    "3.<font color='white'>-</font>Import images to analyze<a class=\"anchor\" id=\"data\"></a>\n",
    "------------------"
   ]
  },
  {
   "cell_type": "markdown",
   "id": "03becf42",
   "metadata": {},
   "source": [
    "We load all the images and we create a dictionary that contains all of them, divided by detectors and filters. This is useful to check which detectors and filters are available and to decide if we want to perform the photometry on all of them or only on a subset.\n",
    "\n",
    "We retrieve the MIRI detector and filter from the image header."
   ]
  },
  {
   "cell_type": "code",
   "execution_count": 15,
   "id": "8105d222",
   "metadata": {},
   "outputs": [
    {
     "name": "stdout",
     "output_type": "stream",
     "text": [
      "\n",
      " Images and catalogs should be already in './data/'. If not, delete the folder and run this cell again.\n",
      "\n"
     ]
    }
   ],
   "source": [
    "folder_path = './data/'\n",
    "\n",
    "if (folder_path == './'):\n",
    "    print('')\n",
    "    print(' Please set another folder that is not the main folder.')\n",
    "    print('')\n",
    "    pass\n",
    "elif os.path.isdir(folder_path):\n",
    "    print('')\n",
    "    print(' Images and catalogs should be already in \\'' + folder_path + \n",
    "          '\\'. If not, delete the folder and run this cell again.')\n",
    "    print('')\n",
    "    pass\n",
    "elif (os.path.isfile('./stage2-selected.zip') and \n",
    "      os.path.isfile('./stage3-selected.zip')):\n",
    "    # Extract both zip files if they are present\n",
    "    boxfile = './stage2-selected.zip'\n",
    "    with zipfile.ZipFile(boxfile) as zf:\n",
    "        zf.extractall(folder_path)        \n",
    "    boxfile = './stage3-selected.zip'\n",
    "    with zipfile.ZipFile(boxfile) as zf:\n",
    "        zf.extractall(folder_path)\n",
    "else:\n",
    "    # Download the data and extract both zip files\n",
    "    boxlink = 'https://stsci.box.com/shared/static/8pjjn8nnaf1d1mev98ca9kc6mss7prmt.zip'\n",
    "    boxfile = 'stage2-selected.zip'\n",
    "    urllib.request.urlretrieve(boxlink, boxfile)\n",
    "    boxlink = 'https://stsci.box.com/shared/static/qstpome9vb95ay6aqlgvk0wvlku9ihay.zip'\n",
    "    boxfile = 'stage3-selected.zip'\n",
    "    urllib.request.urlretrieve(boxlink, boxfile)\n",
    "    # Extract both zip files\n",
    "    boxfile = './stage2-selected.zip'\n",
    "    with zipfile.ZipFile(boxfile) as zf:\n",
    "        zf.extractall(folder_path)        \n",
    "    boxfile = './stage3-selected.zip'\n",
    "    with zipfile.ZipFile(boxfile) as zf:\n",
    "        zf.extractall(folder_path)"
   ]
  },
  {
   "cell_type": "code",
   "execution_count": 16,
   "id": "6bd572fd",
   "metadata": {},
   "outputs": [
    {
     "name": "stdout",
     "output_type": "stream",
     "text": [
      "\n",
      "F560W-filter images:\n",
      "     1) ./data/det_image_seq1_MIRIMAGE_F560Wexp1_cal.fits\n",
      "     2) ./data/det_image_seq2_MIRIMAGE_F560Wexp1_cal.fits\n",
      "     3) ./data/det_image_seq3_MIRIMAGE_F560Wexp1_cal.fits\n",
      "     4) ./data/det_image_seq4_MIRIMAGE_F560Wexp1_cal.fits\n",
      "\n",
      "1 catalog found: ./data/complex_scene_F560W_combined_cat.ecsv\n",
      "\n",
      "F770W-filter images:\n",
      "     1) ./data/det_image_seq1_MIRIMAGE_F770Wexp1_cal.fits\n",
      "     2) ./data/det_image_seq2_MIRIMAGE_F770Wexp1_cal.fits\n",
      "     3) ./data/det_image_seq3_MIRIMAGE_F770Wexp1_cal.fits\n",
      "     4) ./data/det_image_seq4_MIRIMAGE_F770Wexp1_cal.fits\n",
      "\n",
      "1 catalog found: ./data/complex_scene_F770W_combined_cat.ecsv\n"
     ]
    }
   ],
   "source": [
    "filter_names = ['F560W', 'F770W']\n",
    "\n",
    "img_names = {}\n",
    "cat_names = {}\n",
    "for f in filter_names:\n",
    "    print('')\n",
    "    print(r'{0}-filter images:'.format(f))\n",
    "    names = glob.glob(folder_path + 'det_*' + f + '*_cal.fits')\n",
    "    for n in range(len(names)):\n",
    "        print(r'     {0}) {1}'.format(n+1, names[n]))\n",
    "    img_names[f] = names\n",
    "    names = glob.glob(folder_path + 'complex_*' + f + '*cat*.ecsv')\n",
    "    cat_names[f] = names\n",
    "    print('')\n",
    "    print(r'1 catalog found: {0}'.format(names[0]))"
   ]
  },
  {
   "cell_type": "markdown",
   "id": "c27cf3db",
   "metadata": {},
   "source": [
    "**Note**: in this particular example, we analyze each image separately to provide a general overview of the different steps necessary to perform PSF photometry and to highlight the different functions adopted in this notebook."
   ]
  },
  {
   "cell_type": "markdown",
   "id": "6d2e034c",
   "metadata": {},
   "source": [
    "4.<font color='white'>-</font>Bonus part I: create your first NIRCam Color-Magnitude Diagram<a class=\"anchor\" id=\"bonusI\"></a>\n",
    "------------------"
   ]
  },
  {
   "cell_type": "markdown",
   "id": "58259625",
   "metadata": {},
   "source": [
    "### 4.1<font color='white'>-</font>Load images and output catalogs<a class=\"anchor\" id=\"load_data\"></a> ###"
   ]
  },
  {
   "cell_type": "code",
   "execution_count": 17,
   "id": "c5440b51",
   "metadata": {},
   "outputs": [],
   "source": [
    "if os.path.isfile('./PHOT_OUTPUT/phot_MIRIM_F560W.pkl'):\n",
    "    phot_f560w = './PHOT_OUTPUT/phot_MIRIM_F560W.pkl'\n",
    "\n",
    "#else:\n",
    "#    print('Downloading F115W PSF photometry')\n",
    "#    \n",
    "#    boxlink_ph_f115w = 'https://stsci.box.com/shared/static/f4s4ziwh7tb3827g0ac362swwta28lti.pkl'\n",
    "#    boxfile_ph_f115w = './phot_webbpsf_grid16_NRCB1_F115W.pkl'\n",
    "#    urllib.request.urlretrieve(boxlink_ph_f115w, boxfile_ph_f115w)\n",
    "#    phot_f115w = boxfile_ph_f115w\n",
    "#\n",
    "if os.path.isfile('./PHOT_OUTPUT/phot_MIRIM_F770W.pkl'):\n",
    "    phot_f770w = './PHOT_OUTPUT/phot_MIRIM_F770W.pkl'\n",
    "\n",
    "#else:\n",
    "#    print('Downloading F200W PSF Photometry')\n",
    "#    \n",
    "#    boxlink_ph_f200w = 'https://stsci.box.com/shared/static/983dxnxqz594ogn00e6m7ek7vq22gifr.pkl'\n",
    "#    boxfile_ph_f200w = './phot_webbpsf_grid16_NRCB1_F200W.pkl'\n",
    "#    urllib.request.urlretrieve(boxlink_ph_f200w, boxfile_ph_f200w)\n",
    "#    phot_f200w = boxfile_ph_f200w\n",
    "\n",
    "ph_f560w = pd.read_pickle(phot_f560w)\n",
    "ph_f770w = pd.read_pickle(phot_f770w)\n",
    "\n",
    "results_f560w = QTable.from_pandas(ph_f560w)\n",
    "results_f770w = QTable.from_pandas(ph_f770w)\n",
    "\n",
    "image_f560w = ImageModel('./data/det_image_seq1_MIRIMAGE_F560Wexp1_cal.fits')\n",
    "image_f770w = ImageModel('./data/det_image_seq1_MIRIMAGE_F770Wexp1_cal.fits')"
   ]
  },
  {
   "cell_type": "code",
   "execution_count": 18,
   "id": "9547706d",
   "metadata": {},
   "outputs": [],
   "source": [
    "if os.path.isfile('./PHOT_OUTPUT/phot_MIRIM_F770W.pkl'):\n",
    "    phot_f770w = './PHOT_OUTPUT/phot_MIRIM_F770W.pkl'\n",
    "\n",
    "ph_f770w = pd.read_pickle(phot_f770w)\n",
    "results_f770w = QTable.from_pandas(ph_f770w)\n",
    "image_f770w = ImageModel('./data/det_image_seq1_MIRIMAGE_F770Wexp1_cal.fits')"
   ]
  },
  {
   "cell_type": "markdown",
   "id": "72643e44",
   "metadata": {},
   "source": [
    "### 4.2<font color='white'>-</font>Cross-match PSF photometry catalogs<a class=\"anchor\" id=\"cross_match\"></a> ###"
   ]
  },
  {
   "cell_type": "markdown",
   "id": "003f1010",
   "metadata": {},
   "source": [
    "We select only stars with positive flux and we use the information from the image WCS to transform detector coordinates (x,y) to celestial coordinate (RA,Dec). \n",
    "\n",
    "We use the [SkyCoord](https://docs.astropy.org/en/stable/api/astropy.coordinates.SkyCoord.html) class and the [match_coordinates_sky](https://docs.astropy.org/en/stable/api/astropy.coordinates.match_coordinates_sky.html) function to finds the nearest on-sky matches between the set of catalog coordinates.\n",
    "\n",
    "We impose that a star is the same in both catalogs if the separation is < than `max_sep`, where `max_sep` is 0.015 arcsec (i.e., 0.5 px). "
   ]
  },
  {
   "cell_type": "code",
   "execution_count": 19,
   "id": "68410f33",
   "metadata": {},
   "outputs": [],
   "source": [
    "mask_f560w = ((results_f560w['x_fit'] > 0) & (results_f560w['x_fit'] < 2048) & \n",
    "              (results_f560w['y_fit'] > 0) & (results_f560w['y_fit'] < 2048) & \n",
    "              (results_f560w['flux_fit'] > 0))\n",
    "\n",
    "result_clean_f560w = results_f560w[mask_f560w]\n",
    "\n",
    "ra_f560w, dec_f560w = image_f560w.meta.wcs(result_clean_f560w['x_fit'], result_clean_f560w['y_fit'])\n",
    "radec_f560w = SkyCoord(ra_f560w, dec_f560w, unit='deg')\n",
    "result_clean_f560w['radec'] = radec_f560w\n",
    "\n",
    "mask_f770w = ((results_f770w['x_fit'] > 0) & (results_f770w['x_fit'] < 2048) & \n",
    "              (results_f770w['y_fit'] > 0) & (results_f770w['y_fit'] < 2048) & \n",
    "              (results_f770w['flux_fit'] > 0))\n",
    "\n",
    "result_clean_f770w = results_f770w[mask_f770w]\n",
    "\n",
    "ra_f770w, dec_f770w = image_f770w.meta.wcs(result_clean_f770w['x_fit'], result_clean_f770w['y_fit'])\n",
    "radec_f770w = SkyCoord(ra_f770w, dec_f770w, unit='deg')\n",
    "result_clean_f770w['radec'] = radec_f770w"
   ]
  },
  {
   "cell_type": "code",
   "execution_count": 20,
   "id": "3c586bf2",
   "metadata": {},
   "outputs": [],
   "source": [
    "#Clean up array with NANs\n",
    "\n",
    "res1 = result_clean_f560w\n",
    "res2 = result_clean_f770w\n",
    "\n",
    "clean1 = (~np.isnan(res1['radec'].ra) & ~np.isnan(res1['radec'].dec))\n",
    "res1 = res1[clean1]\n",
    "\n",
    "clean2 = (~np.isnan(res2['radec'].ra) & ~np.isnan(res2['radec'].dec))\n",
    "res2 = res2[clean2]"
   ]
  },
  {
   "cell_type": "code",
   "execution_count": 21,
   "id": "b3472fe9",
   "metadata": {},
   "outputs": [
    {
     "name": "stdout",
     "output_type": "stream",
     "text": [
      "Number of sources in common between the two filters: 706\n"
     ]
    }
   ],
   "source": [
    "max_sep = 0.12 * u.arcsec #1/2 FWHM https://jwst-docs.stsci.edu/jwst-mid-infrared-instrument/miri-predicted-performance/miri-point-spread-functions\n",
    "\n",
    "filt1 = 'F560W'\n",
    "filt2 = 'F770W'\n",
    "\n",
    "#res1 = result_clean_f560w\n",
    "#res2 = result_clean_f770w\n",
    "\n",
    "idx, d2d, _ = match_coordinates_sky(res1['radec'], res2['radec'])\n",
    "\n",
    "sep_constraint = d2d < max_sep\n",
    "\n",
    "match_phot_single = Table()\n",
    "\n",
    "x_0_F560W = res1['x_0'][sep_constraint]\n",
    "y_0_F560W = res1['y_0'][sep_constraint]\n",
    "x_fit_F560W = res1['x_fit'][sep_constraint]\n",
    "y_fit_F560W = res1['y_fit'][sep_constraint]\n",
    "radec_F560W = res1['radec'][sep_constraint]\n",
    "mag_F560W = (-2.5 * np.log10(res1['flux_fit']))[sep_constraint]\n",
    "emag_F560W = (1.086 * (res1['flux_unc'] / res1['flux_fit']))[sep_constraint]\n",
    "\n",
    "x_0_F770W = res2['x_0'][idx[sep_constraint]]\n",
    "y_0_F770W = res2['y_0'][idx[sep_constraint]]\n",
    "x_fit_F770W = res2['x_fit'][idx[sep_constraint]]\n",
    "y_fit_F770W = res2['y_fit'][idx[sep_constraint]]\n",
    "radec_F770W = res2['radec'][idx][sep_constraint]\n",
    "mag_F770W = (-2.5 * np.log10(res2['flux_fit']))[idx[sep_constraint]]\n",
    "emag_F770W = (1.086 * (res2['flux_unc'] / res2['flux_fit']))[idx[sep_constraint]]\n",
    "\n",
    "match_phot_single['x_0_' + filt1] = x_0_F560W\n",
    "match_phot_single['y_0_' + filt1] = y_0_F560W\n",
    "match_phot_single['x_fit_' + filt1] = x_fit_F560W\n",
    "match_phot_single['y_fit_' + filt1] = y_fit_F560W\n",
    "match_phot_single['radec_' + filt1] = radec_F560W\n",
    "match_phot_single['mag_' + filt1] = mag_F560W\n",
    "match_phot_single['emag_' + filt1] = emag_F560W\n",
    "match_phot_single['x_0_' + filt2] = x_0_F770W\n",
    "match_phot_single['y_0_' + filt2] = y_0_F770W\n",
    "match_phot_single['x_fit_' + filt2] = x_fit_F770W\n",
    "match_phot_single['y_fit_' + filt2] = y_fit_F770W\n",
    "match_phot_single['radec_' + filt2] = radec_F770W\n",
    "match_phot_single['mag_' + filt2] = mag_F770W\n",
    "match_phot_single['emag_' + filt2] = emag_F770W\n",
    "\n",
    "print('Number of sources in common between the two filters:', len(match_phot_single)) "
   ]
  },
  {
   "cell_type": "code",
   "execution_count": 22,
   "id": "57c48737",
   "metadata": {},
   "outputs": [
    {
     "data": {
      "text/html": [
       "<div><i>Table length=706</i>\n",
       "<table id=\"table140415647254176\" class=\"table-striped table-bordered table-condensed\">\n",
       "<thead><tr><th>x_0_F560W</th><th>y_0_F560W</th><th>x_fit_F560W</th><th>y_fit_F560W</th><th>radec_F560W</th><th>mag_F560W</th><th>emag_F560W</th><th>x_0_F770W</th><th>y_0_F770W</th><th>x_fit_F770W</th><th>y_fit_F770W</th><th>radec_F770W</th><th>mag_F770W</th><th>emag_F770W</th></tr></thead>\n",
       "<thead><tr><th></th><th></th><th></th><th></th><th>deg,deg</th><th></th><th></th><th></th><th></th><th></th><th></th><th>deg,deg</th><th></th><th></th></tr></thead>\n",
       "<thead><tr><th>float64</th><th>float64</th><th>float64</th><th>float64</th><th>SkyCoord</th><th>float64</th><th>float64</th><th>float64</th><th>float64</th><th>float64</th><th>float64</th><th>SkyCoord</th><th>float64</th><th>float64</th></tr></thead>\n",
       "<tr><td>676.5836963370951</td><td>9.163241766911698</td><td>676.4546046398015</td><td>9.147036843046363</td><td>359.99881347808474,-0.0142246806286258</td><td>-4.859256690627658</td><td>0.008508557926257636</td><td>676.5243349522477</td><td>9.15484675990388</td><td>676.4675334495275</td><td>9.162998693822278</td><td>359.99881310307705,-0.014224215625015088</td><td>-4.953793789583706</td><td>0.008882553005573508</td></tr>\n",
       "<tr><td>459.61327571403046</td><td>9.691173024376367</td><td>459.464441977234</td><td>9.739776809951865</td><td>0.005475035047110425,-0.014752860018502113</td><td>-3.595695421645197</td><td>0.018931439730069194</td><td>459.4762816114261</td><td>9.795935753361606</td><td>459.43635577258465</td><td>9.826569116299346</td><td>0.0054760980043344785,-0.01475038249001616</td><td>-3.696745429500949</td><td>0.02075013622915316</td></tr>\n",
       "<tr><td>597.8626249117399</td><td>10.034624536597038</td><td>597.894396596936</td><td>10.027645918187705</td><td>0.0012269049077701037,-0.014397469441252735</td><td>-3.1146429045060002</td><td>0.03706762435576774</td><td>597.8898784469578</td><td>10.054531083769998</td><td>597.8888919071433</td><td>10.07349339203724</td><td>0.0012271709099592198,-0.01439615747371711</td><td>-3.2242945072114293</td><td>0.029850913838478974</td></tr>\n",
       "<tr><td>990.3551135064819</td><td>11.901355690484671</td><td>990.5345989162972</td><td>11.893315428312327</td><td>359.9891883008369,-0.01332727558814326</td><td>-4.735568058884589</td><td>0.010076875990504034</td><td>990.4594774381685</td><td>11.904682642655347</td><td>990.5352806682773</td><td>11.899160735039063</td><td>359.9891882776645,-0.013327146667545585</td><td>-4.8385776202727016</td><td>0.014151562590717712</td></tr>\n",
       "<tr><td>650.2394456591585</td><td>13.774594833196794</td><td>650.5024647189177</td><td>13.802457180676718</td><td>359.9996216747616,-0.014151401262825958</td><td>-2.374334948997282</td><td>0.06770275771522398</td><td>650.367880808552</td><td>14.002319640670795</td><td>650.3510028704578</td><td>13.944152769970978</td><td>359.99962666145393,-0.014147589980126198</td><td>-2.4933310147289545</td><td>0.0857758977986735</td></tr>\n",
       "<tr><td>616.443628285548</td><td>16.52481712010206</td><td>616.3815340781656</td><td>16.430927965133485</td><td>0.000675565725669759,-0.014159142354816929</td><td>-5.972861619964418</td><td>0.022650544144026254</td><td>616.3877403673312</td><td>16.467049161661773</td><td>616.3797923609416</td><td>16.439825710137388</td><td>0.0006756235179246214,-0.01415892432192637</td><td>-6.97728518645615</td><td>0.021605622532912132</td></tr>\n",
       "<tr><td>984.423366673339</td><td>23.314763264579</td><td>984.3633889837538</td><td>23.24894151842949</td><td>359.9894053534218,-0.01300578439931172</td><td>-3.9880138889537298</td><td>0.28041919717494956</td><td>984.3708703080727</td><td>23.250009041379418</td><td>984.3632313010735</td><td>23.231017598067535</td><td>359.98940529776,-0.013006362980885292</td><td>-5.036916409877382</td><td>0.006393506029643321</td></tr>\n",
       "<tr><td>755.2438631841759</td><td>19.83549756822631</td><td>755.2434310055637</td><td>19.847636586642725</td><td>359.99642250767675,-0.013703346594429169</td><td>-2.062889695414648</td><td>0.07412953343060391</td><td>755.2859174700149</td><td>20.112632556774187</td><td>755.285635652719</td><td>20.11422546138254</td><td>359.99642186386535,-0.013695306637912729</td><td>-2.0815096891547498</td><td>0.0795793770009443</td></tr>\n",
       "<tr><td>942.5887594431498</td><td>20.0193000258344</td><td>942.6858548446211</td><td>19.995376553314227</td><td>359.9906744173347,-0.013212545564767555</td><td>-2.7139447766402847</td><td>0.019832885726064606</td><td>942.7141542428669</td><td>20.10291870521263</td><td>942.7613630303636</td><td>20.11949645732494</td><td>359.9906723942702,-0.013208692831224899</td><td>-2.8022447264448584</td><td>0.045282833755964924</td></tr>\n",
       "<tr><td>466.7420356541888</td><td>22.399993373776173</td><td>466.7775629122002</td><td>22.336715631662575</td><td>0.005282341900032572,-0.014357525062408248</td><td>-6.704550393852834</td><td>0.004626911590725853</td><td>466.7653279696063</td><td>22.350311880320703</td><td>466.7768351435176</td><td>22.334738519266622</td><td>0.005282341788716029,-0.014357631533819536</td><td>-6.747922136145769</td><td>0.004657661750647784</td></tr>\n",
       "<tr><td>525.3621671591897</td><td>22.035861631907498</td><td>525.303510231286</td><td>22.035535990355555</td><td>0.003485270692461933,-0.014220399520816418</td><td>-3.3019878213176157</td><td>0.02203870365913224</td><td>525.3860003653036</td><td>22.05357397917481</td><td>525.386783310793</td><td>22.0099837121907</td><td>0.003482632538668991,-0.014221000798808463</td><td>-3.285660014893786</td><td>0.029139169544672532</td></tr>\n",
       "<tr><td>664.5224326314383</td><td>23.576163544406988</td><td>664.4212001975784</td><td>23.450913386995296</td><td>359.99921874852316,-0.013827204199300027</td><td>-4.696775278691633</td><td>0.007717532390391319</td><td>664.4228266076709</td><td>23.502677437026616</td><td>664.4009523703523</td><td>23.45435330777915</td><td>359.9992193608193,-0.013827194530145621</td><td>-4.7851960734558405</td><td>0.0474958819979501</td></tr>\n",
       "<tr><td>424.56494028851876</td><td>26.644821210582144</td><td>424.44923869453993</td><td>26.496649886849298</td><td>0.006591857901875259,-0.014338037399040259</td><td>-2.697351976949645</td><td>0.04167164034042655</td><td>424.4870027010285</td><td>26.525891833325886</td><td>424.44191594532396</td><td>26.493049992855042</td><td>0.00659205642835193,-0.014338209108523556</td><td>-2.7561632659592616</td><td>0.038131675097519344</td></tr>\n",
       "<tr><td>589.5283650003598</td><td>26.008251624543433</td><td>589.4215999465695</td><td>25.98596132583908</td><td>0.0015271575056790936,-0.01394091063676106</td><td>-3.0584321559519334</td><td>0.044378722356694426</td><td>589.4628728916219</td><td>25.99349653498567</td><td>589.4297579567309</td><td>26.005850888201216</td><td>0.0015269394845233307,-0.013940335849199216</td><td>-3.197316185417327</td><td>0.09317786438014856</td></tr>\n",
       "<tr><td>...</td><td>...</td><td>...</td><td>...</td><td>...</td><td>...</td><td>...</td><td>...</td><td>...</td><td>...</td><td>...</td><td>...</td><td>...</td><td>...</td></tr>\n",
       "<tr><td>518.5486932207384</td><td>982.3546115719695</td><td>518.5986521581518</td><td>982.8124914982604</td><td>0.006177637781452918,0.015162781701018889</td><td>-2.7531724091737573</td><td>--</td><td>518.8307659362266</td><td>982.6584157782543</td><td>518.7342556093647</td><td>982.8367675057791</td><td>0.006173606719768585,0.015163845357975545</td><td>-4.053979508599111</td><td>--</td></tr>\n",
       "<tr><td>522.524303430946</td><td>984.9485161121607</td><td>522.6400234714755</td><td>984.5093852917965</td><td>0.006059523780280018,0.01522456677818937</td><td>-3.390028680751207</td><td>--</td><td>523.409932751088</td><td>985.0516144591483</td><td>523.5413124235372</td><td>984.8502953244149</td><td>0.006033102808505154,0.015237186111389616</td><td>-4.130391504500523</td><td>--</td></tr>\n",
       "<tr><td>116.31317720348274</td><td>1001.4825532913638</td><td>116.31317720348274</td><td>1001.4825532913638</td><td>0.018416336058359795,0.014673746321152481</td><td>-2.6784545874423396</td><td>--</td><td>119.52688825806038</td><td>1000.1920376651616</td><td>117.32503372106673</td><td>1001.0629425860377</td><td>0.018384641308606002,0.014663750574163638</td><td>-3.00424935798151</td><td>--</td></tr>\n",
       "<tr><td>111.75997576266013</td><td>1008.7642238673907</td><td>111.75997576266013</td><td>1008.7642238673907</td><td>0.01857199653027743,0.014882872794328811</td><td>-3.1581984403599646</td><td>--</td><td>114.23237403185527</td><td>1007.682317337364</td><td>111.19305626087372</td><td>1009.1096465351153</td><td>0.01859002796922758,0.014891832373992987</td><td>-3.8867614954204726</td><td>--</td></tr>\n",
       "<tr><td>103.51351247144562</td><td>1008.5099033986778</td><td>102.44064438692935</td><td>1008.5401474852181</td><td>0.018854086817954155,0.014850475248613413</td><td>-3.1831931855163305</td><td>--</td><td>103.49597604632848</td><td>1010.7724780448524</td><td>102.3974833602564</td><td>1008.4777972199088</td><td>0.01885525034843382,0.01484846240061431</td><td>-2.856861978347059</td><td>--</td></tr>\n",
       "<tr><td>397.424990002633</td><td>114.51402015400792</td><td>398.33643050148</td><td>114.43011367298797</td><td>0.007615677494015069,-0.011753402842206644</td><td>-1.7970175037815486</td><td>0.2222949720668742</td><td>397.15014772972467</td><td>115.15403919016143</td><td>397.6403980147883</td><td>114.8740960320986</td><td>0.007638141496196103,-0.011741724172342467</td><td>-2.4057495974817114</td><td>--</td></tr>\n",
       "<tr><td>837.8396898655193</td><td>266.7331089516925</td><td>838.6283364777754</td><td>266.881158913824</td><td>359.99450459988526,-0.006011518992627807</td><td>-1.6972701421977514</td><td>0.29081240587680973</td><td>838.3229419825102</td><td>266.4988224044933</td><td>838.4536050555004</td><td>266.41453143055156</td><td>359.9945087063241,-0.006026222548695605</td><td>-2.988105113833708</td><td>--</td></tr>\n",
       "<tr><td>496.23928109444796</td><td>507.3027577947889</td><td>496.6431516129259</td><td>507.2837582101922</td><td>0.005613110001462131,0.0005303784954592137</td><td>-1.2792782986603137</td><td>1.0841098179044206</td><td>496.42292056313914</td><td>507.2803833425498</td><td>496.8774341940726</td><td>507.5578272978224</td><td>0.005606660265380305,0.0005394155004844815</td><td>-1.6756272596872848</td><td>--</td></tr>\n",
       "<tr><td>698.9888057298435</td><td>630.9315125302669</td><td>699.1562021536428</td><td>632.9849578753966</td><td>359.9997618251806,0.004898908818284144</td><td>-2.4862267339669306</td><td>0.04741854418717469</td><td>699.2013410281579</td><td>631.8323390662725</td><td>699.098031601437</td><td>632.45332227388</td><td>359.9997621729088,0.004882418621949047</td><td>-3.6637677652104044</td><td>--</td></tr>\n",
       "<tr><td>689.735570862703</td><td>653.9909188353104</td><td>690.0421245515864</td><td>653.3689537749651</td><td>9.486914793178766e-05,0.005503500516866861</td><td>-2.0777309169542235</td><td>0.0957254924821575</td><td>689.9143209337547</td><td>653.4074522805262</td><td>689.9200613867933</td><td>653.2294745004529</td><td>9.822471908077903e-05,0.005498913710823797</td><td>-3.500114809342084</td><td>--</td></tr>\n",
       "<tr><td>730.2510709744132</td><td>739.7448751491937</td><td>730.0904682922784</td><td>739.8446453774151</td><td>359.9991075985752,0.008254622046162816</td><td>-2.588988533008189</td><td>0.10910826882395651</td><td>731.2485967084833</td><td>738.734572169472</td><td>730.7026517583395</td><td>739.0015737389238</td><td>359.99908667079967,0.008230215661902258</td><td>-3.692463649209629</td><td>--</td></tr>\n",
       "<tr><td>126.26868855443807</td><td>842.0326445508585</td><td>126.36619600193517</td><td>842.0973287761477</td><td>0.017727810069203372,0.009839948470109751</td><td>-3.416794561792485</td><td>--</td><td>125.68752947443575</td><td>842.2922077720074</td><td>125.68944573037683</td><td>842.3134829168071</td><td>0.017748892186283474,0.009844715334265085</td><td>-3.930379400387263</td><td>0.02314109986028128</td></tr>\n",
       "<tr><td>123.04811318735868</td><td>851.067959581753</td><td>122.81168968161704</td><td>850.9313724827985</td><td>0.017857013630055697,0.010100223112966333</td><td>-1.8801678838502964</td><td>--</td><td>123.4452343704419</td><td>851.9858562499754</td><td>123.47356459892342</td><td>851.7649316605249</td><td>0.01783890445499968,0.01012751727301576</td><td>-2.3543114364305753</td><td>--</td></tr>\n",
       "<tr><td>100.06665253123943</td><td>1008.177347287948</td><td>99.90668032359748</td><td>1008.2282260316615</td><td>0.018930187537303134,0.01483402055982785</td><td>-2.729013049341737</td><td>--</td><td>99.4342762575008</td><td>1008.8940592205838</td><td>98.87896566266971</td><td>1008.5320872880912</td><td>0.018962094459291534,0.014840446493895893</td><td>-2.4258788736418135</td><td>--</td></tr>\n",
       "</table></div>"
      ],
      "text/plain": [
       "<Table length=706>\n",
       "    x_0_F560W          y_0_F560W         x_fit_F560W     ...                 radec_F770W                      mag_F770W           emag_F770W     \n",
       "                                                         ...                   deg,deg                                                           \n",
       "     float64            float64            float64       ...                   SkyCoord                        float64             float64       \n",
       "------------------ ------------------ ------------------ ... ------------------------------------------- ------------------- --------------------\n",
       " 676.5836963370951  9.163241766911698  676.4546046398015 ...    359.99881310307705,-0.014224215625015088  -4.953793789583706 0.008882553005573508\n",
       "459.61327571403046  9.691173024376367   459.464441977234 ...  0.0054760980043344785,-0.01475038249001616  -3.696745429500949  0.02075013622915316\n",
       " 597.8626249117399 10.034624536597038   597.894396596936 ...  0.0012271709099592198,-0.01439615747371711 -3.2242945072114293 0.029850913838478974\n",
       " 990.3551135064819 11.901355690484671  990.5345989162972 ...     359.9891882776645,-0.013327146667545585 -4.8385776202727016 0.014151562590717712\n",
       " 650.2394456591585 13.774594833196794  650.5024647189177 ...    359.99962666145393,-0.014147589980126198 -2.4933310147289545   0.0857758977986735\n",
       "  616.443628285548  16.52481712010206  616.3815340781656 ...  0.0006756235179246214,-0.01415892432192637   -6.97728518645615 0.021605622532912132\n",
       "  984.423366673339    23.314763264579  984.3633889837538 ...       359.98940529776,-0.013006362980885292  -5.036916409877382 0.006393506029643321\n",
       " 755.2438631841759  19.83549756822631  755.2434310055637 ...    359.99642186386535,-0.013695306637912729 -2.0815096891547498   0.0795793770009443\n",
       " 942.5887594431498   20.0193000258344  942.6858548446211 ...     359.9906723942702,-0.013208692831224899 -2.8022447264448584 0.045282833755964924\n",
       " 466.7420356541888 22.399993373776173  466.7775629122002 ...  0.005282341788716029,-0.014357631533819536  -6.747922136145769 0.004657661750647784\n",
       " 525.3621671591897 22.035861631907498   525.303510231286 ...  0.003482632538668991,-0.014221000798808463  -3.285660014893786 0.029139169544672532\n",
       " 664.5224326314383 23.576163544406988  664.4212001975784 ...     359.9992193608193,-0.013827194530145621 -4.7851960734558405   0.0474958819979501\n",
       "424.56494028851876 26.644821210582144 424.44923869453993 ...   0.00659205642835193,-0.014338209108523556 -2.7561632659592616 0.038131675097519344\n",
       " 589.5283650003598 26.008251624543433  589.4215999465695 ... 0.0015269394845233307,-0.013940335849199216  -3.197316185417327  0.09317786438014856\n",
       "               ...                ...                ... ...                                         ...                 ...                  ...\n",
       " 518.5486932207384  982.3546115719695  518.5986521581518 ...   0.006173606719768585,0.015163845357975545  -4.053979508599111                   --\n",
       "  522.524303430946  984.9485161121607  522.6400234714755 ...   0.006033102808505154,0.015237186111389616  -4.130391504500523                   --\n",
       "116.31317720348274 1001.4825532913638 116.31317720348274 ...   0.018384641308606002,0.014663750574163638   -3.00424935798151                   --\n",
       "111.75997576266013 1008.7642238673907 111.75997576266013 ...    0.01859002796922758,0.014891832373992987 -3.8867614954204726                   --\n",
       "103.51351247144562 1008.5099033986778 102.44064438692935 ...     0.01885525034843382,0.01484846240061431  -2.856861978347059                   --\n",
       "  397.424990002633 114.51402015400792    398.33643050148 ...  0.007638141496196103,-0.011741724172342467 -2.4057495974817114                   --\n",
       " 837.8396898655193  266.7331089516925  838.6283364777754 ...     359.9945087063241,-0.006026222548695605  -2.988105113833708                   --\n",
       "496.23928109444796  507.3027577947889  496.6431516129259 ...  0.005606660265380305,0.0005394155004844815 -1.6756272596872848                   --\n",
       " 698.9888057298435  630.9315125302669  699.1562021536428 ...      359.9997621729088,0.004882418621949047 -3.6637677652104044                   --\n",
       "  689.735570862703  653.9909188353104  690.0421245515864 ...  9.822471908077903e-05,0.005498913710823797  -3.500114809342084                   --\n",
       " 730.2510709744132  739.7448751491937  730.0904682922784 ...     359.99908667079967,0.008230215661902258  -3.692463649209629                   --\n",
       "126.26868855443807  842.0326445508585 126.36619600193517 ...   0.017748892186283474,0.009844715334265085  -3.930379400387263  0.02314109986028128\n",
       "123.04811318735868   851.067959581753 122.81168968161704 ...     0.01783890445499968,0.01012751727301576 -2.3543114364305753                   --\n",
       "100.06665253123943  1008.177347287948  99.90668032359748 ...   0.018962094459291534,0.014840446493895893 -2.4258788736418135                   --"
      ]
     },
     "execution_count": 22,
     "metadata": {},
     "output_type": "execute_result"
    }
   ],
   "source": [
    "match_phot_single"
   ]
  },
  {
   "cell_type": "markdown",
   "id": "d2c2fcb6",
   "metadata": {},
   "source": [
    "### 4.3<font color='white'>-</font>Photometric Calibration<a class=\"anchor\" id=\"wcs\"></a> ###\n",
    "\n"
   ]
  },
  {
   "cell_type": "code",
   "execution_count": 23,
   "id": "cbb1a56a",
   "metadata": {},
   "outputs": [
    {
     "name": "stdout",
     "output_type": "stream",
     "text": [
      "label xcentroid ycentroid                sky_centroid                ...                sky_bbox_ul                                sky_bbox_lr                               sky_bbox_ur               \n",
      "                                           deg,deg                   ...                  deg,deg                                    deg,deg                                   deg,deg                 \n",
      "----- --------- --------- ------------------------------------------ ... ------------------------------------------ ----------------------------------------- -----------------------------------------\n",
      "    1  757.7435   31.3451    359.99836120500316,-0.01737844736582643 ... 0.003246972520384926,-0.016720884313430235    359.9947473963536,-0.01779814721966357   359.9949061661661,-0.015988928352511637\n",
      "  ...       ...       ...                                        ... ...                                        ...                                       ...                                       ...\n",
      " 1412  786.1478 1138.8680 0.00047055570240872184,0.01665987861286094 ... 0.0005281668253658369,0.016736154401478635 0.00039474385425596493,0.0166242595459828 0.0004055079092133646,0.01674691845172965\n",
      " 1413  573.3072 1140.3708  0.007001298771051743,0.016133204940665547 ...                                    nan,nan   0.00689835746875745,0.01608442949857169                                   nan,nan\n",
      "Length = 1413 rows\n",
      "label xcentroid ycentroid                sky_centroid               ...               sky_bbox_ul                             sky_bbox_lr                              sky_bbox_ur               \n",
      "                                           deg,deg                  ...                 deg,deg                                 deg,deg                                  deg,deg                 \n",
      "----- --------- --------- ----------------------------------------- ... --------------------------------------- ---------------------------------------- ----------------------------------------\n",
      "    1  771.3283   32.6637  359.99794827756364,-0.017301057668209628 ... 359.9990110177998,-0.016750458483331995  359.99689402462656,-0.01798611945311834  359.9970178112104,-0.016575542595886655\n",
      "  ...       ...       ...                                       ... ...                                     ...                                      ...                                      ...\n",
      "  905  123.4718 1134.9854  0.02078097337460531,0.014757936673418863 ... 0.02088425230100589,0.01488837712489459 0.02065076221065814,0.014692561230691636 0.02066959929636816,0.014907214225508345\n",
      "  906  278.3101 1139.7410 0.016045698605735514,0.015320435893069825 ...                                 nan,nan 0.01569384233580126,0.015251164360703085                                  nan,nan\n",
      "Length = 906 rows\n"
     ]
    }
   ],
   "source": [
    "calib_cat_F560W = Table.read(cat_names['F560W'][0])\n",
    "calib_cat_F560W.pprint_all(max_lines=1, max_width=200)\n",
    "calib_cat_F770W = Table.read(cat_names['F770W'][0])\n",
    "calib_cat_F770W.pprint_all(max_lines=1, max_width=200)"
   ]
  },
  {
   "cell_type": "markdown",
   "id": "142c6d4d",
   "metadata": {},
   "source": [
    "For the cross-match of these catalogs, we can use [_match_coordinates_sky_](https://docs.astropy.org/en/stable/coordinates/matchsep.html#matching-catalogs). This function uses a proximity-based approach to find the same star in two catalogs. It requires coordinates to be stored as [_SkyCoord_](https://docs.astropy.org/en/stable/api/astropy.coordinates.SkyCoord.html#astropy.coordinates.SkyCoord) objects."
   ]
  },
  {
   "cell_type": "code",
   "execution_count": 24,
   "id": "a863e8c5",
   "metadata": {},
   "outputs": [],
   "source": [
    "coord_cal = SkyCoord(ra=match_phot_single['radec_F560W'][:].ra, dec=match_phot_single['radec_F560W'][:].dec, unit=\"deg\")\n",
    "coord_i2d = SkyCoord(ra=calib_cat_F560W['sky_centroid'].ra.degree, dec=calib_cat_F560W['sky_centroid'].dec.degree, unit=\"deg\")\n",
    "ind_i2d_cat, dist_2d, _ = match_coordinates_sky(coord_cal, coord_i2d)"
   ]
  },
  {
   "cell_type": "markdown",
   "id": "80d5f1b6",
   "metadata": {},
   "source": [
    "The first output _ind_i2d_cat_ is an array containing the indexes of the stars in the pipeline source catalog that are the closest objects to each source in our F560W-filter catalog. The second output _dist_2d_ is an array with the on-sky distances between sources. We do not need to save the last output because it corresponds to an array of 3D distances between sources. We do not need it here.\n",
    "\n",
    "Being based just on proximity, this algorithm can present some issues in very crowded environments. It is always a good idea to check the result of the cross-match:"
   ]
  },
  {
   "cell_type": "code",
   "execution_count": 25,
   "id": "b730a0e9",
   "metadata": {},
   "outputs": [
    {
     "data": {
      "image/png": "[encoded data removed]",
      "text/plain": [
       "<Figure size 1080x1080 with 1 Axes>"
      ]
     },
     "metadata": {
      "needs_background": "light"
     },
     "output_type": "display_data"
    }
   ],
   "source": [
    "delta_ra = 3600.0*(match_phot_single['radec_F560W'][:].ra.degree*np.cos(np.deg2rad(match_phot_single['radec_F560W'][:].dec.degree)) - \n",
    "                   calib_cat_F560W[ind_i2d_cat]['sky_centroid'].ra.degree*np.cos(np.deg2rad(calib_cat_F560W[ind_i2d_cat]['sky_centroid'].dec.degree)))\n",
    "\n",
    "delta_dec = 3600.0*(match_phot_single['radec_F560W'][:].dec.degree - calib_cat_F560W[ind_i2d_cat]['sky_centroid'].dec.degree)\n",
    "\n",
    "fig, ax = plt.subplots()\n",
    "ax.scatter(delta_ra, delta_dec, lw=0.5, s=5, color='black', marker='o')\n",
    "circle = plt.Circle((0, 0), 0.055, color='r', fill=False)\n",
    "ax.add_patch(circle)\n",
    "ax.set_xlim(-0.5, 0.5)\n",
    "ax.set_ylim(-0.5, 0.5)\n",
    "ax.axhline(0, color='red', ls='--')\n",
    "ax.axvline(0, color='red', ls='--')\n",
    "ax.set_aspect('equal', 'box')\n",
    "ax.set_xlabel(r'$\\Delta\\textrm{(R.A.}\\cos\\textrm{Dec.) [arcsec]}$')\n",
    "ax.set_ylabel(r'$\\Delta\\textrm{Dec. [arcsec]}$')\n",
    "\n",
    "ax2 = ax.secondary_xaxis('top', functions=(arcsec2pix, pix2arcsec))\n",
    "ax2.set_xlabel(r'$\\Delta\\textrm{(R.A.}\\cos\\textrm{Dec.) [MIRIM pixel]}$')\n",
    "ay2 = ax.secondary_yaxis('right', functions=(arcsec2pix, pix2arcsec))\n",
    "ay2.set_ylabel(r'$\\Delta\\textrm{Dec. [MIRIM pixel]}$')\n",
    "\n",
    "plt.tight_layout()"
   ]
  },
  {
   "cell_type": "code",
   "execution_count": 26,
   "id": "0ba47363",
   "metadata": {},
   "outputs": [],
   "source": [
    "phot_F560W_matched = match_phot_single[dist_2d.arcsec/0.11 < 0.5]\n",
    "calib_cat_F560W_matched = calib_cat_F560W[ind_i2d_cat[dist_2d.arcsec/0.11 < 0.5]]"
   ]
  },
  {
   "cell_type": "code",
   "execution_count": 27,
   "id": "0f8003d9",
   "metadata": {},
   "outputs": [],
   "source": [
    "coord_cal = SkyCoord(ra=match_phot_single['radec_F770W'][:].ra, dec=match_phot_single['radec_F770W'][:].dec, unit=\"deg\")\n",
    "coord_i2d = SkyCoord(ra=calib_cat_F770W['sky_centroid'].ra.degree, dec=calib_cat_F770W['sky_centroid'].dec.degree, unit=\"deg\")\n",
    "ind_i2d_cat, dist_2d, _ = match_coordinates_sky(coord_cal, coord_i2d)"
   ]
  },
  {
   "cell_type": "code",
   "execution_count": 28,
   "id": "4ad30f6e",
   "metadata": {},
   "outputs": [
    {
     "data": {
      "image/png": "[encoded data removed]",
      "text/plain": [
       "<Figure size 1080x1080 with 1 Axes>"
      ]
     },
     "metadata": {
      "needs_background": "light"
     },
     "output_type": "display_data"
    }
   ],
   "source": [
    "delta_ra = 3600.0*(match_phot_single['radec_F770W'][:].ra.degree*np.cos(np.deg2rad(match_phot_single['radec_F770W'][:].dec.degree)) - \n",
    "                   calib_cat_F770W[ind_i2d_cat]['sky_centroid'].ra.degree*np.cos(np.deg2rad(calib_cat_F770W[ind_i2d_cat]['sky_centroid'].dec.degree)))\n",
    "\n",
    "delta_dec = 3600.0*(match_phot_single['radec_F770W'][:].dec.degree - calib_cat_F770W[ind_i2d_cat]['sky_centroid'].dec.degree)\n",
    "\n",
    "fig, ax = plt.subplots()\n",
    "ax.scatter(delta_ra, delta_dec, lw=0.5, s=5, color='black', marker='o')\n",
    "circle = plt.Circle((0, 0), 0.055, color='r', fill=False)\n",
    "ax.add_patch(circle)\n",
    "ax.set_xlim(-0.5, 0.5)\n",
    "ax.set_ylim(-0.5, 0.5)\n",
    "ax.axhline(0, color='red', ls='--')\n",
    "ax.axvline(0, color='red', ls='--')\n",
    "ax.set_aspect('equal', 'box')\n",
    "ax.set_xlabel(r'$\\Delta\\textrm{(R.A.}\\cos\\textrm{Dec.) [arcsec]}$')\n",
    "ax.set_ylabel(r'$\\Delta\\textrm{Dec. [arcsec]}$')\n",
    "\n",
    "ax2 = ax.secondary_xaxis('top', functions=(arcsec2pix, pix2arcsec))\n",
    "ax2.set_xlabel(r'$\\Delta\\textrm{(R.A.}\\cos\\textrm{Dec.) [MIRIM pixel]}$')\n",
    "ay2 = ax.secondary_yaxis('right', functions=(arcsec2pix, pix2arcsec))\n",
    "ay2.set_ylabel(r'$\\Delta\\textrm{Dec. [MIRIM pixel]}$')\n",
    "\n",
    "plt.tight_layout()"
   ]
  },
  {
   "cell_type": "markdown",
   "id": "9a4e08f4",
   "metadata": {},
   "source": [
    "Let's define as \"found\" only objects with a positional rms lower than 0.5 MIRIM pixel, i.e., 0.055 arcsec."
   ]
  },
  {
   "cell_type": "code",
   "execution_count": 29,
   "id": "33c326b4",
   "metadata": {},
   "outputs": [],
   "source": [
    "phot_F770W_matched = match_phot_single[dist_2d.arcsec/0.11 < 0.5]\n",
    "calib_cat_F770W_matched = calib_cat_F770W[ind_i2d_cat[dist_2d.arcsec/0.11 < 0.5]]"
   ]
  },
  {
   "cell_type": "markdown",
   "id": "856db614",
   "metadata": {},
   "source": [
    "Next, we need to compute the zero-point between the magnitudes in our custom _cal.fits_-based catalog and those in the pipeline source catalog. This simple step takes into account for (1) the finite-aperture correction and (2) the AB (or Vega) magnitude zero-point. The finite-aperture correction is necessary because the flux measured within a finite aperture is just a fraction of the total signal of a source. In this example, we calibrate our instrumental magnitude r1.\n",
    "\n",
    "We do not need to use all stars. It is preferred to use only bright sources since they should be well-measured in both catalogs. For this specific example, we only apply a magnitude-based selection. You can apply all necessary criteria to ensure the selection of the best objects for the task."
   ]
  },
  {
   "cell_type": "code",
   "execution_count": 30,
   "id": "94d693cb",
   "metadata": {},
   "outputs": [
    {
     "name": "stdout",
     "output_type": "stream",
     "text": [
      "\n",
      " Magnitude zero-point: -25.046 mag\n"
     ]
    }
   ],
   "source": [
    "# Magnitude limit\n",
    "ok = phot_F560W_matched['mag_F560W'] < -3\n",
    "\n",
    "delta_mag = phot_F560W_matched['mag_F560W'][ok]-calib_cat_F560W_matched['aper_total_abmag'][ok]\n",
    "\n",
    "_, mag_med_F560W, mag_rms_F560W = sigma_clipped_stats(delta_mag, sigma=2.0, maxiters=10)\n",
    "\n",
    "print('')\n",
    "print(r' Magnitude zero-point: {0:.3f} mag'.format(mag_med_F560W))"
   ]
  },
  {
   "cell_type": "code",
   "execution_count": 31,
   "id": "eb3873a1",
   "metadata": {},
   "outputs": [
    {
     "name": "stderr",
     "output_type": "stream",
     "text": [
      "2022-03-30 15:45:24,772 - stpipe - WARNING - /Users/ofox/miniconda3/envs/jwebbinar/lib/python3.8/site-packages/numpy/core/fromnumeric.py:758: UserWarning: Warning: 'partition' will ignore the 'mask' of the MaskedArray.\n",
      "  a.partition(kth, axis=axis, kind=kind, order=order)\n",
      "\n",
      "2022-03-30 15:45:24,775 - stpipe - WARNING - /Users/ofox/miniconda3/envs/jwebbinar/lib/python3.8/site-packages/numpy/core/fromnumeric.py:758: UserWarning: Warning: 'partition' will ignore the 'mask' of the MaskedArray.\n",
      "  a.partition(kth, axis=axis, kind=kind, order=order)\n",
      "\n",
      "2022-03-30 15:45:24,777 - stpipe - WARNING - /Users/ofox/miniconda3/envs/jwebbinar/lib/python3.8/site-packages/numpy/core/fromnumeric.py:758: UserWarning: Warning: 'partition' will ignore the 'mask' of the MaskedArray.\n",
      "  a.partition(kth, axis=axis, kind=kind, order=order)\n",
      "\n",
      "2022-03-30 15:45:24,779 - stpipe - WARNING - /Users/ofox/miniconda3/envs/jwebbinar/lib/python3.8/site-packages/numpy/core/fromnumeric.py:758: UserWarning: Warning: 'partition' will ignore the 'mask' of the MaskedArray.\n",
      "  a.partition(kth, axis=axis, kind=kind, order=order)\n",
      "\n",
      "2022-03-30 15:45:24,782 - stpipe - WARNING - /Users/ofox/miniconda3/envs/jwebbinar/lib/python3.8/site-packages/numpy/core/fromnumeric.py:758: UserWarning: Warning: 'partition' will ignore the 'mask' of the MaskedArray.\n",
      "  a.partition(kth, axis=axis, kind=kind, order=order)\n",
      "\n",
      "2022-03-30 15:45:24,784 - stpipe - WARNING - /Users/ofox/miniconda3/envs/jwebbinar/lib/python3.8/site-packages/numpy/core/fromnumeric.py:758: UserWarning: Warning: 'partition' will ignore the 'mask' of the MaskedArray.\n",
      "  a.partition(kth, axis=axis, kind=kind, order=order)\n",
      "\n",
      "2022-03-30 15:45:24,786 - stpipe - WARNING - /Users/ofox/miniconda3/envs/jwebbinar/lib/python3.8/site-packages/numpy/core/fromnumeric.py:758: UserWarning: Warning: 'partition' will ignore the 'mask' of the MaskedArray.\n",
      "  a.partition(kth, axis=axis, kind=kind, order=order)\n",
      "\n",
      "2022-03-30 15:45:24,788 - stpipe - WARNING - /Users/ofox/miniconda3/envs/jwebbinar/lib/python3.8/site-packages/numpy/core/fromnumeric.py:758: UserWarning: Warning: 'partition' will ignore the 'mask' of the MaskedArray.\n",
      "  a.partition(kth, axis=axis, kind=kind, order=order)\n",
      "\n",
      "2022-03-30 15:45:24,790 - stpipe - WARNING - /Users/ofox/miniconda3/envs/jwebbinar/lib/python3.8/site-packages/numpy/core/fromnumeric.py:758: UserWarning: Warning: 'partition' will ignore the 'mask' of the MaskedArray.\n",
      "  a.partition(kth, axis=axis, kind=kind, order=order)\n",
      "\n",
      "2022-03-30 15:45:24,792 - stpipe - WARNING - /Users/ofox/miniconda3/envs/jwebbinar/lib/python3.8/site-packages/numpy/core/fromnumeric.py:758: UserWarning: Warning: 'partition' will ignore the 'mask' of the MaskedArray.\n",
      "  a.partition(kth, axis=axis, kind=kind, order=order)\n",
      "\n"
     ]
    },
    {
     "name": "stdout",
     "output_type": "stream",
     "text": [
      "\n",
      " Magnitude zero-point: -25.754 mag\n"
     ]
    }
   ],
   "source": [
    "# Magnitude limit\n",
    "ok = phot_F770W_matched['mag_F770W'] < -3.5\n",
    "\n",
    "delta_mag = phot_F770W_matched['mag_F770W'][ok]-calib_cat_F770W_matched['aper_total_abmag'][ok]\n",
    "\n",
    "# Complete the line below\n",
    "_, mag_med_F770W, mag_rms_F770W = sigma_clipped_stats(delta_mag, sigma=2.0, maxiters=10)\n",
    "\n",
    "print('')\n",
    "print(r' Magnitude zero-point: {0:.3f} mag'.format(mag_med_F770W))"
   ]
  },
  {
   "cell_type": "markdown",
   "id": "469b40a2",
   "metadata": {},
   "source": [
    "Let's plot the $\\Delta$mag as a function of instrumental magnitude."
   ]
  },
  {
   "cell_type": "code",
   "execution_count": 32,
   "id": "f40ad7cb",
   "metadata": {},
   "outputs": [
    {
     "data": {
      "image/png": "[encoded data removed]",
      "text/plain": [
       "<Figure size 1080x1080 with 1 Axes>"
      ]
     },
     "metadata": {
      "needs_background": "light"
     },
     "output_type": "display_data"
    }
   ],
   "source": [
    "fig, ax = plt.subplots()\n",
    "ax.scatter(phot_F560W_matched['mag_F560W'], phot_F560W_matched['mag_F560W']-calib_cat_F560W_matched['aper_total_abmag'], \n",
    "           lw=0.5, s=5, color='black', marker='o')\n",
    "ax.set_xlim(-8, -2)\n",
    "ax.set_ylim(-26, -24)\n",
    "ax.axhline(mag_med_F560W, color='red', ls='--')\n",
    "ax.set_xlabel(r'F560W mag')\n",
    "ax.set_ylabel(r'$\\Delta$mag')\n",
    "plt.tight_layout()"
   ]
  },
  {
   "cell_type": "code",
   "execution_count": 33,
   "id": "6f4c735d",
   "metadata": {},
   "outputs": [
    {
     "data": {
      "image/png": "[encoded data removed]",
      "text/plain": [
       "<Figure size 1080x1080 with 1 Axes>"
      ]
     },
     "metadata": {
      "needs_background": "light"
     },
     "output_type": "display_data"
    }
   ],
   "source": [
    "fig, ax = plt.subplots()\n",
    "ax.scatter(phot_F770W_matched['mag_F770W'], phot_F770W_matched['mag_F770W']-calib_cat_F770W_matched['aper_total_abmag'], \n",
    "           lw=0.5, s=5, color='black', marker='o')\n",
    "ax.set_xlim(-8, -2)\n",
    "ax.set_ylim(-26, -24)\n",
    "ax.axhline(mag_med_F770W, color='red', ls='--')\n",
    "ax.set_xlabel(r'F770W mag')\n",
    "ax.set_ylabel(r'$\\Delta$mag')\n",
    "plt.tight_layout()"
   ]
  },
  {
   "cell_type": "markdown",
   "id": "eda043dc",
   "metadata": {},
   "source": [
    "Finally, the calibrate AB mag of our stars is simply:"
   ]
  },
  {
   "cell_type": "code",
   "execution_count": 34,
   "id": "8384c71a",
   "metadata": {},
   "outputs": [],
   "source": [
    "match_phot_single['ABmag_F560W'] = match_phot_single['mag_F560W'] - mag_med_F560W\n",
    "match_phot_single['ABmag_F770W'] = match_phot_single['mag_F770W'] - mag_med_F770W"
   ]
  },
  {
   "cell_type": "markdown",
   "id": "a50d6492",
   "metadata": {},
   "source": [
    "The same procedure can be used to convert our instrumental magnitudes in the Vega system."
   ]
  },
  {
   "cell_type": "markdown",
   "id": "3e46f056",
   "metadata": {},
   "source": [
    "## 5<font color='white'>-</font>Your first JWST mid-infrared color-magnitude diagram<a class=\"anchor\" id=\"bonus1\"></a> ##"
   ]
  },
  {
   "cell_type": "markdown",
   "id": "f149415d",
   "metadata": {},
   "source": [
    "We have built two catalogs for the same field in two filters. We can combine the photometry in these catalogs to create our first mid-infrared color-magnitude diagram."
   ]
  },
  {
   "cell_type": "markdown",
   "id": "a081a337",
   "metadata": {},
   "source": [
    "Let's check the result of the cross-match:"
   ]
  },
  {
   "cell_type": "markdown",
   "id": "69f37dc0",
   "metadata": {},
   "source": [
    "Finally, we can make our first mid-infrared color-magnitude diagram:"
   ]
  },
  {
   "cell_type": "code",
   "execution_count": 35,
   "id": "eb5f2846",
   "metadata": {},
   "outputs": [
    {
     "data": {
      "image/png": "[encoded data removed]",
      "text/plain": [
       "<Figure size 1080x1080 with 1 Axes>"
      ]
     },
     "metadata": {
      "needs_background": "light"
     },
     "output_type": "display_data"
    }
   ],
   "source": [
    "fig, ax = plt.subplots()\n",
    "ax.set_aspect(0.35)\n",
    "ax.scatter(match_phot_single['ABmag_F560W']-match_phot_single['ABmag_F770W'], \n",
    "           match_phot_single['ABmag_F770W'], lw=0.5, s=5, marker='o', color='black')\n",
    "ax.set_xlim(-01.0, 0.0)\n",
    "ax.set_ylim(24, 17)\n",
    "ax.set_xlabel(r'$(m_{\\textrm{F560W}}-m_{\\textrm{F770W}})$')\n",
    "ax.set_ylabel(r'$m_{\\textrm{F770W}}$')\n",
    "ax.set_title(r'Your first Mid-Infrared CMD')\n",
    "plt.tight_layout()"
   ]
  },
  {
   "cell_type": "markdown",
   "id": "5630029f-31d1-42cd-8454-225e86cabc48",
   "metadata": {},
   "source": [
    "<hr style=\"border:1px solid gray\"> </hr>"
   ]
  },
  {
   "cell_type": "markdown",
   "id": "843b5201-6f57-46f0-9da0-b738714178d3",
   "metadata": {},
   "source": [
    "<img style=\"float: center;\" src=\"https://raw.githubusercontent.com/spacetelescope/notebooks/master/assets/stsci_pri_combo_mark_horizonal_white_bkgd.png\" alt=\"Space Telescope Logo\" width=\"200px\"/>"
   ]
  }
 ],
 "metadata": {
  "kernelspec": {
   "display_name": "Python 3 (ipykernel)",
   "language": "python",
   "name": "python3"
  },
  "language_info": {
   "codemirror_mode": {
    "name": "ipython",
    "version": 3
   },
   "file_extension": ".py",
   "mimetype": "text/x-python",
   "name": "python",
   "nbconvert_exporter": "python",
   "pygments_lexer": "ipython3",
   "version": "3.8.10"
  },
  "toc-showcode": false
 },
 "nbformat": 4,
 "nbformat_minor": 5
}
