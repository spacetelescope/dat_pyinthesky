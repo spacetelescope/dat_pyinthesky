{
 "cells": [
  {
   "cell_type": "markdown",
   "id": "b58d6954",
   "metadata": {},
   "source": [
    "# MIRI PSF Photometry #3 - Create your first MIRI Color-Magnitude Diagram\n",
    "\n",
    "**Author**: Ori Fox\n",
    "<br>\n",
    "**Last Updated**: March, 2022"
   ]
  },
  {
   "cell_type": "markdown",
   "id": "7df4f696",
   "metadata": {},
   "source": [
    "## Table of contents\n",
    "1. [Introduction](#intro)<br>\n",
    "2. [Setup](#setup)<br>\n",
    "    2.1 [Python imports](#py_imports)<br>\n",
    "    2.2 [Plotting functions imports](#matpl_imports)<br>\n",
    "    2.3 [PSF FWHM dictionary](#psf_fwhm)<br>\n",
    "3. [Import image to analyze](#data)<br>\n",
    "4. [Create your first MIRI Color-Magnitude Diagram](#bonusI)<br>\n",
    "    4.1 [Load images and output catalogs](#load_data)<br>\n",
    "    4.2 [Cross-match PSF photometry catalogs](#cross_match)<br>\n",
    "    4.3 [Load input catalogs](#load_input)<br>\n",
    "    4.4 [Cross-match input catalogs](#cross_match_input)<br>\n",
    "    4.5 [Instrumental Color-Magnitude Diagram](#cmd)<br>"
   ]
  },
  {
   "cell_type": "markdown",
   "id": "4f572688",
   "metadata": {},
   "source": [
    "1.<font color='white'>-</font>Introduction <a class=\"anchor\" id=\"intro\"></a>\n",
    "------------------"
   ]
  },
  {
   "cell_type": "markdown",
   "id": "95891849",
   "metadata": {},
   "source": [
    "**Data**: MIRI simulated images obtained using [MIRISIM](https://www.stsci.edu/jwst/science-planning/proposal-planning-toolbox/mirisim) and run through the [JWST pipeline](https://jwst-pipeline.readthedocs.io/en/latest/) of Isochrone of 10-Gyr old population, [Fe/H]=-1 Population placed at 2.5 kpc from the Sun. Salpeter-like IMF, tweaked to have more massive stars (since positions are random, it ensures at least a few bright stars in each image). Kept only sources brighter than J=17 (random cut to speed up MIRISim) and fainter than Ks=10 (to avoid too-bright stars that would have PSF spikes clearly cut by MIRISim in the image)\n",
    "\n",
    "Here is the [ReadMe](https://stsci.app.box.com/s/2b6evrie2swaybarxhdmpqizktl3g0wm/file/869444882607). All data simulations can be found on [STScI's simulation page](https://www.stsci.edu/jwst/science-planning/proposal-planning-toolbox/simulated-data).\n",
    "\n",
    "PSF Photometry can be obtained using:\n",
    "\n",
    "* single PSF model obtained from WebbPSF\n",
    "* grid of PSF models from WebbPSF\n",
    "* single effective PSF (ePSF)\n",
    "* grid of effective PSF (bonus part II)\n",
    "\n",
    "The notebook shows:\n",
    "\n",
    "* how to obtain the PSF model from WebbPSF (or build an ePSF)\n",
    "* how to perform PSF photometry on the image\n",
    "* how to cross-match the catalogs of the different images (bonus part I)"
   ]
  },
  {
   "cell_type": "markdown",
   "id": "1cf3d18f",
   "metadata": {},
   "source": [
    "2.<font color='white'>-</font>Setup <a class=\"anchor\" id=\"setup\"></a>\n",
    "------------------"
   ]
  },
  {
   "cell_type": "markdown",
   "id": "bd038c76",
   "metadata": {},
   "source": [
    "In this section we import all the necessary python packages and we define some plotting parameters."
   ]
  },
  {
   "cell_type": "markdown",
   "id": "5b762602",
   "metadata": {},
   "source": [
    "### 2.1<font color='white'>-</font>Python imports<a class=\"anchor\" id=\"py_imports\"></a> ###"
   ]
  },
  {
   "cell_type": "code",
   "execution_count": 1,
   "id": "8c50eace",
   "metadata": {},
   "outputs": [],
   "source": [
    "import os\n",
    "\n",
    "if not os.environ.get('WEBBPSF_PATH'):\n",
    "    os.environ['WEBBPSF_PATH'] = '/data/webbpsf-data'\n",
    "\n",
    "import sys\n",
    "import time\n",
    "\n",
    "import numpy as np\n",
    "\n",
    "import pandas as pd\n",
    "\n",
    "import glob as glob\n",
    "\n",
    "import urllib.request\n",
    "\n",
    "import tarfile\n",
    "\n",
    "from astropy.io import fits\n",
    "from astropy.visualization import simple_norm\n",
    "from astropy.nddata import NDData\n",
    "from astropy.modeling.fitting import LevMarLSQFitter\n",
    "from astropy.table import Table, QTable\n",
    "from astropy.coordinates import SkyCoord, match_coordinates_sky\n",
    "from astropy import units as u\n",
    "\n",
    "from photutils.background import MMMBackground, MADStdBackgroundRMS, Background2D\n",
    "from photutils.detection import DAOStarFinder\n",
    "from photutils import EPSFBuilder, GriddedPSFModel\n",
    "from photutils.psf import DAOGroup, extract_stars, IterativelySubtractedPSFPhotometry\n",
    "\n",
    "import jwst\n",
    "from jwst.datamodels import ImageModel\n",
    "\n",
    "import webbpsf\n",
    "from webbpsf.utils import to_griddedpsfmodel\n",
    "\n",
    "import pysynphot  # PYSIN_CDBS must be defined in the user's environment (see note below)\n",
    "\n",
    "from collections import OrderedDict\n",
    "from astropy.wcs import WCS"
   ]
  },
  {
   "cell_type": "code",
   "execution_count": 2,
   "id": "dea5f1e7",
   "metadata": {},
   "outputs": [
    {
     "name": "stderr",
     "output_type": "stream",
     "text": [
      "2022-04-15 02:40:04,710 - stpipe - WARNING - /var/folders/yh/kl4y3s1x3_j3ywy3qq67g3vc0001kc/T/ipykernel_60573/2969300567.py:51: DeprecationWarning: Importing display from IPython.core.display is deprecated since IPython 7.14, please import from IPython display\n",
      "  from IPython.core.display import display, HTML\n",
      "\n"
     ]
    },
    {
     "data": {
      "text/html": [
       "<style>.container { width:90% !important; }</style>"
      ],
      "text/plain": [
       "<IPython.core.display.HTML object>"
      ]
     },
     "metadata": {},
     "output_type": "display_data"
    }
   ],
   "source": [
    "#\n",
    "# General tools\n",
    "#\n",
    "import glob\n",
    "import os\n",
    "import shutil\n",
    "import sys\n",
    "import random\n",
    "import urllib\n",
    "import zipfile\n",
    "#\n",
    "# Astropy tools\n",
    "#\n",
    "from astropy.coordinates import match_coordinates_sky, SkyCoord\n",
    "from astropy.io import fits, ascii\n",
    "from astropy.stats import SigmaClip, sigma_clipped_stats\n",
    "from astropy.table import Table, Column, vstack\n",
    "import astropy.units as u\n",
    "from astropy.visualization import LogStretch, LinearStretch, PercentileInterval, ManualInterval\n",
    "from astropy.nddata import Cutout2D\n",
    "#\n",
    "# JWST models\n",
    "#\n",
    "from jwst import datamodels, associations\n",
    "from jwst.datamodels import ImageModel, dqflags\n",
    "#\n",
    "# Matplotlib tools\n",
    "#\n",
    "from matplotlib import style, pyplot as plt, rcParams\n",
    "from matplotlib.colors import LogNorm\n",
    "from matplotlib.pyplot import figure\n",
    "from mpl_toolkits.axes_grid1.axes_divider import make_axes_locatable\n",
    "#\n",
    "# Numpy library\n",
    "#\n",
    "import numpy as np\n",
    "#\n",
    "# Photutils library and tools\n",
    "#\n",
    "import photutils\n",
    "from photutils.aperture import CircularAperture, CircularAnnulus, aperture_photometry\n",
    "from photutils import Background2D, MedianBackground, ModeEstimatorBackground, MMMBackground\n",
    "#\n",
    "# Scipy tools\n",
    "#\n",
    "from scipy import stats\n",
    "from scipy.interpolate import CubicSpline\n",
    "#\n",
    "# Use 90% of the window width\n",
    "#\n",
    "from IPython.core.display import display, HTML\n",
    "display(HTML(\"<style>.container { width:90% !important; }</style>\"))"
   ]
  },
  {
   "cell_type": "markdown",
   "id": "956910c8",
   "metadata": {},
   "source": [
    "### 2.2<font color='white'>-</font>Plotting function imports<a class=\"anchor\" id=\"matpl_imports\"></a> ###"
   ]
  },
  {
   "cell_type": "code",
   "execution_count": 3,
   "id": "9dee46d0",
   "metadata": {},
   "outputs": [],
   "source": [
    "%matplotlib inline\n",
    "from matplotlib import style, pyplot as plt\n",
    "import matplotlib.patches as patches\n",
    "import matplotlib.ticker as ticker\n",
    "\n",
    "from mpl_toolkits.axes_grid1 import make_axes_locatable\n",
    "\n",
    "plt.rcParams['image.cmap'] = 'viridis'\n",
    "plt.rcParams['image.origin'] = 'lower'\n",
    "plt.rcParams['axes.titlesize'] = plt.rcParams['axes.labelsize'] = 30\n",
    "plt.rcParams['xtick.labelsize'] = plt.rcParams['ytick.labelsize'] = 20\n",
    "\n",
    "font1 = {'family': 'helvetica', 'color': 'black', 'weight': 'normal', 'size': '12'}\n",
    "font2 = {'family': 'helvetica', 'color': 'black', 'weight': 'normal', 'size': '20'}"
   ]
  },
  {
   "cell_type": "code",
   "execution_count": 4,
   "id": "92799ab2",
   "metadata": {},
   "outputs": [],
   "source": [
    "%matplotlib inline\n",
    "# Figure size\n",
    "plt.rcParams['figure.figsize'] = [15, 15]\n",
    "# Figure text and font\n",
    "plt.rc('text', usetex=True)\n",
    "plt.rc('font', size=15)"
   ]
  },
  {
   "cell_type": "markdown",
   "id": "052f86b2",
   "metadata": {},
   "source": [
    "### 2.4 Useful Definitions"
   ]
  },
  {
   "cell_type": "code",
   "execution_count": 5,
   "id": "1fc48d58",
   "metadata": {},
   "outputs": [],
   "source": [
    "def arcsec2pix(x):\n",
    "    '''\n",
    "    Function that converts arcsec in MIRIM pixels.\n",
    "    It is used to setup the secondary axes in a plot.\n",
    "    \n",
    "    Inputs\n",
    "    ----------\n",
    "    x : float or array(float)\n",
    "        The value in arcsec.\n",
    "        \n",
    "    Outputs\n",
    "    ----------\n",
    "    The value(s) in MIRIM pixel.\n",
    "    '''\n",
    "    \n",
    "    return x/0.11"
   ]
  },
  {
   "cell_type": "code",
   "execution_count": 6,
   "id": "758d84fb",
   "metadata": {},
   "outputs": [],
   "source": [
    "def pix2arcsec(x):\n",
    "    '''\n",
    "    Function that converts MIRIM pixels in arcsec.\n",
    "    It is used to setup the secondary axes in a plot.\n",
    "    \n",
    "    Inputs\n",
    "    ----------\n",
    "    x : float or array(float)\n",
    "        The value in MIRIM pixels.\n",
    "        \n",
    "    Outputs\n",
    "    ----------\n",
    "    The value(s) in arcsec.\n",
    "    '''\n",
    "    \n",
    "    return x*0.11"
   ]
  },
  {
   "cell_type": "code",
   "execution_count": 7,
   "id": "6bd572fd",
   "metadata": {},
   "outputs": [
    {
     "name": "stdout",
     "output_type": "stream",
     "text": [
      "\n",
      "F560W-filter images:\n",
      "     1) ./data/det_image_seq1_MIRIMAGE_F560Wexp1_cal.fits\n",
      "     2) ./data/det_image_seq4_MIRIMAGE_F560Wexp1_cal.fits\n",
      "     3) ./data/det_image_seq3_MIRIMAGE_F560Wexp1_cal.fits\n",
      "     4) ./data/det_image_seq2_MIRIMAGE_F560Wexp1_cal.fits\n",
      "\n",
      "1 catalog found: ./data/complex_scene_F560W_combined_cat.ecsv\n",
      "\n",
      "F770W-filter images:\n",
      "     1) ./data/det_image_seq2_MIRIMAGE_F770Wexp1_cal.fits\n",
      "     2) ./data/det_image_seq3_MIRIMAGE_F770Wexp1_cal.fits\n",
      "     3) ./data/det_image_seq4_MIRIMAGE_F770Wexp1_cal.fits\n",
      "     4) ./data/det_image_seq1_MIRIMAGE_F770Wexp1_cal.fits\n",
      "\n",
      "1 catalog found: ./data/complex_scene_F770W_combined_cat.ecsv\n"
     ]
    }
   ],
   "source": [
    "folder_path = './data/'\n",
    "filter_names = ['F560W', 'F770W']\n",
    "\n",
    "img_names = {}\n",
    "cat_names = {}\n",
    "for f in filter_names:\n",
    "    print('')\n",
    "    print(r'{0}-filter images:'.format(f))\n",
    "    names = glob.glob(folder_path + 'det_*' + f + '*_cal.fits')\n",
    "    for n in range(len(names)):\n",
    "        print(r'     {0}) {1}'.format(n+1, names[n]))\n",
    "    img_names[f] = names\n",
    "    names = glob.glob(folder_path + 'complex_*' + f + '*cat*.ecsv')\n",
    "    cat_names[f] = names\n",
    "    print('')\n",
    "    print(r'1 catalog found: {0}'.format(names[0]))"
   ]
  },
  {
   "cell_type": "markdown",
   "id": "c27cf3db",
   "metadata": {},
   "source": [
    "**Note**: in this particular example, we analyze each image separately to provide a general overview of the different steps necessary to perform PSF photometry and to highlight the different functions adopted in this notebook."
   ]
  },
  {
   "cell_type": "markdown",
   "id": "6d2e034c",
   "metadata": {},
   "source": [
    "3.<font color='white'>-</font>Create your first NIRCam Color-Magnitude Diagram<a class=\"anchor\" id=\"bonusI\"></a>\n",
    "------------------"
   ]
  },
  {
   "cell_type": "markdown",
   "id": "58259625",
   "metadata": {},
   "source": [
    "### 3.1<font color='white'>-</font>Load images and output catalogs<a class=\"anchor\" id=\"load_data\"></a> ###"
   ]
  },
  {
   "cell_type": "code",
   "execution_count": 19,
   "id": "c5440b51",
   "metadata": {},
   "outputs": [],
   "source": [
    "if os.path.isfile('./PHOT_OUTPUT/phot_MIRIM_F560W.pkl'):\n",
    "    phot_f560w = './PHOT_OUTPUT/phot_MIRIM_F560W.pkl'\n",
    "\n",
    "#else:\n",
    "#    print('Downloading F115W PSF photometry')\n",
    "#    \n",
    "#    boxlink_ph_f115w = 'https://stsci.box.com/shared/static/f4s4ziwh7tb3827g0ac362swwta28lti.pkl'\n",
    "#    boxfile_ph_f115w = './phot_webbpsf_grid16_NRCB1_F115W.pkl'\n",
    "#    urllib.request.urlretrieve(boxlink_ph_f115w, boxfile_ph_f115w)\n",
    "#    phot_f115w = boxfile_ph_f115w\n",
    "#\n",
    "if os.path.isfile('./PHOT_OUTPUT/phot_MIRIM_F770W.pkl'):\n",
    "    phot_f770w = './PHOT_OUTPUT/phot_MIRIM_F770W.pkl'\n",
    "\n",
    "#else:\n",
    "#    print('Downloading F200W PSF Photometry')\n",
    "#    \n",
    "#    boxlink_ph_f200w = 'https://stsci.box.com/shared/static/983dxnxqz594ogn00e6m7ek7vq22gifr.pkl'\n",
    "#    boxfile_ph_f200w = './phot_webbpsf_grid16_NRCB1_F200W.pkl'\n",
    "#    urllib.request.urlretrieve(boxlink_ph_f200w, boxfile_ph_f200w)\n",
    "#    phot_f200w = boxfile_ph_f200w\n",
    "\n",
    "ph_f560w = pd.read_pickle(phot_f560w)\n",
    "ph_f770w = pd.read_pickle(phot_f770w)\n",
    "\n",
    "results_f560w = QTable.from_pandas(ph_f560w)\n",
    "results_f770w = QTable.from_pandas(ph_f770w)\n",
    "\n",
    "#image_f560w = ImageModel('./data/det_image_seq1_MIRIMAGE_F560Wexp1_cal.fits')\n",
    "#image_f770w = ImageModel('./data/det_image_seq2_MIRIMAGE_F770Wexp1_cal.fits')\n",
    "\n",
    "#image_f560w = ImageModel('./data/jw01171-o004_t001_miri_f560w_i2d.fits')\n",
    "#image_f770w = ImageModel('./data/jw01171-o003_t001_miri_f770w_i2d.fits')\n",
    "image_f560w = ImageModel('./data/jw01171001001_02101_00004_mirimage_i2d.fits')\n",
    "image_f770w = ImageModel('./data/jw01171001001_02101_00003_mirimage_i2d.fits')"
   ]
  },
  {
   "cell_type": "raw",
   "id": "7405b38b-ce88-459f-b6f7-2b0506bce1dc",
   "metadata": {},
   "source": [
    "if os.path.isfile('./PHOT_OUTPUT/phot_MIRIM_F770W.pkl'):\n",
    "    phot_f770w = './PHOT_OUTPUT/phot_MIRIM_F770W.pkl'\n",
    "\n",
    "ph_f770w = pd.read_pickle(phot_f770w)\n",
    "results_f770w = QTable.from_pandas(ph_f770w)"
   ]
  },
  {
   "cell_type": "markdown",
   "id": "72643e44",
   "metadata": {},
   "source": [
    "### 3.2<font color='white'>-</font>Cross-match PSF photometry catalogs<a class=\"anchor\" id=\"cross_match\"></a> ###"
   ]
  },
  {
   "cell_type": "markdown",
   "id": "003f1010",
   "metadata": {},
   "source": [
    "We select only stars with positive flux and we use the information from the image WCS to transform detector coordinates (x,y) to celestial coordinate (RA,Dec). \n",
    "\n",
    "We use the [SkyCoord](https://docs.astropy.org/en/stable/api/astropy.coordinates.SkyCoord.html) class and the [match_coordinates_sky](https://docs.astropy.org/en/stable/api/astropy.coordinates.match_coordinates_sky.html) function to finds the nearest on-sky matches between the set of catalog coordinates.\n",
    "\n",
    "We impose that a star is the same in both catalogs if the separation is < than `max_sep`, where `max_sep` is 0.015 arcsec (i.e., 0.5 px). "
   ]
  },
  {
   "cell_type": "code",
   "execution_count": 20,
   "id": "68410f33",
   "metadata": {},
   "outputs": [],
   "source": [
    "mask_f560w = ((results_f560w['x_fit'] > 0) & (results_f560w['x_fit'] < 2048) & \n",
    "              (results_f560w['y_fit'] > 0) & (results_f560w['y_fit'] < 2048) & \n",
    "              (results_f560w['flux_fit'] > 0))\n",
    "\n",
    "result_clean_f560w = results_f560w[mask_f560w]\n",
    "\n",
    "ra_f560w, dec_f560w = image_f560w.meta.wcs(result_clean_f560w['x_fit'], result_clean_f560w['y_fit'])\n",
    "radec_f560w = SkyCoord(ra_f560w, dec_f560w, unit='deg')\n",
    "result_clean_f560w['radec'] = radec_f560w\n",
    "\n",
    "mask_f770w = ((results_f770w['x_fit'] > 0) & (results_f770w['x_fit'] < 2048) & \n",
    "              (results_f770w['y_fit'] > 0) & (results_f770w['y_fit'] < 2048) & \n",
    "              (results_f770w['flux_fit'] > 0))\n",
    "\n",
    "result_clean_f770w = results_f770w[mask_f770w]\n",
    "\n",
    "ra_f770w, dec_f770w = image_f770w.meta.wcs(result_clean_f770w['x_fit'], result_clean_f770w['y_fit'])\n",
    "radec_f770w = SkyCoord(ra_f770w, dec_f770w, unit='deg')\n",
    "result_clean_f770w['radec'] = radec_f770w"
   ]
  },
  {
   "cell_type": "code",
   "execution_count": 21,
   "id": "3c586bf2",
   "metadata": {},
   "outputs": [],
   "source": [
    "#Clean up array with NANs\n",
    "\n",
    "res1 = result_clean_f560w\n",
    "res2 = result_clean_f770w\n",
    "\n",
    "clean1 = (~np.isnan(res1['radec'].ra) & ~np.isnan(res1['radec'].dec))\n",
    "res1 = res1[clean1]\n",
    "\n",
    "clean2 = (~np.isnan(res2['radec'].ra) & ~np.isnan(res2['radec'].dec))\n",
    "res2 = res2[clean2]"
   ]
  },
  {
   "cell_type": "code",
   "execution_count": 22,
   "id": "b3472fe9",
   "metadata": {},
   "outputs": [
    {
     "name": "stdout",
     "output_type": "stream",
     "text": [
      "Number of sources in common between the two filters: 444\n"
     ]
    }
   ],
   "source": [
    "max_sep = 0.12 * u.arcsec #1/2 FWHM https://jwst-docs.stsci.edu/jwst-mid-infrared-instrument/miri-predicted-performance/miri-point-spread-functions\n",
    "\n",
    "filt1 = 'F560W'\n",
    "filt2 = 'F770W'\n",
    "\n",
    "#res1 = result_clean_f560w\n",
    "#res2 = result_clean_f770w\n",
    "\n",
    "idx, d2d, _ = match_coordinates_sky(res1['radec'], res2['radec'])\n",
    "\n",
    "sep_constraint = d2d < max_sep\n",
    "\n",
    "match_phot_single = Table()\n",
    "\n",
    "x_0_F560W = res1['x_0'][sep_constraint]\n",
    "y_0_F560W = res1['y_0'][sep_constraint]\n",
    "x_fit_F560W = res1['x_fit'][sep_constraint]\n",
    "y_fit_F560W = res1['y_fit'][sep_constraint]\n",
    "radec_F560W = res1['radec'][sep_constraint]\n",
    "mag_F560W = (-2.5 * np.log10(res1['flux_fit']))[sep_constraint]\n",
    "emag_F560W = (1.086 * (res1['flux_unc'] / res1['flux_fit']))[sep_constraint]\n",
    "\n",
    "x_0_F770W = res2['x_0'][idx[sep_constraint]]\n",
    "y_0_F770W = res2['y_0'][idx[sep_constraint]]\n",
    "x_fit_F770W = res2['x_fit'][idx[sep_constraint]]\n",
    "y_fit_F770W = res2['y_fit'][idx[sep_constraint]]\n",
    "radec_F770W = res2['radec'][idx][sep_constraint]\n",
    "mag_F770W = (-2.5 * np.log10(res2['flux_fit']))[idx[sep_constraint]]\n",
    "emag_F770W = (1.086 * (res2['flux_unc'] / res2['flux_fit']))[idx[sep_constraint]]\n",
    "\n",
    "match_phot_single['x_0_' + filt1] = x_0_F560W\n",
    "match_phot_single['y_0_' + filt1] = y_0_F560W\n",
    "match_phot_single['x_fit_' + filt1] = x_fit_F560W\n",
    "match_phot_single['y_fit_' + filt1] = y_fit_F560W\n",
    "match_phot_single['radec_' + filt1] = radec_F560W\n",
    "match_phot_single['mag_' + filt1] = mag_F560W\n",
    "match_phot_single['emag_' + filt1] = emag_F560W\n",
    "match_phot_single['x_0_' + filt2] = x_0_F770W\n",
    "match_phot_single['y_0_' + filt2] = y_0_F770W\n",
    "match_phot_single['x_fit_' + filt2] = x_fit_F770W\n",
    "match_phot_single['y_fit_' + filt2] = y_fit_F770W\n",
    "match_phot_single['radec_' + filt2] = radec_F770W\n",
    "match_phot_single['mag_' + filt2] = mag_F770W\n",
    "match_phot_single['emag_' + filt2] = emag_F770W\n",
    "\n",
    "print('Number of sources in common between the two filters:', len(match_phot_single)) "
   ]
  },
  {
   "cell_type": "code",
   "execution_count": 23,
   "id": "57c48737",
   "metadata": {},
   "outputs": [
    {
     "data": {
      "text/html": [
       "<div><i>Table length=444</i>\n",
       "<table id=\"table140417545327232\" class=\"table-striped table-bordered table-condensed\">\n",
       "<thead><tr><th>x_0_F560W</th><th>y_0_F560W</th><th>x_fit_F560W</th><th>y_fit_F560W</th><th>radec_F560W</th><th>mag_F560W</th><th>emag_F560W</th><th>x_0_F770W</th><th>y_0_F770W</th><th>x_fit_F770W</th><th>y_fit_F770W</th><th>radec_F770W</th><th>mag_F770W</th><th>emag_F770W</th></tr></thead>\n",
       "<thead><tr><th></th><th></th><th></th><th></th><th>deg,deg</th><th></th><th></th><th></th><th></th><th></th><th></th><th>deg,deg</th><th></th><th></th></tr></thead>\n",
       "<thead><tr><th>float64</th><th>float64</th><th>float64</th><th>float64</th><th>SkyCoord</th><th>float64</th><th>float64</th><th>float64</th><th>float64</th><th>float64</th><th>float64</th><th>SkyCoord</th><th>float64</th><th>float64</th></tr></thead>\n",
       "<tr><td>727.241202583276</td><td>20.558939246561486</td><td>726.9832952863758</td><td>20.443515807868</td><td>80.45444300487387,-69.48975014509458</td><td>-11.999198809849812</td><td>0.39627897055497036</td><td>709.5607383421702</td><td>10.660162578104796</td><td>709.3946912314135</td><td>10.69177276748705</td><td>80.45445136764971,-69.48975624016268</td><td>-11.993183586030671</td><td>0.1404951493046657</td></tr>\n",
       "<tr><td>781.9652718138558</td><td>26.615438253209483</td><td>781.9821904605722</td><td>26.54077215980736</td><td>80.45766560936994,-69.48847477991629</td><td>-14.312085297644826</td><td>0.013508347927156649</td><td>764.5263094125056</td><td>16.71051666448932</td><td>764.50669279147</td><td>16.691970117785264</td><td>80.45767274044336,-69.4884763104756</td><td>-14.42041208882625</td><td>0.025902996418723505</td></tr>\n",
       "<tr><td>585.5699140921566</td><td>28.71739833543907</td><td>585.6187824764836</td><td>28.69163876097917</td><td>80.44787561380907,-69.49345243252071</td><td>-14.978275546487417</td><td>0.009826049279544455</td><td>568.2468057631523</td><td>18.82855052615411</td><td>568.3580819840578</td><td>18.768091002757853</td><td>80.44788822289428,-69.49344722540918</td><td>-14.827550487152978</td><td>0.010892043864151667</td></tr>\n",
       "<tr><td>990.1420489849008</td><td>33.943038546766196</td><td>990.3644095583345</td><td>33.890631152058056</td><td>80.46874131169581,-69.4833627057468</td><td>-12.626771465563637</td><td>0.06410536333462362</td><td>972.6254464937322</td><td>23.9854247587576</td><td>972.3887821277762</td><td>23.7400990967068</td><td>80.46870150966058,-69.48337147716214</td><td>-11.806146734040288</td><td>0.18939893530184024</td></tr>\n",
       "<tr><td>565.538531614357</td><td>37.283223339086696</td><td>565.377667087912</td><td>37.28863165826973</td><td>80.44746758066896,-69.49411411919232</td><td>-12.964947757097466</td><td>0.05660081415190262</td><td>547.8704697854319</td><td>27.199835905960565</td><td>548.066895504025</td><td>27.33825659719696</td><td>80.44747572263135,-69.49410969513508</td><td>-13.33641625075607</td><td>0.0360255680797428</td></tr>\n",
       "<tr><td>705.2234634420737</td><td>37.57472611486351</td><td>705.4905682267828</td><td>38.027891658083576</td><td>80.45461713834278,-69.49060278929373</td><td>-12.159256242778032</td><td>0.07367778616453967</td><td>687.3972614445214</td><td>27.846222325128043</td><td>687.3242503400786</td><td>27.75729945218093</td><td>80.45455898721201,-69.49061421149197</td><td>-11.927284792989372</td><td>0.149430220198748</td></tr>\n",
       "<tr><td>459.6926684723301</td><td>39.219856028263635</td><td>459.7337130744887</td><td>39.28604535743332</td><td>80.44225878246853,-69.49680678009715</td><td>-11.37787907238357</td><td>0.20521688047132414</td><td>442.3947646932521</td><td>29.479332523552934</td><td>442.28232391413565</td><td>29.746165713030056</td><td>80.44228925899922,-69.49681317358615</td><td>-11.431008144255088</td><td>0.23130737466498313</td></tr>\n",
       "<tr><td>694.2898235208801</td><td>45.229038314256194</td><td>694.372990491801</td><td>45.30208868789479</td><td>80.45457642012228,-69.49101151679305</td><td>-11.833137216311329</td><td>0.3585383890436902</td><td>676.938463946414</td><td>35.34962895450208</td><td>677.1846935007039</td><td>35.39927558531265</td><td>80.45459419938213,-69.4910048617864</td><td>-12.305402901426516</td><td>0.130727866609102</td></tr>\n",
       "<tr><td>701.154297020162</td><td>49.537812132213055</td><td>701.2967412697767</td><td>49.412285686028056</td><td>80.45522215362013,-69.49091027038807</td><td>-13.635120560218235</td><td>0.06565353347189538</td><td>683.7779150525681</td><td>39.57316785858703</td><td>684.039916093595</td><td>39.66045961602481</td><td>80.45524730390814,-69.49090801858087</td><td>-13.516825742562226</td><td>0.04087959996567158</td></tr>\n",
       "<tr><td>790.2619004301687</td><td>47.799040926716266</td><td>790.2545953453712</td><td>47.73717440259808</td><td>80.45960623846723,-69.48864271184488</td><td>-11.96613262045884</td><td>0.08890054264777467</td><td>772.5850096882417</td><td>37.91913597489949</td><td>772.4844353874912</td><td>37.7605484454487</td><td>80.45958927261697,-69.48864938919482</td><td>-12.449877865096497</td><td>0.060899746015337</td></tr>\n",
       "<tr><td>558.1425919155178</td><td>52.18112372750705</td><td>558.2034920383612</td><td>52.30427690238033</td><td>80.44818236371681,-69.494561027516</td><td>-12.061222404802303</td><td>0.5671470583319931</td><td>540.834754949535</td><td>42.361267420683724</td><td>540.4954741212107</td><td>42.524477383386184</td><td>80.44818262748636,-69.49456962304728</td><td>-11.622274643018075</td><td>0.4395401357572545</td></tr>\n",
       "<tr><td>588.2945755477151</td><td>52.85676474750466</td><td>588.3034446247967</td><td>52.841560880746606</td><td>80.44974565825306,-69.49381343518938</td><td>-14.870778081993807</td><td>0.004299016190256946</td><td>570.8641856692808</td><td>42.9180827558952</td><td>571.0002999985535</td><td>42.71758981379353</td><td>80.44974172309806,-69.49380574088742</td><td>-14.769004838291774</td><td>0.0038449243001441712</td></tr>\n",
       "<tr><td>1000.5137697441373</td><td>58.35611406996987</td><td>1000.403593428041</td><td>58.40315853277127</td><td>80.47100902990564,-69.48354487566587</td><td>-12.269456057971995</td><td>0.10673399224938031</td><td>983.3137697065965</td><td>48.52594684329714</td><td>983.3311442543413</td><td>48.61615936375608</td><td>80.47104102913737,-69.48353737307305</td><td>-12.03431379461896</td><td>0.1446010876579478</td></tr>\n",
       "<tr><td>...</td><td>...</td><td>...</td><td>...</td><td>...</td><td>...</td><td>...</td><td>...</td><td>...</td><td>...</td><td>...</td><td>...</td><td>...</td><td>...</td></tr>\n",
       "<tr><td>41.747303041318126</td><td>779.254255618187</td><td>41.73155378808528</td><td>779.2383131773669</td><td>80.47424951782808,-69.52044954094995</td><td>-9.481724371142086</td><td>--</td><td>24.1705086386814</td><td>769.4856530971365</td><td>24.287723282120396</td><td>769.2199983597986</td><td>80.47424584014824,-69.52044728276084</td><td>-11.156557219777776</td><td>0.23071867623276837</td></tr>\n",
       "<tr><td>522.6033752773915</td><td>918.5835704492152</td><td>521.9942447820603</td><td>917.7861546983363</td><td>80.50854104282828,-69.51081928768305</td><td>-10.469199082117669</td><td>--</td><td>515.2382820834883</td><td>892.1412112610947</td><td>504.10583521468766</td><td>908.0499754219868</td><td>80.5085352159723,-69.5108332511116</td><td>-12.49259206174063</td><td>--</td></tr>\n",
       "<tr><td>766.6940505788118</td><td>928.7105949905321</td><td>767.2135206225496</td><td>928.7644875225704</td><td>80.52174089192211,-69.50484091019219</td><td>-10.484916557489914</td><td>--</td><td>749.9182939151108</td><td>919.6663436007599</td><td>749.7547403041995</td><td>919.787452093302</td><td>80.52181144008287,-69.50485751813143</td><td>-13.708409361951787</td><td>--</td></tr>\n",
       "<tr><td>746.869674589315</td><td>332.19827557351914</td><td>746.869674589315</td><td>332.19827557351914</td><td>80.47783807494191,-69.49477958559174</td><td>6.8037273192116405</td><td>--</td><td>729.5680442974286</td><td>322.0410303532473</td><td>729.8026118295544</td><td>322.15723673335947</td><td>80.47785203062013,-69.49476744755117</td><td>-12.93119697380174</td><td>0.043507786970155476</td></tr>\n",
       "<tr><td>533.4412469534216</td><td>914.3244256494286</td><td>534.1173648039181</td><td>914.504549014695</td><td>80.50891877864031,-69.51045598585183</td><td>-10.976512753819547</td><td>--</td><td>516.6662964056059</td><td>904.3132839418811</td><td>516.2080647382196</td><td>904.3436685428609</td><td>80.50888135704919,-69.5104629497671</td><td>-11.63674349050069</td><td>--</td></tr>\n",
       "<tr><td>746.869674610047</td><td>332.19827558856167</td><td>746.869674610047</td><td>332.19827558856167</td><td>80.47783807494406,-69.49477958559149</td><td>6.800894339548571</td><td>--</td><td>729.5680442974286</td><td>322.0410303532473</td><td>729.8026118295544</td><td>322.15723673335947</td><td>80.47785203062013,-69.49476744755117</td><td>-12.93119697380174</td><td>0.043507786970155476</td></tr>\n",
       "<tr><td>41.42623276370002</td><td>779.6097363575425</td><td>41.281880326008434</td><td>778.7034920624232</td><td>80.47418826342775,-69.52045137058657</td><td>-9.929641620229106</td><td>--</td><td>24.1705086386814</td><td>769.4856530971365</td><td>24.287723282120396</td><td>769.2199983597986</td><td>80.47424584014824,-69.52044728276084</td><td>-11.156557219777776</td><td>0.23071867623276837</td></tr>\n",
       "<tr><td>533.4180586831854</td><td>914.2023392246093</td><td>533.5369786022225</td><td>914.5693054406944</td><td>80.50889405432164,-69.51047174229663</td><td>-10.585660806031466</td><td>--</td><td>516.6662964056059</td><td>904.3132839418811</td><td>516.2080647382196</td><td>904.3436685428609</td><td>80.50888135704919,-69.5104629497671</td><td>-11.63674349050069</td><td>--</td></tr>\n",
       "<tr><td>766.6372477192965</td><td>928.7539681312905</td><td>766.807804921295</td><td>928.96421906587</td><td>80.52173472588628,-69.50485466218846</td><td>-9.232575388402653</td><td>--</td><td>749.9182939151108</td><td>919.6663436007599</td><td>749.7547403041995</td><td>919.787452093302</td><td>80.52181144008287,-69.50485751813143</td><td>-13.708409361951787</td><td>--</td></tr>\n",
       "<tr><td>781.9264955596012</td><td>27.800112518322983</td><td>781.7521695203276</td><td>27.41632369995413</td><td>80.45771682235728,-69.48849609953831</td><td>-8.322090214676699</td><td>--</td><td>764.5263094125056</td><td>16.71051666448932</td><td>764.50669279147</td><td>16.691970117785264</td><td>80.45767274044336,-69.4884763104756</td><td>-14.42041208882625</td><td>0.025902996418723505</td></tr>\n",
       "<tr><td>746.8696746307791</td><td>332.1982756036042</td><td>746.8696746307791</td><td>332.1982756036042</td><td>80.47783807494618,-69.49477958559123</td><td>6.798068753355373</td><td>--</td><td>729.5680442974286</td><td>322.0410303532473</td><td>729.8026118295544</td><td>322.15723673335947</td><td>80.47785203062013,-69.49476744755117</td><td>-12.93119697380174</td><td>0.043507786970155476</td></tr>\n",
       "<tr><td>41.48974607638766</td><td>779.7318433790338</td><td>40.96305687207093</td><td>779.2912445611244</td><td>80.47421437117187,-69.52046981584265</td><td>-8.954601376677227</td><td>--</td><td>24.1705086386814</td><td>769.4856530971365</td><td>24.287723282120396</td><td>769.2199983597986</td><td>80.47424584014824,-69.52044728276084</td><td>-11.156557219777776</td><td>0.23071867623276837</td></tr>\n",
       "<tr><td>533.3828566657987</td><td>914.1537267167666</td><td>533.4362058728696</td><td>913.3577164915654</td><td>80.50880182759167,-69.51045280956131</td><td>-11.843707293976305</td><td>--</td><td>516.6662964056059</td><td>904.3132839418811</td><td>516.2080647382196</td><td>904.3436685428609</td><td>80.50888135704919,-69.5104629497671</td><td>-11.63674349050069</td><td>--</td></tr>\n",
       "</table></div>"
      ],
      "text/plain": [
       "<Table length=444>\n",
       "    x_0_F560W          y_0_F560W         x_fit_F560W        y_fit_F560W                 radec_F560W              ...    x_fit_F770W        y_fit_F770W                 radec_F770W                   mag_F770W            emag_F770W     \n",
       "                                                                                          deg,deg                ...                                                     deg,deg                                                         \n",
       "     float64            float64            float64            float64                     SkyCoord               ...      float64            float64                     SkyCoord                     float64              float64       \n",
       "------------------ ------------------ ------------------ ------------------ ------------------------------------ ... ------------------ ------------------ ------------------------------------ ------------------- ---------------------\n",
       "  727.241202583276 20.558939246561486  726.9832952863758    20.443515807868 80.45444300487387,-69.48975014509458 ...  709.3946912314135  10.69177276748705 80.45445136764971,-69.48975624016268 -11.993183586030671    0.1404951493046657\n",
       " 781.9652718138558 26.615438253209483  781.9821904605722  26.54077215980736 80.45766560936994,-69.48847477991629 ...    764.50669279147 16.691970117785264  80.45767274044336,-69.4884763104756  -14.42041208882625  0.025902996418723505\n",
       " 585.5699140921566  28.71739833543907  585.6187824764836  28.69163876097917 80.44787561380907,-69.49345243252071 ...  568.3580819840578 18.768091002757853 80.44788822289428,-69.49344722540918 -14.827550487152978  0.010892043864151667\n",
       " 990.1420489849008 33.943038546766196  990.3644095583345 33.890631152058056  80.46874131169581,-69.4833627057468 ...  972.3887821277762   23.7400990967068 80.46870150966058,-69.48337147716214 -11.806146734040288   0.18939893530184024\n",
       "  565.538531614357 37.283223339086696   565.377667087912  37.28863165826973 80.44746758066896,-69.49411411919232 ...   548.066895504025  27.33825659719696 80.44747572263135,-69.49410969513508  -13.33641625075607    0.0360255680797428\n",
       " 705.2234634420737  37.57472611486351  705.4905682267828 38.027891658083576 80.45461713834278,-69.49060278929373 ...  687.3242503400786  27.75729945218093 80.45455898721201,-69.49061421149197 -11.927284792989372     0.149430220198748\n",
       " 459.6926684723301 39.219856028263635  459.7337130744887  39.28604535743332 80.44225878246853,-69.49680678009715 ... 442.28232391413565 29.746165713030056 80.44228925899922,-69.49681317358615 -11.431008144255088   0.23130737466498313\n",
       " 694.2898235208801 45.229038314256194   694.372990491801  45.30208868789479 80.45457642012228,-69.49101151679305 ...  677.1846935007039  35.39927558531265  80.45459419938213,-69.4910048617864 -12.305402901426516     0.130727866609102\n",
       "  701.154297020162 49.537812132213055  701.2967412697767 49.412285686028056 80.45522215362013,-69.49091027038807 ...   684.039916093595  39.66045961602481 80.45524730390814,-69.49090801858087 -13.516825742562226   0.04087959996567158\n",
       " 790.2619004301687 47.799040926716266  790.2545953453712  47.73717440259808 80.45960623846723,-69.48864271184488 ...  772.4844353874912   37.7605484454487 80.45958927261697,-69.48864938919482 -12.449877865096497     0.060899746015337\n",
       " 558.1425919155178  52.18112372750705  558.2034920383612  52.30427690238033   80.44818236371681,-69.494561027516 ...  540.4954741212107 42.524477383386184 80.44818262748636,-69.49456962304728 -11.622274643018075    0.4395401357572545\n",
       " 588.2945755477151  52.85676474750466  588.3034446247967 52.841560880746606 80.44974565825306,-69.49381343518938 ...  571.0002999985535  42.71758981379353 80.44974172309806,-69.49380574088742 -14.769004838291774 0.0038449243001441712\n",
       "1000.5137697441373  58.35611406996987  1000.403593428041  58.40315853277127 80.47100902990564,-69.48354487566587 ...  983.3311442543413  48.61615936375608 80.47104102913737,-69.48353737307305  -12.03431379461896    0.1446010876579478\n",
       "               ...                ...                ...                ...                                  ... ...                ...                ...                                  ...                 ...                   ...\n",
       "41.747303041318126   779.254255618187  41.73155378808528  779.2383131773669 80.47424951782808,-69.52044954094995 ... 24.287723282120396  769.2199983597986 80.47424584014824,-69.52044728276084 -11.156557219777776   0.23071867623276837\n",
       " 522.6033752773915  918.5835704492152  521.9942447820603  917.7861546983363 80.50854104282828,-69.51081928768305 ... 504.10583521468766  908.0499754219868   80.5085352159723,-69.5108332511116  -12.49259206174063                    --\n",
       " 766.6940505788118  928.7105949905321  767.2135206225496  928.7644875225704 80.52174089192211,-69.50484091019219 ...  749.7547403041995   919.787452093302 80.52181144008287,-69.50485751813143 -13.708409361951787                    --\n",
       "  746.869674589315 332.19827557351914   746.869674589315 332.19827557351914 80.47783807494191,-69.49477958559174 ...  729.8026118295544 322.15723673335947 80.47785203062013,-69.49476744755117  -12.93119697380174  0.043507786970155476\n",
       " 533.4412469534216  914.3244256494286  534.1173648039181   914.504549014695 80.50891877864031,-69.51045598585183 ...  516.2080647382196  904.3436685428609  80.50888135704919,-69.5104629497671  -11.63674349050069                    --\n",
       "  746.869674610047 332.19827558856167   746.869674610047 332.19827558856167 80.47783807494406,-69.49477958559149 ...  729.8026118295544 322.15723673335947 80.47785203062013,-69.49476744755117  -12.93119697380174  0.043507786970155476\n",
       " 41.42623276370002  779.6097363575425 41.281880326008434  778.7034920624232 80.47418826342775,-69.52045137058657 ... 24.287723282120396  769.2199983597986 80.47424584014824,-69.52044728276084 -11.156557219777776   0.23071867623276837\n",
       " 533.4180586831854  914.2023392246093  533.5369786022225  914.5693054406944 80.50889405432164,-69.51047174229663 ...  516.2080647382196  904.3436685428609  80.50888135704919,-69.5104629497671  -11.63674349050069                    --\n",
       " 766.6372477192965  928.7539681312905   766.807804921295    928.96421906587 80.52173472588628,-69.50485466218846 ...  749.7547403041995   919.787452093302 80.52181144008287,-69.50485751813143 -13.708409361951787                    --\n",
       " 781.9264955596012 27.800112518322983  781.7521695203276  27.41632369995413 80.45771682235728,-69.48849609953831 ...    764.50669279147 16.691970117785264  80.45767274044336,-69.4884763104756  -14.42041208882625  0.025902996418723505\n",
       " 746.8696746307791  332.1982756036042  746.8696746307791  332.1982756036042 80.47783807494618,-69.49477958559123 ...  729.8026118295544 322.15723673335947 80.47785203062013,-69.49476744755117  -12.93119697380174  0.043507786970155476\n",
       " 41.48974607638766  779.7318433790338  40.96305687207093  779.2912445611244 80.47421437117187,-69.52046981584265 ... 24.287723282120396  769.2199983597986 80.47424584014824,-69.52044728276084 -11.156557219777776   0.23071867623276837\n",
       " 533.3828566657987  914.1537267167666  533.4362058728696  913.3577164915654 80.50880182759167,-69.51045280956131 ...  516.2080647382196  904.3436685428609  80.50888135704919,-69.5104629497671  -11.63674349050069                    --"
      ]
     },
     "execution_count": 23,
     "metadata": {},
     "output_type": "execute_result"
    }
   ],
   "source": [
    "match_phot_single"
   ]
  },
  {
   "cell_type": "markdown",
   "id": "d2c2fcb6",
   "metadata": {},
   "source": [
    "### 3.3<font color='white'>-</font>Photometric Calibration<a class=\"anchor\" id=\"wcs\"></a> ###\n",
    "\n"
   ]
  },
  {
   "cell_type": "code",
   "execution_count": null,
   "id": "cbb1a56a",
   "metadata": {},
   "outputs": [],
   "source": [
    "calib_cat_F560W = Table.read(cat_names['F560W'][0])\n",
    "calib_cat_F560W.pprint_all(max_lines=1, max_width=200)\n",
    "calib_cat_F770W = Table.read(cat_names['F770W'][0])\n",
    "calib_cat_F770W.pprint_all(max_lines=1, max_width=200)"
   ]
  },
  {
   "cell_type": "markdown",
   "id": "142c6d4d",
   "metadata": {},
   "source": [
    "For the cross-match of these catalogs, we can use [_match_coordinates_sky_](https://docs.astropy.org/en/stable/coordinates/matchsep.html#matching-catalogs). This function uses a proximity-based approach to find the same star in two catalogs. It requires coordinates to be stored as [_SkyCoord_](https://docs.astropy.org/en/stable/api/astropy.coordinates.SkyCoord.html#astropy.coordinates.SkyCoord) objects."
   ]
  },
  {
   "cell_type": "code",
   "execution_count": null,
   "id": "a863e8c5",
   "metadata": {},
   "outputs": [],
   "source": [
    "coord_cal = SkyCoord(ra=match_phot_single['radec_F560W'][:].ra, dec=match_phot_single['radec_F560W'][:].dec, unit=\"deg\")\n",
    "coord_i2d = SkyCoord(ra=calib_cat_F560W['sky_centroid'].ra.degree, dec=calib_cat_F560W['sky_centroid'].dec.degree, unit=\"deg\")\n",
    "ind_i2d_cat, dist_2d, _ = match_coordinates_sky(coord_cal, coord_i2d)"
   ]
  },
  {
   "cell_type": "markdown",
   "id": "80d5f1b6",
   "metadata": {},
   "source": [
    "The first output _ind_i2d_cat_ is an array containing the indexes of the stars in the pipeline source catalog that are the closest objects to each source in our F560W-filter catalog. The second output _dist_2d_ is an array with the on-sky distances between sources. We do not need to save the last output because it corresponds to an array of 3D distances between sources. We do not need it here.\n",
    "\n",
    "Being based just on proximity, this algorithm can present some issues in very crowded environments. It is always a good idea to check the result of the cross-match:"
   ]
  },
  {
   "cell_type": "code",
   "execution_count": null,
   "id": "b730a0e9",
   "metadata": {},
   "outputs": [],
   "source": [
    "delta_ra = 3600.0*(match_phot_single['radec_F560W'][:].ra.degree*np.cos(np.deg2rad(match_phot_single['radec_F560W'][:].dec.degree)) - \n",
    "                   calib_cat_F560W[ind_i2d_cat]['sky_centroid'].ra.degree*np.cos(np.deg2rad(calib_cat_F560W[ind_i2d_cat]['sky_centroid'].dec.degree)))\n",
    "\n",
    "delta_dec = 3600.0*(match_phot_single['radec_F560W'][:].dec.degree - calib_cat_F560W[ind_i2d_cat]['sky_centroid'].dec.degree)\n",
    "\n",
    "fig, ax = plt.subplots()\n",
    "ax.scatter(delta_ra, delta_dec, lw=0.5, s=5, color='black', marker='o')\n",
    "circle = plt.Circle((0, 0), 0.055, color='r', fill=False)\n",
    "ax.add_patch(circle)\n",
    "ax.set_xlim(-0.5, 0.5)\n",
    "ax.set_ylim(-0.5, 0.5)\n",
    "ax.axhline(0, color='red', ls='--')\n",
    "ax.axvline(0, color='red', ls='--')\n",
    "ax.set_aspect('equal', 'box')\n",
    "ax.set_xlabel(r'$\\Delta\\textrm{(R.A.}\\cos\\textrm{Dec.) [arcsec]}$')\n",
    "ax.set_ylabel(r'$\\Delta\\textrm{Dec. [arcsec]}$')\n",
    "\n",
    "ax2 = ax.secondary_xaxis('top', functions=(arcsec2pix, pix2arcsec))\n",
    "ax2.set_xlabel(r'$\\Delta\\textrm{(R.A.}\\cos\\textrm{Dec.) [MIRIM pixel]}$')\n",
    "ay2 = ax.secondary_yaxis('right', functions=(arcsec2pix, pix2arcsec))\n",
    "ay2.set_ylabel(r'$\\Delta\\textrm{Dec. [MIRIM pixel]}$')\n",
    "\n",
    "plt.tight_layout()"
   ]
  },
  {
   "cell_type": "code",
   "execution_count": null,
   "id": "0ba47363",
   "metadata": {},
   "outputs": [],
   "source": [
    "phot_F560W_matched = match_phot_single[dist_2d.arcsec/0.11 < 0.5]\n",
    "calib_cat_F560W_matched = calib_cat_F560W[ind_i2d_cat[dist_2d.arcsec/0.11 < 0.5]]"
   ]
  },
  {
   "cell_type": "code",
   "execution_count": null,
   "id": "0f8003d9",
   "metadata": {},
   "outputs": [],
   "source": [
    "coord_cal = SkyCoord(ra=match_phot_single['radec_F770W'][:].ra, dec=match_phot_single['radec_F770W'][:].dec, unit=\"deg\")\n",
    "coord_i2d = SkyCoord(ra=calib_cat_F770W['sky_centroid'].ra.degree, dec=calib_cat_F770W['sky_centroid'].dec.degree, unit=\"deg\")\n",
    "ind_i2d_cat, dist_2d, _ = match_coordinates_sky(coord_cal, coord_i2d)"
   ]
  },
  {
   "cell_type": "code",
   "execution_count": null,
   "id": "4ad30f6e",
   "metadata": {},
   "outputs": [],
   "source": [
    "delta_ra = 3600.0*(match_phot_single['radec_F770W'][:].ra.degree*np.cos(np.deg2rad(match_phot_single['radec_F770W'][:].dec.degree)) - \n",
    "                   calib_cat_F770W[ind_i2d_cat]['sky_centroid'].ra.degree*np.cos(np.deg2rad(calib_cat_F770W[ind_i2d_cat]['sky_centroid'].dec.degree)))\n",
    "\n",
    "delta_dec = 3600.0*(match_phot_single['radec_F770W'][:].dec.degree - calib_cat_F770W[ind_i2d_cat]['sky_centroid'].dec.degree)\n",
    "\n",
    "fig, ax = plt.subplots()\n",
    "ax.scatter(delta_ra, delta_dec, lw=0.5, s=5, color='black', marker='o')\n",
    "circle = plt.Circle((0, 0), 0.055, color='r', fill=False)\n",
    "ax.add_patch(circle)\n",
    "ax.set_xlim(-0.5, 0.5)\n",
    "ax.set_ylim(-0.5, 0.5)\n",
    "ax.axhline(0, color='red', ls='--')\n",
    "ax.axvline(0, color='red', ls='--')\n",
    "ax.set_aspect('equal', 'box')\n",
    "ax.set_xlabel(r'$\\Delta\\textrm{(R.A.}\\cos\\textrm{Dec.) [arcsec]}$')\n",
    "ax.set_ylabel(r'$\\Delta\\textrm{Dec. [arcsec]}$')\n",
    "\n",
    "ax2 = ax.secondary_xaxis('top', functions=(arcsec2pix, pix2arcsec))\n",
    "ax2.set_xlabel(r'$\\Delta\\textrm{(R.A.}\\cos\\textrm{Dec.) [MIRIM pixel]}$')\n",
    "ay2 = ax.secondary_yaxis('right', functions=(arcsec2pix, pix2arcsec))\n",
    "ay2.set_ylabel(r'$\\Delta\\textrm{Dec. [MIRIM pixel]}$')\n",
    "\n",
    "plt.tight_layout()"
   ]
  },
  {
   "cell_type": "markdown",
   "id": "9a4e08f4",
   "metadata": {},
   "source": [
    "Let's define as \"found\" only objects with a positional rms lower than 0.5 MIRIM pixel, i.e., 0.055 arcsec."
   ]
  },
  {
   "cell_type": "code",
   "execution_count": null,
   "id": "33c326b4",
   "metadata": {},
   "outputs": [],
   "source": [
    "phot_F770W_matched = match_phot_single[dist_2d.arcsec/0.11 < 0.5]\n",
    "calib_cat_F770W_matched = calib_cat_F770W[ind_i2d_cat[dist_2d.arcsec/0.11 < 0.5]]"
   ]
  },
  {
   "cell_type": "markdown",
   "id": "856db614",
   "metadata": {},
   "source": [
    "Next, we need to compute the zero-point between the magnitudes in our custom _cal.fits_-based catalog and those in the pipeline source catalog. This simple step takes into account for (1) the finite-aperture correction and (2) the AB (or Vega) magnitude zero-point. The finite-aperture correction is necessary because the flux measured within a finite aperture is just a fraction of the total signal of a source. In this example, we calibrate our instrumental magnitude r1.\n",
    "\n",
    "We do not need to use all stars. It is preferred to use only bright sources since they should be well-measured in both catalogs. For this specific example, we only apply a magnitude-based selection. You can apply all necessary criteria to ensure the selection of the best objects for the task."
   ]
  },
  {
   "cell_type": "code",
   "execution_count": null,
   "id": "94d693cb",
   "metadata": {},
   "outputs": [],
   "source": [
    "# Magnitude limit\n",
    "ok = phot_F560W_matched['mag_F560W'] < -3\n",
    "\n",
    "delta_mag = phot_F560W_matched['mag_F560W'][ok]-calib_cat_F560W_matched['aper_total_abmag'][ok]\n",
    "\n",
    "_, mag_med_F560W, mag_rms_F560W = sigma_clipped_stats(delta_mag, sigma=2.0, maxiters=10)\n",
    "\n",
    "print('')\n",
    "print(r' Magnitude zero-point: {0:.3f} mag'.format(mag_med_F560W))"
   ]
  },
  {
   "cell_type": "code",
   "execution_count": null,
   "id": "eb3873a1",
   "metadata": {},
   "outputs": [],
   "source": [
    "# Magnitude limit\n",
    "ok = phot_F770W_matched['mag_F770W'] < -3.5\n",
    "\n",
    "delta_mag = phot_F770W_matched['mag_F770W'][ok]-calib_cat_F770W_matched['aper_total_abmag'][ok]\n",
    "\n",
    "# Complete the line below\n",
    "_, mag_med_F770W, mag_rms_F770W = sigma_clipped_stats(delta_mag, sigma=2.0, maxiters=10)\n",
    "\n",
    "print('')\n",
    "print(r' Magnitude zero-point: {0:.3f} mag'.format(mag_med_F770W))"
   ]
  },
  {
   "cell_type": "markdown",
   "id": "469b40a2",
   "metadata": {},
   "source": [
    "Let's plot the $\\Delta$mag as a function of instrumental magnitude."
   ]
  },
  {
   "cell_type": "code",
   "execution_count": null,
   "id": "f40ad7cb",
   "metadata": {},
   "outputs": [],
   "source": [
    "fig, ax = plt.subplots()\n",
    "ax.scatter(phot_F560W_matched['mag_F560W'], phot_F560W_matched['mag_F560W']-calib_cat_F560W_matched['aper_total_abmag'], \n",
    "           lw=0.5, s=5, color='black', marker='o')\n",
    "ax.set_xlim(-8, -2)\n",
    "ax.set_ylim(-26, -24)\n",
    "ax.axhline(mag_med_F560W, color='red', ls='--')\n",
    "ax.set_xlabel(r'F560W mag')\n",
    "ax.set_ylabel(r'$\\Delta$mag')\n",
    "plt.tight_layout()"
   ]
  },
  {
   "cell_type": "code",
   "execution_count": null,
   "id": "6f4c735d",
   "metadata": {},
   "outputs": [],
   "source": [
    "fig, ax = plt.subplots()\n",
    "ax.scatter(phot_F770W_matched['mag_F770W'], phot_F770W_matched['mag_F770W']-calib_cat_F770W_matched['aper_total_abmag'], \n",
    "           lw=0.5, s=5, color='black', marker='o')\n",
    "ax.set_xlim(-8, -2)\n",
    "ax.set_ylim(-26, -24)\n",
    "ax.axhline(mag_med_F770W, color='red', ls='--')\n",
    "ax.set_xlabel(r'F770W mag')\n",
    "ax.set_ylabel(r'$\\Delta$mag')\n",
    "plt.tight_layout()"
   ]
  },
  {
   "cell_type": "markdown",
   "id": "eda043dc",
   "metadata": {},
   "source": [
    "Finally, the calibrate AB mag of our stars is simply:"
   ]
  },
  {
   "cell_type": "code",
   "execution_count": null,
   "id": "8384c71a",
   "metadata": {},
   "outputs": [],
   "source": [
    "match_phot_single['ABmag_F560W'] = match_phot_single['mag_F560W'] - mag_med_F560W\n",
    "match_phot_single['ABmag_F770W'] = match_phot_single['mag_F770W'] - mag_med_F770W"
   ]
  },
  {
   "cell_type": "markdown",
   "id": "a50d6492",
   "metadata": {},
   "source": [
    "The same procedure can be used to convert our instrumental magnitudes in the Vega system."
   ]
  },
  {
   "cell_type": "markdown",
   "id": "f149415d",
   "metadata": {},
   "source": [
    "We have built two catalogs for the same field in two filters. We can combine the photometry in these catalogs to create our first mid-infrared color-magnitude diagram."
   ]
  },
  {
   "cell_type": "markdown",
   "id": "a081a337",
   "metadata": {},
   "source": [
    "Let's check the result of the cross-match:"
   ]
  },
  {
   "cell_type": "markdown",
   "id": "69f37dc0",
   "metadata": {},
   "source": [
    "Finally, we can make our first mid-infrared color-magnitude diagram:"
   ]
  },
  {
   "cell_type": "code",
   "execution_count": 31,
   "id": "b747ead3-7eb5-42e2-9db2-be23156a01ff",
   "metadata": {},
   "outputs": [
    {
     "data": {
      "text/html": [
       "&lt;MaskedColumn name=&apos;mag_F770W&apos; dtype=&apos;float64&apos; length=444&gt;\n",
       "<table>\n",
       "<tr><td>-11.993183586030671</td></tr>\n",
       "<tr><td>-14.42041208882625</td></tr>\n",
       "<tr><td>-14.827550487152978</td></tr>\n",
       "<tr><td>-11.806146734040288</td></tr>\n",
       "<tr><td>-13.33641625075607</td></tr>\n",
       "<tr><td>-11.927284792989372</td></tr>\n",
       "<tr><td>-11.431008144255088</td></tr>\n",
       "<tr><td>-12.305402901426516</td></tr>\n",
       "<tr><td>-13.516825742562226</td></tr>\n",
       "<tr><td>-12.449877865096497</td></tr>\n",
       "<tr><td>-11.622274643018075</td></tr>\n",
       "<tr><td>-14.769004838291774</td></tr>\n",
       "<tr><td>-12.03431379461896</td></tr>\n",
       "<tr><td>-11.210024117635744</td></tr>\n",
       "<tr><td>-15.85489514791184</td></tr>\n",
       "<tr><td>-13.030763494835835</td></tr>\n",
       "<tr><td>...</td></tr>\n",
       "<tr><td>-13.708409361951787</td></tr>\n",
       "<tr><td>-12.93119697380174</td></tr>\n",
       "<tr><td>-11.156557219777776</td></tr>\n",
       "<tr><td>-12.49259206174063</td></tr>\n",
       "<tr><td>-13.708409361951787</td></tr>\n",
       "<tr><td>-12.93119697380174</td></tr>\n",
       "<tr><td>-11.63674349050069</td></tr>\n",
       "<tr><td>-12.93119697380174</td></tr>\n",
       "<tr><td>-11.156557219777776</td></tr>\n",
       "<tr><td>-11.63674349050069</td></tr>\n",
       "<tr><td>-13.708409361951787</td></tr>\n",
       "<tr><td>-14.42041208882625</td></tr>\n",
       "<tr><td>-12.93119697380174</td></tr>\n",
       "<tr><td>-11.156557219777776</td></tr>\n",
       "<tr><td>-11.63674349050069</td></tr>\n",
       "</table>"
      ],
      "text/plain": [
       "<MaskedColumn name='mag_F770W' dtype='float64' length=444>\n",
       "-11.993183586030671\n",
       " -14.42041208882625\n",
       "-14.827550487152978\n",
       "-11.806146734040288\n",
       " -13.33641625075607\n",
       "-11.927284792989372\n",
       "-11.431008144255088\n",
       "-12.305402901426516\n",
       "-13.516825742562226\n",
       "-12.449877865096497\n",
       "-11.622274643018075\n",
       "-14.769004838291774\n",
       " -12.03431379461896\n",
       "-11.210024117635744\n",
       " -15.85489514791184\n",
       "-13.030763494835835\n",
       "                ...\n",
       "-13.708409361951787\n",
       " -12.93119697380174\n",
       "-11.156557219777776\n",
       " -12.49259206174063\n",
       "-13.708409361951787\n",
       " -12.93119697380174\n",
       " -11.63674349050069\n",
       " -12.93119697380174\n",
       "-11.156557219777776\n",
       " -11.63674349050069\n",
       "-13.708409361951787\n",
       " -14.42041208882625\n",
       " -12.93119697380174\n",
       "-11.156557219777776\n",
       " -11.63674349050069"
      ]
     },
     "execution_count": 31,
     "metadata": {},
     "output_type": "execute_result"
    },
    {
     "data": {
      "image/png": "[encoded data removed]",
      "text/plain": [
       "<Figure size 1080x1080 with 1 Axes>"
      ]
     },
     "metadata": {
      "needs_background": "light"
     },
     "output_type": "display_data"
    }
   ],
   "source": [
    "fig, ax = plt.subplots()\n",
    "ax.set_aspect(0.15)\n",
    "ax.scatter(match_phot_single['mag_F560W']-match_phot_single['mag_F770W'], \n",
    "           match_phot_single['mag_F770W'], lw=0.5, s=5, marker='o', color='black')\n",
    "ax.set_xlim(-01.0+0.5, 0.02+0.5)\n",
    "ax.set_ylim(24-35, 17-35)\n",
    "ax.set_xlabel(r'$(m_{\\textrm{F560W}}-m_{\\textrm{F770W}})$')\n",
    "ax.set_ylabel(r'$m_{\\textrm{F770W}}$')\n",
    "ax.set_title(r'The First MIRI CMD (LMC)')\n",
    "plt.tight_layout()\n",
    "#match_phot_single['mag_F560W']-match_phot_single['mag_F770W']\n",
    "match_phot_single['mag_F770W']"
   ]
  },
  {
   "cell_type": "markdown",
   "id": "5630029f-31d1-42cd-8454-225e86cabc48",
   "metadata": {},
   "source": [
    "<hr style=\"border:1px solid gray\"> </hr>"
   ]
  },
  {
   "cell_type": "markdown",
   "id": "843b5201-6f57-46f0-9da0-b738714178d3",
   "metadata": {},
   "source": [
    "<img style=\"float: center;\" src=\"https://raw.githubusercontent.com/spacetelescope/notebooks/master/assets/stsci_pri_combo_mark_horizonal_white_bkgd.png\" alt=\"Space Telescope Logo\" width=\"200px\"/>"
   ]
  }
 ],
 "metadata": {
  "kernelspec": {
   "display_name": "Python 3 (ipykernel)",
   "language": "python",
   "name": "python3"
  },
  "language_info": {
   "codemirror_mode": {
    "name": "ipython",
    "version": 3
   },
   "file_extension": ".py",
   "mimetype": "text/x-python",
   "name": "python",
   "nbconvert_exporter": "python",
   "pygments_lexer": "ipython3",
   "version": "3.8.10"
  },
  "toc-showcode": false
 },
 "nbformat": 4,
 "nbformat_minor": 5
}
