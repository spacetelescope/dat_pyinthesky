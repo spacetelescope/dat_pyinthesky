{
 "cells": [
  {
   "cell_type": "markdown",
   "id": "b58d6954",
   "metadata": {},
   "source": [
    "# MIRI PSF Photometry #3 - Create your first MIRI Color-Magnitude Diagram\n",
    "\n",
    "**Author**: Ori Fox\n",
    "<br>\n",
    "**Last Updated**: March, 2022"
   ]
  },
  {
   "cell_type": "markdown",
   "id": "7df4f696",
   "metadata": {},
   "source": [
    "## Table of contents\n",
    "1. [Introduction](#intro)<br>\n",
    "2. [Setup](#setup)<br>\n",
    "    2.1 [Python imports](#py_imports)<br>\n",
    "    2.2 [Plotting functions imports](#matpl_imports)<br>\n",
    "    2.3 [PSF FWHM dictionary](#psf_fwhm)<br>\n",
    "3. [Import image to analyze](#data)<br>\n",
    "4. [Create your first MIRI Color-Magnitude Diagram](#bonusI)<br>\n",
    "    4.1 [Load images and output catalogs](#load_data)<br>\n",
    "    4.2 [Cross-match PSF photometry catalogs](#cross_match)<br>\n",
    "    4.3 [Load input catalogs](#load_input)<br>\n",
    "    4.4 [Cross-match input catalogs](#cross_match_input)<br>\n",
    "    4.5 [Instrumental Color-Magnitude Diagram](#cmd)<br>"
   ]
  },
  {
   "cell_type": "markdown",
   "id": "4f572688",
   "metadata": {},
   "source": [
    "1.<font color='white'>-</font>Introduction <a class=\"anchor\" id=\"intro\"></a>\n",
    "------------------"
   ]
  },
  {
   "cell_type": "markdown",
   "id": "95891849",
   "metadata": {},
   "source": [
    "**Data**: MIRI simulated images obtained using [MIRISIM](https://www.stsci.edu/jwst/science-planning/proposal-planning-toolbox/mirisim) and run through the [JWST pipeline](https://jwst-pipeline.readthedocs.io/en/latest/) of Isochrone of 10-Gyr old population, [Fe/H]=-1 Population placed at 2.5 kpc from the Sun. Salpeter-like IMF, tweaked to have more massive stars (since positions are random, it ensures at least a few bright stars in each image). Kept only sources brighter than J=17 (random cut to speed up MIRISim) and fainter than Ks=10 (to avoid too-bright stars that would have PSF spikes clearly cut by MIRISim in the image)\n",
    "\n",
    "Here is the [ReadMe](https://stsci.app.box.com/s/2b6evrie2swaybarxhdmpqizktl3g0wm/file/869444882607). All data simulations can be found on [STScI's simulation page](https://www.stsci.edu/jwst/science-planning/proposal-planning-toolbox/simulated-data).\n",
    "\n",
    "PSF Photometry can be obtained using:\n",
    "\n",
    "* single PSF model obtained from WebbPSF\n",
    "* grid of PSF models from WebbPSF\n",
    "* single effective PSF (ePSF)\n",
    "* grid of effective PSF (bonus part II)\n",
    "\n",
    "The notebook shows:\n",
    "\n",
    "* how to obtain the PSF model from WebbPSF (or build an ePSF)\n",
    "* how to perform PSF photometry on the image\n",
    "* how to cross-match the catalogs of the different images (bonus part I)"
   ]
  },
  {
   "cell_type": "markdown",
   "id": "1cf3d18f",
   "metadata": {},
   "source": [
    "2.<font color='white'>-</font>Setup <a class=\"anchor\" id=\"setup\"></a>\n",
    "------------------"
   ]
  },
  {
   "cell_type": "markdown",
   "id": "bd038c76",
   "metadata": {},
   "source": [
    "In this section we import all the necessary python packages and we define some plotting parameters."
   ]
  },
  {
   "cell_type": "markdown",
   "id": "5b762602",
   "metadata": {},
   "source": [
    "### 2.1<font color='white'>-</font>Python imports<a class=\"anchor\" id=\"py_imports\"></a> ###"
   ]
  },
  {
   "cell_type": "code",
   "execution_count": 1,
   "id": "8c50eace",
   "metadata": {},
   "outputs": [
    {
     "name": "stdout",
     "output_type": "stream",
     "text": [
      "**WARNING**: LOCAL JWST PRD VERSION PRDOPSSOC-044 DOESN'T MATCH THE CURRENT ONLINE VERSION PRDOPSSOC-045\n",
      "Please consider updating pysiaf, e.g. pip install --upgrade pysiaf or conda update pysiaf\n"
     ]
    }
   ],
   "source": [
    "import os\n",
    "\n",
    "if not os.environ.get('WEBBPSF_PATH'):\n",
    "    os.environ['WEBBPSF_PATH'] = '/data/webbpsf-data'\n",
    "\n",
    "import sys\n",
    "import time\n",
    "\n",
    "import numpy as np\n",
    "\n",
    "import pandas as pd\n",
    "\n",
    "import glob as glob\n",
    "\n",
    "import urllib.request\n",
    "\n",
    "import tarfile\n",
    "\n",
    "from astropy.io import fits\n",
    "from astropy.visualization import simple_norm\n",
    "from astropy.nddata import NDData\n",
    "from astropy.modeling.fitting import LevMarLSQFitter\n",
    "from astropy.table import Table, QTable\n",
    "from astropy.coordinates import SkyCoord, match_coordinates_sky\n",
    "from astropy import units as u\n",
    "\n",
    "from photutils.background import MMMBackground, MADStdBackgroundRMS, Background2D\n",
    "from photutils.detection import DAOStarFinder\n",
    "from photutils import EPSFBuilder, GriddedPSFModel\n",
    "from photutils.psf import DAOGroup, extract_stars, IterativelySubtractedPSFPhotometry\n",
    "\n",
    "import jwst\n",
    "from jwst.datamodels import ImageModel\n",
    "\n",
    "import webbpsf\n",
    "from webbpsf.utils import to_griddedpsfmodel\n",
    "\n",
    "import pysynphot  # PYSIN_CDBS must be defined in the user's environment (see note below)\n",
    "\n",
    "from collections import OrderedDict\n",
    "from astropy.wcs import WCS"
   ]
  },
  {
   "cell_type": "code",
   "execution_count": 2,
   "id": "dea5f1e7",
   "metadata": {},
   "outputs": [
    {
     "name": "stderr",
     "output_type": "stream",
     "text": [
      "2022-04-29 10:52:02,822 - stpipe - WARNING - /var/folders/yh/kl4y3s1x3_j3ywy3qq67g3vc0001kc/T/ipykernel_90694/2969300567.py:51: DeprecationWarning: Importing display from IPython.core.display is deprecated since IPython 7.14, please import from IPython display\n",
      "  from IPython.core.display import display, HTML\n",
      "\n"
     ]
    },
    {
     "data": {
      "text/html": [
       "<style>.container { width:90% !important; }</style>"
      ],
      "text/plain": [
       "<IPython.core.display.HTML object>"
      ]
     },
     "metadata": {},
     "output_type": "display_data"
    }
   ],
   "source": [
    "#\n",
    "# General tools\n",
    "#\n",
    "import glob\n",
    "import os\n",
    "import shutil\n",
    "import sys\n",
    "import random\n",
    "import urllib\n",
    "import zipfile\n",
    "#\n",
    "# Astropy tools\n",
    "#\n",
    "from astropy.coordinates import match_coordinates_sky, SkyCoord\n",
    "from astropy.io import fits, ascii\n",
    "from astropy.stats import SigmaClip, sigma_clipped_stats\n",
    "from astropy.table import Table, Column, vstack\n",
    "import astropy.units as u\n",
    "from astropy.visualization import LogStretch, LinearStretch, PercentileInterval, ManualInterval\n",
    "from astropy.nddata import Cutout2D\n",
    "#\n",
    "# JWST models\n",
    "#\n",
    "from jwst import datamodels, associations\n",
    "from jwst.datamodels import ImageModel, dqflags\n",
    "#\n",
    "# Matplotlib tools\n",
    "#\n",
    "from matplotlib import style, pyplot as plt, rcParams\n",
    "from matplotlib.colors import LogNorm\n",
    "from matplotlib.pyplot import figure\n",
    "from mpl_toolkits.axes_grid1.axes_divider import make_axes_locatable\n",
    "#\n",
    "# Numpy library\n",
    "#\n",
    "import numpy as np\n",
    "#\n",
    "# Photutils library and tools\n",
    "#\n",
    "import photutils\n",
    "from photutils.aperture import CircularAperture, CircularAnnulus, aperture_photometry\n",
    "from photutils import Background2D, MedianBackground, ModeEstimatorBackground, MMMBackground\n",
    "#\n",
    "# Scipy tools\n",
    "#\n",
    "from scipy import stats\n",
    "from scipy.interpolate import CubicSpline\n",
    "#\n",
    "# Use 90% of the window width\n",
    "#\n",
    "from IPython.core.display import display, HTML\n",
    "display(HTML(\"<style>.container { width:90% !important; }</style>\"))"
   ]
  },
  {
   "cell_type": "markdown",
   "id": "956910c8",
   "metadata": {},
   "source": [
    "### 2.2<font color='white'>-</font>Plotting function imports<a class=\"anchor\" id=\"matpl_imports\"></a> ###"
   ]
  },
  {
   "cell_type": "code",
   "execution_count": 3,
   "id": "9dee46d0",
   "metadata": {},
   "outputs": [],
   "source": [
    "%matplotlib inline\n",
    "from matplotlib import style, pyplot as plt\n",
    "import matplotlib.patches as patches\n",
    "import matplotlib.ticker as ticker\n",
    "\n",
    "from mpl_toolkits.axes_grid1 import make_axes_locatable\n",
    "\n",
    "plt.rcParams['image.cmap'] = 'viridis'\n",
    "plt.rcParams['image.origin'] = 'lower'\n",
    "plt.rcParams['axes.titlesize'] = plt.rcParams['axes.labelsize'] = 30\n",
    "plt.rcParams['xtick.labelsize'] = plt.rcParams['ytick.labelsize'] = 20\n",
    "\n",
    "font1 = {'family': 'helvetica', 'color': 'black', 'weight': 'normal', 'size': '12'}\n",
    "font2 = {'family': 'helvetica', 'color': 'black', 'weight': 'normal', 'size': '20'}"
   ]
  },
  {
   "cell_type": "code",
   "execution_count": 4,
   "id": "92799ab2",
   "metadata": {},
   "outputs": [],
   "source": [
    "%matplotlib inline\n",
    "# Figure size\n",
    "plt.rcParams['figure.figsize'] = [15, 15]\n",
    "# Figure text and font\n",
    "plt.rc('text', usetex=True)\n",
    "plt.rc('font', size=15)"
   ]
  },
  {
   "cell_type": "markdown",
   "id": "052f86b2",
   "metadata": {},
   "source": [
    "### 2.4 Useful Definitions"
   ]
  },
  {
   "cell_type": "code",
   "execution_count": 5,
   "id": "1fc48d58",
   "metadata": {},
   "outputs": [],
   "source": [
    "def arcsec2pix(x):\n",
    "    '''\n",
    "    Function that converts arcsec in MIRIM pixels.\n",
    "    It is used to setup the secondary axes in a plot.\n",
    "    \n",
    "    Inputs\n",
    "    ----------\n",
    "    x : float or array(float)\n",
    "        The value in arcsec.\n",
    "        \n",
    "    Outputs\n",
    "    ----------\n",
    "    The value(s) in MIRIM pixel.\n",
    "    '''\n",
    "    \n",
    "    return x/0.11"
   ]
  },
  {
   "cell_type": "code",
   "execution_count": 6,
   "id": "758d84fb",
   "metadata": {},
   "outputs": [],
   "source": [
    "def pix2arcsec(x):\n",
    "    '''\n",
    "    Function that converts MIRIM pixels in arcsec.\n",
    "    It is used to setup the secondary axes in a plot.\n",
    "    \n",
    "    Inputs\n",
    "    ----------\n",
    "    x : float or array(float)\n",
    "        The value in MIRIM pixels.\n",
    "        \n",
    "    Outputs\n",
    "    ----------\n",
    "    The value(s) in arcsec.\n",
    "    '''\n",
    "    \n",
    "    return x*0.11"
   ]
  },
  {
   "cell_type": "code",
   "execution_count": 7,
   "id": "6bd572fd",
   "metadata": {},
   "outputs": [
    {
     "name": "stdout",
     "output_type": "stream",
     "text": [
      "\n",
      "F560W-filter images:\n",
      "     1) ./data/det_image_seq1_MIRIMAGE_F560Wexp1_cal.fits\n",
      "     2) ./data/det_image_seq4_MIRIMAGE_F560Wexp1_cal.fits\n",
      "     3) ./data/det_image_seq3_MIRIMAGE_F560Wexp1_cal.fits\n",
      "     4) ./data/det_image_seq2_MIRIMAGE_F560Wexp1_cal.fits\n",
      "\n",
      "1 catalog found: ./data/complex_scene_F560W_combined_cat.ecsv\n",
      "\n",
      "F770W-filter images:\n",
      "     1) ./data/det_image_seq2_MIRIMAGE_F770Wexp1_cal.fits\n",
      "     2) ./data/det_image_seq3_MIRIMAGE_F770Wexp1_cal.fits\n",
      "     3) ./data/det_image_seq4_MIRIMAGE_F770Wexp1_cal.fits\n",
      "     4) ./data/det_image_seq1_MIRIMAGE_F770Wexp1_cal.fits\n",
      "\n",
      "1 catalog found: ./data/complex_scene_F770W_combined_cat.ecsv\n"
     ]
    }
   ],
   "source": [
    "folder_path = './data/'\n",
    "filter_names = ['F560W', 'F770W']\n",
    "\n",
    "img_names = {}\n",
    "cat_names = {}\n",
    "for f in filter_names:\n",
    "    print('')\n",
    "    print(r'{0}-filter images:'.format(f))\n",
    "    names = glob.glob(folder_path + 'det_*' + f + '*_cal.fits')\n",
    "    for n in range(len(names)):\n",
    "        print(r'     {0}) {1}'.format(n+1, names[n]))\n",
    "    img_names[f] = names\n",
    "    names = glob.glob(folder_path + 'complex_*' + f + '*cat*.ecsv')\n",
    "    cat_names[f] = names\n",
    "    print('')\n",
    "    print(r'1 catalog found: {0}'.format(names[0]))"
   ]
  },
  {
   "cell_type": "markdown",
   "id": "c27cf3db",
   "metadata": {},
   "source": [
    "**Note**: in this particular example, we analyze each image separately to provide a general overview of the different steps necessary to perform PSF photometry and to highlight the different functions adopted in this notebook."
   ]
  },
  {
   "cell_type": "markdown",
   "id": "6d2e034c",
   "metadata": {},
   "source": [
    "3.<font color='white'>-</font>Create your first NIRCam Color-Magnitude Diagram<a class=\"anchor\" id=\"bonusI\"></a>\n",
    "------------------"
   ]
  },
  {
   "cell_type": "markdown",
   "id": "58259625",
   "metadata": {},
   "source": [
    "### 3.1<font color='white'>-</font>Load images and output catalogs<a class=\"anchor\" id=\"load_data\"></a> ###"
   ]
  },
  {
   "cell_type": "code",
   "execution_count": 8,
   "id": "c5440b51",
   "metadata": {},
   "outputs": [],
   "source": [
    "if os.path.isfile('./PHOT_OUTPUT/phot_MIRIM_F560W.pkl'):\n",
    "    phot_f560w = './PHOT_OUTPUT/phot_MIRIM_F560W.pkl'\n",
    "\n",
    "#else:\n",
    "#    print('Downloading F115W PSF photometry')\n",
    "#    \n",
    "#    boxlink_ph_f115w = 'https://stsci.box.com/shared/static/f4s4ziwh7tb3827g0ac362swwta28lti.pkl'\n",
    "#    boxfile_ph_f115w = './phot_webbpsf_grid16_NRCB1_F115W.pkl'\n",
    "#    urllib.request.urlretrieve(boxlink_ph_f115w, boxfile_ph_f115w)\n",
    "#    phot_f115w = boxfile_ph_f115w\n",
    "#\n",
    "if os.path.isfile('./PHOT_OUTPUT/phot_MIRIM_F770W.pkl'):\n",
    "    phot_f770w = './PHOT_OUTPUT/phot_MIRIM_F770W.pkl'\n",
    "\n",
    "#else:\n",
    "#    print('Downloading F200W PSF Photometry')\n",
    "#    \n",
    "#    boxlink_ph_f200w = 'https://stsci.box.com/shared/static/983dxnxqz594ogn00e6m7ek7vq22gifr.pkl'\n",
    "#    boxfile_ph_f200w = './phot_webbpsf_grid16_NRCB1_F200W.pkl'\n",
    "#    urllib.request.urlretrieve(boxlink_ph_f200w, boxfile_ph_f200w)\n",
    "#    phot_f200w = boxfile_ph_f200w\n",
    "\n",
    "ph_f560w = pd.read_pickle(phot_f560w)\n",
    "ph_f770w = pd.read_pickle(phot_f770w)\n",
    "\n",
    "results_f560w = QTable.from_pandas(ph_f560w)\n",
    "results_f770w = QTable.from_pandas(ph_f770w)\n",
    "\n",
    "image_f560w = ImageModel('./data/det_image_seq1_MIRIMAGE_F560Wexp1_cal.fits')\n",
    "image_f770w = ImageModel('./data/det_image_seq2_MIRIMAGE_F770Wexp1_cal.fits')\n",
    "\n",
    "#image_f560w = ImageModel('./data/jw01171-o004_t001_miri_f560w_i2d.fits')\n",
    "#image_f770w = ImageModel('./data/jw01171-o003_t001_miri_f770w_i2d.fits')\n",
    "#image_f560w = ImageModel('./data/jw01171001001_02101_00004_mirimage_cal.fits')\n",
    "#image_f770w = ImageModel('./data/jw01171001001_02101_00003_mirimage_cal.fits')"
   ]
  },
  {
   "cell_type": "raw",
   "id": "7405b38b-ce88-459f-b6f7-2b0506bce1dc",
   "metadata": {},
   "source": [
    "if os.path.isfile('./PHOT_OUTPUT/phot_MIRIM_F770W.pkl'):\n",
    "    phot_f770w = './PHOT_OUTPUT/phot_MIRIM_F770W.pkl'\n",
    "\n",
    "ph_f770w = pd.read_pickle(phot_f770w)\n",
    "results_f770w = QTable.from_pandas(ph_f770w)"
   ]
  },
  {
   "cell_type": "markdown",
   "id": "72643e44",
   "metadata": {},
   "source": [
    "### 3.2<font color='white'>-</font>Cross-match PSF photometry catalogs<a class=\"anchor\" id=\"cross_match\"></a> ###"
   ]
  },
  {
   "cell_type": "markdown",
   "id": "003f1010",
   "metadata": {},
   "source": [
    "We select only stars with positive flux and we use the information from the image WCS to transform detector coordinates (x,y) to celestial coordinate (RA,Dec). \n",
    "\n",
    "We use the [SkyCoord](https://docs.astropy.org/en/stable/api/astropy.coordinates.SkyCoord.html) class and the [match_coordinates_sky](https://docs.astropy.org/en/stable/api/astropy.coordinates.match_coordinates_sky.html) function to finds the nearest on-sky matches between the set of catalog coordinates.\n",
    "\n",
    "We impose that a star is the same in both catalogs if the separation is < than `max_sep`, where `max_sep` is 0.015 arcsec (i.e., 0.5 px). "
   ]
  },
  {
   "cell_type": "code",
   "execution_count": 9,
   "id": "68410f33",
   "metadata": {},
   "outputs": [],
   "source": [
    "mask_f560w = ((results_f560w['x_fit'] > 0) & (results_f560w['x_fit'] < 2048) & \n",
    "              (results_f560w['y_fit'] > 0) & (results_f560w['y_fit'] < 2048) & \n",
    "              (results_f560w['flux_fit'] > 0))\n",
    "\n",
    "result_clean_f560w = results_f560w[mask_f560w]\n",
    "\n",
    "ra_f560w, dec_f560w = image_f560w.meta.wcs(result_clean_f560w['x_fit'], result_clean_f560w['y_fit'])\n",
    "radec_f560w = SkyCoord(ra_f560w, dec_f560w, unit='deg')\n",
    "result_clean_f560w['radec'] = radec_f560w\n",
    "\n",
    "mask_f770w = ((results_f770w['x_fit'] > 0) & (results_f770w['x_fit'] < 2048) & \n",
    "              (results_f770w['y_fit'] > 0) & (results_f770w['y_fit'] < 2048) & \n",
    "              (results_f770w['flux_fit'] > 0))\n",
    "\n",
    "result_clean_f770w = results_f770w[mask_f770w]\n",
    "\n",
    "ra_f770w, dec_f770w = image_f770w.meta.wcs(result_clean_f770w['x_fit'], result_clean_f770w['y_fit'])\n",
    "radec_f770w = SkyCoord(ra_f770w, dec_f770w, unit='deg')\n",
    "result_clean_f770w['radec'] = radec_f770w"
   ]
  },
  {
   "cell_type": "code",
   "execution_count": 10,
   "id": "3c586bf2",
   "metadata": {},
   "outputs": [],
   "source": [
    "#Clean up array with NANs\n",
    "\n",
    "res1 = result_clean_f560w\n",
    "res2 = result_clean_f770w\n",
    "\n",
    "clean1 = (~np.isnan(res1['radec'].ra) & ~np.isnan(res1['radec'].dec))\n",
    "res1 = res1[clean1]\n",
    "\n",
    "clean2 = (~np.isnan(res2['radec'].ra) & ~np.isnan(res2['radec'].dec))\n",
    "res2 = res2[clean2]"
   ]
  },
  {
   "cell_type": "code",
   "execution_count": 11,
   "id": "b3472fe9",
   "metadata": {},
   "outputs": [
    {
     "name": "stdout",
     "output_type": "stream",
     "text": [
      "Number of sources in common between the two filters: 634\n"
     ]
    }
   ],
   "source": [
    "max_sep = 0.12 * u.arcsec #1/2 FWHM https://jwst-docs.stsci.edu/jwst-mid-infrared-instrument/miri-predicted-performance/miri-point-spread-functions\n",
    "\n",
    "filt1 = 'F560W'\n",
    "filt2 = 'F770W'\n",
    "\n",
    "#res1 = result_clean_f560w\n",
    "#res2 = result_clean_f770w\n",
    "\n",
    "idx, d2d, _ = match_coordinates_sky(res1['radec'], res2['radec'])\n",
    "\n",
    "sep_constraint = d2d < max_sep\n",
    "\n",
    "match_phot_single = Table()\n",
    "\n",
    "x_0_F560W = res1['x_0'][sep_constraint]\n",
    "y_0_F560W = res1['y_0'][sep_constraint]\n",
    "x_fit_F560W = res1['x_fit'][sep_constraint]\n",
    "y_fit_F560W = res1['y_fit'][sep_constraint]\n",
    "radec_F560W = res1['radec'][sep_constraint]\n",
    "mag_F560W = (-2.5 * np.log10(res1['flux_fit']))[sep_constraint]\n",
    "emag_F560W = (1.086 * (res1['flux_unc'] / res1['flux_fit']))[sep_constraint]\n",
    "\n",
    "x_0_F770W = res2['x_0'][idx[sep_constraint]]\n",
    "y_0_F770W = res2['y_0'][idx[sep_constraint]]\n",
    "x_fit_F770W = res2['x_fit'][idx[sep_constraint]]\n",
    "y_fit_F770W = res2['y_fit'][idx[sep_constraint]]\n",
    "radec_F770W = res2['radec'][idx][sep_constraint]\n",
    "mag_F770W = (-2.5 * np.log10(res2['flux_fit']))[idx[sep_constraint]]\n",
    "emag_F770W = (1.086 * (res2['flux_unc'] / res2['flux_fit']))[idx[sep_constraint]]\n",
    "\n",
    "match_phot_single['x_0_' + filt1] = x_0_F560W\n",
    "match_phot_single['y_0_' + filt1] = y_0_F560W\n",
    "match_phot_single['x_fit_' + filt1] = x_fit_F560W\n",
    "match_phot_single['y_fit_' + filt1] = y_fit_F560W\n",
    "match_phot_single['radec_' + filt1] = radec_F560W\n",
    "match_phot_single['mag_' + filt1] = mag_F560W\n",
    "match_phot_single['emag_' + filt1] = emag_F560W\n",
    "match_phot_single['x_0_' + filt2] = x_0_F770W\n",
    "match_phot_single['y_0_' + filt2] = y_0_F770W\n",
    "match_phot_single['x_fit_' + filt2] = x_fit_F770W\n",
    "match_phot_single['y_fit_' + filt2] = y_fit_F770W\n",
    "match_phot_single['radec_' + filt2] = radec_F770W\n",
    "match_phot_single['mag_' + filt2] = mag_F770W\n",
    "match_phot_single['emag_' + filt2] = emag_F770W\n",
    "\n",
    "print('Number of sources in common between the two filters:', len(match_phot_single)) "
   ]
  },
  {
   "cell_type": "code",
   "execution_count": 12,
   "id": "57c48737",
   "metadata": {},
   "outputs": [
    {
     "data": {
      "text/html": [
       "<div><i>Table length=634</i>\n",
       "<table id=\"table140357193765168\" class=\"table-striped table-bordered table-condensed\">\n",
       "<thead><tr><th>x_0_F560W</th><th>y_0_F560W</th><th>x_fit_F560W</th><th>y_fit_F560W</th><th>radec_F560W</th><th>mag_F560W</th><th>emag_F560W</th><th>x_0_F770W</th><th>y_0_F770W</th><th>x_fit_F770W</th><th>y_fit_F770W</th><th>radec_F770W</th><th>mag_F770W</th><th>emag_F770W</th></tr></thead>\n",
       "<thead><tr><th></th><th></th><th></th><th></th><th>deg,deg</th><th></th><th></th><th></th><th></th><th></th><th></th><th>deg,deg</th><th></th><th></th></tr></thead>\n",
       "<thead><tr><th>float64</th><th>float64</th><th>float64</th><th>float64</th><th>SkyCoord</th><th>float64</th><th>float64</th><th>float64</th><th>float64</th><th>float64</th><th>float64</th><th>SkyCoord</th><th>float64</th><th>float64</th></tr></thead>\n",
       "<tr><td>676.5836845232664</td><td>9.163203068674463</td><td>676.4528033510454</td><td>9.143528481412565</td><td>359.99881352456674,-0.014224790099242605</td><td>-3.6247192938319985</td><td>--</td><td>700.7268368487117</td><td>51.200209611193216</td><td>700.7426990170064</td><td>51.19501857408793</td><td>359.99881318489224,-0.014224305538111685</td><td>-3.017265300487089</td><td>0.01168079348154252</td></tr>\n",
       "<tr><td>459.6132722939766</td><td>9.691107008194399</td><td>459.4676254402394</td><td>9.731651409633358</td><td>0.005474916880854635,-0.014753095154693033</td><td>-2.3578271493274725</td><td>--</td><td>483.77268644197835</td><td>51.78890389392475</td><td>483.7721978486275</td><td>51.79416704114516</td><td>0.005474309053244533,-0.01475256682287582</td><td>-1.7976451863359788</td><td>0.0437156086603468</td></tr>\n",
       "<tr><td>597.8626156063478</td><td>10.034554224274997</td><td>597.8924869050276</td><td>10.024051176661084</td><td>0.0012269544870713229,-0.014397581798466239</td><td>-1.883371096101567</td><td>--</td><td>622.1808613066509</td><td>52.08991285675754</td><td>622.1904939952807</td><td>52.080926115506124</td><td>0.0012264277528894103,-0.014396498089267221</td><td>-1.483420954341303</td><td>0.03934135260740051</td></tr>\n",
       "<tr><td>990.355083962455</td><td>11.901328381398988</td><td>990.5259042677674</td><td>11.902231407148946</td><td>359.98918858909406,-0.013327033658767059</td><td>-3.4967219457768532</td><td>--</td><td>1014.7905953330403</td><td>54.088364493956924</td><td>1014.7986248918583</td><td>54.0829677605552</td><td>359.98918868778736,-0.013327713196303395</td><td>-2.891577511533115</td><td>0.14776121101888046</td></tr>\n",
       "<tr><td>650.2394114200912</td><td>13.774477721372348</td><td>650.4852259147158</td><td>13.796740454764276</td><td>359.99962218949463,-0.014151616057245929</td><td>-1.142675090397894</td><td>--</td><td>674.5955305412729</td><td>55.749351720711424</td><td>674.6217582090027</td><td>55.70800618276585</td><td>359.99962632177505,-0.014154860750673435</td><td>-0.8153488497926941</td><td>0.053841022673539664</td></tr>\n",
       "<tr><td>616.4436194942315</td><td>16.524752611137632</td><td>616.3784387204488</td><td>16.42786497276886</td><td>0.0006756530266426701,-0.014159241881793407</td><td>-4.7313386437349</td><td>--</td><td>640.5479783530177</td><td>58.44457518525087</td><td>640.5241445601326</td><td>58.44734062865891</td><td>0.0006798395500667964,-0.01415867759704948</td><td>-3.975239859133401</td><td>0.0022800710738686385</td></tr>\n",
       "<tr><td>984.4233392708408</td><td>23.31469352825253</td><td>984.3566313741701</td><td>23.2592861142545</td><td>359.9894055860373,-0.013005494222112321</td><td>-2.7372841730532955</td><td>--</td><td>1008.4294708824649</td><td>65.78940191969643</td><td>1008.4257055144952</td><td>65.76883834191531</td><td>359.98941323835464,-0.012995016972013633</td><td>-3.079839392760902</td><td>0.010649757859916755</td></tr>\n",
       "<tr><td>755.2438204968485</td><td>19.83530814102132</td><td>755.2355827127475</td><td>19.84258842868869</td><td>359.9964227358253,-0.01370351772248289</td><td>-0.8317151210038358</td><td>--</td><td>779.047113070801</td><td>61.78964753379104</td><td>779.1078774366891</td><td>61.879731839249814</td><td>359.9964354480205,-0.01370362656810686</td><td>-0.13805845628075047</td><td>1.8537876540689475</td></tr>\n",
       "<tr><td>942.5887198652887</td><td>20.019238783508214</td><td>942.6769175919587</td><td>20.00680679249244</td><td>359.9906747195819,-0.013212228452763411</td><td>-1.4853593337673554</td><td>--</td><td>967.0133777306444</td><td>62.070797709067065</td><td>967.0062072222288</td><td>62.07863326323798</td><td>359.9906732880483,-0.013213577299825377</td><td>-1.014359969902321</td><td>0.827057159709643</td></tr>\n",
       "<tr><td>466.7420340857623</td><td>22.399952270273737</td><td>466.7781360200696</td><td>22.33165947344775</td><td>0.005282311557777257,-0.014357675143086845</td><td>-5.464233892159554</td><td>--</td><td>491.04826341404834</td><td>64.33085262558187</td><td>491.0553519445848</td><td>64.31332519491038</td><td>0.005282492090739622,-0.014357506135061014</td><td>-4.816412611819285</td><td>0.0011215278681719473</td></tr>\n",
       "<tr><td>525.3621605917726</td><td>22.035792732061605</td><td>525.3007083851704</td><td>22.030115094188073</td><td>0.003485343022652595,-0.014220568991619184</td><td>-2.065109190750286</td><td>--</td><td>549.5834756247343</td><td>64.01022313022808</td><td>549.608129954631</td><td>63.993245638702454</td><td>0.0034845279214452797,-0.014220520533901267</td><td>-1.413319025245956</td><td>0.19349137279475967</td></tr>\n",
       "<tr><td>...</td><td>...</td><td>...</td><td>...</td><td>...</td><td>...</td><td>...</td><td>...</td><td>...</td><td>...</td><td>...</td><td>...</td><td>...</td><td>...</td></tr>\n",
       "<tr><td>729.0903900020091</td><td>741.8685856145808</td><td>728.3818921727499</td><td>742.0101058213593</td><td>359.9991655276251,0.008316952881180312</td><td>-2.11884867443177</td><td>--</td><td>753.1367253301482</td><td>783.2803358981896</td><td>753.0008142401904</td><td>783.3309867925276</td><td>359.9991669421474,0.00832010240618265</td><td>-2.4840039103690716</td><td>--</td></tr>\n",
       "<tr><td>725.7910253405681</td><td>744.9847842793939</td><td>725.9204441094239</td><td>744.874199173963</td><td>359.9992482824368,0.008398904357557623</td><td>-2.7033958117668373</td><td>--</td><td>751.4192570831464</td><td>785.479243697881</td><td>751.3613604782879</td><td>785.4125219221742</td><td>359.99922252759717,0.00837997025472506</td><td>-4.454787570436752</td><td>0.0015833724990120218</td></tr>\n",
       "<tr><td>918.8331204246862</td><td>829.6034384007786</td><td>918.8935850155812</td><td>829.4604337774053</td><td>359.99360098499153,0.01143958243159497</td><td>-0.5623482988262023</td><td>--</td><td>943.496532674499</td><td>870.7649757759486</td><td>943.4534553262672</td><td>870.9258101625004</td><td>359.99360733874613,0.011441014159207934</td><td>0.031122699458988743</td><td>--</td></tr>\n",
       "<tr><td>457.3196714393201</td><td>888.2887561866847</td><td>457.2628325254162</td><td>888.2559180440367</td><td>0.007794921866165352,0.012124973783145197</td><td>-0.9378342377801732</td><td>--</td><td>481.59999367025375</td><td>929.4716929858665</td><td>481.5355225239218</td><td>929.4752550576134</td><td>0.007803240967760429,0.012122539107462013</td><td>-0.18346316100394422</td><td>--</td></tr>\n",
       "<tr><td>673.8984603902179</td><td>916.0652423330248</td><td>673.9516197967279</td><td>916.0383575275506</td><td>0.0012891572510710706,0.013509868119398355</td><td>-0.5671020348013845</td><td>--</td><td>698.650295182687</td><td>957.1840725434957</td><td>698.6063082945905</td><td>957.3213156726131</td><td>0.0012898595393360287,0.013506011521287855</td><td>0.0791665190509826</td><td>--</td></tr>\n",
       "<tr><td>397.6422982857474</td><td>114.44275962884761</td><td>398.33243416556127</td><td>114.36015932591647</td><td>0.007615622626068811,-0.011755530662698131</td><td>-0.6505055687498233</td><td>0.6071853845940062</td><td>423.0073255580933</td><td>156.55311789594003</td><td>423.2496967359775</td><td>156.48889970374228</td><td>0.007597433992923081,-0.011736951518722255</td><td>-1.0434877043902762</td><td>0.1842150606255044</td></tr>\n",
       "<tr><td>858.9978519994519</td><td>247.17294143061258</td><td>859.2315013280337</td><td>247.15613069180466</td><td>359.99382023738565,-0.006563116243755796</td><td>-1.1245165667206034</td><td>0.16952022724363416</td><td>883.5209093545982</td><td>288.1558631606747</td><td>883.7052457029743</td><td>288.4236524453536</td><td>359.9938193022868,-0.006564015986390094</td><td>-1.542639917299637</td><td>1.208460415653407</td></tr>\n",
       "<tr><td>698.8933368329539</td><td>630.7893674155769</td><td>698.8338031158873</td><td>630.8564971728925</td><td>359.99976592153257,0.004832690840829243</td><td>-1.1690303021940927</td><td>0.17947262319688306</td><td>723.3618112480764</td><td>672.6582912319344</td><td>723.4068480219731</td><td>672.7979758262103</td><td>359.99976875253213,0.004858931739569784</td><td>-2.1927771902263653</td><td>--</td></tr>\n",
       "<tr><td>730.33706361634</td><td>739.6581048733518</td><td>730.1188378393215</td><td>739.7992550977319</td><td>359.99910661109294,0.008253297715486533</td><td>-1.3829294349649937</td><td>0.23303500862657806</td><td>755.7221180243629</td><td>780.8466554665</td><td>754.8959883095241</td><td>780.8065766377608</td><td>359.99910235959084,0.008247269873563196</td><td>-1.9652888055571207</td><td>--</td></tr>\n",
       "<tr><td>713.4991749217963</td><td>800.8859097526872</td><td>713.7789732102547</td><td>801.0271187966083</td><td>359.99976982528904,0.010090444409644997</td><td>-1.2841749493653953</td><td>0.17526343858585214</td><td>737.481110316695</td><td>842.4884727414887</td><td>737.5568437388722</td><td>842.5603975567288</td><td>359.99979768156555,0.010096081388170648</td><td>-0.8602546359904862</td><td>--</td></tr>\n",
       "<tr><td>661.4139033782824</td><td>847.5045067119104</td><td>661.7111708956044</td><td>847.6241496000324</td><td>0.001478679786885024,0.01139086446303581</td><td>-1.298035597042433</td><td>0.08019457564412845</td><td>685.3592607372549</td><td>888.8750115168298</td><td>685.3226926772281</td><td>888.9711533679942</td><td>0.0015106240595144681,0.011389327479478286</td><td>-0.8892791788464259</td><td>--</td></tr>\n",
       "</table></div>"
      ],
      "text/plain": [
       "<Table length=634>\n",
       "    x_0_F560W         y_0_F560W         x_fit_F560W        y_fit_F560W     ...    y_fit_F770W                     radec_F770W                      mag_F770W             emag_F770W     \n",
       "                                                                           ...                                      deg,deg                                                             \n",
       "     float64           float64            float64            float64       ...      float64                         SkyCoord                        float64               float64       \n",
       "----------------- ------------------ ------------------ ------------------ ... ------------------ ------------------------------------------- -------------------- ---------------------\n",
       "676.5836845232664  9.163203068674463  676.4528033510454  9.143528481412565 ...  51.19501857408793    359.99881318489224,-0.014224305538111685   -3.017265300487089   0.01168079348154252\n",
       "459.6132722939766  9.691107008194399  459.4676254402394  9.731651409633358 ...  51.79416704114516   0.005474309053244533,-0.01475256682287582  -1.7976451863359788    0.0437156086603468\n",
       "597.8626156063478 10.034554224274997  597.8924869050276 10.024051176661084 ... 52.080926115506124 0.0012264277528894103,-0.014396498089267221   -1.483420954341303   0.03934135260740051\n",
       " 990.355083962455 11.901328381398988  990.5259042677674 11.902231407148946 ...   54.0829677605552    359.98918868778736,-0.013327713196303395   -2.891577511533115   0.14776121101888046\n",
       "650.2394114200912 13.774477721372348  650.4852259147158 13.796740454764276 ...  55.70800618276585    359.99962632177505,-0.014154860750673435  -0.8153488497926941  0.053841022673539664\n",
       "616.4436194942315 16.524752611137632  616.3784387204488  16.42786497276886 ...  58.44734062865891  0.0006798395500667964,-0.01415867759704948   -3.975239859133401 0.0022800710738686385\n",
       "984.4233392708408  23.31469352825253  984.3566313741701   23.2592861142545 ...  65.76883834191531    359.98941323835464,-0.012995016972013633   -3.079839392760902  0.010649757859916755\n",
       "755.2438204968485  19.83530814102132  755.2355827127475  19.84258842868869 ... 61.879731839249814      359.9964354480205,-0.01370362656810686 -0.13805845628075047    1.8537876540689475\n",
       "942.5887198652887 20.019238783508214  942.6769175919587  20.00680679249244 ...  62.07863326323798     359.9906732880483,-0.013213577299825377   -1.014359969902321     0.827057159709643\n",
       "466.7420340857623 22.399952270273737  466.7781360200696  22.33165947344775 ...  64.31332519491038  0.005282492090739622,-0.014357506135061014   -4.816412611819285 0.0011215278681719473\n",
       "525.3621605917726 22.035792732061605  525.3007083851704 22.030115094188073 ... 63.993245638702454 0.0034845279214452797,-0.014220520533901267   -1.413319025245956   0.19349137279475967\n",
       "              ...                ...                ...                ... ...                ...                                         ...                  ...                   ...\n",
       "729.0903900020091  741.8685856145808  728.3818921727499  742.0101058213593 ...  783.3309867925276       359.9991669421474,0.00832010240618265  -2.4840039103690716                    --\n",
       "725.7910253405681  744.9847842793939  725.9204441094239   744.874199173963 ...  785.4125219221742      359.99922252759717,0.00837997025472506   -4.454787570436752 0.0015833724990120218\n",
       "918.8331204246862  829.6034384007786  918.8935850155812  829.4604337774053 ...  870.9258101625004     359.99360733874613,0.011441014159207934 0.031122699458988743                    --\n",
       "457.3196714393201  888.2887561866847  457.2628325254162  888.2559180440367 ...  929.4752550576134   0.007803240967760429,0.012122539107462013 -0.18346316100394422                    --\n",
       "673.8984603902179  916.0652423330248  673.9516197967279  916.0383575275506 ...  957.3213156726131  0.0012898595393360287,0.013506011521287855   0.0791665190509826                    --\n",
       "397.6422982857474 114.44275962884761 398.33243416556127 114.36015932591647 ... 156.48889970374228  0.007597433992923081,-0.011736951518722255  -1.0434877043902762    0.1842150606255044\n",
       "858.9978519994519 247.17294143061258  859.2315013280337 247.15613069180466 ...  288.4236524453536     359.9938193022868,-0.006564015986390094   -1.542639917299637     1.208460415653407\n",
       "698.8933368329539  630.7893674155769  698.8338031158873  630.8564971728925 ...  672.7979758262103     359.99976875253213,0.004858931739569784  -2.1927771902263653                    --\n",
       "  730.33706361634  739.6581048733518  730.1188378393215  739.7992550977319 ...  780.8065766377608     359.99910235959084,0.008247269873563196  -1.9652888055571207                    --\n",
       "713.4991749217963  800.8859097526872  713.7789732102547  801.0271187966083 ...  842.5603975567288     359.99979768156555,0.010096081388170648  -0.8602546359904862                    --\n",
       "661.4139033782824  847.5045067119104  661.7111708956044  847.6241496000324 ...  888.9711533679942  0.0015106240595144681,0.011389327479478286  -0.8892791788464259                    --"
      ]
     },
     "execution_count": 12,
     "metadata": {},
     "output_type": "execute_result"
    }
   ],
   "source": [
    "match_phot_single"
   ]
  },
  {
   "cell_type": "markdown",
   "id": "d2c2fcb6",
   "metadata": {},
   "source": [
    "### 3.3<font color='white'>-</font>Photometric Calibration<a class=\"anchor\" id=\"wcs\"></a> ###\n",
    "\n"
   ]
  },
  {
   "cell_type": "code",
   "execution_count": 13,
   "id": "cbb1a56a",
   "metadata": {},
   "outputs": [
    {
     "name": "stdout",
     "output_type": "stream",
     "text": [
      "label xcentroid ycentroid                sky_centroid                ...                sky_bbox_ul                                sky_bbox_lr                               sky_bbox_ur               \n",
      "                                           deg,deg                   ...                  deg,deg                                    deg,deg                                   deg,deg                 \n",
      "----- --------- --------- ------------------------------------------ ... ------------------------------------------ ----------------------------------------- -----------------------------------------\n",
      "    1  757.7435   31.3451    359.99836120500316,-0.01737844736582643 ... 0.003246972520384926,-0.016720884313430235    359.9947473963536,-0.01779814721966357   359.9949061661661,-0.015988928352511637\n",
      "  ...       ...       ...                                        ... ...                                        ...                                       ...                                       ...\n",
      " 1412  786.1478 1138.8680 0.00047055570240872184,0.01665987861286094 ... 0.0005281668253658369,0.016736154401478635 0.00039474385425596493,0.0166242595459828 0.0004055079092133646,0.01674691845172965\n",
      " 1413  573.3072 1140.3708  0.007001298771051743,0.016133204940665547 ...                                    nan,nan   0.00689835746875745,0.01608442949857169                                   nan,nan\n",
      "Length = 1413 rows\n",
      "label xcentroid ycentroid                sky_centroid               ...               sky_bbox_ul                             sky_bbox_lr                              sky_bbox_ur               \n",
      "                                           deg,deg                  ...                 deg,deg                                 deg,deg                                  deg,deg                 \n",
      "----- --------- --------- ----------------------------------------- ... --------------------------------------- ---------------------------------------- ----------------------------------------\n",
      "    1  771.3283   32.6637  359.99794827756364,-0.017301057668209628 ... 359.9990110177998,-0.016750458483331995  359.99689402462656,-0.01798611945311834  359.9970178112104,-0.016575542595886655\n",
      "  ...       ...       ...                                       ... ...                                     ...                                      ...                                      ...\n",
      "  905  123.4718 1134.9854  0.02078097337460531,0.014757936673418863 ... 0.02088425230100589,0.01488837712489459 0.02065076221065814,0.014692561230691636 0.02066959929636816,0.014907214225508345\n",
      "  906  278.3101 1139.7410 0.016045698605735514,0.015320435893069825 ...                                 nan,nan 0.01569384233580126,0.015251164360703085                                  nan,nan\n",
      "Length = 906 rows\n"
     ]
    }
   ],
   "source": [
    "calib_cat_F560W = Table.read(cat_names['F560W'][0])\n",
    "calib_cat_F560W.pprint_all(max_lines=1, max_width=200)\n",
    "calib_cat_F770W = Table.read(cat_names['F770W'][0])\n",
    "calib_cat_F770W.pprint_all(max_lines=1, max_width=200)"
   ]
  },
  {
   "cell_type": "markdown",
   "id": "142c6d4d",
   "metadata": {},
   "source": [
    "For the cross-match of these catalogs, we can use [_match_coordinates_sky_](https://docs.astropy.org/en/stable/coordinates/matchsep.html#matching-catalogs). This function uses a proximity-based approach to find the same star in two catalogs. It requires coordinates to be stored as [_SkyCoord_](https://docs.astropy.org/en/stable/api/astropy.coordinates.SkyCoord.html#astropy.coordinates.SkyCoord) objects."
   ]
  },
  {
   "cell_type": "code",
   "execution_count": 14,
   "id": "a863e8c5",
   "metadata": {},
   "outputs": [],
   "source": [
    "coord_cal = SkyCoord(ra=match_phot_single['radec_F560W'][:].ra, dec=match_phot_single['radec_F560W'][:].dec, unit=\"deg\")\n",
    "coord_i2d = SkyCoord(ra=calib_cat_F560W['sky_centroid'].ra.degree, dec=calib_cat_F560W['sky_centroid'].dec.degree, unit=\"deg\")\n",
    "ind_i2d_cat, dist_2d, _ = match_coordinates_sky(coord_cal, coord_i2d)"
   ]
  },
  {
   "cell_type": "markdown",
   "id": "80d5f1b6",
   "metadata": {},
   "source": [
    "The first output _ind_i2d_cat_ is an array containing the indexes of the stars in the pipeline source catalog that are the closest objects to each source in our F560W-filter catalog. The second output _dist_2d_ is an array with the on-sky distances between sources. We do not need to save the last output because it corresponds to an array of 3D distances between sources. We do not need it here.\n",
    "\n",
    "Being based just on proximity, this algorithm can present some issues in very crowded environments. It is always a good idea to check the result of the cross-match:"
   ]
  },
  {
   "cell_type": "code",
   "execution_count": 15,
   "id": "b730a0e9",
   "metadata": {},
   "outputs": [
    {
     "data": {
      "image/png": "[encoded data removed]",
      "text/plain": [
       "<Figure size 1080x1080 with 1 Axes>"
      ]
     },
     "metadata": {
      "needs_background": "light"
     },
     "output_type": "display_data"
    }
   ],
   "source": [
    "delta_ra = 3600.0*(match_phot_single['radec_F560W'][:].ra.degree*np.cos(np.deg2rad(match_phot_single['radec_F560W'][:].dec.degree)) - \n",
    "                   calib_cat_F560W[ind_i2d_cat]['sky_centroid'].ra.degree*np.cos(np.deg2rad(calib_cat_F560W[ind_i2d_cat]['sky_centroid'].dec.degree)))\n",
    "\n",
    "delta_dec = 3600.0*(match_phot_single['radec_F560W'][:].dec.degree - calib_cat_F560W[ind_i2d_cat]['sky_centroid'].dec.degree)\n",
    "\n",
    "fig, ax = plt.subplots()\n",
    "ax.scatter(delta_ra, delta_dec, lw=0.5, s=5, color='black', marker='o')\n",
    "circle = plt.Circle((0, 0), 0.055, color='r', fill=False)\n",
    "ax.add_patch(circle)\n",
    "ax.set_xlim(-0.5, 0.5)\n",
    "ax.set_ylim(-0.5, 0.5)\n",
    "ax.axhline(0, color='red', ls='--')\n",
    "ax.axvline(0, color='red', ls='--')\n",
    "ax.set_aspect('equal', 'box')\n",
    "ax.set_xlabel(r'$\\Delta\\textrm{(R.A.}\\cos\\textrm{Dec.) [arcsec]}$')\n",
    "ax.set_ylabel(r'$\\Delta\\textrm{Dec. [arcsec]}$')\n",
    "\n",
    "ax2 = ax.secondary_xaxis('top', functions=(arcsec2pix, pix2arcsec))\n",
    "ax2.set_xlabel(r'$\\Delta\\textrm{(R.A.}\\cos\\textrm{Dec.) [MIRIM pixel]}$')\n",
    "ay2 = ax.secondary_yaxis('right', functions=(arcsec2pix, pix2arcsec))\n",
    "ay2.set_ylabel(r'$\\Delta\\textrm{Dec. [MIRIM pixel]}$')\n",
    "\n",
    "plt.tight_layout()"
   ]
  },
  {
   "cell_type": "code",
   "execution_count": 16,
   "id": "0ba47363",
   "metadata": {},
   "outputs": [],
   "source": [
    "phot_F560W_matched = match_phot_single[dist_2d.arcsec/0.11 < 0.5]\n",
    "calib_cat_F560W_matched = calib_cat_F560W[ind_i2d_cat[dist_2d.arcsec/0.11 < 0.5]]"
   ]
  },
  {
   "cell_type": "code",
   "execution_count": 17,
   "id": "0f8003d9",
   "metadata": {},
   "outputs": [],
   "source": [
    "coord_cal = SkyCoord(ra=match_phot_single['radec_F770W'][:].ra, dec=match_phot_single['radec_F770W'][:].dec, unit=\"deg\")\n",
    "coord_i2d = SkyCoord(ra=calib_cat_F770W['sky_centroid'].ra.degree, dec=calib_cat_F770W['sky_centroid'].dec.degree, unit=\"deg\")\n",
    "ind_i2d_cat, dist_2d, _ = match_coordinates_sky(coord_cal, coord_i2d)"
   ]
  },
  {
   "cell_type": "code",
   "execution_count": 18,
   "id": "4ad30f6e",
   "metadata": {},
   "outputs": [
    {
     "data": {
      "image/png": "[encoded data removed]",
      "text/plain": [
       "<Figure size 1080x1080 with 1 Axes>"
      ]
     },
     "metadata": {
      "needs_background": "light"
     },
     "output_type": "display_data"
    }
   ],
   "source": [
    "delta_ra = 3600.0*(match_phot_single['radec_F770W'][:].ra.degree*np.cos(np.deg2rad(match_phot_single['radec_F770W'][:].dec.degree)) - \n",
    "                   calib_cat_F770W[ind_i2d_cat]['sky_centroid'].ra.degree*np.cos(np.deg2rad(calib_cat_F770W[ind_i2d_cat]['sky_centroid'].dec.degree)))\n",
    "\n",
    "delta_dec = 3600.0*(match_phot_single['radec_F770W'][:].dec.degree - calib_cat_F770W[ind_i2d_cat]['sky_centroid'].dec.degree)\n",
    "\n",
    "fig, ax = plt.subplots()\n",
    "ax.scatter(delta_ra, delta_dec, lw=0.5, s=5, color='black', marker='o')\n",
    "circle = plt.Circle((0, 0), 0.055, color='r', fill=False)\n",
    "ax.add_patch(circle)\n",
    "ax.set_xlim(-0.5, 0.5)\n",
    "ax.set_ylim(-0.5, 0.5)\n",
    "ax.axhline(0, color='red', ls='--')\n",
    "ax.axvline(0, color='red', ls='--')\n",
    "ax.set_aspect('equal', 'box')\n",
    "ax.set_xlabel(r'$\\Delta\\textrm{(R.A.}\\cos\\textrm{Dec.) [arcsec]}$')\n",
    "ax.set_ylabel(r'$\\Delta\\textrm{Dec. [arcsec]}$')\n",
    "\n",
    "ax2 = ax.secondary_xaxis('top', functions=(arcsec2pix, pix2arcsec))\n",
    "ax2.set_xlabel(r'$\\Delta\\textrm{(R.A.}\\cos\\textrm{Dec.) [MIRIM pixel]}$')\n",
    "ay2 = ax.secondary_yaxis('right', functions=(arcsec2pix, pix2arcsec))\n",
    "ay2.set_ylabel(r'$\\Delta\\textrm{Dec. [MIRIM pixel]}$')\n",
    "\n",
    "plt.tight_layout()"
   ]
  },
  {
   "cell_type": "markdown",
   "id": "9a4e08f4",
   "metadata": {},
   "source": [
    "Let's define as \"found\" only objects with a positional rms lower than 0.5 MIRIM pixel, i.e., 0.055 arcsec."
   ]
  },
  {
   "cell_type": "code",
   "execution_count": 19,
   "id": "33c326b4",
   "metadata": {},
   "outputs": [],
   "source": [
    "phot_F770W_matched = match_phot_single[dist_2d.arcsec/0.11 < 0.5]\n",
    "calib_cat_F770W_matched = calib_cat_F770W[ind_i2d_cat[dist_2d.arcsec/0.11 < 0.5]]"
   ]
  },
  {
   "cell_type": "markdown",
   "id": "856db614",
   "metadata": {},
   "source": [
    "Next, we need to compute the zero-point between the magnitudes in our custom _cal.fits_-based catalog and those in the pipeline source catalog. This simple step takes into account for (1) the finite-aperture correction and (2) the AB (or Vega) magnitude zero-point. The finite-aperture correction is necessary because the flux measured within a finite aperture is just a fraction of the total signal of a source. In this example, we calibrate our instrumental magnitude r1.\n",
    "\n",
    "We do not need to use all stars. It is preferred to use only bright sources since they should be well-measured in both catalogs. For this specific example, we only apply a magnitude-based selection. You can apply all necessary criteria to ensure the selection of the best objects for the task."
   ]
  },
  {
   "cell_type": "code",
   "execution_count": 20,
   "id": "94d693cb",
   "metadata": {},
   "outputs": [
    {
     "name": "stderr",
     "output_type": "stream",
     "text": [
      "2022-04-29 10:52:06,105 - stpipe - WARNING - /Users/ofox/miniconda3/envs/hackphot/lib/python3.8/site-packages/numpy/core/fromnumeric.py:758: UserWarning: Warning: 'partition' will ignore the 'mask' of the MaskedArray.\n",
      "  a.partition(kth, axis=axis, kind=kind, order=order)\n",
      "\n",
      "2022-04-29 10:52:06,107 - stpipe - WARNING - /Users/ofox/miniconda3/envs/hackphot/lib/python3.8/site-packages/numpy/core/fromnumeric.py:758: UserWarning: Warning: 'partition' will ignore the 'mask' of the MaskedArray.\n",
      "  a.partition(kth, axis=axis, kind=kind, order=order)\n",
      "\n",
      "2022-04-29 10:52:06,109 - stpipe - WARNING - /Users/ofox/miniconda3/envs/hackphot/lib/python3.8/site-packages/numpy/core/fromnumeric.py:758: UserWarning: Warning: 'partition' will ignore the 'mask' of the MaskedArray.\n",
      "  a.partition(kth, axis=axis, kind=kind, order=order)\n",
      "\n",
      "2022-04-29 10:52:06,110 - stpipe - WARNING - /Users/ofox/miniconda3/envs/hackphot/lib/python3.8/site-packages/numpy/core/fromnumeric.py:758: UserWarning: Warning: 'partition' will ignore the 'mask' of the MaskedArray.\n",
      "  a.partition(kth, axis=axis, kind=kind, order=order)\n",
      "\n",
      "2022-04-29 10:52:06,112 - stpipe - WARNING - /Users/ofox/miniconda3/envs/hackphot/lib/python3.8/site-packages/numpy/core/fromnumeric.py:758: UserWarning: Warning: 'partition' will ignore the 'mask' of the MaskedArray.\n",
      "  a.partition(kth, axis=axis, kind=kind, order=order)\n",
      "\n",
      "2022-04-29 10:52:06,114 - stpipe - WARNING - /Users/ofox/miniconda3/envs/hackphot/lib/python3.8/site-packages/numpy/core/fromnumeric.py:758: UserWarning: Warning: 'partition' will ignore the 'mask' of the MaskedArray.\n",
      "  a.partition(kth, axis=axis, kind=kind, order=order)\n",
      "\n",
      "2022-04-29 10:52:06,116 - stpipe - WARNING - /Users/ofox/miniconda3/envs/hackphot/lib/python3.8/site-packages/numpy/core/fromnumeric.py:758: UserWarning: Warning: 'partition' will ignore the 'mask' of the MaskedArray.\n",
      "  a.partition(kth, axis=axis, kind=kind, order=order)\n",
      "\n",
      "2022-04-29 10:52:06,118 - stpipe - WARNING - /Users/ofox/miniconda3/envs/hackphot/lib/python3.8/site-packages/numpy/core/fromnumeric.py:758: UserWarning: Warning: 'partition' will ignore the 'mask' of the MaskedArray.\n",
      "  a.partition(kth, axis=axis, kind=kind, order=order)\n",
      "\n"
     ]
    },
    {
     "name": "stdout",
     "output_type": "stream",
     "text": [
      "\n",
      " Magnitude zero-point: -23.786 mag\n"
     ]
    }
   ],
   "source": [
    "# Magnitude limit\n",
    "ok = phot_F560W_matched['mag_F560W'] < -3\n",
    "\n",
    "delta_mag = phot_F560W_matched['mag_F560W'][ok]-calib_cat_F560W_matched['aper_total_abmag'][ok]\n",
    "\n",
    "_, mag_med_F560W, mag_rms_F560W = sigma_clipped_stats(delta_mag, sigma=2.0, maxiters=10)\n",
    "\n",
    "print('')\n",
    "print(r' Magnitude zero-point: {0:.3f} mag'.format(mag_med_F560W))"
   ]
  },
  {
   "cell_type": "code",
   "execution_count": 21,
   "id": "eb3873a1",
   "metadata": {},
   "outputs": [
    {
     "name": "stderr",
     "output_type": "stream",
     "text": [
      "2022-04-29 10:52:06,126 - stpipe - WARNING - /Users/ofox/miniconda3/envs/hackphot/lib/python3.8/site-packages/numpy/core/fromnumeric.py:758: UserWarning: Warning: 'partition' will ignore the 'mask' of the MaskedArray.\n",
      "  a.partition(kth, axis=axis, kind=kind, order=order)\n",
      "\n",
      "2022-04-29 10:52:06,128 - stpipe - WARNING - /Users/ofox/miniconda3/envs/hackphot/lib/python3.8/site-packages/numpy/core/fromnumeric.py:758: UserWarning: Warning: 'partition' will ignore the 'mask' of the MaskedArray.\n",
      "  a.partition(kth, axis=axis, kind=kind, order=order)\n",
      "\n",
      "2022-04-29 10:52:06,129 - stpipe - WARNING - /Users/ofox/miniconda3/envs/hackphot/lib/python3.8/site-packages/numpy/core/fromnumeric.py:758: UserWarning: Warning: 'partition' will ignore the 'mask' of the MaskedArray.\n",
      "  a.partition(kth, axis=axis, kind=kind, order=order)\n",
      "\n",
      "2022-04-29 10:52:06,131 - stpipe - WARNING - /Users/ofox/miniconda3/envs/hackphot/lib/python3.8/site-packages/numpy/core/fromnumeric.py:758: UserWarning: Warning: 'partition' will ignore the 'mask' of the MaskedArray.\n",
      "  a.partition(kth, axis=axis, kind=kind, order=order)\n",
      "\n"
     ]
    },
    {
     "name": "stdout",
     "output_type": "stream",
     "text": [
      "\n",
      " Magnitude zero-point: -23.800 mag\n"
     ]
    }
   ],
   "source": [
    "# Magnitude limit\n",
    "ok = phot_F770W_matched['mag_F770W'] < -3.5\n",
    "\n",
    "delta_mag = phot_F770W_matched['mag_F770W'][ok]-calib_cat_F770W_matched['aper_total_abmag'][ok]\n",
    "\n",
    "# Complete the line below\n",
    "_, mag_med_F770W, mag_rms_F770W = sigma_clipped_stats(delta_mag, sigma=2.0, maxiters=10)\n",
    "\n",
    "print('')\n",
    "print(r' Magnitude zero-point: {0:.3f} mag'.format(mag_med_F770W))"
   ]
  },
  {
   "cell_type": "markdown",
   "id": "469b40a2",
   "metadata": {},
   "source": [
    "Let's plot the $\\Delta$mag as a function of instrumental magnitude."
   ]
  },
  {
   "cell_type": "raw",
   "id": "78e17844",
   "metadata": {},
   "source": [
    "fig, ax = plt.subplots()\n",
    "ax.scatter(phot_F560W_matched['mag_F560W'], phot_F560W_matched['mag_F560W']-calib_cat_F560W_matched['aper_total_abmag'], \n",
    "           lw=0.5, s=5, color='black', marker='o')\n",
    "ax.set_xlim(-8, -2)\n",
    "ax.set_ylim(-26, -24)\n",
    "ax.axhline(mag_med_F560W, color='red', ls='--')\n",
    "ax.set_xlabel(r'F560W mag')\n",
    "ax.set_ylabel(r'$\\Delta$mag')\n",
    "plt.tight_layout()"
   ]
  },
  {
   "cell_type": "raw",
   "id": "eb821672",
   "metadata": {},
   "source": [
    "fig, ax = plt.subplots()\n",
    "ax.scatter(phot_F770W_matched['mag_F770W'], phot_F770W_matched['mag_F770W']-calib_cat_F770W_matched['aper_total_abmag'], \n",
    "           lw=0.5, s=5, color='black', marker='o')\n",
    "ax.set_xlim(-8, -2)\n",
    "ax.set_ylim(-26, -24)\n",
    "ax.axhline(mag_med_F770W, color='red', ls='--')\n",
    "ax.set_xlabel(r'F770W mag')\n",
    "ax.set_ylabel(r'$\\Delta$mag')\n",
    "plt.tight_layout()"
   ]
  },
  {
   "cell_type": "markdown",
   "id": "eda043dc",
   "metadata": {},
   "source": [
    "Finally, the calibrate AB mag of our stars is simply:"
   ]
  },
  {
   "cell_type": "code",
   "execution_count": 30,
   "id": "8384c71a",
   "metadata": {},
   "outputs": [],
   "source": [
    "match_phot_single['ABmag_F560W'] = match_phot_single['mag_F560W'] - mag_med_F560W\n",
    "match_phot_single['ABmag_F770W'] = match_phot_single['mag_F770W'] - mag_med_F770W"
   ]
  },
  {
   "cell_type": "markdown",
   "id": "a50d6492",
   "metadata": {},
   "source": [
    "The same procedure can be used to convert our instrumental magnitudes in the Vega system."
   ]
  },
  {
   "cell_type": "markdown",
   "id": "f149415d",
   "metadata": {},
   "source": [
    "We have built two catalogs for the same field in two filters. We can combine the photometry in these catalogs to create our first mid-infrared color-magnitude diagram."
   ]
  },
  {
   "cell_type": "markdown",
   "id": "a081a337",
   "metadata": {},
   "source": [
    "Let's check the result of the cross-match:"
   ]
  },
  {
   "cell_type": "markdown",
   "id": "69f37dc0",
   "metadata": {},
   "source": [
    "Finally, we can make our first mid-infrared color-magnitude diagram:"
   ]
  },
  {
   "cell_type": "code",
   "execution_count": 31,
   "id": "b747ead3-7eb5-42e2-9db2-be23156a01ff",
   "metadata": {},
   "outputs": [
    {
     "data": {
      "image/png": "[encoded data removed]",
      "text/plain": [
       "<Figure size 1080x1080 with 1 Axes>"
      ]
     },
     "metadata": {
      "needs_background": "light"
     },
     "output_type": "display_data"
    }
   ],
   "source": [
    "fig, ax = plt.subplots()\n",
    "ax.set_aspect(0.35)\n",
    "ax.scatter(match_phot_single['ABmag_F560W']-match_phot_single['ABmag_F770W'], \n",
    "           match_phot_single['ABmag_F770W'], lw=0.5, s=5, marker='o', color='black')\n",
    "#ax.set_xlim(-01.0+0.5, 0.02+0.5)\n",
    "ax.set_xlim(-01.0, 0.02)\n",
    "#ax.set_ylim(24-27, 17-27)\n",
    "ax.set_ylim(24, 17)\n",
    "ax.set_xlabel(r'$(m_{\\textrm{F560W}}-m_{\\textrm{F770W}})$')\n",
    "ax.set_ylabel(r'$m_{\\textrm{F770W}}$')\n",
    "ax.set_title(r'The First MIRI CMD (LMC)')\n",
    "plt.tight_layout()\n",
    "#match_phot_single['mag_F560W']-match_phot_single['mag_F770W']\n",
    "#match_phot_single['mag_F770W']"
   ]
  },
  {
   "cell_type": "markdown",
   "id": "5630029f-31d1-42cd-8454-225e86cabc48",
   "metadata": {},
   "source": [
    "<hr style=\"border:1px solid gray\"> </hr>"
   ]
  },
  {
   "cell_type": "markdown",
   "id": "843b5201-6f57-46f0-9da0-b738714178d3",
   "metadata": {},
   "source": [
    "<img style=\"float: center;\" src=\"https://raw.githubusercontent.com/spacetelescope/notebooks/master/assets/stsci_pri_combo_mark_horizonal_white_bkgd.png\" alt=\"Space Telescope Logo\" width=\"200px\"/>"
   ]
  }
 ],
 "metadata": {
  "kernelspec": {
   "display_name": "Python 3 (ipykernel)",
   "language": "python",
   "name": "python3"
  },
  "language_info": {
   "codemirror_mode": {
    "name": "ipython",
    "version": 3
   },
   "file_extension": ".py",
   "mimetype": "text/x-python",
   "name": "python",
   "nbconvert_exporter": "python",
   "pygments_lexer": "ipython3",
   "version": "3.8.10"
  },
  "toc-showcode": false
 },
 "nbformat": 4,
 "nbformat_minor": 5
}
