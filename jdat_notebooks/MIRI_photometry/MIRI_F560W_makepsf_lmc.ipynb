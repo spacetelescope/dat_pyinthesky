{
 "cells": [
  {
   "cell_type": "markdown",
   "id": "b58d6954",
   "metadata": {},
   "source": [
    "# MIRI PSF Photometry #1 - F560W PSF Photometry (Made Simple)\n",
    "\n",
    "**Author**: Ori Fox\n",
    "<br>\n",
    "**Last Updated**: March, 2022"
   ]
  },
  {
   "cell_type": "markdown",
   "id": "7df4f696",
   "metadata": {},
   "source": [
    "## Table of contents\n",
    "1. [Introduction](#intro)<br>\n",
    "2. [Setup](#setup)<br>\n",
    "    2.1 [Python imports](#py_imports)<br>\n",
    "    2.2 [Plotting functions imports](#matpl_imports)<br>\n",
    "    2.3 [PSF FWHM dictionary](#psf_fwhm)<br>\n",
    "3. [Import image to analyze](#data)<br>\n",
    "    3.1 [Display image](#display_data)<br>\n",
    "    3.2 [Convert image units and apply pixel area map](#convert_data)<br>\n",
    "4. [Create a synthetic PSF model (with WebbPSF)](#webbpsf_intro)<br>\n",
    "    4.1 [Create the single PSF](#single_webbpsf)<br>\n",
    "    4.2 [Display the single PSF](#display_single_webbpsf)<br>\n",
    "    4.3 [Create the grid of PSFs](#grid_webbpsf)<br>\n",
    "    4.4 [Display the grid of PSFs](#display_grid_webbpsf)<br>\n",
    "5. [Create the PSF model building an effective PSF](#epsf_intro)<br>\n",
    "    5.1 [Calculate the background](#bkg)<br>\n",
    "    5.2 [Find sources in the image](#find)<br>\n",
    "    5.3 [Select sources](#select)<br>\n",
    "    5.4 [Create catalog of selected sources](#create_cat)<br>\n",
    "    5.5 [Build the effective PSF](#build_epsf)<br>\n",
    "    5.6 [Display the effective PSF](#display_epsf)<br>\n",
    "6. [Perform PSF Photometry](#psf_phot)<br>\n",
    "    6.1 [PSF photometry output catalog](#psf_cat)<br>\n",
    "    6.2 [Display residual images](#residual)<br>"
   ]
  },
  {
   "cell_type": "markdown",
   "id": "4f572688",
   "metadata": {},
   "source": [
    "1.<font color='white'>-</font>Introduction <a class=\"anchor\" id=\"intro\"></a>\n",
    "------------------"
   ]
  },
  {
   "cell_type": "markdown",
   "id": "95891849",
   "metadata": {},
   "source": [
    "**Data**: MIRI simulated images obtained using [MIRISIM](https://www.stsci.edu/jwst/science-planning/proposal-planning-toolbox/mirisim) and run through the [JWST pipeline](https://jwst-pipeline.readthedocs.io/en/latest/) of Isochrone of 10-Gyr old population, [Fe/H]=-1 Population placed at 2.5 kpc from the Sun. Salpeter-like IMF, tweaked to have more massive stars (since positions are random, it ensures at least a few bright stars in each image). Kept only sources brighter than J=17 (random cut to speed up MIRISim) and fainter than Ks=10 (to avoid too-bright stars that would have PSF spikes clearly cut by MIRISim in the image)\n",
    "\n",
    "Here is the [ReadMe](https://stsci.app.box.com/s/2b6evrie2swaybarxhdmpqizktl3g0wm/file/869444882607). All data simulations can be found on [STScI's simulation page](https://www.stsci.edu/jwst/science-planning/proposal-planning-toolbox/simulated-data).\n",
    "\n",
    "PSF Photometry can be obtained using:\n",
    "\n",
    "* single PSF model obtained from WebbPSF\n",
    "* grid of PSF models from WebbPSF\n",
    "* single effective PSF (ePSF)\n",
    "* grid of effective PSF (bonus part II)\n",
    "\n",
    "The notebook shows:\n",
    "\n",
    "* how to obtain the PSF model from WebbPSF (or build an ePSF)\n",
    "* how to perform PSF photometry on the image\n",
    "* how to cross-match the catalogs of the different images (bonus part I)"
   ]
  },
  {
   "cell_type": "markdown",
   "id": "1cf3d18f",
   "metadata": {},
   "source": [
    "2.<font color='white'>-</font>Setup <a class=\"anchor\" id=\"setup\"></a>\n",
    "------------------"
   ]
  },
  {
   "cell_type": "markdown",
   "id": "bd038c76",
   "metadata": {},
   "source": [
    "In this section we import all the necessary python packages and we define some plotting parameters."
   ]
  },
  {
   "cell_type": "markdown",
   "id": "5b762602",
   "metadata": {},
   "source": [
    "### 2.1<font color='white'>-</font>Python imports<a class=\"anchor\" id=\"py_imports\"></a> ###"
   ]
  },
  {
   "cell_type": "code",
   "execution_count": null,
   "id": "8c50eace",
   "metadata": {},
   "outputs": [],
   "source": [
    "import os\n",
    "\n",
    "if not os.environ.get('WEBBPSF_PATH'):\n",
    "    os.environ['WEBBPSF_PATH'] = '/data/webbpsf-data'\n",
    "\n",
    "import sys\n",
    "import time\n",
    "\n",
    "import numpy as np\n",
    "\n",
    "import pandas as pd\n",
    "\n",
    "import glob as glob\n",
    "\n",
    "import urllib.request\n",
    "\n",
    "import tarfile\n",
    "\n",
    "from astropy.io import fits\n",
    "from astropy.visualization import simple_norm\n",
    "from astropy.nddata import NDData\n",
    "from astropy.modeling.fitting import LevMarLSQFitter\n",
    "from astropy.table import Table, QTable\n",
    "from astropy.coordinates import SkyCoord, match_coordinates_sky\n",
    "from astropy import units as u\n",
    "\n",
    "from photutils.background import MMMBackground, MADStdBackgroundRMS, Background2D\n",
    "from photutils.detection import DAOStarFinder\n",
    "from photutils import EPSFBuilder, GriddedPSFModel\n",
    "from photutils.psf import DAOGroup, extract_stars, IterativelySubtractedPSFPhotometry\n",
    "\n",
    "import jwst\n",
    "from jwst.datamodels import ImageModel\n",
    "\n",
    "import webbpsf\n",
    "from webbpsf.utils import to_griddedpsfmodel\n",
    "\n",
    "import pysynphot  # PYSIN_CDBS must be defined in the user's environment (see note below)\n",
    "\n",
    "from collections import OrderedDict\n",
    "from astropy.wcs import WCS\n",
    "\n",
    "from jdaviz import Imviz"
   ]
  },
  {
   "cell_type": "code",
   "execution_count": null,
   "id": "dea5f1e7",
   "metadata": {},
   "outputs": [],
   "source": [
    "#\n",
    "# General tools\n",
    "#\n",
    "import glob\n",
    "import os\n",
    "import shutil\n",
    "import sys\n",
    "import random\n",
    "import urllib\n",
    "import zipfile\n",
    "#\n",
    "# Astropy tools\n",
    "#\n",
    "from astropy.coordinates import match_coordinates_sky, SkyCoord\n",
    "from astropy.io import fits, ascii\n",
    "from astropy.stats import SigmaClip, sigma_clipped_stats\n",
    "from astropy.table import Table, Column, vstack\n",
    "import astropy.units as u\n",
    "from astropy.visualization import LogStretch, LinearStretch, PercentileInterval, ManualInterval\n",
    "from astropy.nddata import Cutout2D\n",
    "#\n",
    "# JWST models\n",
    "#\n",
    "from jwst import datamodels, associations\n",
    "from jwst.datamodels import ImageModel, dqflags\n",
    "#\n",
    "# Matplotlib tools\n",
    "#\n",
    "from matplotlib import style, pyplot as plt, rcParams\n",
    "from matplotlib.colors import LogNorm\n",
    "from matplotlib.pyplot import figure\n",
    "from mpl_toolkits.axes_grid1.axes_divider import make_axes_locatable\n",
    "#\n",
    "# Numpy library\n",
    "#\n",
    "import numpy as np\n",
    "#\n",
    "# Photutils library and tools\n",
    "#\n",
    "import photutils\n",
    "from photutils.aperture import CircularAperture, CircularAnnulus, aperture_photometry\n",
    "from photutils import Background2D, MedianBackground, ModeEstimatorBackground, MMMBackground\n",
    "#\n",
    "# Scipy tools\n",
    "#\n",
    "from scipy import stats\n",
    "from scipy.interpolate import CubicSpline\n",
    "#\n",
    "# Use 90% of the window width\n",
    "#\n",
    "from IPython.core.display import display, HTML\n",
    "display(HTML(\"<style>.container { width:90% !important; }</style>\"))"
   ]
  },
  {
   "cell_type": "markdown",
   "id": "35987e59",
   "metadata": {},
   "source": [
    "<div class=\"alert alert-block alert-info\">\n",
    "\n",
    "**Note on pysynphot**: Data files for pysynphot are distributed separately by Calibration Reference Data System. They are expected to follow a certain directory structure under the root directory, identified by the PYSYN_CDBS environment variable that must be set prior to using this package. In the example below, the root directory is arbitrarily named /my/local/dir/trds/. \\\n",
    "export PYSYN_CDBS=/my/local/dir/trds/ \\\n",
    "See documentation [here](https://pysynphot.readthedocs.io/en/latest/#installation-and-setup) for the configuration and download of the data files.\n",
    "    \n",
    "<div >"
   ]
  },
  {
   "cell_type": "markdown",
   "id": "956910c8",
   "metadata": {},
   "source": [
    "### 2.2<font color='white'>-</font>Plot Settings<a class=\"anchor\" id=\"matpl_imports\"></a> ###"
   ]
  },
  {
   "cell_type": "code",
   "execution_count": null,
   "id": "9dee46d0",
   "metadata": {},
   "outputs": [],
   "source": [
    "%matplotlib inline\n",
    "from matplotlib import style, pyplot as plt\n",
    "import matplotlib.patches as patches\n",
    "import matplotlib.ticker as ticker\n",
    "\n",
    "from mpl_toolkits.axes_grid1 import make_axes_locatable\n",
    "\n",
    "plt.rcParams['image.cmap'] = 'viridis'\n",
    "plt.rcParams['image.origin'] = 'lower'\n",
    "plt.rcParams['axes.titlesize'] = plt.rcParams['axes.labelsize'] = 30\n",
    "plt.rcParams['xtick.labelsize'] = plt.rcParams['ytick.labelsize'] = 20\n",
    "\n",
    "font1 = {'family': 'helvetica', 'color': 'black', 'weight': 'normal', 'size': '12'}\n",
    "font2 = {'family': 'helvetica', 'color': 'black', 'weight': 'normal', 'size': '20'}"
   ]
  },
  {
   "cell_type": "code",
   "execution_count": null,
   "id": "92799ab2",
   "metadata": {},
   "outputs": [],
   "source": [
    "%matplotlib inline\n",
    "# Figure size\n",
    "plt.rcParams['figure.figsize'] = [15, 15]\n",
    "# Figure text and font\n",
    "plt.rc('text', usetex=True)\n",
    "plt.rc('font', size=15)"
   ]
  },
  {
   "cell_type": "markdown",
   "id": "64814f46",
   "metadata": {},
   "source": [
    "### 2.3<font color='white'>-</font>PSF FWHM dictionary<a class=\"anchor\" id=\"psf_fwhm\"></a> ###"
   ]
  },
  {
   "cell_type": "markdown",
   "id": "7f5a21ce",
   "metadata": {},
   "source": [
    "The dictionary contains the NIRCam point spread function (PSF) FWHM, from the [NIRCam Point Spread Function](https://jwst-docs.stsci.edu/near-infrared-camera/nircam-predicted-performance/nircam-point-spread-functions) JDox page. The FWHM are calculated from the analysis of the expected NIRCam PSFs simulated with [WebbPSF](https://www.stsci.edu/jwst/science-planning/proposal-planning-toolbox/psf-simulation-tool). \n",
    "\n",
    "**Note**: this dictionary will be updated once the values for the FWHM will be available for each detectors after commissioning."
   ]
  },
  {
   "cell_type": "code",
   "execution_count": null,
   "id": "176a76b6",
   "metadata": {},
   "outputs": [],
   "source": [
    "filters = ['F560W', 'F770W', 'F1000W', 'F1130W', 'F1280W', 'F1500W', 'F1800W', 'F2100W', 'F2550W']\n",
    "\n",
    "psf_fwhm = [1.636, 2.187, 2.888, 3.318, 3.713, 4.354, 5.224, 5.989, 7.312] #pixls\n",
    "\n",
    "dict_utils = {filters[i]: {'psf fwhm': psf_fwhm[i]} for i in range(len(filters))}"
   ]
  },
  {
   "cell_type": "markdown",
   "id": "7e7a3680-c3fa-4038-a11b-6b5b9cba0e22",
   "metadata": {},
   "source": [
    "### 2.4 Useful Functions"
   ]
  },
  {
   "cell_type": "code",
   "execution_count": null,
   "id": "8397d3e6-eb36-4466-af98-26d653fc6897",
   "metadata": {},
   "outputs": [],
   "source": [
    "def imshow_me_wcolorbar(img, vmin, vmax, tlabel, xlabel, ylabel, blabel, cmap):\n",
    "    '''\n",
    "    Function to show an image.\n",
    "    \n",
    "    Inputs\n",
    "    ----------\n",
    "    img : 2D numpy.ndarray\n",
    "        The input 2D array.\n",
    "    vmin : float\n",
    "        The minimum value for the colorbar.\n",
    "    vmax : float\n",
    "        The maximum value for the colorbar.\n",
    "    tlabel : string\n",
    "        The plot title.\n",
    "    xlabel : string\n",
    "        The X-axis label.\n",
    "    ylabel : string\n",
    "        The Y-axis label.\n",
    "    blabel : string\n",
    "        The colorbar label.\n",
    "    cmap : string\n",
    "        The name of the colormap.\n",
    "    '''\n",
    "    \n",
    "    fig, ax = plt.subplots()\n",
    "    cax = ax.imshow(img, vmin=vmin, vmax=vmax, origin='lower', cmap=cmap)\n",
    "    ax_divider = make_axes_locatable(ax)\n",
    "    cax1 = ax_divider.append_axes('right', size='3%', pad='2%')\n",
    "    cb = fig.colorbar(cax, cax=cax1)\n",
    "    cb.ax.set_ylabel(r'{0}'.format(blabel))\n",
    "    ax.set_xlabel(r'{0}'.format(xlabel))\n",
    "    ax.set_ylabel(r'{0}'.format(ylabel))\n",
    "    ax.set_title(r'{0}'.format(tlabel))\n",
    "    plt.tight_layout()\n",
    "    \n",
    "    return"
   ]
  },
  {
   "cell_type": "code",
   "execution_count": null,
   "id": "4f396047-12dd-43ab-b2b4-0978363273b2",
   "metadata": {},
   "outputs": [],
   "source": [
    "def imshow_me_wcolorbar_setup(img, vmin, vmax, tlabel, xlabel, ylabel, blabel, cmap):\n",
    "    '''\n",
    "    Function to setup an image to show. Similar to imshow_me_wcolorbar,\n",
    "    but it does not show the image directly, thus allowing to plot\n",
    "    something else after the call.\n",
    "    \n",
    "    Inputs\n",
    "    ----------\n",
    "    img : 2D numpy.ndarray\n",
    "        The input 2D array.\n",
    "    vmin : float\n",
    "        The minimum value for the colorbar.\n",
    "    vmax : float\n",
    "        The maximum value for the colorbar.\n",
    "    tlabel : string\n",
    "        The plot title.\n",
    "    xlabel : string\n",
    "        The X-axis label.\n",
    "    ylabel : string\n",
    "        The Y-axis label.\n",
    "    blabel : string\n",
    "        The colorbar label.\n",
    "    cmap : string\n",
    "        The name of the colormap.\n",
    "    '''\n",
    "    \n",
    "    cax = ax.imshow(img, vmin=vmin, vmax=vmax, origin='lower', cmap=cmap)\n",
    "    ax_divider = make_axes_locatable(ax)\n",
    "    cax1 = ax_divider.append_axes('right', size='3%', pad='2%')\n",
    "    cb = fig.colorbar(cax, cax=cax1)\n",
    "    cb.ax.set_ylabel(r'{0}'.format(blabel))\n",
    "    ax.set_xlabel(r'{0}'.format(xlabel))\n",
    "    ax.set_ylabel(r'{0}'.format(ylabel))\n",
    "    ax.set_title(r'{0}'.format(tlabel))\n",
    "    \n",
    "    return"
   ]
  },
  {
   "cell_type": "code",
   "execution_count": null,
   "id": "9c9aff77-e429-4ebd-8d99-6d3876fa0b90",
   "metadata": {},
   "outputs": [],
   "source": [
    "def imshow_cutouts(img, tab, id_sel, xlabel, ylabel, cmap):\n",
    "    '''\n",
    "    Function to show four cutouts from an image.\n",
    "    \n",
    "    Inputs\n",
    "    ----------\n",
    "    img : 2D numpy.ndarray\n",
    "        The input 2D array.\n",
    "    tab : Table\n",
    "        The table with at least (x,y,id) columns.\n",
    "    id_sel : array(int)\n",
    "        The ID of the sources in tab to show in the cutouts.\n",
    "    xlabel : string\n",
    "        The X-axis label.\n",
    "    ylabel : string\n",
    "        The Y-axis label.\n",
    "    cmap : string\n",
    "        The name of the colormap.\n",
    "    '''\n",
    "    \n",
    "    fig, ax = plt.subplots(2, 2)\n",
    "\n",
    "    x, y = tab['x'][tab['id'] == id_sel[0]], tab['y'][tab['id'] == id_sel[0]]\n",
    "    cutout = Cutout2D(img, (x, y), (51, 51))\n",
    "    ax[0, 0].imshow(cutout.data, vmin=-0.1, vmax=1.0, origin='lower', cmap=cmap)\n",
    "    ax[0, 0].scatter(cutout.input_position_cutout[0], cutout.input_position_cutout[1], lw=0.5, s=15, \n",
    "                     marker='o', edgecolors='deepskyblue', facecolors='none')\n",
    "    ax[0, 0].annotate(r'(x,y)$\\sim$({0},{1})'.format(int(x[0]), int(y[0])), xy=(0.5, 0.95), xycoords='axes fraction',\n",
    "                      horizontalalignment='center', verticalalignment='center')\n",
    "    ax[0, 0].set_xlabel(r'{0}'.format(xlabel))\n",
    "    ax[0, 0].set_ylabel(r'{0}'.format(ylabel))\n",
    "\n",
    "    x, y = tab['x'][tab['id'] == id_sel[1]], tab['y'][tab['id'] == id_sel[1]]\n",
    "    cutout = Cutout2D(img, (x, y), (51, 51))\n",
    "    ax[0, 1].imshow(cutout.data, vmin=-0.1, vmax=1.0, origin='lower', cmap=cmap)\n",
    "    ax[0, 1].scatter(cutout.input_position_cutout[0], cutout.input_position_cutout[1], lw=0.5, s=15, \n",
    "                     marker='o', edgecolors='deepskyblue', facecolors='none')\n",
    "    ax[0, 1].annotate(r'(x,y)$\\sim$({0},{1})'.format(int(x[0]), int(y[0])), xy=(0.5, 0.95), xycoords='axes fraction', \n",
    "                      horizontalalignment='center', verticalalignment='center')\n",
    "    ax[0, 1].set_xlabel(r'{0}'.format(xlabel))\n",
    "    ax[0, 1].set_ylabel(r'{0}'.format(ylabel))\n",
    "\n",
    "    x, y = tab['x'][tab['id'] == id_sel[2]], tab['y'][tab['id'] == id_sel[2]]\n",
    "    cutout = Cutout2D(img, (x, y), (51, 51))\n",
    "    ax[1, 0].imshow(cutout.data, vmin=-0.1, vmax=1.0, origin='lower', cmap=cmap)\n",
    "    ax[1, 0].scatter(cutout.input_position_cutout[0], cutout.input_position_cutout[1], lw=0.5, s=15, \n",
    "                     marker='o', edgecolors='deepskyblue', facecolors='none')\n",
    "    ax[1, 0].annotate(r'(x,y)$\\sim$({0},{1})'.format(int(x[0]), int(y[0])), xy=(0.5, 0.95), xycoords='axes fraction', \n",
    "                      horizontalalignment='center', verticalalignment='center')\n",
    "    ax[1, 0].set_xlabel(r'{0}'.format(xlabel))\n",
    "    ax[1, 0].set_ylabel(r'{0}'.format(ylabel))\n",
    "\n",
    "    x, y = tab['x'][tab['id'] == id_sel[3]], tab['y'][tab['id'] == id_sel[3]]\n",
    "    cutout = Cutout2D(img, (x, y), (51, 51))\n",
    "    ax[1, 1].imshow(cutout.data, vmin=-0.1, vmax=1.0, origin='lower', cmap=cmap)\n",
    "    ax[1, 1].scatter(cutout.input_position_cutout[0], cutout.input_position_cutout[1], lw=0.5, s=15, \n",
    "                     marker='o', edgecolors='deepskyblue', facecolors='none')\n",
    "    ax[1, 1].annotate(r'(x,y)$\\sim$({0},{1})'.format(int(x[0]), int(y[0])), xy=(0.5, 0.95), xycoords='axes fraction', \n",
    "                      horizontalalignment='center', verticalalignment='center')\n",
    "    ax[1, 1].set_xlabel(r'{0}'.format(xlabel))\n",
    "    ax[1, 1].set_ylabel(r'{0}'.format(ylabel))\n",
    "    \n",
    "    plt.tight_layout()\n",
    "    \n",
    "    return"
   ]
  },
  {
   "cell_type": "code",
   "execution_count": null,
   "id": "b550a543-90d7-46f6-a2ab-04b15a20db65",
   "metadata": {},
   "outputs": [],
   "source": [
    "def arcsec2pix(x):\n",
    "    '''\n",
    "    Function that converts arcsec in MIRIM pixels.\n",
    "    It is used to setup the secondary axes in a plot.\n",
    "    \n",
    "    Inputs\n",
    "    ----------\n",
    "    x : float or array(float)\n",
    "        The value in arcsec.\n",
    "        \n",
    "    Outputs\n",
    "    ----------\n",
    "    The value(s) in MIRIM pixel.\n",
    "    '''\n",
    "    \n",
    "    return x/0.11"
   ]
  },
  {
   "cell_type": "code",
   "execution_count": null,
   "id": "19cfb8d2-b9b0-4c52-a7db-7a9387ab3555",
   "metadata": {},
   "outputs": [],
   "source": [
    "def pix2arcsec(x):\n",
    "    '''\n",
    "    Function that converts MIRIM pixels in arcsec.\n",
    "    It is used to setup the secondary axes in a plot.\n",
    "    \n",
    "    Inputs\n",
    "    ----------\n",
    "    x : float or array(float)\n",
    "        The value in MIRIM pixels.\n",
    "        \n",
    "    Outputs\n",
    "    ----------\n",
    "    The value(s) in arcsec.\n",
    "    '''\n",
    "    \n",
    "    return x*0.11"
   ]
  },
  {
   "cell_type": "markdown",
   "id": "d6ca925d-8a5b-4150-876a-9df2ee7679bb",
   "metadata": {},
   "source": [
    "These last three functions will be used to speed-up the exercise."
   ]
  },
  {
   "cell_type": "code",
   "execution_count": null,
   "id": "246b1382-4d8c-41fe-9ac6-b01c4a7b6c07",
   "metadata": {},
   "outputs": [],
   "source": [
    "def prepare_image(img_name):\n",
    "    '''\n",
    "    Function that reads one image, flag all pixels with DQ flags different \n",
    "    from [0, 2, 4, 6] and adds a random background gradient.\n",
    "    To be used in the exercise.\n",
    "    \n",
    "    Inputs\n",
    "    ----------\n",
    "    img_name : string\n",
    "        The name of the image.\n",
    "        \n",
    "    Outputs\n",
    "    ----------\n",
    "    img : ImageModel\n",
    "        The data model of the image.\n",
    "    img_mod : 2D numpy.ndarray\n",
    "        The image data with the additional random background gradient.\n",
    "    '''\n",
    "    \n",
    "    img = datamodels.open(img_name)\n",
    "    ok = np.zeros(img.data.shape, dtype='int')\n",
    "    for v in [0, 2, 4, 6]:\n",
    "        ok = ok + np.where(img.dq == v, 1, 0)\n",
    "\n",
    "    img.data[ok == 0] = np.nan\n",
    "    \n",
    "    x = np.linspace(0, 1, img.meta.subarray.xsize)\n",
    "    y = np.linspace(0, 1, img.meta.subarray.ysize)\n",
    "    X, Y = np.meshgrid(x, y)\n",
    "    if (np.random.rand(1) > 0.5):\n",
    "        sx = +1\n",
    "    else:\n",
    "        sx = -1\n",
    "    if (np.random.rand(1) > 0.5):\n",
    "        sy = +1\n",
    "    else:\n",
    "        sy = -1\n",
    "    Z = (10*(np.random.rand(1)-0.5))*np.exp(sx*X/(4+2*(np.random.rand(1)-0.5)))*np.exp(sy*Y/(4+4*(np.random.rand(1)-0.5)))\n",
    "    \n",
    "    img_mod = img.data.copy() + Z\n",
    "    \n",
    "    _, sky_med, sky_sig = sigma_clipped_stats(img_mod[np.isfinite(img_mod)], sigma=5.0, maxiters=5)\n",
    "    \n",
    "    print('')\n",
    "    print(r' Suggested min value: {0}'.format(sky_med-sky_sig))\n",
    "    print(r' Suggested max value: {0}'.format(sky_med+sky_sig))\n",
    "    print('')\n",
    "\n",
    "    cmin = sky_med-sky_sig\n",
    "    cmax = sky_med+sky_sig\n",
    "    \n",
    "    return img, img_mod, cmin, cmax"
   ]
  },
  {
   "cell_type": "code",
   "execution_count": null,
   "id": "1bec8d1d-9947-4fc2-94b0-546543c50fca",
   "metadata": {},
   "outputs": [],
   "source": [
    "def prepare_table(img, xy_tmp, aperture_radius, sky, flux, rad_label):\n",
    "    '''\n",
    "    Function that performs additional steps discussed in the notebook.\n",
    "    To be used in the exercise.\n",
    "    \n",
    "    Inputs\n",
    "    ----------\n",
    "    img : ImageModel\n",
    "        The data model of the image.\n",
    "    xy_tmp : Table\n",
    "        The table created by DAOStarFinder with the sources detected\n",
    "        in the image.\n",
    "    aperture_radius : float\n",
    "        The aperture radius used for the aperture photometry.\n",
    "    sky : array(float)\n",
    "        The array with the local sky background for each source.\n",
    "    flux : array(float)\n",
    "        The array with the sky-subtracted flux for each source.\n",
    "    rad_label : string\n",
    "        The label for the photometry in the Table.\n",
    "        \n",
    "    Outputs\n",
    "    ----------\n",
    "    aperture_table : Table\n",
    "        The final astro-photometric table.\n",
    "    '''\n",
    "    \n",
    "    aperture_table = Table()\n",
    "\n",
    "    aperture_table['x'] = xy_tmp['xcentroid']\n",
    "    aperture_table['y'] = xy_tmp['ycentroid']\n",
    "    aperture_table['sharpness'] = xy_tmp['sharpness']\n",
    "    aperture_table['roundness1'] = xy_tmp['roundness1']\n",
    "    aperture_table['roundness2'] = xy_tmp['roundness2']\n",
    "\n",
    "    aperture_table['id'] = xy_tmp['id']\n",
    "    \n",
    "    aperture_table['local_sky_' + rad_label] = sky\n",
    "    aperture_table['aperture_' + rad_label + '_skysub'] = flux\n",
    "    \n",
    "    keep_good = np.logical_and(np.isfinite(aperture_table['aperture_' + rad_label + '_skysub']), \n",
    "                               aperture_table['aperture_' + rad_label + '_skysub'] > 0.)\n",
    "    aperture_table = aperture_table[keep_good]\n",
    "        \n",
    "    aperture_table['mag_' + rad_label] = -2.5*np.log10(aperture_table['aperture_' + rad_label + '_skysub'])\n",
    "\n",
    "    aperture_table['flag_' + rad_label] = np.zeros(len(aperture_table), dtype=int)\n",
    "    for s in aperture_table:\n",
    "        jmin = max(1, int(np.floor(s['y']-aperture_radius)))\n",
    "        jmax = min(round(s['y']+aperture_radius)+1, img.shape[0])\n",
    "        imin = max(1, int(np.floor(s['x']-aperture_radius)))\n",
    "        imax = min(round(s['x']+aperture_radius)+1, img.shape[1])\n",
    "        if (np.sum(img.dq[jmin:jmax, imin:imax] == 6) > 0):\n",
    "            s['flag_' + rad_label] = 6\n",
    "        elif (np.sum(img.dq[jmin:jmax, imin:imax] == 2) > 0):\n",
    "            s['flag_' + rad_label] = 2\n",
    "        elif (np.sum(img.dq[jmin:jmax, imin:imax] == 4) > 0):\n",
    "            s['flag_' + rad_label] = 4       \n",
    "\n",
    "    aperture_table['ra'] = aperture_table['x']\n",
    "    aperture_table['dec'] = aperture_table['y']\n",
    "    for a in aperture_table:\n",
    "        rd = img.meta.wcs.transform(\"detector\", \"world\", a['x'], a['y'])    \n",
    "        a['ra'] = rd[0]\n",
    "        if (a['ra'] > 180):\n",
    "            a['ra'] -= 360.0\n",
    "        a['dec'] = rd[1]\n",
    "        \n",
    "    return aperture_table"
   ]
  },
  {
   "cell_type": "code",
   "execution_count": null,
   "id": "8c2a59e8-ef7b-4569-9a5b-c2b119d4a3ab",
   "metadata": {},
   "outputs": [],
   "source": [
    "def prepare_phot_cal(cat_name, tmp, sel_radius):\n",
    "    '''\n",
    "    Function that cross-matches two catalogs and plot the positional residuals.\n",
    "    To be used in the exercise.\n",
    "    \n",
    "    Inputs\n",
    "    ----------\n",
    "    cat_name : string\n",
    "        The name of the pipeline source catalog\n",
    "    tmp : Table\n",
    "        The astro-photometric table.\n",
    "    sel_radius : float\n",
    "        The radius for the positional-residual selection in arcsec.\n",
    "        \n",
    "    Outputs\n",
    "    ----------\n",
    "    calib_cat : Table\n",
    "        The pipeline source catalog.\n",
    "    ind_i2d_cat: array(int)\n",
    "        The array with the indexes from match_sky_coordinates.\n",
    "    dist_2d: array(float)\n",
    "        The array with the 2D distances from match_sky_coordinates.\n",
    "    '''\n",
    "    \n",
    "    calib_cat = Table.read(cat_name)\n",
    "\n",
    "    coord_cal = SkyCoord(ra=tmp['ra'], dec=tmp['dec'], unit=\"deg\")\n",
    "    coord_i2d = SkyCoord(ra=calib_cat['sky_centroid'].ra.degree, dec=calib_cat['sky_centroid'].dec.degree, unit=\"deg\")\n",
    "    ind_i2d_cat, dist_2d, a = match_coordinates_sky(coord_cal, coord_i2d)\n",
    "\n",
    "    delta_ra = 3600.0*(tmp['ra']*np.cos(np.deg2rad(tmp['dec'])) - \n",
    "                       calib_cat[ind_i2d_cat]['sky_centroid'].ra.degree * \n",
    "                       np.cos(np.deg2rad(calib_cat[ind_i2d_cat]['sky_centroid'].dec.degree)))\n",
    "\n",
    "    delta_dec = 3600.0*(tmp['dec']-calib_cat[ind_i2d_cat]['sky_centroid'].dec.degree)\n",
    "\n",
    "    fig, ax = plt.subplots()\n",
    "    ax.scatter(delta_ra, delta_dec, lw=0.5, s=5, color='black', marker='o')\n",
    "    circle = plt.Circle((0, 0), sel_radius, color='r', fill=False)\n",
    "    ax.add_patch(circle)\n",
    "    ax.set_xlim(-0.5, 0.5)\n",
    "    ax.set_ylim(-0.5, 0.5)\n",
    "    ax.axhline(0, color='red', ls='--')\n",
    "    ax.axvline(0, color='red', ls='--')\n",
    "    ax.set_aspect('equal', 'box')\n",
    "    ax.set_xlabel(r'$\\Delta\\textrm{(R.A.}\\cos\\textrm{Dec.) [arcsec]}$')\n",
    "    ax.set_ylabel(r'$\\Delta\\textrm{Dec. [arcsec]}$')\n",
    "\n",
    "    ax2 = ax.secondary_xaxis('top', functions=(arcsec2pix, pix2arcsec))\n",
    "    ax2.set_xlabel(r'$\\Delta\\textrm{(R.A.}\\cos\\textrm{Dec.) [MIRIM pixel]}$')\n",
    "    ay2 = ax.secondary_yaxis('right', functions=(arcsec2pix, pix2arcsec))\n",
    "    ay2.set_ylabel(r'$\\Delta\\textrm{Dec. [MIRIM pixel]}$')\n",
    "\n",
    "    plt.tight_layout()\n",
    "\n",
    "    return calib_cat, ind_i2d_cat, dist_2d"
   ]
  },
  {
   "cell_type": "markdown",
   "id": "fb708e11-9c25-41c8-a372-5a35d8b2197b",
   "metadata": {},
   "source": [
    "We adopted as Background estimator the function [MMMBackground](https://photutils.readthedocs.io/en/stable/api/photutils.background.MMMBackground.html#photutils.background.MMMBackground), which calculates the background in an array using the DAOPHOT MMM algorithm, on the whole image (The background is calculated using a mode estimator of the form `(3 * median) - (2 * mean)`). \n",
    "\n",
    "When dealing with a variable background and/or the need to mask the regions where we have no data (for example, if we are analyzing an image with all the 4 NIRCam SW detectors, i.e. containing the chip gaps), we can set `var_bkg = True` and use a more complex algorithm that takes into account those issues."
   ]
  },
  {
   "cell_type": "code",
   "execution_count": null,
   "id": "75a02772-768c-4eb4-84e2-d10749facdee",
   "metadata": {},
   "outputs": [],
   "source": [
    "def calc_bkg(var_bkg=False):\n",
    "    \n",
    "    bkgrms = MADStdBackgroundRMS()\n",
    "    mmm_bkg = MMMBackground()\n",
    "#    file = './data/jw01171001001_02101_00004_mirimage_i2d.fits'\n",
    "    im = fits.open(file)\n",
    "\n",
    "    if var_bkg:\n",
    "        print('Using 2D Background')\n",
    "        sigma_clip = SigmaClip(sigma=3.0, maxiters=10)\n",
    "        #coverage_mask = (data == 0)\n",
    "        \n",
    "        # Mask all nan or inf pixels\n",
    "        coverage_mask = np.full(np.shape(im[1].data), False, dtype=bool)\n",
    "        coverage_mask[np.isnan(im[1].data)] = True\n",
    "        coverage_mask[~np.isfinite(im[1].data)] = True\n",
    "\n",
    "        bkg = Background2D(data, (20, 20), filter_size=(30, 30), sigma_clip=sigma_clip, bkg_estimator=mmm_bkg,\n",
    "                           coverage_mask=coverage_mask, fill_value=0.0)\n",
    "\n",
    "        data_bkgsub = data.copy()\n",
    "        data_bkgsub = data_bkgsub - bkg.background\n",
    "\n",
    "        #_, _, std = sigma_clipped_stats(data_bkgsub)\n",
    "        std = bkg.background_rms_median\n",
    "\n",
    "    else:\n",
    "\n",
    "        std = bkgrms(data)\n",
    "        bkg = mmm_bkg(data)\n",
    "\n",
    "        data_bkgsub = data.copy()\n",
    "        data_bkgsub -= bkg\n",
    "\n",
    "    return data_bkgsub, std"
   ]
  },
  {
   "cell_type": "markdown",
   "id": "e68e2da1-b70c-4de5-b6d7-b73b89a02a3c",
   "metadata": {},
   "source": [
    "3.<font color='white'>-</font>Load Data <a class=\"anchor\" id=\"load\"></a>\n",
    "------------------"
   ]
  },
  {
   "cell_type": "markdown",
   "id": "8fc33b53-0031-4183-b350-341655eeea71",
   "metadata": {},
   "source": [
    "## We will insert a cell here for automatically downloading the data once it goes public"
   ]
  },
  {
   "cell_type": "code",
   "execution_count": null,
   "id": "456237d2",
   "metadata": {},
   "outputs": [],
   "source": [
    "file = './data/jw01171001001_02101_00004_mirimage_cal.fits'\n",
    "im = fits.open(file)\n",
    "hdr560 = im[\"SCI\",1].header\n",
    "w560 = WCS(im[\"SCI\",1].header)"
   ]
  },
  {
   "cell_type": "markdown",
   "id": "d9d2a770",
   "metadata": {},
   "source": [
    "### 3.1<font color='white'>-</font>Display the image<a class=\"anchor\" id=\"display_data\"></a> ###"
   ]
  },
  {
   "cell_type": "markdown",
   "id": "1f012553",
   "metadata": {},
   "source": [
    "To check that our image does not present artifacts and can be used in the analysis, we display it. "
   ]
  },
  {
   "cell_type": "code",
   "execution_count": null,
   "id": "de67dbfa",
   "metadata": {},
   "outputs": [],
   "source": [
    "data_sb = im[1].data\n",
    "_, med, sig = sigma_clipped_stats(data_sb, sigma=5.0, maxiters=5)\n",
    "\n",
    "imviz = Imviz()\n",
    "imviz.app"
   ]
  },
  {
   "cell_type": "code",
   "execution_count": null,
   "id": "e5c2c2e8",
   "metadata": {},
   "outputs": [],
   "source": [
    "imviz.load_data(data_sb)"
   ]
  },
  {
   "cell_type": "code",
   "execution_count": null,
   "id": "ea47b3b7",
   "metadata": {},
   "outputs": [],
   "source": [
    "viewer = imviz.default_viewer\n",
    "viewer.cuts = '95%'"
   ]
  },
  {
   "cell_type": "markdown",
   "id": "2dbee13d",
   "metadata": {},
   "source": [
    "### 3.2 Data Quality (DQ) Flags"
   ]
  },
  {
   "cell_type": "markdown",
   "id": "7f27a2c4",
   "metadata": {},
   "source": [
    "Not all pixels should be used. We can use the Data Quality (DQ) flags to assess whether a pixel can be considered in calculations or not. [Here](https://jwst-pipeline.readthedocs.io/en/latest/jwst/references_general/references_general.html#data-quality-flags) you can find a description of the DQ flags.\n",
    "\n",
    "There is no one-size-fits-all solution for selecting pixels using the DQ flags. For this specific exercise, let's keep all pixels with DQ flag equal to:\n",
    "\n",
    "- 0 = Good pixel\n",
    "- 2 = Pixel saturated during integration\n",
    "- 4 = Jump detected during integration\n",
    "- 6 = Combination of DQ flags 2 and 4\n",
    "\n",
    "As we can see, the DQ flags can correspond to multiple features. We can use _dqflags.dqflags_to_mnemonics_ to convert the DQ integer values into more user-friendly names:"
   ]
  },
  {
   "cell_type": "code",
   "execution_count": null,
   "id": "0547face",
   "metadata": {},
   "outputs": [],
   "source": [
    "print(r' DQ flag equal to 2: {0}'.format(dqflags.dqflags_to_mnemonics(2, dqflags.group)))\n",
    "print(r' DQ flag equal to 4: {0}'.format(dqflags.dqflags_to_mnemonics(4, dqflags.group)))\n",
    "print(r' DQ flag equal to 6: {0}'.format(dqflags.dqflags_to_mnemonics(6, dqflags.group)))"
   ]
  },
  {
   "cell_type": "markdown",
   "id": "5a3b1d4d",
   "metadata": {},
   "source": [
    "Let's flag all pixels with a DQ flag different from these four values:"
   ]
  },
  {
   "cell_type": "raw",
   "id": "aa0ae7c9-fd22-4128-bf7a-1b179be8dcc0",
   "metadata": {},
   "source": [
    "ok = np.zeros(im[1].data.shape, dtype='int')\n",
    "#for v in [0, 2, 4, 6]:\n",
    "for v in [1]:\n",
    "    ok = ok + np.where(im[3].data == v, 1, 0)\n",
    "\n",
    "im[1].data[ok == 0] = np.nan\n",
    "print(r'{0} out of {1} pixels are not usable (~{2:3.1f}%)'.format((ok == 0).sum(), im[1].data.shape[0]*im[1].data.shape[1], \n",
    "                                                                            (ok == 0).sum()/(im[1].data.shape[0]*im[1].data.shape[1])*100.0))          "
   ]
  },
  {
   "cell_type": "code",
   "execution_count": null,
   "id": "208e15cc-71c3-4b27-814c-f2efd16b1824",
   "metadata": {},
   "outputs": [],
   "source": [
    "ok = np.zeros(im[1].data.shape, dtype='int')\n",
    "for v in [0, 2, 4, 6]:\n",
    "    ok = ok + np.where(im[3].data == v, 1, 0)\n",
    "\n",
    "im[1].data[ok == 0] = np.nan\n",
    "print(r'{0} out of {1} pixels are not usable (~{2:3.1f}%)'.format((ok == 0).sum(), im[1].data.shape[0]*im[1].data.shape[1], \n",
    "                                                                            (ok == 0).sum()/(im[1].data.shape[0]*im[1].data.shape[1])*100.0))"
   ]
  },
  {
   "cell_type": "markdown",
   "id": "7f9508f8",
   "metadata": {},
   "source": [
    "Third extension is the DQ flags\n",
    "https://jwst-pipeline.readthedocs.io/en/latest/jwst/data_products/science_products.html#rate"
   ]
  },
  {
   "cell_type": "markdown",
   "id": "7950c8bb",
   "metadata": {},
   "source": [
    "As we can notice, the regions associated to the 4-quadrant phase mask (4QPM) coronagraphs disappeared from the image. The optical system of the 4QPM coronographs is different from that of the imager. Because of the way these optical elements affect the light transmission, the calibration of the 4QPM-coronograph regions is complicated and specific for these coronographs. Therefore, even though photons are detected in the regions of the coronagraphs during standard imaging observations, these regions should not be used while analyzing the Stage-2 image. If you run the _calwebb_image3_ pipeline (or the resample step in _calwebb_image2_), you will notice that the 4QPM regions are missing in the resampled image (_i2d.fits_) as well.\n",
    "\n",
    "Another feature we can notice is that two columns (# 385 and 386) were flagged. Although a qualitative assessment of the image (for example with ds9) does not show anything particularly different from the other columns, these two columns showed to be coupled and should not be used for science."
   ]
  },
  {
   "cell_type": "markdown",
   "id": "38a4a535",
   "metadata": {},
   "source": [
    "### 3.3<font color='white'>-</font>Convert image units and apply pixel area map<a class=\"anchor\" id=\"convert_data\"></a> ###"
   ]
  },
  {
   "cell_type": "markdown",
   "id": "c3babd75",
   "metadata": {},
   "source": [
    "The unit of the Level-2 and Level-3 Images from the pipeline is MJy/sr (hence a surface brightness). The actual unit of the image can be checked from the header keyword **BUNIT**. The scalar conversion constant is copied to the header keyword **PHOTMJSR**, which gives the conversion from DN/s to megaJy/steradian. For our analysis we revert back to DN/s.\n",
    "\n",
    "For images that have not been transformed into a distortion-free frame (i.e. not drizzled), a correction must be applied to account for the different on-sky pixel size across the field of view. A pixel area map (PAM), which is an image where each pixel value describes that pixel's area on the sky relative to the native plate scale, is used for this correction. In the stage 2 of the JWST pipeline, the PAM is copied into an image extension called **AREA** in the science data product. "
   ]
  },
  {
   "cell_type": "code",
   "execution_count": null,
   "id": "21315b5b",
   "metadata": {},
   "outputs": [],
   "source": [
    "imh = im[1].header\n",
    "data = data_sb / imh['PHOTMJSR']\n",
    "print('Conversion factor from {units} to DN/s for filter F560W:', imh['PHOTMJSR'])\n",
    "area = im[4].data\n",
    "data = data * area"
   ]
  },
  {
   "cell_type": "code",
   "execution_count": null,
   "id": "ec6fbd7a-33ae-4aeb-adfd-5e1bb51027b1",
   "metadata": {},
   "outputs": [],
   "source": [
    "imviz = Imviz()\n",
    "imviz.app"
   ]
  },
  {
   "cell_type": "code",
   "execution_count": null,
   "id": "54d97713-0a38-470b-8ef1-2a7544b53cb5",
   "metadata": {},
   "outputs": [],
   "source": [
    "imviz.load_data(data)\n",
    "viewer = imviz.default_viewer\n",
    "viewer.cuts = '99%'\n",
    "data"
   ]
  },
  {
   "cell_type": "markdown",
   "id": "a51fa6a9-9c9a-40a7-8956-3dff76fd64e5",
   "metadata": {},
   "source": [
    "5.<font color='white'>-</font>Create PSF model building an effective PSF<a class=\"anchor\" id=\"epsf_intro\"></a>\n",
    "------------------"
   ]
  },
  {
   "cell_type": "markdown",
   "id": "376a23d5-18ed-4f8f-af51-ce91bc01900d",
   "metadata": {},
   "source": [
    "More information on the PhotUtils Effective PSF can be found [here](https://photutils.readthedocs.io/en/stable/epsf.html).\n",
    "\n",
    "The process of creating an effective PSF can be summarized as follows:\n",
    "\n",
    "* Find the stars in the image.\n",
    "* Select the stars we want to use for building the effective PSF. \n",
    "* Build the effective PSF."
   ]
  },
  {
   "cell_type": "markdown",
   "id": "839ad8fd-051e-4109-b692-25f2ad6fe697",
   "metadata": {},
   "source": [
    "### 5.1<font color='white'>-</font>Calculate the background<a class=\"anchor\" id=\"bkg\"></a> ###"
   ]
  },
  {
   "cell_type": "markdown",
   "id": "b26a6e1f-c650-40c9-a62c-4989535142b6",
   "metadata": {},
   "source": [
    "Defined above"
   ]
  },
  {
   "cell_type": "markdown",
   "id": "3a171456-c20c-437d-8507-12718ae00640",
   "metadata": {},
   "source": [
    "### 5.2<font color='white'>-</font>Find sources in the image<a class=\"anchor\" id=\"find\"></a> ###"
   ]
  },
  {
   "cell_type": "markdown",
   "id": "18dc4fbc-1391-4ad4-b2fe-2db7cc49accd",
   "metadata": {},
   "source": [
    "To find sources in the image, we use the [DAOStarFinder](https://photutils.readthedocs.io/en/stable/api/photutils.detection.DAOStarFinder.html) function. \n",
    "\n",
    "[DAOStarFinder](https://photutils.readthedocs.io/en/stable/api/photutils.detection.DAOStarFinder.html) detects stars in an image using the DAOFIND ([Stetson 1987](https://ui.adsabs.harvard.edu/abs/1987PASP...99..191S/abstract)) algorithm. DAOFIND searches images for local density maxima that have a peak amplitude greater than `threshold` (approximately; threshold is applied to a convolved image) and have a size and shape similar to the defined 2D Gaussian kernel.\n",
    "\n",
    "**Important parameters**:\n",
    "\n",
    "* `threshold`: The absolute image value above which to select sources.\n",
    "* `fwhm`: The full-width half-maximum (FWHM) of the major axis of the Gaussian kernel in units of pixels."
   ]
  },
  {
   "cell_type": "code",
   "execution_count": null,
   "id": "d5667d21",
   "metadata": {},
   "outputs": [],
   "source": [
    "def find_stars(det='MIRIM', filt='F770W', threshold=5, var_bkg=False):\n",
    "    \n",
    "    print('Finding stars --- Detector: {d}, Filter: {f}'.format(f=filt, d=det))\n",
    "\n",
    "    sigma_psf = dict_utils[filt]['psf fwhm']\n",
    "\n",
    "    print('FWHM for the filter {f}:'.format(f=filt), sigma_psf, \"px\")\n",
    "    \n",
    "    data_bkgsub, std = calc_bkg(var_bkg=var_bkg)\n",
    "    \n",
    "    daofind = DAOStarFinder(threshold=threshold * std, fwhm=sigma_psf, exclude_border=True)\n",
    "    found_stars = daofind(data_bkgsub)\n",
    "    \n",
    "    print('')\n",
    "    print('Number of sources found in the image:', len(found_stars))\n",
    "    print('-------------------------------------')\n",
    "    print('')\n",
    "    \n",
    "    return data_bkgsub, found_stars"
   ]
  },
  {
   "cell_type": "code",
   "execution_count": null,
   "id": "445c3de1",
   "metadata": {},
   "outputs": [],
   "source": [
    "det = 'MIRIM'\n",
    "filt = 'F560W'\n",
    "\n",
    "#file = './data/jw01171001001_02101_00004_mirimage_i2d.fits'\n",
    "#im = fits.open(file)\n",
    "#hdr560 = im[\"SCI\",1].header\n",
    "#w560 = WCS(im[\"SCI\",1].header)"
   ]
  },
  {
   "cell_type": "code",
   "execution_count": null,
   "id": "8f618171",
   "metadata": {},
   "outputs": [],
   "source": [
    "tic = time.perf_counter()\n",
    "\n",
    "data_bkgsub, found_stars = find_stars(det=det, filt=filt, threshold=2, var_bkg=False)\n",
    "\n",
    "toc = time.perf_counter()\n",
    "\n",
    "print(\"Elapsed Time for finding stars:\", toc - tic)"
   ]
  },
  {
   "cell_type": "code",
   "execution_count": null,
   "id": "d6430f87",
   "metadata": {},
   "outputs": [],
   "source": [
    "# Print 10 lines of the table\n",
    "found_stars.pprint_all(max_lines=10)"
   ]
  },
  {
   "cell_type": "markdown",
   "id": "1381baa9-5554-4416-acf1-16ab255c7b4f",
   "metadata": {},
   "source": [
    "The column description is almost straightforward. The three parameters that need further description are:\n",
    "- sharpness : (height of the central pixel - mean of the surrounding non-bad pixels) / (height of the best fitting Gaussian function at that point);\n",
    "- roundness1 : source symmetry;\n",
    "- roundness2 : (difference in the height of the best fitting Gaussian function in x - the height of the the best fitting Gaussian function in y) / (average of the best fitting Gaussian functions in x and y).\n",
    "\n",
    "These parameters can be used to discern between stars, galaxies or spurious detections. It is possible to setup _DAOStarFinder_ to exclude a priori objects outside a specific range of sharpness/roundness1/roundness2. Finally, note that the magnitude is defined as $-2.5\\log_{10}(\\text{peak density/detection threshold})$, which is just a rough estimate of the magnitude. An exaustive description of inputs and outputs is also provided [here](https://iraf.net/irafhelp.php?val=daofind).\n",
    "\n",
    "Let's plot what we have found. We can use _imshow_me_wcolorbar_setup_, which is a function similar to _imshow_me_wcolorbar_ we used before but it allows us to keep plotting."
   ]
  },
  {
   "cell_type": "code",
   "execution_count": null,
   "id": "cd5e3942",
   "metadata": {},
   "outputs": [],
   "source": [
    "fig, ax = plt.subplots()\n",
    "imshow_me_wcolorbar_setup(data_bkgsub, -0.1, 5.55, 'Image', 'x [MIRIM pixel]', 'y [MIRIM pixel]', 'MJy sr$^{-1}$', 'binary')\n",
    "ax.scatter(found_stars['xcentroid'], found_stars['ycentroid'], lw=0.5, s=15, marker='o', edgecolors='red', facecolors='none')\n",
    "plt.tight_layout()"
   ]
  },
  {
   "cell_type": "markdown",
   "id": "ba6b890d-25d4-46a8-af7f-1d1a35356aac",
   "metadata": {},
   "source": [
    "### 5.3<font color='white'>-</font>Select sources<a class=\"anchor\" id=\"select\"></a> ###"
   ]
  },
  {
   "cell_type": "markdown",
   "id": "82726dfb-6c6e-4e18-85d2-4b49edb58d7d",
   "metadata": {},
   "source": [
    "At the beginning, we used the DQ flags to mask some pixels and kept only those with DQ$=$0, 2, 4, 6. Although still perfectly usable, you might want to keep track of pixels that saturated during an integration or were hit by a cosmic ray. For this reason, we define a flag by checking all pixels within each aperture radius we used:"
   ]
  },
  {
   "cell_type": "code",
   "execution_count": null,
   "id": "934cd608",
   "metadata": {},
   "outputs": [],
   "source": [
    "found_stars['flags'] = np.zeros(len(found_stars), dtype=int)\n",
    "\n",
    "rad = 5.\n",
    "\n",
    "for s in found_stars:\n",
    "        jmin = max(1, int(np.floor(s['ycentroid']-rad)))\n",
    "        jmax = min(round(s['ycentroid']+rad)+1, im[1].shape[0])\n",
    "        imin = max(1, int(np.floor(s['xcentroid']-rad)))\n",
    "        imax = min(round(s['xcentroid']+rad)+1, im[1].shape[1])\n",
    "        if (np.sum(im[3].data[jmin:jmax, imin:imax] == 6) > 0):\n",
    "            s['flags'] = 6\n",
    "        elif (np.sum(im[3].data[jmin:jmax, imin:imax] == 2) > 0):\n",
    "            s['flags'] = 2\n",
    "        elif (np.sum(im[3].data[jmin:jmax, imin:imax] == 4) > 0):\n",
    "            s['flags'] = 4\n",
    "            \n",
    "print('                            Sources found: {0}'.format(len(found_stars)))\n",
    "print('Sources with \"SATURATED\" pixels within rad=5: {0}'.format(np.sum(np.logical_or(found_stars['flags'] == 2, found_stars['flags'] == 6))))\n",
    "print(' Sources with \"JUMP_DET\" pixels within rad=5: {0}'.format(np.sum(np.logical_or(found_stars['flags'] == 4, found_stars['flags'] == 6))))"
   ]
  },
  {
   "cell_type": "markdown",
   "id": "9f79a14d-166f-481d-b9b2-5bfbedd5c096",
   "metadata": {},
   "source": [
    "Let's check if our flag works. For example, let's test the jump-detection flag:"
   ]
  },
  {
   "cell_type": "code",
   "execution_count": null,
   "id": "ffbd4891",
   "metadata": {},
   "outputs": [],
   "source": [
    "# Flag for stars with \"jump\" pixel within rad=5 aperture\n",
    "jump = np.logical_or(found_stars['flags'] == 4, found_stars['flags'] == 6)\n",
    "\n",
    "fig, ax = plt.subplots()\n",
    "imshow_me_wcolorbar_setup(data_bkgsub, -0.1, 0.25, 'Stars with \"jump\" pixel within r2 aperture', 'x [MIRIM pixel]', 'y [MIRIM pixel]', 'MJy sr$^{-1}$', 'binary')\n",
    "ax.scatter(found_stars['xcentroid'], found_stars['ycentroid'], lw=0.5, s=15, marker='o', edgecolors='red', facecolors='none')\n",
    "ax.scatter(found_stars['xcentroid'][jump], found_stars['ycentroid'][jump], c='deepskyblue', lw=0, s=20)\n",
    "plt.tight_layout()"
   ]
  },
  {
   "cell_type": "markdown",
   "id": "2e942a2a-0f92-4cb8-9b9c-59df9b47d571",
   "metadata": {},
   "source": [
    "We can adopt different methods to select sources we want to use to build an effective PSF. Here, we select objects applying a brightness cut (we do not want to include objects that are too faint) and using the `roundness2` and `sharpness` parameters provided in the [DAOStarFinder](https://photutils.readthedocs.io/en/stable/api/photutils.detection.DAOStarFinder.html) output catalog.\n",
    "\n",
    "`roundness2` measures the ratio of the difference in the height of the best fitting Gaussian function in x minus the best fitting Gaussian function in y, divided by the average of the best fitting Gaussian functions in x and y.\n",
    "\n",
    "`sharpness` measures the ratio of the difference between the height of the central pixel and the mean of the surrounding non-bad pixels in the convolved image, to the height of the best fitting Gaussian function at that point."
   ]
  },
  {
   "cell_type": "code",
   "execution_count": null,
   "id": "4cda71d4",
   "metadata": {},
   "outputs": [],
   "source": [
    "plt.figure(figsize=(12, 8))\n",
    "plt.clf()\n",
    "\n",
    "ax1 = plt.subplot(2, 1, 1)\n",
    "\n",
    "ax1.set_xlabel('mag', fontdict=font2)\n",
    "ax1.set_ylabel('sharpness', fontdict=font2)\n",
    "\n",
    "xlim0 = np.min(found_stars['mag']) - 0.25\n",
    "xlim1 = np.max(found_stars['mag']) + 0.25\n",
    "ylim0 = np.min(found_stars['sharpness']) - 0.15\n",
    "ylim1 = np.max(found_stars['sharpness']) + 0.15\n",
    "\n",
    "ax1.set_xlim(xlim0, xlim1)\n",
    "ax1.set_ylim(ylim0, ylim1)\n",
    "\n",
    "ax1.xaxis.set_major_locator(ticker.AutoLocator())\n",
    "ax1.xaxis.set_minor_locator(ticker.AutoMinorLocator())\n",
    "ax1.yaxis.set_major_locator(ticker.AutoLocator())\n",
    "ax1.yaxis.set_minor_locator(ticker.AutoMinorLocator())\n",
    "\n",
    "ax1.scatter(found_stars['mag'], found_stars['sharpness'], s=10, color='k')\n",
    "\n",
    "sh_inf = 0.60\n",
    "sh_sup = 0.82\n",
    "mag_lim = -5.0\n",
    "\n",
    "ax1.plot([xlim0, xlim1], [sh_sup, sh_sup], color='r', lw=3, ls='--')\n",
    "ax1.plot([xlim0, xlim1], [sh_inf, sh_inf], color='r', lw=3, ls='--')\n",
    "ax1.plot([mag_lim, mag_lim], [ylim0, ylim1], color='r', lw=3, ls='--')\n",
    "\n",
    "ax2 = plt.subplot(2, 1, 2)\n",
    "\n",
    "ax2.set_xlabel('mag', fontdict=font2)\n",
    "ax2.set_ylabel('roundness', fontdict=font2)\n",
    "\n",
    "ylim0 = np.min(found_stars['roundness2']) - 0.25\n",
    "ylim1 = np.max(found_stars['roundness2']) - 0.25\n",
    "\n",
    "ax2.set_xlim(xlim0, xlim1)\n",
    "ax2.set_ylim(ylim0, ylim1)\n",
    "\n",
    "ax2.xaxis.set_major_locator(ticker.AutoLocator())\n",
    "ax2.xaxis.set_minor_locator(ticker.AutoMinorLocator())\n",
    "ax2.yaxis.set_major_locator(ticker.AutoLocator())\n",
    "ax2.yaxis.set_minor_locator(ticker.AutoMinorLocator())\n",
    "\n",
    "round_inf = -0.40\n",
    "round_sup = 0.40\n",
    "\n",
    "ax2.scatter(found_stars['mag'], found_stars['roundness2'], s=10, color='k')\n",
    "\n",
    "ax2.plot([xlim0, xlim1], [round_sup, round_sup], color='r', lw=3, ls='--')\n",
    "ax2.plot([xlim0, xlim1], [round_inf, round_inf], color='r', lw=3, ls='--')\n",
    "ax2.plot([mag_lim, mag_lim], [ylim0, ylim1], color='r', lw=3, ls='--')\n",
    "\n",
    "plt.tight_layout()"
   ]
  },
  {
   "cell_type": "markdown",
   "id": "1a7f21fd-31ac-4b3d-aa1a-2585f51338a3",
   "metadata": {},
   "source": [
    "### 5.4<font color='white'>-</font>Create catalog of selected sources<a class=\"anchor\" id=\"create_cat\"></a> ###"
   ]
  },
  {
   "cell_type": "markdown",
   "id": "30b5402c-e4d7-4c64-8e42-13d39f23b726",
   "metadata": {},
   "source": [
    "We can also include a separation criteria if we want to retain in the final catalog only the stars that are well isolated. In particular, we can select only the stars that do not have a neighbour closer than X pixel, where X is a parameter that can be set manually.\n",
    "\n",
    "**Note**: The magnitude limit and the minimum distance to the closest neighbour depend on the user science case (i.e.; number of stars in the field of view, crowding, number of bright sources, minimum number of stars required to build the ePSF, etc.) and must be modified accordingly."
   ]
  },
  {
   "cell_type": "code",
   "execution_count": null,
   "id": "17087a44",
   "metadata": {},
   "outputs": [],
   "source": [
    "mask = ((found_stars['mag'] < mag_lim) & (found_stars['roundness2'] > round_inf)\n",
    "        & (found_stars['roundness2'] < round_sup) & (found_stars['sharpness'] > sh_inf) \n",
    "        & (found_stars['sharpness'] < sh_sup))\n",
    "\n",
    "found_stars_sel = found_stars[mask]\n",
    "found_stars_sel_f560w = found_stars_sel\n",
    "\n",
    "print('Number of stars selected to build ePSF:', len(found_stars))\n",
    "print('Number of stars selected to build ePSF:', len(found_stars_sel))\n",
    "\n",
    "# if we include the separation criteria:\n",
    "\n",
    "d = []\n",
    "\n",
    "# we do not want any stars in a 10 px radius. \n",
    "\n",
    "min_sep = 10\n",
    "\n",
    "x_tot = found_stars['xcentroid']\n",
    "y_tot = found_stars['ycentroid']\n",
    "\n",
    "for xx, yy in zip(found_stars_sel['xcentroid'], found_stars_sel['ycentroid']):\n",
    "\n",
    "    sep = []\n",
    "    dist = np.sqrt((x_tot - xx)**2 + (y_tot - yy)**2)\n",
    "    sep = np.sort(dist)[1:2][0]\n",
    "    d.append(sep)\n",
    "\n",
    "found_stars_sel['min distance'] = d\n",
    "mask_dist = (found_stars_sel['min distance'] > min_sep)\n",
    "\n",
    "found_stars_sel2 = found_stars_sel[mask_dist]\n",
    "found_stars_sel2_fw = found_stars_sel2\n",
    "\n",
    "print('Number of stars selected to build ePSF \\\n",
    "including \"mimimum distance closest neighbour\" selection):', len(found_stars_sel2))"
   ]
  },
  {
   "cell_type": "markdown",
   "id": "454ffe7c-201a-4c3f-aced-65e5f4545a3a",
   "metadata": {},
   "source": [
    "### 5.5<font color='white'>-</font>Build the effective PSF<a class=\"anchor\" id=\"build_epsf\"></a> ###"
   ]
  },
  {
   "cell_type": "markdown",
   "id": "e7fd18d1-75e2-4bba-b9a3-7bb3cf2f9a80",
   "metadata": {},
   "source": [
    "We Build the effective PSF using [EPSBuilder](https://photutils.readthedocs.io/en/stable/api/photutils.psf.EPSFBuilder.html#photutils.psf.EPSFBuilder) function.\n",
    "\n",
    "First, we exclude the objects for which the bounding box exceed the detector edge. Then, we extract cutouts of the stars using the [extract_stars()](https://photutils.readthedocs.io/en/stable/api/photutils.psf.extract_stars.html#photutils.psf.extract_stars) function. The size of the cutout is determined by the parameter `size` in our function *build_epsf*. Once we have the object containing the cutouts of our selected stars, we can build our ePSF using [EPSFBuilder](https://photutils.readthedocs.io/en/stable/api/photutils.psf.EPSFBuilder.html#photutils.psf.EPSFBuilder) class. \n"
   ]
  },
  {
   "cell_type": "markdown",
   "id": "3c17120d-69f8-40d6-bfea-8f7012d9c13f",
   "metadata": {},
   "source": [
    "<div class=\"alert alert-block alert-info\">\n",
    "\n",
    "Here we limit the maximum number of iterations to 3 (to limit its run time), but in practice one should use about 10 or more iterations.\n",
    "    \n",
    "<div >"
   ]
  },
  {
   "cell_type": "code",
   "execution_count": null,
   "id": "997de3d7",
   "metadata": {},
   "outputs": [],
   "source": [
    "def build_epsf(det='MIRIM', filt='F770W', size=11, found_table=None, oversample=4, iters=10):\n",
    "    \n",
    "    hsize = (size - 1) / 2\n",
    "    \n",
    "    x = found_table['xcentroid']\n",
    "    y = found_table['ycentroid']\n",
    "    \n",
    "    mask = ((x > hsize) & (x < (data.shape[1] - 1 - hsize)) & (y > hsize) & (y < (data.shape[0] - 1 - hsize)))\n",
    "\n",
    "    stars_tbl = Table()\n",
    "    stars_tbl['x'] = x[mask]\n",
    "    stars_tbl['y'] = y[mask]\n",
    "    \n",
    "    data_bkgsub, _ = calc_bkg()\n",
    "    \n",
    "    nddata = NDData(data=data_bkgsub)\n",
    "    stars = extract_stars(nddata, stars_tbl, size=size)\n",
    "\n",
    "    print('Creating ePSF --- Detector {d}, filter {f}'.format(f=filt, d=det))\n",
    "\n",
    "    epsf_builder = EPSFBuilder(oversampling=oversample, maxiters=iters, progress_bar=True, recentering_boxsize=15)\n",
    "\n",
    "    epsf, fitted_stars = epsf_builder(stars)\n",
    "    \n",
    "    return epsf"
   ]
  },
  {
   "cell_type": "code",
   "execution_count": null,
   "id": "f473acae",
   "metadata": {},
   "outputs": [],
   "source": [
    "epsf = build_epsf(det=det, filt=filt, size=11, found_table=found_stars_sel2, oversample=4, iters=3)"
   ]
  },
  {
   "cell_type": "markdown",
   "id": "28814282-b7f5-4c02-954c-1a8b9f618d83",
   "metadata": {},
   "source": [
    "### 5.6<font color='white'>-</font>Display the effective PSF<a class=\"anchor\" id=\"display_epsf\"></a> ###"
   ]
  },
  {
   "cell_type": "code",
   "execution_count": null,
   "id": "064ab4fa",
   "metadata": {},
   "outputs": [],
   "source": [
    "plt.figure(figsize=(12, 12))\n",
    "\n",
    "ax = plt.subplot(1, 1, 1)\n",
    "\n",
    "norm_epsf = simple_norm(epsf.data, 'log', percent=99.)\n",
    "plt.title(filt, fontsize=30)\n",
    "ax.imshow(epsf.data, norm=norm_epsf)\n",
    "plt.tight_layout()"
   ]
  },
  {
   "cell_type": "raw",
   "id": "a775612e-5f26-4c79-8ae0-e78a71e36edd",
   "metadata": {},
   "source": [
    "fits.writeto('out.fits', epsf.data)"
   ]
  },
  {
   "cell_type": "code",
   "execution_count": null,
   "id": "d06085c4-fcbe-4a6b-950a-9ecd43a68439",
   "metadata": {},
   "outputs": [],
   "source": [
    "psf_webbpsf = to_griddedpsfmodel('./PSF_MODELS/PSF_F560W_samp4_fov11_npsfs1_mirim.fits')  # file created above\n",
    "psf_webbpsf\n",
    "\n",
    "sub = epsf.data[0:44,0:44] - psf_webbpsf.data[0]\n",
    "#norm_webbpsf = simple_norm(psf_webbpsf.data[0], 'log', percent=99.)\n",
    "norm_webbpsf = simple_norm(sub, 'log', percent=90.)\n",
    "\n"
   ]
  },
  {
   "cell_type": "code",
   "execution_count": null,
   "id": "14d4719a-e7e7-403e-a175-385674156af3",
   "metadata": {},
   "outputs": [],
   "source": [
    "plt.figure(figsize=(12, 12))\n",
    "\n",
    "ax = plt.subplot(1, 1, 1)\n",
    "ax.set_title(filt, fontsize=40)\n",
    "pcm = ax.imshow(sub, norm=norm_webbpsf)\n",
    "ax.set_xlabel('X [px]', fontsize=30)\n",
    "ax.set_ylabel('Y [px]', fontsize=30)\n",
    "divider = make_axes_locatable(ax)\n",
    "cax = divider.append_axes(\"right\", size=\"5%\", pad=0.05)\n",
    "plt.colorbar(pcm, cax=cax)\n",
    "plt.tight_layout()"
   ]
  },
  {
   "cell_type": "code",
   "execution_count": null,
   "id": "96007ab6-f935-49ab-bddd-a80b72feee91",
   "metadata": {},
   "outputs": [],
   "source": [
    "sub = norm_epsf"
   ]
  },
  {
   "cell_type": "markdown",
   "id": "0e32a8c3-c6fb-4af0-afb9-4aff588e7eef",
   "metadata": {},
   "source": [
    "#### Save File"
   ]
  },
  {
   "cell_type": "markdown",
   "id": "16504143-6440-4141-a70e-651e5b5bde48",
   "metadata": {},
   "source": [
    "5.<font color='white'>-</font>Perform PSF Photometry<a class=\"anchor\" id=\"psf_phot\"></a>\n",
    "------------------"
   ]
  },
  {
   "cell_type": "markdown",
   "id": "709db825-7748-48f9-af36-f4f79a49c7c1",
   "metadata": {},
   "source": [
    "For general information on PSF Photometry with PhotUtils see [here](https://photutils.readthedocs.io/en/stable/psf.html). \n",
    "\n",
    "Photutils provides three classes to perform PSF Photometry: [BasicPSFPhotometry](https://photutils.readthedocs.io/en/stable/api/photutils.psf.BasicPSFPhotometry.html#photutils.psf.BasicPSFPhotometry), [IterativelySubtractedPSFPhotometry](https://photutils.readthedocs.io/en/stable/api/photutils.psf.IterativelySubtractedPSFPhotometry.html#photutils.psf.IterativelySubtractedPSFPhotometry), and [DAOPhotPSFPhotometry](https://photutils.readthedocs.io/en/stable/api/photutils.psf.DAOPhotPSFPhotometry.html#photutils.psf.DAOPhotPSFPhotometry). Together these provide the core workflow to make photometric measurements given an appropriate PSF (or other) model.\n",
    "\n",
    "[BasicPSFPhotometry](https://photutils.readthedocs.io/en/stable/api/photutils.psf.BasicPSFPhotometry.html#photutils.psf.BasicPSFPhotometry) implements the minimum tools for model-fitting photometry. At its core, this involves finding sources in an image, grouping overlapping sources into a single model, fitting the model to the sources, and subtracting the models from the image. In DAOPHOT parlance, this is essentially running the “FIND, GROUP, NSTAR, SUBTRACT” once.\n",
    "\n",
    "[IterativelySubtractedPSFPhotometry](https://photutils.readthedocs.io/en/stable/api/photutils.psf.IterativelySubtractedPSFPhotometry.html#photutils.psf.IterativelySubtractedPSFPhotometry) (adopted here) is similar to [BasicPSFPhotometry](https://photutils.readthedocs.io/en/stable/api/photutils.psf.BasicPSFPhotometry.html#photutils.psf.BasicPSFPhotometry), but it adds a parameter called `n_iters` which is the number of iterations for which the loop “FIND, GROUP, NSTAR, SUBTRACT, FIND…” will be performed. This class enables photometry in a scenario where there exists significant overlap between stars that are of quite different brightness. For instance, the detection algorithm may not be able to detect a faint and bright star very close together in the first iteration, but they will be detected in the next iteration after the brighter stars have been fit and subtracted. Like [BasicPSFPhotometry](https://photutils.readthedocs.io/en/stable/api/photutils.psf.BasicPSFPhotometry.html#photutils.psf.BasicPSFPhotometry), it does not include implementations of the stages of this process, but it provides the structure in which those stages run.\n",
    "\n",
    "**Important parameters**:\n",
    "\n",
    "* `finder`: classes to find stars in the image. We use [DAOStarFinder](https://photutils.readthedocs.io/en/stable/api/photutils.detection.DAOStarFinder.html).\n",
    "\n",
    "* `group_maker`:  clustering algorithm in order to label the sources according to groups. We use [DAOGroup](https://photutils.readthedocs.io/en/stable/api/photutils.psf.DAOGroup.html#photutils.psf.DAOGroup). The method group_stars divides an entire starlist into sets of distinct, self-contained groups of mutually overlapping stars. It accepts as input a list of stars and determines which stars are close enough to be capable of adversely influencing each others’ profile fits. [DAOGroup](https://photutils.readthedocs.io/en/stable/api/photutils.psf.DAOGroup.html#photutils.psf.DAOGroup) aceepts one parameter, `crit_separation`, which is the distance, in units of pixels, such that any two stars separated by less than this distance will be placed in the same group.\n",
    "\n",
    "* `fitter`: algorithm to fit the sources simultaneously for each group. We use an astropy fitter, [LevMarLSQFitter](https://docs.astropy.org/en/stable/api/astropy.modeling.fitting.LevMarLSQFitter.html#astropy.modeling.fitting.LevMarLSQFitter). \n",
    "\n",
    "* `niters`: number of iterations for which the \"psf photometry\" loop described above is performed.\n",
    "\n",
    "* `fitshape`: Rectangular shape around the center of a star which will be used to collect the data to do the fitting. \n",
    "\n",
    "* `aperture_radius`: The radius (in units of pixels) used to compute initial estimates for the fluxes of sources."
   ]
  },
  {
   "cell_type": "code",
   "execution_count": null,
   "id": "13aac145-66bd-4fbf-a1e5-62be99dd4bfc",
   "metadata": {},
   "outputs": [],
   "source": [
    "output_phot_dir = 'PHOT_OUTPUT/'\n",
    "\n",
    "if not os.path.exists(output_phot_dir):\n",
    "    os.makedirs(output_phot_dir)\n",
    "\n",
    "res_dir = 'RESIDUAL_IMAGES/'\n",
    "\n",
    "if not os.path.exists(res_dir):\n",
    "    os.makedirs(res_dir)\n",
    "\n",
    "if glob.glob(os.path.join(res_dir, 'residual*F560W.fits')):\n",
    "    print('Deleting Residual images from directory')\n",
    "    files = glob.glob(os.path.join(res_dir, 'residual*F560W.fits'))\n",
    "    for file in files:\n",
    "        os.remove(file)"
   ]
  },
  {
   "cell_type": "markdown",
   "id": "75eb85c6-70eb-44f3-bb72-c28a94041258",
   "metadata": {},
   "source": [
    "### 5.1<font color='white'>-</font>Calculate Background<a class=\"anchor\" id=\"background\"></a> ###"
   ]
  },
  {
   "cell_type": "markdown",
   "id": "662ac080-99d7-42f6-ac7e-54b8c1f901b3",
   "metadata": {},
   "source": [
    "##### Standard Background Calculation"
   ]
  },
  {
   "cell_type": "code",
   "execution_count": null,
   "id": "4cb88ebd-f928-4419-89fe-e767ce67c0c8",
   "metadata": {},
   "outputs": [],
   "source": [
    "bkgrms = MADStdBackgroundRMS()\n",
    "mmm_bkg = MMMBackground()\n",
    "std = bkgrms(data)\n",
    "bkg = mmm_bkg(data)\n",
    "\n",
    "data_bkgsub = data.copy()\n",
    "data_bkgsub -= bkg\n",
    "\n",
    "std"
   ]
  },
  {
   "cell_type": "markdown",
   "id": "e9a0a375-ffc4-4a3d-8c1a-aa46009f40a5",
   "metadata": {},
   "source": [
    "##### 2D Variable Background Calculation"
   ]
  },
  {
   "cell_type": "raw",
   "id": "7287de33-21c3-45a1-b842-b8feb788cc87",
   "metadata": {},
   "source": [
    "sigma_clip = SigmaClip(sigma=3.0, maxiters=10)\n",
    "#coverage_mask = (data == 0)\n",
    "        \n",
    "# Mask all nan or inf pixels\n",
    "coverage_mask = np.full(np.shape(im[1].data), False, dtype=bool)\n",
    "coverage_mask[np.isnan(im[1].data)] = True\n",
    "coverage_mask[~np.isfinite(im[1].data)] = True\n",
    "\n",
    "bkg = Background2D(data, (20, 20), filter_size=(30, 30), sigma_clip=sigma_clip, bkg_estimator=mmm_bkg,\n",
    "                           coverage_mask=coverage_mask, fill_value=0.0)\n",
    "\n",
    "data_bkgsub = data.copy()\n",
    "data_bkgsub = data_bkgsub - bkg.background\n",
    "\n",
    "#_, _, std = sigma_clipped_stats(data_bkgsub)\n",
    "std = bkg.background_rms_median"
   ]
  },
  {
   "cell_type": "markdown",
   "id": "13c7ec05-8fce-422a-bf59-8231a3e93d17",
   "metadata": {},
   "source": [
    "### 5.2<font color='white'>-</font>Perform Photometry<a class=\"anchor\" id=\"background\"></a> ###"
   ]
  },
  {
   "cell_type": "code",
   "execution_count": null,
   "id": "04c0c261-2ad3-4102-bbfb-b33b084a0638",
   "metadata": {},
   "outputs": [],
   "source": [
    "fitter = LevMarLSQFitter()\n",
    "mmm_bkg = MMMBackground()\n",
    "th = 5.\n",
    "ap_radius=6.\n",
    "        \n",
    "sigma_psf = dict_utils[filt]['psf fwhm']\n",
    "print('FWHM for filter {f}:'.format(f=filt), sigma_psf*2)\n",
    "    \n",
    "daofind = DAOStarFinder(threshold=th * std, fwhm=sigma_psf)\n",
    "daogroup = DAOGroup(5.0 * sigma_psf)\n",
    "    \n",
    "psf_model = epsf.copy()\n",
    "    \n",
    "print('Performing the PSF photometry')\n",
    "tic = time.perf_counter()\n",
    "    \n",
    "phot = IterativelySubtractedPSFPhotometry(finder=daofind, group_maker=daogroup,\n",
    "                                            bkg_estimator=mmm_bkg, psf_model=psf_model,\n",
    "                                            fitter=fitter,\n",
    "                                            niters=10, fitshape=(15, 15), aperture_radius=ap_radius, \n",
    "                                            extra_output_cols=('sharpness', 'roundness2'))\n",
    "psf_phot_results = phot(data)\n",
    "toc = time.perf_counter()\n",
    "    \n",
    "print('Time needed to perform photometry:', '%.2f' % ((toc - tic) / 3600), 'hours')\n",
    "print('Number of sources detected:', len(psf_phot_results))\n",
    "        \n",
    "residual_image = phot.get_residual_image()\n",
    "    \n",
    "# save the residual images as fits file:\n",
    "hdu = fits.PrimaryHDU(residual_image)\n",
    "hdul = fits.HDUList([hdu])\n",
    "    \n",
    "residual_outname = 'residual_MIRIM_F560W.fits'\n",
    "hdul.writeto(os.path.join(res_dir, residual_outname),overwrite=True)\n",
    "\n",
    "# save the output photometry Tables\n",
    "outname = 'phot_MIRIM_F560W.pkl'\n",
    "tab = psf_phot_results.to_pandas()\n",
    "tab.to_pickle(os.path.join(output_phot_dir, outname))"
   ]
  },
  {
   "cell_type": "markdown",
   "id": "373d084e-2ed7-42d9-9955-6608c9af8c06",
   "metadata": {},
   "source": [
    "### 5.3<font color='white'>-</font>PSF photometry output catalog<a class=\"anchor\" id=\"psf_cat\"></a> ###"
   ]
  },
  {
   "cell_type": "code",
   "execution_count": null,
   "id": "6562f3bd-dee0-43e2-9ebc-cf8784a51d3b",
   "metadata": {},
   "outputs": [],
   "source": [
    "psf_phot_results"
   ]
  },
  {
   "cell_type": "markdown",
   "id": "2e5e0340-bd73-4703-a479-9ad4f7bb1315",
   "metadata": {},
   "source": [
    "### 5.4<font color='white'>-</font>Display residual image<a class=\"anchor\" id=\"residual\"></a> ###"
   ]
  },
  {
   "cell_type": "code",
   "execution_count": null,
   "id": "4e68f9b8-69c7-49fa-b5d1-a9187eb3f1ea",
   "metadata": {},
   "outputs": [],
   "source": [
    "#imshow_me_wcolorbar(im[1].data, med-1*sig, med+1*sig, 'Image after masking', 'x [MIRIM pixel]', 'y [MIRIM pixel]', 'MJy sr$^{-1}$', 'binary')\n",
    "imviz = Imviz()\n",
    "imviz.app"
   ]
  },
  {
   "cell_type": "code",
   "execution_count": null,
   "id": "f3f7b94f-281b-4f46-9459-46531bea462f",
   "metadata": {},
   "outputs": [],
   "source": [
    "imviz.load_data(residual_image,data_label='Residual')\n",
    "imviz.load_data(data,data_label='Original')\n",
    "viewer = imviz.default_viewer\n",
    "viewer.cuts = '95%'"
   ]
  },
  {
   "cell_type": "code",
   "execution_count": null,
   "id": "f7bec355-791e-4968-8406-192c1e4fb65f",
   "metadata": {},
   "outputs": [],
   "source": [
    "viewer_2_name='Window 2'\n",
    "viewer_2 = imviz.create_image_viewer(viewer_name=viewer_2_name)"
   ]
  },
  {
   "cell_type": "code",
   "execution_count": null,
   "id": "f6aa1651-a07b-483b-b401-7e0973256ecd",
   "metadata": {},
   "outputs": [],
   "source": [
    "imviz.app.add_data_to_viewer(viewer_2_name, 'Residual')"
   ]
  },
  {
   "cell_type": "code",
   "execution_count": null,
   "id": "19511078-fa44-41c3-9ed4-755c0ee3e74c",
   "metadata": {},
   "outputs": [],
   "source": [
    "viewer_2.cuts = '95%'"
   ]
  },
  {
   "cell_type": "markdown",
   "id": "5630029f-31d1-42cd-8454-225e86cabc48",
   "metadata": {},
   "source": [
    "<hr style=\"border:1px solid gray\"> </hr>"
   ]
  },
  {
   "cell_type": "markdown",
   "id": "843b5201-6f57-46f0-9da0-b738714178d3",
   "metadata": {},
   "source": [
    "<img style=\"float: center;\" src=\"https://raw.githubusercontent.com/spacetelescope/notebooks/master/assets/stsci_pri_combo_mark_horizonal_white_bkgd.png\" alt=\"Space Telescope Logo\" width=\"200px\"/>"
   ]
  }
 ],
 "metadata": {
  "kernelspec": {
   "display_name": "Python 3 (ipykernel)",
   "language": "python",
   "name": "python3"
  },
  "language_info": {
   "codemirror_mode": {
    "name": "ipython",
    "version": 3
   },
   "file_extension": ".py",
   "mimetype": "text/x-python",
   "name": "python",
   "nbconvert_exporter": "python",
   "pygments_lexer": "ipython3",
   "version": "3.8.10"
  },
  "toc-showcode": false
 },
 "nbformat": 4,
 "nbformat_minor": 5
}
