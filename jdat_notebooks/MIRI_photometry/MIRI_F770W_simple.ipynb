{
 "cells": [
  {
   "cell_type": "markdown",
   "id": "b58d6954",
   "metadata": {},
   "source": [
    "# MIRI PSF Photometry #2 - F770W PSF Photometry (Made Simple)\n",
    "\n",
    "**Author**: Ori Fox\n",
    "<br>\n",
    "**Last Updated**: March, 2022"
   ]
  },
  {
   "cell_type": "markdown",
   "id": "7df4f696",
   "metadata": {},
   "source": [
    "## Table of contents\n",
    "1. [Introduction](#intro)<br>\n",
    "2. [Setup](#setup)<br>\n",
    "    2.1 [Python imports](#py_imports)<br>\n",
    "    2.2 [Plotting functions imports](#matpl_imports)<br>\n",
    "    2.3 [PSF FWHM dictionary](#psf_fwhm)<br>\n",
    "3. [Import image to analyze](#data)<br>\n",
    "    3.1 [Display image](#display_data)<br>\n",
    "    3.2 [Convert image units and apply pixel area map](#convert_data)<br>\n",
    "4. [Create a synthetic PSF model (with WebbPSF)](#webbpsf_intro)<br>\n",
    "    4.1 [Create the single PSF](#single_webbpsf)<br>\n",
    "    4.2 [Display the single PSF](#display_single_webbpsf)<br>\n",
    "    4.3 [Create the grid of PSFs](#grid_webbpsf)<br>\n",
    "    4.4 [Display the grid of PSFs](#display_grid_webbpsf)<br>\n",
    "5. [Create the PSF model building an effective PSF](#epsf_intro)<br>\n",
    "    5.1 [Calculate the background](#bkg)<br>\n",
    "    5.2 [Find sources in the image](#find)<br>\n",
    "    5.3 [Select sources](#select)<br>\n",
    "    5.4 [Create catalog of selected sources](#create_cat)<br>\n",
    "    5.5 [Build the effective PSF](#build_epsf)<br>\n",
    "    5.6 [Display the effective PSF](#display_epsf)<br>\n",
    "6. [Perform PSF Photometry](#psf_phot)<br>\n",
    "    6.1 [PSF photometry output catalog](#psf_cat)<br>\n",
    "    6.2 [Display residual images](#residual)<br>"
   ]
  },
  {
   "cell_type": "markdown",
   "id": "4f572688",
   "metadata": {},
   "source": [
    "1.<font color='white'>-</font>Introduction <a class=\"anchor\" id=\"intro\"></a>\n",
    "------------------"
   ]
  },
  {
   "cell_type": "markdown",
   "id": "95891849",
   "metadata": {},
   "source": [
    "**Data**: MIRI simulated images obtained using [MIRISIM](https://www.stsci.edu/jwst/science-planning/proposal-planning-toolbox/mirisim) and run through the [JWST pipeline](https://jwst-pipeline.readthedocs.io/en/latest/) of Isochrone of 10-Gyr old population, [Fe/H]=-1 Population placed at 2.5 kpc from the Sun. Salpeter-like IMF, tweaked to have more massive stars (since positions are random, it ensures at least a few bright stars in each image). Kept only sources brighter than J=17 (random cut to speed up MIRISim) and fainter than Ks=10 (to avoid too-bright stars that would have PSF spikes clearly cut by MIRISim in the image)\n",
    "\n",
    "Here is the [ReadMe](https://stsci.app.box.com/s/2b6evrie2swaybarxhdmpqizktl3g0wm/file/869444882607). All data simulations can be found on [STScI's simulation page](https://www.stsci.edu/jwst/science-planning/proposal-planning-toolbox/simulated-data).\n",
    "\n",
    "PSF Photometry can be obtained using:\n",
    "\n",
    "* single PSF model obtained from WebbPSF\n",
    "* grid of PSF models from WebbPSF\n",
    "* single effective PSF (ePSF)\n",
    "* grid of effective PSF (bonus part II)\n",
    "\n",
    "The notebook shows:\n",
    "\n",
    "* how to obtain the PSF model from WebbPSF (or build an ePSF)\n",
    "* how to perform PSF photometry on the image\n",
    "* how to cross-match the catalogs of the different images (bonus part I)"
   ]
  },
  {
   "cell_type": "markdown",
   "id": "1cf3d18f",
   "metadata": {},
   "source": [
    "2.<font color='white'>-</font>Setup <a class=\"anchor\" id=\"setup\"></a>\n",
    "------------------"
   ]
  },
  {
   "cell_type": "markdown",
   "id": "bd038c76",
   "metadata": {},
   "source": [
    "In this section we import all the necessary python packages and we define some plotting parameters."
   ]
  },
  {
   "cell_type": "markdown",
   "id": "5b762602",
   "metadata": {},
   "source": [
    "### 2.1<font color='white'>-</font>Python imports<a class=\"anchor\" id=\"py_imports\"></a> ###"
   ]
  },
  {
   "cell_type": "code",
   "execution_count": 2,
   "id": "8c50eace",
   "metadata": {},
   "outputs": [
    {
     "name": "stdout",
     "output_type": "stream",
     "text": [
      "**WARNING**: LOCAL JWST PRD VERSION PRDOPSSOC-044 DOESN'T MATCH THE CURRENT ONLINE VERSION PRDOPSSOC-045\n",
      "Please consider updating pysiaf, e.g. pip install --upgrade pysiaf or conda update pysiaf\n"
     ]
    }
   ],
   "source": [
    "import os\n",
    "\n",
    "if not os.environ.get('WEBBPSF_PATH'):\n",
    "    os.environ['WEBBPSF_PATH'] = '/data/webbpsf-data'\n",
    "\n",
    "import sys\n",
    "import time\n",
    "\n",
    "import numpy as np\n",
    "\n",
    "import pandas as pd\n",
    "\n",
    "import glob as glob\n",
    "\n",
    "import urllib.request\n",
    "\n",
    "import tarfile\n",
    "\n",
    "from astropy.io import fits\n",
    "from astropy.visualization import simple_norm\n",
    "from astropy.nddata import NDData\n",
    "from astropy.modeling.fitting import LevMarLSQFitter\n",
    "from astropy.table import Table, QTable\n",
    "from astropy.coordinates import SkyCoord, match_coordinates_sky\n",
    "from astropy import units as u\n",
    "\n",
    "from photutils.background import MMMBackground, MADStdBackgroundRMS, Background2D\n",
    "from photutils.detection import DAOStarFinder\n",
    "from photutils import EPSFBuilder, GriddedPSFModel\n",
    "from photutils.psf import DAOGroup, extract_stars, IterativelySubtractedPSFPhotometry\n",
    "\n",
    "import jwst\n",
    "from jwst.datamodels import ImageModel\n",
    "\n",
    "import webbpsf\n",
    "from webbpsf.utils import to_griddedpsfmodel\n",
    "\n",
    "import pysynphot  # PYSIN_CDBS must be defined in the user's environment (see note below)\n",
    "\n",
    "from collections import OrderedDict\n",
    "from astropy.wcs import WCS\n",
    "\n",
    "from jdaviz import Imviz"
   ]
  },
  {
   "cell_type": "code",
   "execution_count": 3,
   "id": "dea5f1e7",
   "metadata": {},
   "outputs": [
    {
     "name": "stderr",
     "output_type": "stream",
     "text": [
      "WARNING:py.warnings:/var/folders/yh/kl4y3s1x3_j3ywy3qq67g3vc0001kc/T/ipykernel_28311/2969300567.py:51: DeprecationWarning: Importing display from IPython.core.display is deprecated since IPython 7.14, please import from IPython display\n",
      "  from IPython.core.display import display, HTML\n",
      "\n",
      "2022-04-19 13:23:05,215 - stpipe - WARNING - /var/folders/yh/kl4y3s1x3_j3ywy3qq67g3vc0001kc/T/ipykernel_28311/2969300567.py:51: DeprecationWarning: Importing display from IPython.core.display is deprecated since IPython 7.14, please import from IPython display\n",
      "  from IPython.core.display import display, HTML\n",
      "\n",
      "WARNING:stpipe:/var/folders/yh/kl4y3s1x3_j3ywy3qq67g3vc0001kc/T/ipykernel_28311/2969300567.py:51: DeprecationWarning: Importing display from IPython.core.display is deprecated since IPython 7.14, please import from IPython display\n",
      "  from IPython.core.display import display, HTML\n",
      "\n"
     ]
    },
    {
     "data": {
      "text/html": [
       "<style>.container { width:90% !important; }</style>"
      ],
      "text/plain": [
       "<IPython.core.display.HTML object>"
      ]
     },
     "metadata": {},
     "output_type": "display_data"
    }
   ],
   "source": [
    "#\n",
    "# General tools\n",
    "#\n",
    "import glob\n",
    "import os\n",
    "import shutil\n",
    "import sys\n",
    "import random\n",
    "import urllib\n",
    "import zipfile\n",
    "#\n",
    "# Astropy tools\n",
    "#\n",
    "from astropy.coordinates import match_coordinates_sky, SkyCoord\n",
    "from astropy.io import fits, ascii\n",
    "from astropy.stats import SigmaClip, sigma_clipped_stats\n",
    "from astropy.table import Table, Column, vstack\n",
    "import astropy.units as u\n",
    "from astropy.visualization import LogStretch, LinearStretch, PercentileInterval, ManualInterval\n",
    "from astropy.nddata import Cutout2D\n",
    "#\n",
    "# JWST models\n",
    "#\n",
    "from jwst import datamodels, associations\n",
    "from jwst.datamodels import ImageModel, dqflags\n",
    "#\n",
    "# Matplotlib tools\n",
    "#\n",
    "from matplotlib import style, pyplot as plt, rcParams\n",
    "from matplotlib.colors import LogNorm\n",
    "from matplotlib.pyplot import figure\n",
    "from mpl_toolkits.axes_grid1.axes_divider import make_axes_locatable\n",
    "#\n",
    "# Numpy library\n",
    "#\n",
    "import numpy as np\n",
    "#\n",
    "# Photutils library and tools\n",
    "#\n",
    "import photutils\n",
    "from photutils.aperture import CircularAperture, CircularAnnulus, aperture_photometry\n",
    "from photutils import Background2D, MedianBackground, ModeEstimatorBackground, MMMBackground\n",
    "#\n",
    "# Scipy tools\n",
    "#\n",
    "from scipy import stats\n",
    "from scipy.interpolate import CubicSpline\n",
    "#\n",
    "# Use 90% of the window width\n",
    "#\n",
    "from IPython.core.display import display, HTML\n",
    "display(HTML(\"<style>.container { width:90% !important; }</style>\"))"
   ]
  },
  {
   "cell_type": "markdown",
   "id": "35987e59",
   "metadata": {},
   "source": [
    "<div class=\"alert alert-block alert-info\">\n",
    "\n",
    "**Note on pysynphot**: Data files for pysynphot are distributed separately by Calibration Reference Data System. They are expected to follow a certain directory structure under the root directory, identified by the PYSYN_CDBS environment variable that must be set prior to using this package. In the example below, the root directory is arbitrarily named /my/local/dir/trds/. \\\n",
    "export PYSYN_CDBS=/my/local/dir/trds/ \\\n",
    "See documentation [here](https://pysynphot.readthedocs.io/en/latest/#installation-and-setup) for the configuration and download of the data files.\n",
    "    \n",
    "<div >"
   ]
  },
  {
   "cell_type": "markdown",
   "id": "956910c8",
   "metadata": {},
   "source": [
    "### 2.2<font color='white'>-</font>Plot Settings<a class=\"anchor\" id=\"matpl_imports\"></a> ###"
   ]
  },
  {
   "cell_type": "code",
   "execution_count": 4,
   "id": "ed683f03-1f2e-45be-ac45-cabb6f944a09",
   "metadata": {},
   "outputs": [],
   "source": [
    "%matplotlib inline\n",
    "from matplotlib import style, pyplot as plt\n",
    "import matplotlib.patches as patches\n",
    "import matplotlib.ticker as ticker\n",
    "\n",
    "from mpl_toolkits.axes_grid1 import make_axes_locatable"
   ]
  },
  {
   "cell_type": "code",
   "execution_count": null,
   "id": "9dee46d0",
   "metadata": {},
   "outputs": [],
   "source": [
    "%matplotlib inline\n",
    "from matplotlib import style, pyplot as plt\n",
    "import matplotlib.patches as patches\n",
    "import matplotlib.ticker as ticker\n",
    "\n",
    "from mpl_toolkits.axes_grid1 import make_axes_locatable\n",
    "\n",
    "#plt.rcParams['image.cmap'] = 'viridis'\n",
    "#plt.rcParams['image.origin'] = 'lower'\n",
    "#plt.rcParams['axes.titlesize'] = plt.rcParams['axes.labelsize'] = 30\n",
    "#plt.rcParams['xtick.labelsize'] = plt.rcParams['ytick.labelsize'] = 20\n",
    "\n",
    "font1 = {'family': 'helvetica', 'color': 'black', 'weight': 'normal', 'size': '12'}\n",
    "font2 = {'family': 'helvetica', 'color': 'black', 'weight': 'normal', 'size': '20'}"
   ]
  },
  {
   "cell_type": "code",
   "execution_count": null,
   "id": "92799ab2",
   "metadata": {},
   "outputs": [],
   "source": [
    "%matplotlib inline\n",
    "# Figure size\n",
    "plt.rcParams['figure.figsize'] = [15, 15]\n",
    "# Figure text and font\n",
    "plt.rc('text', usetex=True)\n",
    "plt.rc('font', size=15)"
   ]
  },
  {
   "cell_type": "markdown",
   "id": "64814f46",
   "metadata": {},
   "source": [
    "### 2.3<font color='white'>-</font>PSF FWHM dictionary<a class=\"anchor\" id=\"psf_fwhm\"></a> ###"
   ]
  },
  {
   "cell_type": "markdown",
   "id": "7f5a21ce",
   "metadata": {},
   "source": [
    "The dictionary contains the NIRCam point spread function (PSF) FWHM, from the [NIRCam Point Spread Function](https://jwst-docs.stsci.edu/near-infrared-camera/nircam-predicted-performance/nircam-point-spread-functions) JDox page. The FWHM are calculated from the analysis of the expected NIRCam PSFs simulated with [WebbPSF](https://www.stsci.edu/jwst/science-planning/proposal-planning-toolbox/psf-simulation-tool). \n",
    "\n",
    "**Note**: this dictionary will be updated once the values for the FWHM will be available for each detectors after commissioning."
   ]
  },
  {
   "cell_type": "code",
   "execution_count": 5,
   "id": "176a76b6",
   "metadata": {},
   "outputs": [],
   "source": [
    "filters = ['F560W', 'F770W', 'F1000W', 'F1130W', 'F1280W', 'F1500W', 'F1800W', 'F2100W', 'F2550W']\n",
    "\n",
    "psf_fwhm = [1.636, 2.187, 2.888, 3.318, 3.713, 4.354, 5.224, 5.989, 7.312] #pixls\n",
    "\n",
    "dict_utils = {filters[i]: {'psf fwhm': psf_fwhm[i]} for i in range(len(filters))}"
   ]
  },
  {
   "cell_type": "code",
   "execution_count": 6,
   "id": "badfbd0f",
   "metadata": {},
   "outputs": [],
   "source": [
    "### 2.4<font color='white'>-</font>Import images to analyze<a class=\"anchor\" id=\"data\"></a> ###"
   ]
  },
  {
   "cell_type": "markdown",
   "id": "03becf42",
   "metadata": {},
   "source": [
    "We load all the images and we create a dictionary that contains all of them, divided by detectors and filters. This is useful to check which detectors and filters are available and to decide if we want to perform the photometry on all of them or only on a subset.\n",
    "\n",
    "We retrieve the MIRI detector and filter from the image header."
   ]
  },
  {
   "cell_type": "code",
   "execution_count": 7,
   "id": "8105d222",
   "metadata": {},
   "outputs": [
    {
     "name": "stdout",
     "output_type": "stream",
     "text": [
      "\n",
      " Images and catalogs should be already in './data/'. If not, delete the folder and run this cell again.\n",
      "\n"
     ]
    }
   ],
   "source": [
    "folder_path = './data/'\n",
    "\n",
    "if (folder_path == './'):\n",
    "    print('')\n",
    "    print(' Please set another folder that is not the main folder.')\n",
    "    print('')\n",
    "    pass\n",
    "elif os.path.isdir(folder_path):\n",
    "    print('')\n",
    "    print(' Images and catalogs should be already in \\'' + folder_path + \n",
    "          '\\'. If not, delete the folder and run this cell again.')\n",
    "    print('')\n",
    "    pass\n",
    "elif (os.path.isfile('./stage2-selected.zip') and \n",
    "      os.path.isfile('./stage3-selected.zip')):\n",
    "    # Extract both zip files if they are present\n",
    "    boxfile = './stage2-selected.zip'\n",
    "    with zipfile.ZipFile(boxfile) as zf:\n",
    "        zf.extractall(folder_path)        \n",
    "    boxfile = './stage3-selected.zip'\n",
    "    with zipfile.ZipFile(boxfile) as zf:\n",
    "        zf.extractall(folder_path)\n",
    "else:\n",
    "    # Download the data and extract both zip files\n",
    "    boxlink = 'https://stsci.box.com/shared/static/8pjjn8nnaf1d1mev98ca9kc6mss7prmt.zip'\n",
    "    boxfile = 'stage2-selected.zip'\n",
    "    urllib.request.urlretrieve(boxlink, boxfile)\n",
    "    boxlink = 'https://stsci.box.com/shared/static/qstpome9vb95ay6aqlgvk0wvlku9ihay.zip'\n",
    "    boxfile = 'stage3-selected.zip'\n",
    "    urllib.request.urlretrieve(boxlink, boxfile)\n",
    "    # Extract both zip files\n",
    "    boxfile = './stage2-selected.zip'\n",
    "    with zipfile.ZipFile(boxfile) as zf:\n",
    "        zf.extractall(folder_path)        \n",
    "    boxfile = './stage3-selected.zip'\n",
    "    with zipfile.ZipFile(boxfile) as zf:\n",
    "        zf.extractall(folder_path)"
   ]
  },
  {
   "cell_type": "code",
   "execution_count": 8,
   "id": "6bd572fd",
   "metadata": {},
   "outputs": [
    {
     "name": "stdout",
     "output_type": "stream",
     "text": [
      "\n",
      "F560W-filter images:\n",
      "     1) ./data/det_image_seq1_MIRIMAGE_F560Wexp1_cal.fits\n",
      "     2) ./data/det_image_seq4_MIRIMAGE_F560Wexp1_cal.fits\n",
      "     3) ./data/det_image_seq3_MIRIMAGE_F560Wexp1_cal.fits\n",
      "     4) ./data/det_image_seq2_MIRIMAGE_F560Wexp1_cal.fits\n",
      "\n",
      "1 catalog found: ./data/complex_scene_F560W_combined_cat.ecsv\n",
      "\n",
      "F770W-filter images:\n",
      "     1) ./data/det_image_seq2_MIRIMAGE_F770Wexp1_cal.fits\n",
      "     2) ./data/det_image_seq3_MIRIMAGE_F770Wexp1_cal.fits\n",
      "     3) ./data/det_image_seq4_MIRIMAGE_F770Wexp1_cal.fits\n",
      "     4) ./data/det_image_seq1_MIRIMAGE_F770Wexp1_cal.fits\n",
      "\n",
      "1 catalog found: ./data/complex_scene_F770W_combined_cat.ecsv\n"
     ]
    }
   ],
   "source": [
    "filter_names = ['F560W', 'F770W']\n",
    "\n",
    "img_names = {}\n",
    "cat_names = {}\n",
    "for f in filter_names:\n",
    "    print('')\n",
    "    print(r'{0}-filter images:'.format(f))\n",
    "    names = glob.glob(folder_path + 'det_*' + f + '*_cal.fits')\n",
    "    for n in range(len(names)):\n",
    "        print(r'     {0}) {1}'.format(n+1, names[n]))\n",
    "    img_names[f] = names\n",
    "    names = glob.glob(folder_path + 'complex_*' + f + '*cat*.ecsv')\n",
    "    cat_names[f] = names\n",
    "    print('')\n",
    "    print(r'1 catalog found: {0}'.format(names[0]))"
   ]
  },
  {
   "cell_type": "markdown",
   "id": "e68e2da1-b70c-4de5-b6d7-b73b89a02a3c",
   "metadata": {},
   "source": [
    "3.<font color='white'>-</font>Load Data <a class=\"anchor\" id=\"load\"></a>\n",
    "------------------"
   ]
  },
  {
   "cell_type": "code",
   "execution_count": 9,
   "id": "456237d2",
   "metadata": {},
   "outputs": [],
   "source": [
    "file = './data/det_image_seq2_MIRIMAGE_F770Wexp1_cal.fits'\n",
    "\n",
    "im = fits.open(file)\n",
    "hdr770 = im[\"SCI\",1].header\n",
    "w770 = WCS(im[\"SCI\",1].header)"
   ]
  },
  {
   "cell_type": "markdown",
   "id": "d9d2a770",
   "metadata": {},
   "source": [
    "### 3.1<font color='white'>-</font>Display the image<a class=\"anchor\" id=\"display_data\"></a> ###"
   ]
  },
  {
   "cell_type": "markdown",
   "id": "1f012553",
   "metadata": {},
   "source": [
    "To check that our image does not present artifacts and can be used in the analysis, we display it. "
   ]
  },
  {
   "cell_type": "code",
   "execution_count": 10,
   "id": "a6ec4360-54b5-4e9e-a1b8-58ee585dd978",
   "metadata": {},
   "outputs": [
    {
     "data": {
      "application/vnd.jupyter.widget-view+json": {
       "model_id": "d95c3d13a5cf481c8c1d03790a3867a0",
       "version_major": 2,
       "version_minor": 0
      },
      "text/plain": [
       "Application(config='imviz', events=['call_viewer_method', 'close_snackbar_message', 'data_item_selected', 'des…"
      ]
     },
     "metadata": {},
     "output_type": "display_data"
    }
   ],
   "source": [
    "data_sb = im[1].data\n",
    "_, med, sig = sigma_clipped_stats(data_sb, sigma=5.0, maxiters=5)\n",
    "\n",
    "imviz = Imviz()\n",
    "imviz.app"
   ]
  },
  {
   "cell_type": "code",
   "execution_count": 11,
   "id": "4e8607b2-9130-4170-a5af-6b38b0366b27",
   "metadata": {},
   "outputs": [],
   "source": [
    "imviz.load_data(data_sb)"
   ]
  },
  {
   "cell_type": "code",
   "execution_count": 12,
   "id": "ea47b3b7",
   "metadata": {},
   "outputs": [],
   "source": [
    "viewer = imviz.default_viewer\n",
    "viewer.cuts = '95%'"
   ]
  },
  {
   "cell_type": "markdown",
   "id": "2dbee13d",
   "metadata": {},
   "source": [
    "### 3.2 Data Quality (DQ) Flags"
   ]
  },
  {
   "cell_type": "markdown",
   "id": "7f27a2c4",
   "metadata": {},
   "source": [
    "Not all pixels should be used. We can use the Data Quality (DQ) flags to assess whether a pixel can be considered in calculations or not. [Here](https://jwst-pipeline.readthedocs.io/en/latest/jwst/references_general/references_general.html#data-quality-flags) you can find a description of the DQ flags.\n",
    "\n",
    "There is no one-size-fits-all solution for selecting pixels using the DQ flags. For this specific exercise, let's keep all pixels with DQ flag equal to:\n",
    "\n",
    "- 0 = Good pixel\n",
    "- 2 = Pixel saturated during integration\n",
    "- 4 = Jump detected during integration\n",
    "- 6 = Combination of DQ flags 2 and 4\n",
    "\n",
    "As we can see, the DQ flags can correspond to multiple features. We can use _dqflags.dqflags_to_mnemonics_ to convert the DQ integer values into more user-friendly names:"
   ]
  },
  {
   "cell_type": "code",
   "execution_count": 13,
   "id": "0547face",
   "metadata": {},
   "outputs": [
    {
     "name": "stdout",
     "output_type": "stream",
     "text": [
      " DQ flag equal to 2: {'SATURATED'}\n",
      " DQ flag equal to 4: {'JUMP_DET'}\n",
      " DQ flag equal to 6: {'JUMP_DET', 'SATURATED'}\n"
     ]
    }
   ],
   "source": [
    "print(r' DQ flag equal to 2: {0}'.format(dqflags.dqflags_to_mnemonics(2, dqflags.group)))\n",
    "print(r' DQ flag equal to 4: {0}'.format(dqflags.dqflags_to_mnemonics(4, dqflags.group)))\n",
    "print(r' DQ flag equal to 6: {0}'.format(dqflags.dqflags_to_mnemonics(6, dqflags.group)))"
   ]
  },
  {
   "cell_type": "markdown",
   "id": "5a3b1d4d",
   "metadata": {},
   "source": [
    "Let's flag all pixels with a DQ flag different from these four values:"
   ]
  },
  {
   "cell_type": "raw",
   "id": "b77f8e82-5c06-45f3-8e2e-769085ce10c9",
   "metadata": {},
   "source": [
    "ok = np.zeros(im[1].data.shape, dtype='int')\n",
    "ok = ok + np.where(im[3].data != 1, 0, 1)\n",
    "print(r'{0} out of {1} pixels are not usable (~{2:3.1f}%)'.format((ok == 1).sum(), im[1].data.shape[0]*im[1].data.shape[1], \n",
    "                                                                  (ok == 1).sum()/(im[1].data.shape[0]*im[1].data.shape[1])*100.0))"
   ]
  },
  {
   "cell_type": "code",
   "execution_count": 14,
   "id": "a3928fab-1bae-4db0-a056-4115a77817e8",
   "metadata": {},
   "outputs": [
    {
     "name": "stdout",
     "output_type": "stream",
     "text": [
      "311680 out of 1056768 pixels are not usable (~29.5%)\n"
     ]
    }
   ],
   "source": [
    "ok = np.zeros(im[1].data.shape, dtype='int')\n",
    "for v in [0, 2, 4, 6]:\n",
    "    ok = ok + np.where(im[3].data == v, 1, 0)\n",
    "\n",
    "im[1].data[ok == 0] = np.nan\n",
    "print(r'{0} out of {1} pixels are not usable (~{2:3.1f}%)'.format((ok == 0).sum(), im[1].data.shape[0]*im[1].data.shape[1], \n",
    "                                                                  (ok == 0).sum()/(im[1].data.shape[0]*im[1].data.shape[1])*100.0))"
   ]
  },
  {
   "cell_type": "markdown",
   "id": "7f9508f8",
   "metadata": {},
   "source": [
    "Third extension is the DQ flags\n",
    "https://jwst-pipeline.readthedocs.io/en/latest/jwst/data_products/science_products.html#rate"
   ]
  },
  {
   "cell_type": "markdown",
   "id": "0a14272b-a766-4b39-9e2e-7b200fb59b57",
   "metadata": {},
   "source": [
    "Notice how the image changes after the pixel mask is applied.\n",
    "\n",
    "As we can notice, the regions associated to the 4-quadrant phase mask (4QPM) coronagraphs disappeared from the image. The optical system of the 4QPM coronographs is different from that of the imager. Because of the way these optical elements affect the light transmission, the calibration of the 4QPM-coronograph regions is complicated and specific for these coronographs. Therefore, even though photons are detected in the regions of the coronagraphs during standard imaging observations, these regions should not be used while analyzing the Stage-2 image. If you run the _calwebb_image3_ pipeline (or the resample step in _calwebb_image2_), you will notice that the 4QPM regions are missing in the resampled image (_i2d.fits_) as well.\n",
    "\n",
    "Another feature we can notice is that two columns (# 385 and 386) were flagged. Although a qualitative assessment of the image (for example with ds9) does not show anything particularly different from the other columns, these two columns showed to be coupled and should not be used for science."
   ]
  },
  {
   "cell_type": "code",
   "execution_count": 15,
   "id": "264d88f5-4e02-4966-bd40-59829f0b1380",
   "metadata": {},
   "outputs": [
    {
     "data": {
      "application/vnd.jupyter.widget-view+json": {
       "model_id": "18e42e6b89e041e3bff5095eea220952",
       "version_major": 2,
       "version_minor": 0
      },
      "text/plain": [
       "Application(config='imviz', events=['call_viewer_method', 'close_snackbar_message', 'data_item_selected', 'des…"
      ]
     },
     "metadata": {},
     "output_type": "display_data"
    }
   ],
   "source": [
    "#imshow_me_wcolorbar(im[1].data, med-1*sig, med+1*sig, 'Image after masking', 'x [MIRIM pixel]', 'y [MIRIM pixel]', 'MJy sr$^{-1}$', 'binary')\n",
    "imviz = Imviz()\n",
    "imviz.app"
   ]
  },
  {
   "cell_type": "code",
   "execution_count": 16,
   "id": "2eb5ec15-6331-46f7-ba71-e7e5e182f5c2",
   "metadata": {},
   "outputs": [],
   "source": [
    "imviz.load_data(data_sb)\n",
    "viewer = imviz.default_viewer\n",
    "viewer.cuts = '99%'"
   ]
  },
  {
   "cell_type": "markdown",
   "id": "38a4a535",
   "metadata": {},
   "source": [
    "### 3.3<font color='white'>-</font>Convert image units and apply pixel area map<a class=\"anchor\" id=\"convert_data\"></a> ###"
   ]
  },
  {
   "cell_type": "markdown",
   "id": "c3babd75",
   "metadata": {},
   "source": [
    "The unit of the Level-2 and Level-3 Images from the pipeline is MJy/sr (hence a surface brightness). The actual unit of the image can be checked from the header keyword **BUNIT**. The scalar conversion constant is copied to the header keyword **PHOTMJSR**, which gives the conversion from DN/s to megaJy/steradian. For our analysis we revert back to DN/s.\n",
    "\n",
    "For images that have not been transformed into a distortion-free frame (i.e. not drizzled), a correction must be applied to account for the different on-sky pixel size across the field of view. A pixel area map (PAM), which is an image where each pixel value describes that pixel's area on the sky relative to the native plate scale, is used for this correction. In the stage 2 of the JWST pipeline, the PAM is copied into an image extension called **AREA** in the science data product. "
   ]
  },
  {
   "cell_type": "code",
   "execution_count": 17,
   "id": "637d423c-9f5b-45db-a2a0-a98e48bf78e7",
   "metadata": {},
   "outputs": [
    {
     "name": "stdout",
     "output_type": "stream",
     "text": [
      "Conversion factor from {units} to DN/s for filter F770W: 0.5927879810333252\n"
     ]
    }
   ],
   "source": [
    "imh = im[1].header\n",
    "data = data_sb / imh['PHOTMJSR']\n",
    "print('Conversion factor from {units} to DN/s for filter F770W:', imh['PHOTMJSR'])\n",
    "area = im[4].data\n",
    "data = data * area"
   ]
  },
  {
   "cell_type": "markdown",
   "id": "0ee70947-09a5-47d1-b1fa-807c931b7b30",
   "metadata": {},
   "source": [
    "### 3.4<font color='white'>-</font>Alternatively, convert image units to Flux Density<a class=\"anchor\" id=\"convert_data\"></a> ###"
   ]
  },
  {
   "cell_type": "markdown",
   "id": "2155c247-be02-421c-8826-7ab7ba5d9585",
   "metadata": {},
   "source": [
    "MIRI images are in units of MJy/sr. If you want to convert them into flux density/pixel units, you can convert steradians into arcsecconds squared, and then multiply by the area of the pixel. Remember that in Level 2 data, the pixel area is approximately 0.11 arcseconds squared, whereas in the Level 3 pipeline mosaic the pixelsize by default is XXX arcseconds squared exactly. So, for example, for the Level 2 data, a pixel value needs to be multiplied by (1E12 micro-Jy)/(4.254517E10 arcsec**2) x 0.11 arcsec x 0.11 arcsec = 0.28440361 to obtain micro-Jy/pixel flux densities."
   ]
  },
  {
   "cell_type": "code",
   "execution_count": 18,
   "id": "3450e118-64b7-42d4-8324-96cda45785b5",
   "metadata": {},
   "outputs": [],
   "source": [
    "imh = im[1].header\n",
    "data = data_sb * 0.28440361"
   ]
  },
  {
   "cell_type": "markdown",
   "id": "16acfdcd-af71-425e-89aa-1dbc9aca60b7",
   "metadata": {},
   "source": [
    "Remember to make all the appropriate corrections to your measurements. These include\n",
    "\n",
    "1. aperture correction (including point source versus extended source photometry correction)\n",
    "2. (position dependent) color correction\n",
    "3. pixel phase correction in channel 1\n",
    "4. image artifact corrections\n",
    "5. overlap correction in mosaics\n",
    "6. background subtraction\n",
    "7. pixel solid angle correction "
   ]
  },
  {
   "cell_type": "markdown",
   "id": "fe4bd8c2-45ac-4b85-801a-6f73f63e33b0",
   "metadata": {},
   "source": [
    "Once you have measured the flux density of your source, you can convert from Jy into Vega magnitudes (from a Kurucz model spectrum of an A0 V star matched to the visible photometry of Vega) using the zero-magnitude flux densities posted in JDOX (XXX?). Note that zero magnitude flux densities are not what you would measure for Vega necessarily, as Vega does have circumstellar dust. If F(i) is your measured flux density and F(0) is the zero magnitude flux density in the corresponding channel, then the magnitude corresponding to F(i) is m(i) = 2.5*log10(F(0)/F(i))."
   ]
  },
  {
   "cell_type": "markdown",
   "id": "77f7e578",
   "metadata": {},
   "source": [
    "4.<font color='white'>-</font>Create synthetic PSF (with WebbPSF) <a class=\"anchor\" id=\"webbpsf_intro\"></a>\n",
    "------------------"
   ]
  },
  {
   "cell_type": "markdown",
   "id": "3f0cb8a6",
   "metadata": {},
   "source": [
    "WebbPSF is a Python package that computes simulated PSFs for NASA’s JWST and Nancy Grace Roman Space Telescope (formerly WFIRST). WebbPSF transforms models of telescope and instrument optical state into PSFs, taking into account detector pixel scales, rotations, filter profiles, and point source spectra. It is not a full optical model of JWST, but rather a tool for transforming optical path difference (OPD) maps, created with some other tool, into the resulting PSFs as observed with JWST’s or Roman’s instruments. For a full documentation on WebbPSF, see [here](https://webbpsf.readthedocs.io/en/latest/) and for is capability and limitation, see [here](https://webbpsf.readthedocs.io/en/latest/intro.html).\n",
    "\n",
    "The function below allows to create a single PSF or a grid of PSFs (the PSF can also be saved as a fits file). First, we need to specify the instrument (MIRI), detector, and filter. Then, to create a single (or grid) PSF we use the webbPSF method *psf_grid*, which will output a (list of or single) photutils GriddedPSFModel object(s). A tutorial notebook on the *psf_grid* method can be found [here](https://github.com/spacetelescope/webbpsf/blob/stable/notebooks/Gridded_PSF_Library.ipynb).\n",
    "\n",
    "**Important Parameters**:\n",
    "\n",
    "* `num`: the total number of fiducial PSFs to be created and saved in the files. This\n",
    "    number must be a square number (4, 9, 16, etc.)\n",
    "\n",
    "* `oversample`: the oversample factor we want to adopt in the PSF creation.\n",
    "\n",
    "* `fov`: the size in pixel of the PSF model. The size depends on the shape of the PSF and how much flux is contained in the wings of the PSFs (i.e., a small field of view will exclude more flux from the PSF wings). However, increasing the field of view, increase also the computational time, so we need to find a reasonable compromise.\n",
    "\n",
    "* `source`: the source spectrum we want to adopt. Source spectra are defined using the function  `webbpsf.specFromSpectralType` where we need to define the spectral type and the model library (e.g., webbpsf.specFromSepectralType('G5V', catalog='phoenix')). See also note below on the default spectrum depending on if pysynphot is installed or not. \n",
    "\n",
    "* `all_detectors`: run all detectors for the instrument. Since we analyze only 1 detector, we set `all_detectors = False` (we do not need to create a PSF model for all MIRI detectors).\n",
    "\n",
    "* `use_detsampled_psf`: If the grid of PSFs returned will be detector sampled (made by binning down the oversampled PSF) or oversampled by the factor defined by the oversample. For our analysis, we want to create an oversampled PSF model, so we set `use_detsampled_psf = False`."
   ]
  },
  {
   "cell_type": "markdown",
   "id": "a49f149b",
   "metadata": {},
   "source": [
    "<div class=\"alert alert-block alert-info\">\n",
    "    \n",
    "**Note on centering**: by default, the PSF will be centered at the exact center of the output array. This means that if the PSF is computed on an array with an odd number of pixels, the PSF will be centered exactly on the central pixel. If the PSF is computed on an array with even size, it will be centered on the “crosshairs” at the intersection of the central four pixels.\n",
    "\n",
    "**Note on normalization**: by default, PSFs are normalized to total intensity = 1.0 at the entrance pupil (i.e. at the JWST OTE primary). A PSF calculated for an infinite aperture would thus have integrated intensity =1.0. A PSF calculated on any smaller finite subarray will have some finite encircled energy less than one.\n",
    "\n",
    "**Note on source spectrum**: The default source spectrum is, if *pysynphot* is installed, a G2V star spectrum from Castelli & Kurucz (2004). Without *pysynphot*, the default is a simple flat spectrum such that the same number of photons are detected at each wavelength.\n",
    "\n",
    "</div>"
   ]
  },
  {
   "cell_type": "markdown",
   "id": "cea02ed2",
   "metadata": {},
   "source": [
    "### 4.1<font color='white'>-</font>Create the single PSF<a class=\"anchor\" id=\"single_webbpsf\"></a> ###"
   ]
  },
  {
   "cell_type": "code",
   "execution_count": 19,
   "id": "808af52e-f471-4c8a-8208-cfa8c68b639a",
   "metadata": {},
   "outputs": [],
   "source": [
    "os.environ['WEBBPSF_PATH'] = './webbpsf-data'\n",
    "os.environ['PYSYN_CDBS'] = 'https://jwst-crds.stsci.edu'"
   ]
  },
  {
   "cell_type": "markdown",
   "id": "333bd7f3-3466-47c3-9d9e-023f484f5174",
   "metadata": {},
   "source": [
    "The MIRI team has premade PSFs available for direct download so you don't need to install and run WebbPSF on your own."
   ]
  },
  {
   "cell_type": "code",
   "execution_count": 20,
   "id": "acc86889-e24d-4d01-84a3-2b3b0f187390",
   "metadata": {},
   "outputs": [
    {
     "name": "stdout",
     "output_type": "stream",
     "text": [
      "PSF_MODELS Exist, But worth DOUBLE-CHECKING all latest PSF files are there\n"
     ]
    }
   ],
   "source": [
    "if os.path.exists(\"PSF_MODELS/\"):\n",
    "    print(\"PSF_MODELS Exist, But worth DOUBLE-CHECKING all latest PSF files are there\")\n",
    "else:\n",
    "    url = 'https://data.science.stsci.edu/redirect/JWST/jwst-data_analysis_tools/MIRI_photometry/PSF_MODELS.tar.gz'\n",
    "    urllib.request.urlretrieve(url, './PSF_MODELS.tar.gz')\n",
    "    \n",
    "    # Unzip Tar Files\n",
    "    import tarfile\n",
    "\n",
    "    tar = tarfile.open('./PSF_MODELS.tar.gz', \"r:gz\")\n",
    "    tar.extractall()\n",
    "    tar.close()"
   ]
  },
  {
   "cell_type": "markdown",
   "id": "69c6a140-abce-463f-884d-b4c26a984540",
   "metadata": {},
   "source": [
    "You can also create your own PSF using WebbPSF"
   ]
  },
  {
   "cell_type": "code",
   "execution_count": 21,
   "id": "977e5c4e-3143-4ae3-8525-b58a71f93ec3",
   "metadata": {},
   "outputs": [],
   "source": [
    "psfs_dir = 'PSF_MODELS/'\n",
    "det = 'MIRIM'\n",
    "filt = 'F770W'\n",
    "fov=11\n",
    "outname = 'PSF_F770W_samp4_fov11_npsfs1'"
   ]
  },
  {
   "cell_type": "code",
   "execution_count": 22,
   "id": "9c9aa0e3-e3d2-4b5d-be37-6c1867c20919",
   "metadata": {},
   "outputs": [
    {
     "name": "stdout",
     "output_type": "stream",
     "text": [
      "\n",
      "Running instrument: MIRI, filter: F770W\n",
      "  Running detector: MIRIM\n",
      "    Position 1/1: (511, 511) pixels\n"
     ]
    },
    {
     "name": "stderr",
     "output_type": "stream",
     "text": [
      "WARNING:py.warnings:/Users/ofox/miniconda3/envs/hackphot/lib/python3.8/site-packages/astropy/io/fits/card.py:1009: VerifyWarning: Card is too long, comment will be truncated.\n",
      "  warnings.warn('Card is too long, comment will be truncated.',\n",
      "\n",
      "2022-04-19 13:23:39,141 - stpipe - WARNING - /Users/ofox/miniconda3/envs/hackphot/lib/python3.8/site-packages/astropy/io/fits/card.py:1009: VerifyWarning: Card is too long, comment will be truncated.\n",
      "  warnings.warn('Card is too long, comment will be truncated.',\n",
      "\n",
      "WARNING:stpipe:/Users/ofox/miniconda3/envs/hackphot/lib/python3.8/site-packages/astropy/io/fits/card.py:1009: VerifyWarning: Card is too long, comment will be truncated.\n",
      "  warnings.warn('Card is too long, comment will be truncated.',\n",
      "\n"
     ]
    },
    {
     "name": "stdout",
     "output_type": "stream",
     "text": [
      "  Saving file: PSF_MODELS/PSF_F770W_samp4_fov11_npsfs1_mirim.fits\n"
     ]
    }
   ],
   "source": [
    "miri = webbpsf.MIRI()\n",
    "miri.detector = det\n",
    "miri.filter = filt\n",
    "psf = miri.psf_grid(num_psfs=1, oversample=4, source=None, all_detectors=False, fov_pixels=fov, \n",
    "                               save=True, outfile=os.path.join(psfs_dir,outname), use_detsampled_psf=False)"
   ]
  },
  {
   "cell_type": "code",
   "execution_count": 23,
   "id": "d08d864c-d740-40bb-91b8-751c529f9db1",
   "metadata": {},
   "outputs": [
    {
     "data": {
      "text/plain": [
       "<GriddedPSFModel(flux=1., x_0=0., y_0=0.)>"
      ]
     },
     "execution_count": 23,
     "metadata": {},
     "output_type": "execute_result"
    }
   ],
   "source": [
    "# Read in the single psf\n",
    "\n",
    "psf_webbpsf_single = to_griddedpsfmodel('./PSF_MODELS/PSF_F770W_samp4_fov11_npsfs1_mirim.fits')  # file created above\n",
    "psf_webbpsf_single"
   ]
  },
  {
   "cell_type": "markdown",
   "id": "0c25d4b3",
   "metadata": {},
   "source": [
    "### 4.2<font color='white'>-</font>Display the single PSF<a class=\"anchor\" id=\"display_single_webbpsf\"></a> ###"
   ]
  },
  {
   "cell_type": "code",
   "execution_count": 24,
   "id": "36b93483",
   "metadata": {},
   "outputs": [
    {
     "data": {
      "text/plain": [
       "Text(0, 0.5, 'Y [px]')"
      ]
     },
     "execution_count": 24,
     "metadata": {},
     "output_type": "execute_result"
    },
    {
     "data": {
      "image/png": "[encoded data removed]",
      "text/plain": [
       "<Figure size 864x864 with 1 Axes>"
      ]
     },
     "metadata": {
      "needs_background": "light"
     },
     "output_type": "display_data"
    }
   ],
   "source": [
    "plt.figure(figsize=(12, 12))\n",
    "\n",
    "ax = plt.subplot(1, 1, 1)\n",
    "\n",
    "norm_psf = simple_norm(psf_webbpsf_single.data[0], 'log', percent=99.)\n",
    "ax.set_title(filt, fontsize=40)\n",
    "ax.imshow(psf_webbpsf_single.data[0], norm=norm_psf)\n",
    "ax.set_xlabel('X [px]', fontsize=30)\n",
    "ax.set_ylabel('Y [px]', fontsize=30)\n",
    "#plt.tight_layout()"
   ]
  },
  {
   "cell_type": "markdown",
   "id": "315795e8",
   "metadata": {},
   "source": [
    "5.<font color='white'>-</font>Perform PSF Photometry<a class=\"anchor\" id=\"psf_phot\"></a>\n",
    "------------------"
   ]
  },
  {
   "cell_type": "markdown",
   "id": "73165380",
   "metadata": {},
   "source": [
    "For general information on PSF Photometry with PhotUtils see [here](https://photutils.readthedocs.io/en/stable/psf.html). \n",
    "\n",
    "Photutils provides three classes to perform PSF Photometry: [BasicPSFPhotometry](https://photutils.readthedocs.io/en/stable/api/photutils.psf.BasicPSFPhotometry.html#photutils.psf.BasicPSFPhotometry), [IterativelySubtractedPSFPhotometry](https://photutils.readthedocs.io/en/stable/api/photutils.psf.IterativelySubtractedPSFPhotometry.html#photutils.psf.IterativelySubtractedPSFPhotometry), and [DAOPhotPSFPhotometry](https://photutils.readthedocs.io/en/stable/api/photutils.psf.DAOPhotPSFPhotometry.html#photutils.psf.DAOPhotPSFPhotometry). Together these provide the core workflow to make photometric measurements given an appropriate PSF (or other) model.\n",
    "\n",
    "[BasicPSFPhotometry](https://photutils.readthedocs.io/en/stable/api/photutils.psf.BasicPSFPhotometry.html#photutils.psf.BasicPSFPhotometry) implements the minimum tools for model-fitting photometry. At its core, this involves finding sources in an image, grouping overlapping sources into a single model, fitting the model to the sources, and subtracting the models from the image. In DAOPHOT parlance, this is essentially running the “FIND, GROUP, NSTAR, SUBTRACT” once.\n",
    "\n",
    "[IterativelySubtractedPSFPhotometry](https://photutils.readthedocs.io/en/stable/api/photutils.psf.IterativelySubtractedPSFPhotometry.html#photutils.psf.IterativelySubtractedPSFPhotometry) (adopted here) is similar to [BasicPSFPhotometry](https://photutils.readthedocs.io/en/stable/api/photutils.psf.BasicPSFPhotometry.html#photutils.psf.BasicPSFPhotometry), but it adds a parameter called `n_iters` which is the number of iterations for which the loop “FIND, GROUP, NSTAR, SUBTRACT, FIND…” will be performed. This class enables photometry in a scenario where there exists significant overlap between stars that are of quite different brightness. For instance, the detection algorithm may not be able to detect a faint and bright star very close together in the first iteration, but they will be detected in the next iteration after the brighter stars have been fit and subtracted. Like [BasicPSFPhotometry](https://photutils.readthedocs.io/en/stable/api/photutils.psf.BasicPSFPhotometry.html#photutils.psf.BasicPSFPhotometry), it does not include implementations of the stages of this process, but it provides the structure in which those stages run.\n",
    "\n",
    "**Important parameters**:\n",
    "\n",
    "* `finder`: classes to find stars in the image. We use [DAOStarFinder](https://photutils.readthedocs.io/en/stable/api/photutils.detection.DAOStarFinder.html).\n",
    "\n",
    "* `group_maker`:  clustering algorithm in order to label the sources according to groups. We use [DAOGroup](https://photutils.readthedocs.io/en/stable/api/photutils.psf.DAOGroup.html#photutils.psf.DAOGroup). The method group_stars divides an entire starlist into sets of distinct, self-contained groups of mutually overlapping stars. It accepts as input a list of stars and determines which stars are close enough to be capable of adversely influencing each others’ profile fits. [DAOGroup](https://photutils.readthedocs.io/en/stable/api/photutils.psf.DAOGroup.html#photutils.psf.DAOGroup) aceepts one parameter, `crit_separation`, which is the distance, in units of pixels, such that any two stars separated by less than this distance will be placed in the same group.\n",
    "\n",
    "* `fitter`: algorithm to fit the sources simultaneously for each group. We use an astropy fitter, [LevMarLSQFitter](https://docs.astropy.org/en/stable/api/astropy.modeling.fitting.LevMarLSQFitter.html#astropy.modeling.fitting.LevMarLSQFitter). \n",
    "\n",
    "* `niters`: number of iterations for which the \"psf photometry\" loop described above is performed.\n",
    "\n",
    "* `fitshape`: Rectangular shape around the center of a star which will be used to collect the data to do the fitting. \n",
    "\n",
    "* `aperture_radius`: The radius (in units of pixels) used to compute initial estimates for the fluxes of sources."
   ]
  },
  {
   "cell_type": "code",
   "execution_count": null,
   "id": "934742c9",
   "metadata": {},
   "outputs": [],
   "source": [
    "output_phot_dir = 'PHOT_OUTPUT/'\n",
    "\n",
    "if not os.path.exists(output_phot_dir):\n",
    "    os.makedirs(output_phot_dir)\n",
    "\n",
    "res_dir = 'RESIDUAL_IMAGES/'\n",
    "\n",
    "if not os.path.exists(res_dir):\n",
    "    os.makedirs(res_dir)\n",
    "\n",
    "if glob.glob(os.path.join(res_dir, 'residual*F770W.fits')):\n",
    "    print('Deleting Residual images from directory')\n",
    "    files = glob.glob(os.path.join(res_dir, 'residual*F770W.fits'))\n",
    "    for file in files:\n",
    "        os.remove(file)"
   ]
  },
  {
   "cell_type": "markdown",
   "id": "e007b4bd-6486-4c8f-87a8-2b34cde8d656",
   "metadata": {},
   "source": [
    "### 5.1<font color='white'>-</font>Calculate Background<a class=\"anchor\" id=\"background\"></a> ###"
   ]
  },
  {
   "cell_type": "markdown",
   "id": "c5dc4026-3a0a-4117-aa1b-2b84b0101ed0",
   "metadata": {},
   "source": [
    "##### Standard Background Calculation"
   ]
  },
  {
   "cell_type": "code",
   "execution_count": null,
   "id": "0e32818c-066e-4eb2-8bc1-c2dca0ee4aad",
   "metadata": {},
   "outputs": [],
   "source": [
    "data1 = data\n",
    "bkgrms = MADStdBackgroundRMS()\n",
    "mmm_bkg = MMMBackground()\n",
    "std = bkgrms(data1)\n",
    "bkg = mmm_bkg(data1)\n",
    "\n",
    "data_bkgsub = data1.copy()\n",
    "data_bkgsub -= bkg\n"
   ]
  },
  {
   "cell_type": "markdown",
   "id": "bf0e9031-6cc9-4475-ac49-965f1e11ad78",
   "metadata": {},
   "source": [
    "##### 2D Variable Background Calculation"
   ]
  },
  {
   "cell_type": "raw",
   "id": "87b15141-a8b2-4141-bfea-e28cc99ca6fd",
   "metadata": {},
   "source": [
    "sigma_clip = SigmaClip(sigma=3.0, maxiters=10)\n",
    "#coverage_mask = (data == 0)\n",
    "        \n",
    "# Mask all nan or inf pixels\n",
    "coverage_mask = np.full(np.shape(im[1].data), False, dtype=bool)\n",
    "coverage_mask[np.isnan(im[1].data)] = True\n",
    "coverage_mask[~np.isfinite(im[1].data)] = True\n",
    "\n",
    "bkg = Background2D(data, (20, 20), filter_size=(30, 30), sigma_clip=sigma_clip, bkg_estimator=mmm_bkg,\n",
    "                           coverage_mask=coverage_mask, fill_value=0.0)\n",
    "\n",
    "data_bkgsub = data.copy()\n",
    "data_bkgsub = data_bkgsub - bkg.background\n",
    "\n",
    "#_, _, std = sigma_clipped_stats(data_bkgsub)\n",
    "std = bkg.background_rms_median"
   ]
  },
  {
   "cell_type": "markdown",
   "id": "fcbadd21-0e16-4faa-bc63-6538cabdca33",
   "metadata": {},
   "source": [
    "### 5.2<font color='white'>-</font>Perform Photometry<a class=\"anchor\" id=\"background\"></a> ###"
   ]
  },
  {
   "cell_type": "code",
   "execution_count": null,
   "id": "31e3d2bc-73ee-45a0-9a6c-8990cf891058",
   "metadata": {},
   "outputs": [],
   "source": [
    "fitter = LevMarLSQFitter()\n",
    "mmm_bkg = MMMBackground()\n",
    "th = 5.\n",
    "ap_radius=5.5\n",
    "data1 = data\n",
    "\n",
    "sigma_psf = dict_utils[filt]['psf fwhm']\n",
    "print('FWHM for filter {f}:'.format(f=filt), sigma_psf*2)\n",
    "    \n",
    "daofind = DAOStarFinder(threshold=th * std, fwhm=sigma_psf)\n",
    "daogroup = DAOGroup(5.0 * sigma_psf)\n",
    "    \n",
    "psf_model = psf_webbpsf_single.copy()\n",
    "    \n",
    "print('Performing the PSF photometry')\n",
    "tic = time.perf_counter()\n",
    "    \n",
    "phot = IterativelySubtractedPSFPhotometry(finder=daofind, group_maker=daogroup,\n",
    "                                            bkg_estimator=mmm_bkg, psf_model=psf_model,\n",
    "                                            fitter=fitter,\n",
    "                                            niters=3, fitshape=(11, 11), aperture_radius=ap_radius, \n",
    "                                            extra_output_cols=('sharpness', 'roundness2'))\n",
    "psf_phot_results = phot(data1)\n",
    "toc = time.perf_counter()\n",
    "    \n",
    "print('Time needed to perform photometry:', '%.2f' % ((toc - tic) / 3600), 'hours')\n",
    "print('Number of sources detected:', len(psf_phot_results))\n",
    "        \n",
    "residual_image = phot.get_residual_image()\n",
    "    \n",
    "# save the residual images as fits file:\n",
    "hdu = fits.PrimaryHDU(residual_image)\n",
    "hdul = fits.HDUList([hdu])\n",
    "    \n",
    "residual_outname = 'residual_MIRIM_F770W.fits'\n",
    "hdul.writeto(os.path.join(res_dir, residual_outname),overwrite=True)\n",
    "\n",
    "# save the output photometry Tables\n",
    "outname = 'phot_MIRIM_F770W.pkl'\n",
    "tab = psf_phot_results.to_pandas()\n",
    "tab.to_pickle(os.path.join(output_phot_dir, outname))"
   ]
  },
  {
   "cell_type": "markdown",
   "id": "2fcd71de",
   "metadata": {},
   "source": [
    "### 5.3<font color='white'>-</font>PSF photometry output catalog<a class=\"anchor\" id=\"psf_cat\"></a> ###"
   ]
  },
  {
   "cell_type": "code",
   "execution_count": null,
   "id": "861c03d6",
   "metadata": {},
   "outputs": [],
   "source": [
    "psf_phot_results"
   ]
  },
  {
   "cell_type": "markdown",
   "id": "6feb47a5",
   "metadata": {},
   "source": [
    "### 5.4<font color='white'>-</font>Display residual image<a class=\"anchor\" id=\"residual\"></a> ###"
   ]
  },
  {
   "cell_type": "code",
   "execution_count": null,
   "id": "03f5fba9",
   "metadata": {},
   "outputs": [],
   "source": [
    "#imshow_me_wcolorbar(im[1].data, med-1*sig, med+1*sig, 'Image after masking', 'x [MIRIM pixel]', 'y [MIRIM pixel]', 'MJy sr$^{-1}$', 'binary')\n",
    "imviz = Imviz()\n",
    "imviz.app"
   ]
  },
  {
   "cell_type": "code",
   "execution_count": null,
   "id": "6b8809bf",
   "metadata": {},
   "outputs": [],
   "source": [
    "imviz.load_data(residual_image,data_label='Residual')\n",
    "imviz.load_data(data,data_label='Original')\n",
    "viewer = imviz.default_viewer\n",
    "viewer.cuts = '95%'"
   ]
  },
  {
   "cell_type": "code",
   "execution_count": null,
   "id": "df9c38e8",
   "metadata": {},
   "outputs": [],
   "source": [
    "viewer_2_name='Window 2'\n",
    "viewer_2 = imviz.create_image_viewer(viewer_name=viewer_2_name)"
   ]
  },
  {
   "cell_type": "code",
   "execution_count": null,
   "id": "378d7a9e",
   "metadata": {},
   "outputs": [],
   "source": [
    "imviz.app.add_data_to_viewer(viewer_2_name, 'Residual')"
   ]
  },
  {
   "cell_type": "code",
   "execution_count": null,
   "id": "fcdbaced",
   "metadata": {},
   "outputs": [],
   "source": [
    "viewer_2.cuts = '95%'"
   ]
  },
  {
   "cell_type": "markdown",
   "id": "5630029f-31d1-42cd-8454-225e86cabc48",
   "metadata": {},
   "source": [
    "<hr style=\"border:1px solid gray\"> </hr>"
   ]
  },
  {
   "cell_type": "markdown",
   "id": "843b5201-6f57-46f0-9da0-b738714178d3",
   "metadata": {},
   "source": [
    "<img style=\"float: center;\" src=\"https://raw.githubusercontent.com/spacetelescope/notebooks/master/assets/stsci_pri_combo_mark_horizonal_white_bkgd.png\" alt=\"Space Telescope Logo\" width=\"200px\"/>"
   ]
  }
 ],
 "metadata": {
  "kernelspec": {
   "display_name": "Python 3 (ipykernel)",
   "language": "python",
   "name": "python3"
  },
  "language_info": {
   "codemirror_mode": {
    "name": "ipython",
    "version": 3
   },
   "file_extension": ".py",
   "mimetype": "text/x-python",
   "name": "python",
   "nbconvert_exporter": "python",
   "pygments_lexer": "ipython3",
   "version": "3.8.10"
  },
  "toc-showcode": false
 },
 "nbformat": 4,
 "nbformat_minor": 5
}
