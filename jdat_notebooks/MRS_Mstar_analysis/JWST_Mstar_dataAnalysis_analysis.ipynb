{
 "cells": [
  {
   "cell_type": "markdown",
   "metadata": {
    "slideshow": {
     "slide_type": "slide"
    }
   },
   "source": [
    "<a id=\"top\"></a>\n",
    "# MIRI MRS Spectroscopy of a Late M Star 2 - Data Anlysis and Visualization"
   ]
  },
  {
   "cell_type": "markdown",
   "metadata": {},
   "source": [
    "**Use case:** Extract spatial-spectral features from IFU cube and measure their attributes.<br>\n",
    "**Data:** Simulated [MIRI MRS](https://jwst-docs.stsci.edu/mid-infrared-instrument/miri-observing-modes/miri-medium-resolution-spectroscopy) spectrum of AGB star.<br>\n",
    "**Source of Simulations:** [MIRISim](https://www.stsci.edu/jwst/science-planning/proposal-planning-toolbox/mirisim)<br>\n",
    "**Pipeline Version:** [JWST Pipeline](https://jwst-docs.stsci.edu/jwst-data-reduction-pipeline)<br>\n",
    "**Tools:** specutils, jwst, photutils, astropy, aplpy, scipy.<br>\n",
    "**Cross-intrument:** NIRSpec, MIRI.<br>\n",
    "**Documentation:** This notebook is part of a STScI's larger [post-pipeline Data Analysis Tools Ecosystem](https://jwst-docs.stsci.edu/jwst-post-pipeline-data-analysis) and can be [downloaded](https://github.com/spacetelescope/dat_pyinthesky/tree/main/jdat_notebooks/MRS_Mstar_analysis) directly from the [JDAT Notebook Github directory](https://github.com/spacetelescope/jdat_notebooks).<br>\n",
    "**Note**: This notebook includes MIRI simulated data cubes obtained using MIRISim (https://wiki.miricle.org//bin/view/Public/MIRISim_Public)\n",
    "and run through the JWST pipeline (https://jwst-pipeline.readthedocs.io/en/latest/) of\n",
    "point sources with spectra representative of late M type stars.\n",
    "\n",
    "## Introduction\n",
    "\n",
    "This notebook analyzes one star represented by a dusty SED corresponding to the ISO SWS spectrum of\n",
    "W Per from Kraemer et al. (2002) and Sloan et al. (2003) to cover the MRS spectral range 5-28 microns.  Analysis of JWST spectral cubes requires extracting spatial-spectral features of interest and measuring their attributes. \n",
    "\n",
    "This is the second notebook, which will perform data analysis using `specutils`.  Specifically, it will fit a model photosphere/blackbody to the spectra.  Then it will calculate the centroids, line integrated flux and equivalent width for each dust and molecular feature. \n",
    "\n",
    "**This notebook assumes you have run the first notebook.**\n",
    "\n",
    "## To Do:\n",
    "- Make function to extract spectra from datacube using a different means of extraction.\n",
    "- Replace blackbody fit to the photosphere part of the spectra with a stellar photosphere model.\n",
    "- Make sure errors have been propagated correctly in the caculation of centroids, line integrated flux and equivalent widths. (Science Author)\n",
    "- Make simple function within the `specutils` framework to fit a continium and measure centroids, line integrated flux and equivalent widths of broad solid state and molecular features. "
   ]
  },
  {
   "cell_type": "markdown",
   "metadata": {
    "slideshow": {
     "slide_type": "slide"
    }
   },
   "source": [
    "## Import Packages"
   ]
  },
  {
   "cell_type": "code",
   "execution_count": null,
   "metadata": {
    "slideshow": {
     "slide_type": "fragment"
    }
   },
   "outputs": [],
   "source": [
    "# Import useful python packages\n",
    "import numpy as np\n",
    "\n",
    "# Import packages to display images inline in the notebook\n",
    "import matplotlib.pyplot as plt    \n",
    "%matplotlib inline   \n",
    "\n",
    "# Set general plotting options\n",
    "params = {'legend.fontsize': '18', 'axes.labelsize': '18',\n",
    "         'axes.titlesize': '18', 'xtick.labelsize': '18',\n",
    "         'ytick.labelsize': '18', 'lines.linewidth': 2, 'axes.linewidth': 2, 'animation.html': 'html5'}\n",
    "plt.rcParams.update(params)\n",
    "plt.rcParams.update({'figure.max_open_warning': 0})"
   ]
  },
  {
   "cell_type": "code",
   "execution_count": null,
   "metadata": {
    "jupyter": {
     "outputs_hidden": false
    },
    "pycharm": {
     "name": "#%%\n"
    }
   },
   "outputs": [],
   "source": [
    "# Import astropy packages \n",
    "from astropy import units as u\n",
    "from astropy.io import ascii\n",
    "from astropy.wcs import WCS\n",
    "from astropy.table import Table, vstack\n",
    "from astropy.stats import sigma_clipped_stats\n",
    "from astropy.nddata import StdDevUncertainty\n",
    "from astropy.io import fits # added by BAS on 8 April 2021\n",
    "from astropy.utils.data import get_pkg_data_filename\n",
    "from astropy.utils.data import download_file\n",
    "\n",
    "# To find stars in the MRS spectralcubes and do aperture photometry\n",
    "from photutils import DAOStarFinder, CircularAperture\n",
    "\n",
    "# To deal with 1D spectrum\n",
    "from specutils import Spectrum1D\n",
    "from specutils.fitting import fit_generic_continuum\n",
    "from specutils.manipulation import box_smooth, extract_region, SplineInterpolatedResampler\n",
    "from specutils.analysis import line_flux, centroid, equivalent_width\n",
    "from specutils.spectra import SpectralRegion\n",
    "from specutils import SpectrumList\n",
    "\n",
    "# To make nice plots with WCS axis\n",
    "import aplpy\n",
    "\n",
    "# To fit a curve to the data\n",
    "from scipy.optimize import curve_fit"
   ]
  },
  {
   "cell_type": "code",
   "execution_count": null,
   "metadata": {},
   "outputs": [],
   "source": [
    "import warnings\n",
    "warnings.simplefilter('ignore')"
   ]
  },
  {
   "cell_type": "code",
   "execution_count": null,
   "metadata": {},
   "outputs": [],
   "source": [
    "# Check if Pipeline 3 Reduced data exists and, if not, download it\n",
    "import os\n",
    "import urllib.request\n",
    "\n",
    "if os.path.exists(\"combine_dithers_all_exposures_ch1-long_s3d\"):\n",
    "    print(\"Pipeline 3 Data Exists\")\n",
    "else:\n",
    "    url = 'https://data.science.stsci.edu/redirect/JWST/jwst-data_analysis_tools/MRS_Mstar_analysis/reduced.tar.gz'\n",
    "    urllib.request.urlretrieve(url, './reduced.tar.gz')\n",
    "    "
   ]
  },
  {
   "cell_type": "code",
   "execution_count": null,
   "metadata": {},
   "outputs": [],
   "source": [
    "# Unzip Tar Files\n",
    "\n",
    "import tarfile\n",
    "\n",
    "# Unzip files if they haven't already been unzipped\n",
    "if os.path.exists(\"reduced/\"):\n",
    "    print(\"Pipeline 3 Data Exists\")\n",
    "else:\n",
    "    tar = tarfile.open('./reduced.tar.gz', \"r:gz\")\n",
    "    tar.extractall()\n",
    "    tar.close()"
   ]
  },
  {
   "cell_type": "code",
   "execution_count": null,
   "metadata": {},
   "outputs": [],
   "source": [
    "# Move Files \n",
    "\n",
    "os.system('mv reduced/*fits .')"
   ]
  },
  {
   "cell_type": "markdown",
   "metadata": {},
   "source": [
    "Read in 12 spectra from Notebook 1 using [SpectrumList](https://specutils.readthedocs.io/en/stable/api/specutils.SpectrumList.html) and create one master spectrum. \n",
    "MIRI MRS data will typically have a separate 1D spectrum and 3D cube associated with each Channel and Sub-Band."
   ]
  },
  {
   "cell_type": "code",
   "execution_count": null,
   "metadata": {},
   "outputs": [],
   "source": [
    "# Read in all X1D spectra to a single spectrum list and combine into a single spectrum1d object\n",
    "\n",
    "ddd = '.'\n",
    "splist = SpectrumList.read(ddd)\n",
    "\n",
    "wlallorig = []\n",
    "fnuallorig = []\n",
    "dfnuallorig = []\n",
    "for bndind in range(len(splist)):\n",
    "    for wlind in range(len(splist[bndind].spectral_axis)):\n",
    "        wlallorig.append(splist[bndind].spectral_axis[wlind].value)\n",
    "        fnuallorig.append(splist[bndind].flux[wlind].value)\n",
    "        dfnuallorig.append(splist[bndind].uncertainty[wlind].array)\n",
    "\n",
    "wlallarr = np.array(wlallorig)\n",
    "fnuallarr = np.array(fnuallorig)\n",
    "dfnuallarr = np.array(dfnuallorig)\n",
    "srtind = np.argsort(wlallarr)\n",
    "wlall = wlallarr[srtind]\n",
    "fnuall = fnuallarr[srtind]\n",
    "\n",
    "# Developer Note: We put in errors of 0.0001, but uncertainties need to be fixed\n",
    "dfnuall = (0.0001)*np.ones(len(fnuall))\n"
   ]
  },
  {
   "cell_type": "raw",
   "metadata": {},
   "source": [
    "# To accesss different spectra from your list, you can call the following:\n",
    "print(splist[0].spectral_axis)"
   ]
  },
  {
   "cell_type": "markdown",
   "metadata": {},
   "source": [
    "#### Developer Note: At this point, the 12 extracted 1D spectra need to get spliced together with a specialty function written for MRS.  "
   ]
  },
  {
   "cell_type": "code",
   "execution_count": null,
   "metadata": {},
   "outputs": [],
   "source": [
    "wav = wlall*u.micron # Wavelength: microns\n",
    "fl = fnuall*u.Jy # Fnu:  Jy\n",
    "efl = dfnuall*u.Jy # Error flux: Jy\n",
    "\n",
    "# Make a 1D spectrum object\n",
    "spec = Spectrum1D(spectral_axis=wav, flux=fl, uncertainty=StdDevUncertainty(efl))\n",
    "\n",
    "# Apply a 5 pixel boxcar smoothing to the spectrum\n",
    "spec_bsmooth = box_smooth(spec, width=5)   \n",
    "\n",
    "# Plot the spectrum & smoothed spectrum to inspect features \n",
    "plt.figure(figsize = (8,4))\n",
    "plt.plot(spec.spectral_axis, spec.flux, label='Source')\n",
    "plt.plot(spec.spectral_axis, spec_bsmooth.flux, label='Smoothed')\n",
    "plt.xlabel('Wavelength (microns)')\n",
    "plt.ylabel(\"Flux ({:latex})\".format(spec.flux.unit))\n",
    "plt.ylim(-0.05,0.15)\n",
    "\n",
    "# Overplot the original input spectrum for comparison\n",
    "origspecfile = fn = download_file('https://data.science.stsci.edu/redirect/JWST/jwst-data_analysis_tools/MRS_Mstar_analysis/63702662.txt', cache=False)\n",
    "origdata = ascii.read(origspecfile)\n",
    "wlorig = origdata['col1']\n",
    "fnujyorig = origdata['col2']*0.001 # comes in as mJy, change to Jy to compare with pipeline output\n",
    "plt.plot(wlorig,fnujyorig, '.', color='grey', markersize=1, label='Original Input')\n",
    "\n",
    "plt.legend(frameon=False, fontsize='medium')\n",
    "plt.tight_layout()\n",
    "plt.show()\n",
    "plt.close()"
   ]
  },
  {
   "cell_type": "markdown",
   "metadata": {},
   "source": [
    "## Cubeviz Visualization\n",
    "\n",
    "You can also visualize images inside a Jupyter notebook using Cubeviz\n"
   ]
  },
  {
   "cell_type": "markdown",
   "metadata": {},
   "source": [
    "## Video1:\n",
    "    \n",
    "This Cubeviz Instructional Demo is from STScI's official YouTube channel and provides an introduction to Cubeviz."
   ]
  },
  {
   "cell_type": "code",
   "execution_count": null,
   "metadata": {},
   "outputs": [],
   "source": [
    "from IPython.display import HTML, YouTubeVideo\n",
    "\n",
    "vid = YouTubeVideo(\"HMSYwiH3Gl4\")\n",
    "display(vid)"
   ]
  },
  {
   "cell_type": "code",
   "execution_count": null,
   "metadata": {
    "scrolled": false
   },
   "outputs": [],
   "source": [
    "from jdaviz import Cubeviz\n",
    "\n",
    "cubeviz = Cubeviz()\n",
    "cubeviz.app"
   ]
  },
  {
   "cell_type": "markdown",
   "metadata": {},
   "source": [
    "#### Developer Note. Need to pick a different unit than meters. https://jira.stsci.edu/browse/JDAT-1792"
   ]
  },
  {
   "cell_type": "code",
   "execution_count": null,
   "metadata": {},
   "outputs": [],
   "source": [
    "# Here, we load the data into the Cubeviz app for visual inspection.  In this case, we're just looking at a single channel, because Cubeviz can only load a single cube at a time.\n",
    "\n",
    "ch1short_cubefile = 'combine_dithers_all_exposures_ch1-long_s3d.fits'\n",
    "cubeviz.load_data(ch1short_cubefile)"
   ]
  },
  {
   "cell_type": "markdown",
   "metadata": {},
   "source": [
    "Next, you want to define a pixel region subset that is specific to the AGB star.  You can do this with the regions utility button shown in the video below and drawing a circular region around the AGB star at approximate pixels x=20, y=30."
   ]
  },
  {
   "cell_type": "markdown",
   "metadata": {},
   "source": [
    "## Video2:\n",
    "    \n",
    "Here is a video that quickly shows how to select a spatial region in Cubeviz."
   ]
  },
  {
   "cell_type": "code",
   "execution_count": null,
   "metadata": {
    "scrolled": false
   },
   "outputs": [],
   "source": [
    "# Video showing the selection of the star with a circular region of interest\n",
    "from IPython.display import HTML\n",
    "HTML('<iframe width=\"700\" height=\"500\" src=\"https://data.science.stsci.edu/redirect/JWST/jwst-data_analysis_tools/MRS_Mstar_analysis/region_select.mov\" frameborder=\"0\" allowfullscreen></iframe>')"
   ]
  },
  {
   "cell_type": "code",
   "execution_count": null,
   "metadata": {},
   "outputs": [],
   "source": [
    "# Now extract spectrum from your spectral viewer\n",
    "spec_agb = cubeviz.app.get_data_from_viewer('spectrum-viewer', 'Subset 1') # AGB star only"
   ]
  },
  {
   "cell_type": "code",
   "execution_count": null,
   "metadata": {},
   "outputs": [],
   "source": [
    "# Check to see if user drew a subset in cubeviz. If not, define spec_agb as just the original spectrum.\n",
    "if not spec_agb:\n",
    "    spec_agb = spec\n",
    "    print(\"defining spec_agb=spec\")\n",
    "else: \n",
    "    print(\"spec_agb defined.\")\n"
   ]
  },
  {
   "cell_type": "markdown",
   "metadata": {},
   "source": [
    "## Specviz Visualization\n",
    "\n",
    "You can visualize the extracted spectrum inside Specviz"
   ]
  },
  {
   "cell_type": "markdown",
   "metadata": {},
   "source": [
    "## Video3:\n",
    "    \n",
    "This Specviz Instructional Demo is from STScI's official YouTube channel and provides an introduction to Cubeviz."
   ]
  },
  {
   "cell_type": "code",
   "execution_count": null,
   "metadata": {},
   "outputs": [],
   "source": [
    "from IPython.display import HTML, YouTubeVideo\n",
    "\n",
    "vid = YouTubeVideo(\"zLyRnfG32Bo\")\n",
    "display(vid)"
   ]
  },
  {
   "cell_type": "code",
   "execution_count": null,
   "metadata": {
    "scrolled": false
   },
   "outputs": [],
   "source": [
    "# Open these spectra up in Specviz\n",
    "from jdaviz import Specviz\n",
    "\n",
    "specviz = Specviz()\n",
    "specviz.app"
   ]
  },
  {
   "cell_type": "markdown",
   "metadata": {},
   "source": [
    "#### Developer Note: Cannot currently open a spectrum1d output from cubeviz in specviz.  https://jira.stsci.edu/browse/JDAT-1791\n",
    "\n",
    "#specviz.load_spectrum(spec_agb)"
   ]
  },
  {
   "cell_type": "code",
   "execution_count": null,
   "metadata": {},
   "outputs": [],
   "source": [
    "# For now, you must create your own spectrum1d object from your extracted cubeviz spectrum.  \n",
    "flux = spec_agb.flux\n",
    "wavelength = spec_agb.spectral_axis\n",
    "spec1d = Spectrum1D(spectral_axis=wavelength, flux=flux)\n",
    "specviz.load_spectrum(spec1d)"
   ]
  },
  {
   "cell_type": "raw",
   "metadata": {},
   "source": [
    "# To load the entire x1d spectrum loaded earlier, you can use this command instead\n",
    "specviz.load_spectrum(spec)"
   ]
  },
  {
   "cell_type": "markdown",
   "metadata": {},
   "source": [
    "## Video4:\n",
    "    \n",
    "Here is a video that quickly shows how to smooth your spectrum in Specviz."
   ]
  },
  {
   "cell_type": "code",
   "execution_count": null,
   "metadata": {},
   "outputs": [],
   "source": [
    "# Video showing how to smooth a spectrum in Specviz\n",
    "HTML('<iframe width=\"700\" height=\"500\" src=\"https://data.science.stsci.edu/redirect/JWST/jwst-data_analysis_tools/MRS_Mstar_analysis/smooth.mov\" frameborder=\"0\" allowfullscreen></iframe>')"
   ]
  },
  {
   "cell_type": "markdown",
   "metadata": {},
   "source": [
    "##  Data analysis \n",
    "\n",
    "Analyze the spectrum1d object (spec) created from the spectrumlist list above.\n",
    "\n",
    "#### Developer Note: Add blackbody fitting to the modeling.  And, for that matter, more of the astropy models: https://docs.astropy.org/en/stable/modeling/physical_models.html Can't do the next step in Specviz because don't have a blackbody fitter."
   ]
  },
  {
   "cell_type": "markdown",
   "metadata": {},
   "source": [
    "### Fit a continuum - find the best-fitting template (stellar photosphere model or blackbody)\n",
    "\n",
    "For AGB stars with a photosphere component fit a stellar photosphere model or a blackbody to short wavelength end of the spectra.\n",
    "\n",
    "#### Developer Note: Would idealy like to fit the photosphere with a set of Phoenix Models.\n",
    "I think `template_comparison` may be a good function here to work with the Phoenix Models which have been setup to\n",
    "interface with `pysynphot`.\n",
    "\n",
    "For now switching to a blackbody."
   ]
  },
  {
   "cell_type": "code",
   "execution_count": null,
   "metadata": {},
   "outputs": [],
   "source": [
    "def blackbody_Fnu(lam, T, A):\n",
    "    \"\"\" Blackbody as a function of wavelength (um) and temperature (K).\n",
    "        Function returns the Planck function in f_nu units\n",
    "        # [Y Jy] = 1.0E+23 * [X erg/cm^2/s/Hz] = 10E+26  [X Watts/m^2/Hz]\n",
    "    \"\"\"\n",
    "    from scipy.constants import h, k, c\n",
    "    lam = 1e-6 * lam                                              # convert to metres\n",
    "    bb_nu = 2*h*c / (lam**3 * (np.exp(h*c / (lam*k*T)) - 1))      # units of W/m^2/Hz/Steradian ; f_nu units\n",
    "    return A * bb_nu"
   ]
  },
  {
   "cell_type": "code",
   "execution_count": null,
   "metadata": {},
   "outputs": [],
   "source": [
    "# Only want to fit to a small wavelength range at the start of the spectra\n",
    "phot_fit_region = [5.0, 8.0]# Microns\n",
    "\n",
    "# Trim the specrum to the region showing a stellar photosphere\n",
    "sub_region_phot = SpectralRegion([(phot_fit_region[0], phot_fit_region[1])] * u.micron)\n",
    "sub_spectrum_phot = extract_region(spec, sub_region_phot)"
   ]
  },
  {
   "cell_type": "code",
   "execution_count": null,
   "metadata": {},
   "outputs": [],
   "source": [
    "# fit BB to the data\n",
    "def phot_fn(wa, T1, A):\n",
    "    return blackbody_Fnu(wa, T1, A) \n",
    "\n",
    "\n",
    "popt, pcov = curve_fit(phot_fn, sub_spectrum_phot.spectral_axis.value,\n",
    "                       sub_spectrum_phot.flux.value, p0=(3000, 10000),\n",
    "                       sigma=sub_spectrum_phot.uncertainty.quantity)\n",
    "\n",
    "# Get the best fitting parameter value and their 1 sigma errors\n",
    "best_t1, best_a1 = popt\n",
    "sigma_t1, sigma_a1 = np.sqrt(np.diag(pcov))\n",
    "\n",
    "ybest = blackbody_Fnu(spec.spectral_axis.value, best_t1, best_a1)\n",
    "\n",
    "print('Parameters of best-fitting model:')\n",
    "print('T1 = %.2f +/- %.2f' % (best_t1, sigma_t1))\n",
    "\n",
    "degrees_of_freedom = len(sub_spectrum_phot.spectral_axis.value) - 2\n",
    "\n",
    "resid = (sub_spectrum_phot.flux.value - phot_fn(sub_spectrum_phot.spectral_axis.value, *popt)) \\\n",
    "        / sub_spectrum_phot.uncertainty.quantity\n",
    "\n",
    "chisq = np.dot(resid, resid)\n",
    "\n",
    "print('nchi2 %.2f' % (chisq.value / degrees_of_freedom))"
   ]
  },
  {
   "cell_type": "code",
   "execution_count": null,
   "metadata": {},
   "outputs": [],
   "source": [
    "# Plot the spectrum & the model fit to the short wavelength region of the data.\n",
    "plt.figure(figsize=(8, 4))\n",
    "plt.plot(spec.spectral_axis, spec.flux, label='Source')\n",
    "plt.plot(spec.spectral_axis, ybest, label='BB')\n",
    "plt.xlabel('Wavelength (microns)')\n",
    "plt.ylabel(\"Flux ({:latex})\".format(spec.flux.unit))\n",
    "plt.title(\"Spectrum with blackbody fit\")\n",
    "plt.legend(frameon=False, fontsize='medium')\n",
    "plt.tight_layout()\n",
    "plt.ylim(-0.05, 0.15)\n",
    "plt.show()\n",
    "plt.close()\n",
    "\n",
    "# Now subtract the BB and plot the underlying dust continuum\n",
    "plt.figure(figsize=(8,4))\n",
    "plt.plot(spec.spectral_axis, spec.flux.value - ybest, color='purple', label='Dust spectra')\n",
    "plt.axhline(0, color='r', linestyle='dashdot', alpha=0.5)\n",
    "plt.xlabel('Wavelength (microns)')\n",
    "plt.ylabel(\"Flux ({:latex})\".format(spec.flux.unit))\n",
    "plt.title(\"Continuum-subtracted spectrum\")\n",
    "plt.legend(frameon=False, fontsize='medium')\n",
    "plt.tight_layout()\n",
    "plt.ylim(-0.05, 0.15)\n",
    "plt.show()\n",
    "plt.close()"
   ]
  },
  {
   "cell_type": "markdown",
   "metadata": {},
   "source": [
    "### Now have the dust continuum want to look for features and measure their properties.\n",
    "\n",
    "Want to find:\n",
    "- Equivalent width\n",
    "- Equivalent flux\n",
    "- Optical depth\n",
    "- Centroids = wavelength with half the flux on either side\n",
    "\n",
    "#### As an example lets focus on the amorphous silicate 10 micron region.\n",
    "\n",
    "**Method - used repeatedly**\n",
    "\n",
    "- Fit a spline to the photosphere continuum subtracted spectra excluding the feature in this fit.\n",
    "- Trim the spectra to that wavelength region as the spline is now a different size to the full wavelength range of the\n",
    "spectra.\n",
    "- Make a continuum subtracted and and continuum normalised spectra.\n",
    "- Convert the units of the flux from Jy to W/m^2/wavelength for nice units post line integration. \n",
    "- Determine the feature line flux in units of W/m^2 and the feature centroid. Use continuum subtracted spectra.\n",
    "- Determine the feature equivalent width. Use continuum normalised spectra.\n",
    "- Make sure errors have been propagated correctly.\n",
    "- Store these results in a table \n",
    "- Several molecular and dust features are normally present in the spectra. Repeat for each feature.\n",
    "\n",
    "**Note**\n",
    "This seems like a long winded way to do this. Is there a simpler approach?\n",
    "\n",
    "> For instance a tool that takes four wavelengths, fits a line using the data from  lam0 to lam1 and lam2 to lam3, then\n",
    ">passes the continuum-subtracted  spectrum for line integration from lam1 to lam2 with error propagation is needed\n",
    ">several times for dust features. But with the current spectra1d framework this takes many steps to write manually and\n",
    ">is beyond tedious after doing this for 2 features let alone 20+.  Similar framework is also needed for the integrated\n",
    ">line centroid with uncertainty, and the extracted equivalent width."
   ]
  },
  {
   "cell_type": "code",
   "execution_count": null,
   "metadata": {},
   "outputs": [],
   "source": [
    "# Subtract the continuum and plot in a new instance of specviz\n",
    "bbsub_spectra = spec - ybest     # continuum subtracted spectra - Dust only"
   ]
  },
  {
   "cell_type": "code",
   "execution_count": null,
   "metadata": {},
   "outputs": [],
   "source": [
    "# Fit a spline to the 10 micron feature to isolate it.\n",
    "\n",
    "bbsub_spectra = spec - ybest     # continuum subtracted spectra - Dust only\n",
    "\n",
    "# Fit a local continuum between the flux densities at: 8.0 - 8.1 & 14.9 - 15.0 microns\n",
    "# (i.e. excluding the line itself)\n",
    "\n",
    "sw_region = 8.0   #lam0\n",
    "sw_line = 8.1     #lam1\n",
    "lw_line = 14.9    #lam2\n",
    "lw_region = 15.0  #lam3\n",
    "\n",
    "# Zoom in on the line complex & extract\n",
    "line_reg_10 = SpectralRegion([(sw_region*u.um, lw_region*u.um)])\n",
    "line_spec = extract_region(bbsub_spectra, line_reg_10)\n",
    "\n",
    "# Fit a local continuum - exclude the actual dust feature when doing the fit\n",
    "\n",
    "lgl_fit = fit_generic_continuum(line_spec, \n",
    "                                exclude_regions = SpectralRegion([(sw_line*u.um, \n",
    "                                                                   lw_line*u.um)])) \n",
    "\n",
    "# Determine Y values of the line continuum\n",
    "line_y_continuum = lgl_fit(line_spec.spectral_axis) \n",
    "\n",
    "#-----------------------------------------------------------------\n",
    "# Generate a continuum subtracted and continuum normalised spectra\n",
    "\n",
    "line_spec_norm   = Spectrum1D(spectral_axis = line_spec.spectral_axis, flux = line_spec.flux/line_y_continuum, uncertainty = StdDevUncertainty(np.zeros(len(line_spec.spectral_axis))))\n",
    "line_spec_consub = Spectrum1D(spectral_axis = line_spec.spectral_axis, flux = line_spec.flux - line_y_continuum, uncertainty = StdDevUncertainty(np.zeros(len(line_spec.spectral_axis))))\n",
    "\n",
    "#-----------------------------------------------------------------\n",
    "# Plot the dust feature & continuum fit to the region\n",
    "\n",
    "plt.figure(figsize = (8, 4))\n",
    "\n",
    "plt.plot(line_spec.spectral_axis, line_spec.flux.value,\n",
    "         label = 'Dust spectra 10 micron region')\n",
    "\n",
    "plt.plot(line_spec.spectral_axis, line_y_continuum, label = 'Local continuum')\n",
    "\n",
    "plt.xlabel('Wavelength (microns)')\n",
    "plt.ylabel(\"Flux ({:latex})\".format(spec.flux.unit))\n",
    "plt.title(\"10$\\mu$m feature plus local continuum\")\n",
    "plt.legend(frameon = False, fontsize = 'medium')\n",
    "plt.tight_layout()\n",
    "plt.show()\n",
    "plt.close()\n",
    "\n",
    "#-----------------------------------------------------------------\n",
    "# Plot the continuum subtracted 10 micron feature\n",
    "\n",
    "plt.figure(figsize = (8,4))\n",
    "\n",
    "plt.plot(line_spec.spectral_axis, line_spec_consub.flux, color='green',\n",
    "         label = 'continuum subtracted')\n",
    "\n",
    "plt.xlabel('Wavelength (microns)')\n",
    "plt.ylabel(\"Flux ({:latex})\".format(spec.flux.unit))\n",
    "plt.title(\"Continuum subtracted 10$\\mu$m feature\")\n",
    "plt.tight_layout()\n",
    "plt.show()\n",
    "plt.close()"
   ]
  },
  {
   "cell_type": "code",
   "execution_count": null,
   "metadata": {},
   "outputs": [],
   "source": [
    "# Calculate the Line flux; Line Centroid; Equivalent width\n",
    "\n",
    "line_centroid = centroid(line_spec_consub, SpectralRegion(sw_line*u.um, lw_line*u.um))\n",
    "line_flux_val = line_flux(line_spec_consub, SpectralRegion(sw_line*u.um, lw_line*u.um))\n",
    "\n",
    "equivalent_width_val = equivalent_width(line_spec_norm)\n",
    "\n",
    "# Hack to convert the line flux value into more conventional units\n",
    "# Necessary as spectra has mixed units: f_nu+lambda\n",
    "line_flux_val = (line_flux_val * u.micron).to(u.W * u.m**-2 * u.micron,\n",
    "                                              u.spectral_density(line_centroid)) / u.micron\n",
    "\n",
    "print(\"Line_centroid: {:.6} \".format(line_centroid))\n",
    "print(\"Integrated line_flux: {:.6} \".format(line_flux_val))\n",
    "print(\"Equivalent width: {:.6} \".format(equivalent_width_val))"
   ]
  },
  {
   "cell_type": "code",
   "execution_count": null,
   "metadata": {},
   "outputs": [],
   "source": [
    "# Compute the optical depth of the 10 micron feature\n",
    "\n",
    "tau = -(np.log(line_spec.flux.value / line_y_continuum.value))\n",
    "optdepth_spec = Spectrum1D(spectral_axis=line_spec.spectral_axis,\n",
    "                           flux=tau*(u.Jy/u.Jy))\n",
    "        "
   ]
  },
  {
   "cell_type": "code",
   "execution_count": null,
   "metadata": {},
   "outputs": [],
   "source": [
    "# Plot the optical depth of the 10 micron region vs wavelength\n",
    "plt.figure(figsize=(10,6))\n",
    "plt.plot(optdepth_spec.spectral_axis, optdepth_spec.flux)\n",
    "plt.xlabel(\"Wavelength ({:latex})\".format(spec.spectral_axis.unit))\n",
    "plt.ylabel('Tau') \n",
    "plt.tight_layout()\n",
    "plt.show()\n",
    "plt.close()"
   ]
  },
  {
   "cell_type": "markdown",
   "metadata": {},
   "source": [
    "**Note** At this point repeat *all* the steps above to isolate solid-state features e.g. for the forsterite feature at\n",
    "at approx 13.3 microns."
   ]
  },
  {
   "cell_type": "markdown",
   "metadata": {},
   "source": [
    "This is the end of the notebook that shows some basic analysis of a MIRI MRS spectrum using Cubeviz and Specviz.  Much more analysis is possible."
   ]
  },
  {
   "cell_type": "markdown",
   "metadata": {},
   "source": [
    "## Additional Resources\n",
    "\n",
    "- [PampelMuse](https://gitlab.gwdg.de/skamann/pampelmuse)\n",
    "- [CASA](https://casa.nrao.edu/Release3.4.0/docs/UserMan/UserManse41.html)"
   ]
  },
  {
   "cell_type": "markdown",
   "metadata": {
    "slideshow": {
     "slide_type": "slide"
    }
   },
   "source": [
    "## About this notebook\n",
    "**Author:** Olivia Jones, Project Scientist, UK ATC.\n",
    "**Updated On:** 2020-08-11\n",
    "**Later Updated On:** 2021-09-06 by B. Sargent, STScI Scientist, Space Telescope Science Institute"
   ]
  },
  {
   "cell_type": "markdown",
   "metadata": {},
   "source": [
    "***"
   ]
  },
  {
   "cell_type": "markdown",
   "metadata": {},
   "source": [
    "[Top of Page](#top)"
   ]
  }
 ],
 "metadata": {
  "kernelspec": {
   "display_name": "Python 3 (ipykernel)",
   "language": "python",
   "name": "python3"
  },
  "language_info": {
   "codemirror_mode": {
    "name": "ipython",
    "version": 3
   },
   "file_extension": ".py",
   "mimetype": "text/x-python",
   "name": "python",
   "nbconvert_exporter": "python",
   "pygments_lexer": "ipython3",
   "version": "3.8.12"
  }
 },
 "nbformat": 4,
 "nbformat_minor": 4
}
