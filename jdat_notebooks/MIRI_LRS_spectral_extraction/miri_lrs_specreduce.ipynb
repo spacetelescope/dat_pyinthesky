{
 "cells": [
  {
   "cell_type": "markdown",
   "metadata": {
    "slideshow": {
     "slide_type": "slide"
    }
   },
   "source": [
    "# MIRI LRS Optimal Spectral Extraction"
   ]
  },
  {
   "cell_type": "markdown",
   "metadata": {},
   "source": [
    "**Use case:** Extract spectra with different locations, extraction apertures, and techniques.<br>\n",
    "**Data:** Simulated MIRI LRS spectrum.<br>\n",
    "**Tools:** jwst, gwcs, matplotlib, astropy.<br>\n",
    "**Cross-intrument:** NIRSpec, MIRI.<br>\n",
    "**Documentation:** This notebook is part of a STScI's larger [post-pipeline Data Analysis Tools Ecosystem](https://jwst-docs.stsci.edu/jwst-post-pipeline-data-analysis).<br>\n",
    "\n",
    "# Introduction\n",
    "\n",
    "This notebook extracts a 1D spectra from a 2D MIRI LRS spectral observation (single image).  The goal is to provide the ability to extract spectra with different locations, extraction apertures, and techniques than are done in the JWST pipeline using the [Astropy Specreduce package](https://github.com/astropy/specreduce).\n",
    "\n",
    "The simpliest spectral extraction is \"boxcar\" where all the pixels within some fixed width centered on the source position are summed at each wavelength.  Background subtraction can be done using regions offset from the source center. You can also see the Specreduce [generic Sample Notebook](https://github.com/astropy/specreduce/blob/main/notebook_sandbox/jwst_boxcar/boxcar_extraction.ipynb).\n",
    "\n",
    "For spectra taken with a diffraction limited telescope like JWST, a modification boxcar extraction is to vary the extraction width linearly with wavelength.  Such a scaled boxcar extraction keeps the fraction of the source flux within the extraction region approximately constant with wavelength.\n",
    "\n",
    "For point sources, a PSF-weighted spectral extraction can be done.  Using the PSF to weight the extraction uses the actual PSF as a function of wavelength to optimize the extraction to the pixels with the greatest signal.  PSF-weighted extractions show the largest differences with boxcar extractions at lower S/N values."
   ]
  },
  {
   "cell_type": "markdown",
   "metadata": {},
   "source": [
    "**Note:** Corrections for the finite aperture used in all the extractions have not been applied.  Thus, the physical flux densities of all the extracted spectra are lower than the actual values."
   ]
  },
  {
   "cell_type": "markdown",
   "metadata": {
    "slideshow": {
     "slide_type": "slide"
    }
   },
   "source": [
    "# Imports\n",
    "\n",
    "- *matplotlib.pyplot* for plotting data\n",
    "- *numpy* to handle array functions\n",
    "- *astropy.io fits* for accessing FITS files\n",
    "- *astropy.visualization* for scaling image for display\n",
    "- *astropy.table Table* for reading the pipeline 1d extractions\n",
    "- *jwst datamodels* for reading/access the jwst data"
   ]
  },
  {
   "cell_type": "code",
   "execution_count": 194,
   "metadata": {
    "slideshow": {
     "slide_type": "fragment"
    }
   },
   "outputs": [],
   "source": [
    "import matplotlib.pyplot as plt\n",
    "import matplotlib as mpl\n",
    "%matplotlib inline\n",
    "\n",
    "import numpy as np\n",
    "\n",
    "from gwcs.wcstools import grid_from_bounding_box\n",
    "\n",
    "from astropy.io import fits\n",
    "from astropy.table import Table\n",
    "from astropy.visualization import simple_norm\n",
    "\n",
    "from jwst import datamodels\n",
    "\n",
    "from specreduce.extract import BoxcarExtract\n",
    "from specreduce.tracing import FlatTrace, KosmosTrace\n",
    "from specreduce.background import Background\n",
    "\n",
    "from jdaviz import Imviz\n",
    "from jdaviz import Specviz\n",
    "\n",
    "from astropy.utils.data import download_file\n",
    "import os\n",
    "\n",
    "from specutils import Spectrum1D\n",
    "from astropy import units as u"
   ]
  },
  {
   "cell_type": "markdown",
   "metadata": {},
   "source": [
    "#### Developer note: Ask Karl exactly how these functions work? Seems like all weights are equal?"
   ]
  },
  {
   "cell_type": "code",
   "execution_count": 183,
   "metadata": {},
   "outputs": [],
   "source": [
    "# useful functions\n",
    "def get_boxcar_weights(center, hwidth, npix):\n",
    "    \"\"\"\n",
    "    Compute the weights given an aperture center, half widths, and number of pixels\n",
    "    \"\"\"\n",
    "    weights = np.zeros((npix))\n",
    "    # pixels with full weight\n",
    "    fullpixels = [max(0, int(center - hwidth + 1)), min(int(center + hwidth), npix)]\n",
    "    weights[fullpixels[0] : fullpixels[1]] = 1.0\n",
    "\n",
    "    # pixels at the edges of the boxcar with partial weight\n",
    "    if fullpixels[0] > 0:\n",
    "        weights[fullpixels[0] - 1] = hwidth - (center - fullpixels[0])\n",
    "    if fullpixels[1] < npix:\n",
    "        weights[fullpixels[1]] = hwidth - (fullpixels[1] - center)\n",
    "\n",
    "    return weights\n",
    "\n",
    "\n",
    "def ap_weight_images(\n",
    "    center, width, bkg_offset, bkg_width, image_size, waves, wavescale=None\n",
    "):\n",
    "    \"\"\"\n",
    "    Create a weight image that defines the desired extraction aperture\n",
    "    and the weight image for the requested background regions\n",
    "\n",
    "    Parameters\n",
    "    ----------\n",
    "    center : float\n",
    "        center of aperture in pixels\n",
    "    width : float\n",
    "        width of apeture in pixels\n",
    "    bkg_offset : float\n",
    "        offset from the extaction edge for the background\n",
    "        never scaled for wavelength\n",
    "    bkg_width : float\n",
    "        width of background region\n",
    "        never scaled with wavelength\n",
    "    image_size : tuple with 2 elements\n",
    "        size of image\n",
    "    waves : array\n",
    "        wavelegth values\n",
    "    wavescale : float\n",
    "        scale the width with wavelength (default=None)\n",
    "        wavescale gives the reference wavelenth for the width value\n",
    "\n",
    "    Returns\n",
    "    -------\n",
    "    wimage, bkg_wimage : (2D image, 2D image)\n",
    "        wimage is the weight image defining the aperature\n",
    "        bkg_image is the weight image defining the background regions\n",
    "    \"\"\"\n",
    "    wimage = np.zeros(image_size)\n",
    "    bkg_wimage = np.zeros(image_size)\n",
    "    hwidth = 0.5 * width\n",
    "    # loop in dispersion direction and compute weights\n",
    "    for i in range(image_size[1]):\n",
    "        if wavescale is not None:\n",
    "            hwidth = 0.5 * width * (waves[i] / wavescale)\n",
    "\n",
    "        wimage[:, i] = get_boxcar_weights(center, hwidth, image_size[0])\n",
    "\n",
    "        # bkg regions\n",
    "        if (bkg_width is not None) & (bkg_offset is not None):\n",
    "            bkg_wimage[:, i] = get_boxcar_weights(\n",
    "                center - hwidth - bkg_offset, bkg_width, image_size[0]\n",
    "            )\n",
    "            bkg_wimage[:, i] += get_boxcar_weights(\n",
    "                center + hwidth + bkg_offset, bkg_width, image_size[0]\n",
    "            )\n",
    "        else:\n",
    "            bkg_wimage = None\n",
    "\n",
    "    return (wimage, bkg_wimage)"
   ]
  },
  {
   "cell_type": "markdown",
   "metadata": {},
   "source": [
    "### Devloper notes\n",
    "\n",
    "The difference between the pipeline (x1d) and the extractions done in this notebook are quite large.  Help in understanding the origin of these differences is needed.\n",
    "\n",
    "Not clear how to use the JWST pipeline `extract_1d` (quite complex) code.\n",
    "Help to determine how to use the JWST pipeline code instead of the custom code for boxcar is needed. \n",
    "\n",
    "Applying aperture corrections for the finite extraction widths is needed.  Help in how to get the needed informatinom for different (user set) extraction widths is needed. "
   ]
  },
  {
   "cell_type": "markdown",
   "metadata": {},
   "source": [
    "## Download Files"
   ]
  },
  {
   "cell_type": "code",
   "execution_count": 184,
   "metadata": {},
   "outputs": [],
   "source": [
    "calfilename = \"det_image_seq5_MIRIMAGE_P750Lexp1_cal.fits\"\n",
    "s2dfilename = \"det_image_seq5_MIRIMAGE_P750Lexp1_s2d.fits\"\n",
    "x1dfilename = \"det_image_seq5_MIRIMAGE_P750Lexp1_x1d.fits\"\n",
    "spatialprofilefilename = \"det_image_seq1_MIRIMAGE_P750Lexp1_s2d.fits\"\n",
    "mainurl = \"https://data.science.stsci.edu/redirect/JWST/jwst-data_analysis_tools/MIRI_LRS_notebook/\"\n",
    "\n",
    "calfile_dld = download_file(mainurl + calfilename)\n",
    "s2dfile_dld = download_file(mainurl + s2dfilename)\n",
    "x1dfile_dld = download_file(mainurl + x1dfilename)\n",
    "spatialprofilefile_dld = download_file(mainurl + spatialprofilefilename)"
   ]
  },
  {
   "cell_type": "code",
   "execution_count": 185,
   "metadata": {},
   "outputs": [],
   "source": [
    "# rename files so that they have the right extensions\n",
    "# required for the jwst datamodels to work\n",
    "calfile = calfile_dld + '_cal.fits'\n",
    "os.rename(calfile_dld, calfile)\n",
    "s2dfile = s2dfile_dld + '_s2d.fits'\n",
    "os.rename(s2dfile_dld, s2dfile)\n",
    "x1dfile = x1dfile_dld + '_x1d.fits'\n",
    "os.rename(x1dfile_dld, x1dfile)\n",
    "spatialprofilefile = spatialprofilefile_dld + '_s2d.fits'\n",
    "os.rename(spatialprofilefile_dld, spatialprofilefile)"
   ]
  },
  {
   "cell_type": "markdown",
   "metadata": {},
   "source": [
    "## File information\n",
    "\n",
    "The data used is a simulation of a LRS slit observation for a blackbody with a similar flux density to the star BD+60d1753, a flux calibration star.  This simulation was created with MIRISim.\n",
    "The simulated exposure was reduced using the JWST pipeline (v0.16.1) through the Detector1 and Spec2 stages.\n",
    "\n",
    "The cal file is one of the Spec2 products and is the calibration full frame image. It contains:\n",
    "\n",
    "1. (Primary): This HDU contains meta-data related to the observation and data reduction.\n",
    "2. (SCI): The calibrated image. Units are MJy/sr.\n",
    "3. (ERR): Uncertainty image.  Units are MJy/sr.\n",
    "4. (DQ): Data quality image.\n",
    "5. (VAR_POISSON): Unc. component 1: Poisson uncertainty image.  Units are (MJy/sr)^2.\n",
    "6. (VAR_RNOISE): Unc. component 2: Read Noise uncertainty image.  Units are (MJy/sr)^2.\n",
    "7. (VAR_FLAT): Unc. component 3: Flat Field uncertainty image.  Units are (MJy/sr)^2.\n",
    "8. (ASDF_METADATA): Metadata.\n",
    "\n",
    "The s2d file is one of the Spec2 products and containes the calibrated rectified cutout of the LRS Slit region.  It has:\n",
    "\n",
    "1. (Primary): This HDU contains meta-data related to the observation and data reduction.\n",
    "2. (WGT): Weight.\n",
    "3. (CON): ??\n",
    "4. (ASDF_METADATA): Metadata."
   ]
  },
  {
   "cell_type": "markdown",
   "metadata": {
    "slideshow": {
     "slide_type": "slide"
    }
   },
   "source": [
    "## Loading data"
   ]
  },
  {
   "cell_type": "code",
   "execution_count": 186,
   "metadata": {},
   "outputs": [],
   "source": [
    "# use a jwst datamodel to provide a good interface to the data and wcs info\n",
    "cal = datamodels.open(calfile)\n",
    "s2d = datamodels.open(s2dfile)"
   ]
  },
  {
   "cell_type": "markdown",
   "metadata": {},
   "source": [
    "Basic information about the image."
   ]
  },
  {
   "cell_type": "code",
   "execution_count": 187,
   "metadata": {},
   "outputs": [
    {
     "name": "stdout",
     "output_type": "stream",
     "text": [
      "cal image\n",
      "(1024, 1032)\n",
      "9.826068\n",
      "-1199.9769 64995.82\n",
      "s2d image\n",
      "(387, 44)\n",
      "603.8127\n",
      "-942.0139 63358.58\n"
     ]
    }
   ],
   "source": [
    "print(\"cal image\")\n",
    "print(cal.data.shape)\n",
    "print(np.mean(cal.data))\n",
    "print(np.amin(cal.data), np.amax(cal.data))\n",
    "print(\"s2d image\")\n",
    "print(s2d.data.shape)\n",
    "print(np.mean(s2d.data))\n",
    "print(np.amin(s2d.data), np.amax(s2d.data))"
   ]
  },
  {
   "cell_type": "markdown",
   "metadata": {},
   "source": [
    "Display the full 2D image"
   ]
  },
  {
   "cell_type": "code",
   "execution_count": 188,
   "metadata": {},
   "outputs": [
    {
     "data": {
      "text/plain": [
       "Text(0.5, 1.0, 'The full image from the MIRI IMAGER detector')"
      ]
     },
     "execution_count": 188,
     "metadata": {},
     "output_type": "execute_result"
    },
    {
     "data": {
      "image/png": "[encoded data removed]",
      "text/plain": [
       "<Figure size 432x432 with 1 Axes>"
      ]
     },
     "metadata": {
      "needs_background": "light"
     },
     "output_type": "display_data"
    }
   ],
   "source": [
    "norm_data = simple_norm(cal.data, 'sqrt')\n",
    "plt.figure(figsize=(6, 6))\n",
    "plt.imshow(cal.data, norm=norm_data, origin=\"lower\")\n",
    "plt.title(\"The full image from the MIRI IMAGER detector\")"
   ]
  },
  {
   "cell_type": "markdown",
   "metadata": {},
   "source": [
    "Display the LRS Slit region only (use s2d)"
   ]
  },
  {
   "cell_type": "code",
   "execution_count": 211,
   "metadata": {},
   "outputs": [
    {
     "data": {
      "text/plain": [
       "Text(0.5, 1.0, 'The LRS region')"
      ]
     },
     "execution_count": 211,
     "metadata": {},
     "output_type": "execute_result"
    },
    {
     "data": {
      "image/png": "[encoded data removed]",
      "text/plain": [
       "<Figure size 720x216 with 1 Axes>"
      ]
     },
     "metadata": {
      "needs_background": "light"
     },
     "output_type": "display_data"
    }
   ],
   "source": [
    "# transpose to make it display better\n",
    "image = np.transpose(s2d.data)\n",
    "norm_data = simple_norm(image, \"sqrt\")\n",
    "plt.figure(figsize=(10, 3))\n",
    "plt.imshow(image, norm=norm_data, origin=\"lower\")\n",
    "plt.title(\"The LRS region\")"
   ]
  },
  {
   "cell_type": "markdown",
   "metadata": {},
   "source": [
    "#### View the 2D Spectrum in Imviz and get the center of the cross-dispersion "
   ]
  },
  {
   "cell_type": "code",
   "execution_count": 190,
   "metadata": {},
   "outputs": [
    {
     "data": {
      "application/vnd.jupyter.widget-view+json": {
       "model_id": "9c96444859994ccdbf4e79a2cb7d6363",
       "version_major": 2,
       "version_minor": 0
      },
      "text/plain": [
       "Application(config='imviz', events=['call_viewer_method', 'close_snackbar_message', 'data_item_selected', 'des…"
      ]
     },
     "metadata": {},
     "output_type": "display_data"
    }
   ],
   "source": [
    "imviz = Imviz()\n",
    "imviz.app"
   ]
  },
  {
   "cell_type": "code",
   "execution_count": 191,
   "metadata": {},
   "outputs": [],
   "source": [
    "imviz.load_data(np.transpose(s2d.data))"
   ]
  },
  {
   "cell_type": "code",
   "execution_count": 192,
   "metadata": {},
   "outputs": [],
   "source": [
    "viewer = imviz.default_viewer\n",
    "viewer.cuts = '95%'"
   ]
  },
  {
   "cell_type": "markdown",
   "metadata": {},
   "source": [
    "#### View the JWST pipeline 1D extraction in Specviz"
   ]
  },
  {
   "cell_type": "code",
   "execution_count": 200,
   "metadata": {},
   "outputs": [
    {
     "name": "stderr",
     "output_type": "stream",
     "text": [
      "2022-04-26 16:59:24,732 - stpipe - WARNING - /Users/ofox/miniconda3/envs/lrsoptimal/lib/python3.8/site-packages/specutils/io/default_loaders/jwst_reader.py:338: UserWarning: SRCTYPE is missing or UNKNOWN in JWST x1d loader. Defaulting to srctype=\"POINT\".\n",
      "  warnings.warn('SRCTYPE is missing or UNKNOWN in JWST x1d loader. '\n",
      "\n"
     ]
    }
   ],
   "source": [
    "# Create a spectrum1d\n",
    "jpipe_x1d = Spectrum1D.read(x1dfile)"
   ]
  },
  {
   "cell_type": "code",
   "execution_count": 205,
   "metadata": {},
   "outputs": [
    {
     "data": {
      "text/plain": [
       "<Spectrum1D(flux=<Quantity [ 0.00000000e+00,  0.00000000e+00,  0.00000000e+00,\n",
       "            0.00000000e+00,  0.00000000e+00,  0.00000000e+00,\n",
       "            0.00000000e+00,  0.00000000e+00,  0.00000000e+00,\n",
       "            0.00000000e+00,  0.00000000e+00,  0.00000000e+00,\n",
       "            0.00000000e+00,  0.00000000e+00,  0.00000000e+00,\n",
       "            0.00000000e+00,  0.00000000e+00,  0.00000000e+00,\n",
       "            0.00000000e+00,  0.00000000e+00,  0.00000000e+00,\n",
       "            0.00000000e+00,  0.00000000e+00,  0.00000000e+00,\n",
       "            0.00000000e+00,  0.00000000e+00,  0.00000000e+00,\n",
       "            0.00000000e+00,  0.00000000e+00,  0.00000000e+00,\n",
       "            0.00000000e+00,  0.00000000e+00,  0.00000000e+00,\n",
       "            0.00000000e+00,  0.00000000e+00,  0.00000000e+00,\n",
       "            0.00000000e+00,  0.00000000e+00,  0.00000000e+00,\n",
       "            0.00000000e+00,  0.00000000e+00,  0.00000000e+00,\n",
       "            0.00000000e+00,  0.00000000e+00,  0.00000000e+00,\n",
       "            0.00000000e+00,  0.00000000e+00,  0.00000000e+00,\n",
       "            0.00000000e+00,  0.00000000e+00,  0.00000000e+00,\n",
       "            0.00000000e+00,  0.00000000e+00,  0.00000000e+00,\n",
       "            0.00000000e+00,  0.00000000e+00,  0.00000000e+00,\n",
       "            0.00000000e+00,  0.00000000e+00,  0.00000000e+00,\n",
       "            0.00000000e+00,  0.00000000e+00,  0.00000000e+00,\n",
       "            0.00000000e+00,  0.00000000e+00,  0.00000000e+00,\n",
       "            0.00000000e+00,  0.00000000e+00,  0.00000000e+00,\n",
       "            0.00000000e+00,  0.00000000e+00,  0.00000000e+00,\n",
       "            0.00000000e+00,  0.00000000e+00,  0.00000000e+00,\n",
       "            0.00000000e+00,  0.00000000e+00,  0.00000000e+00,\n",
       "            0.00000000e+00,  0.00000000e+00,  0.00000000e+00,\n",
       "            0.00000000e+00,  0.00000000e+00,  0.00000000e+00,\n",
       "            0.00000000e+00,  0.00000000e+00,  0.00000000e+00,\n",
       "            0.00000000e+00,  0.00000000e+00,  0.00000000e+00,\n",
       "            0.00000000e+00,  0.00000000e+00,  0.00000000e+00,\n",
       "            0.00000000e+00,  0.00000000e+00,  0.00000000e+00,\n",
       "            0.00000000e+00,  0.00000000e+00,  0.00000000e+00,\n",
       "            0.00000000e+00,  0.00000000e+00,  0.00000000e+00,\n",
       "            0.00000000e+00,  0.00000000e+00,  0.00000000e+00,\n",
       "            0.00000000e+00,  0.00000000e+00,  0.00000000e+00,\n",
       "            0.00000000e+00,  0.00000000e+00,  0.00000000e+00,\n",
       "            0.00000000e+00,  0.00000000e+00,  0.00000000e+00,\n",
       "            0.00000000e+00,  0.00000000e+00,  0.00000000e+00,\n",
       "            0.00000000e+00,  0.00000000e+00,  0.00000000e+00,\n",
       "            0.00000000e+00,  0.00000000e+00,  0.00000000e+00,\n",
       "            0.00000000e+00,  0.00000000e+00,  0.00000000e+00,\n",
       "            0.00000000e+00,  0.00000000e+00,  0.00000000e+00,\n",
       "            0.00000000e+00,  0.00000000e+00,  0.00000000e+00,\n",
       "            0.00000000e+00,  0.00000000e+00,  0.00000000e+00,\n",
       "            0.00000000e+00,  0.00000000e+00,  0.00000000e+00,\n",
       "            1.52071852e-06,  4.67505855e-05,  3.62607529e-04,\n",
       "           -2.66547177e-04, -1.14896073e-04, -2.68342762e-04,\n",
       "           -3.32401230e-04, -4.74456661e-04, -3.85328828e-04,\n",
       "            2.40703739e-04, -1.84394947e-04, -4.43634753e-04,\n",
       "           -2.68209234e-04, -6.59361104e-05, -1.85227243e-04,\n",
       "            7.78729347e-05, -1.94797978e-04,  4.90232079e-05,\n",
       "           -5.95762980e-06, -1.53095564e-04, -2.52452739e-04,\n",
       "            6.23529063e-05, -6.96029022e-05, -1.58087170e-04,\n",
       "           -1.78880679e-04,  2.27343957e-04,  1.72829734e-04,\n",
       "            4.74042156e-05, -1.06882145e-04,  1.50074880e-05,\n",
       "           -9.50224823e-05, -3.78407463e-06, -6.75506659e-05,\n",
       "            9.63666993e-05, -7.96102863e-06,  6.79353290e-05,\n",
       "           -1.19712794e-04,  1.73751502e-05, -1.41843960e-04,\n",
       "           -7.34078048e-05,  1.44313412e-05, -1.54933984e-04,\n",
       "           -4.00321742e-06, -1.65490475e-04, -1.93958359e-04,\n",
       "            6.91044273e-05, -1.54783583e-04, -1.22689737e-04,\n",
       "           -1.19669222e-04, -2.57682941e-04,  9.19801757e-05,\n",
       "           -1.67156647e-05, -1.11881679e-04, -1.40377656e-04,\n",
       "            2.33825833e-05, -3.91149537e-05,  5.97603157e-05,\n",
       "            4.86585108e-07, -1.59685331e-04, -2.23596680e-06,\n",
       "           -1.75114071e-05,  6.97442682e-05, -7.89669378e-05,\n",
       "            2.01833069e-05, -6.70775564e-05,  1.60058009e-04,\n",
       "           -2.18990786e-06,  3.18204827e-05,  1.94594633e-07,\n",
       "           -6.60905335e-06, -2.35696377e-05,  1.51029661e-04,\n",
       "           -2.15365156e-05, -4.07960919e-05, -2.24066137e-05,\n",
       "            5.13793138e-05, -1.34620936e-05, -2.72886158e-05,\n",
       "           -4.94027488e-06, -9.52211073e-06,  6.28808527e-05,\n",
       "           -6.34011928e-05, -3.59648371e-05,  8.51917621e-05,\n",
       "            5.35366508e-05,  4.17304857e-05,  2.00610849e-05,\n",
       "           -4.74369466e-05,  2.99850787e-05,  2.85818077e-05,\n",
       "            8.33643528e-05,  1.34869904e-04,  7.93282236e-05,\n",
       "            5.34474106e-05,  7.65477092e-05,  1.14208226e-04,\n",
       "            9.72364012e-05,  5.29017778e-05,  2.28074407e-05,\n",
       "           -1.11210362e-04,  2.06904629e-05,  5.52033289e-05,\n",
       "            1.63218343e-05,  5.20002868e-05,  8.61080651e-06,\n",
       "            3.35317933e-05,  7.60491794e-05,  2.75466597e-05,\n",
       "            1.01348810e-04,  8.11075730e-05,  8.51848828e-05,\n",
       "            1.69130343e-05,  1.05427165e-04,  8.43022454e-05,\n",
       "            8.14415775e-05,  8.67096075e-05,  9.21718257e-05,\n",
       "            8.17609762e-05,  9.41584831e-05,  1.42128296e-04,\n",
       "            7.70232267e-05,  9.55485394e-05,  1.08279564e-04,\n",
       "            1.41997126e-04,  1.09041602e-04,  1.21772940e-04,\n",
       "            1.21383677e-04,  9.65934923e-05,  6.23574458e-05,\n",
       "            1.05775193e-04,  5.20308849e-05,  8.22975514e-05,\n",
       "            1.66180007e-04,  7.87622740e-05,  1.05755141e-04,\n",
       "            1.13197281e-04,  1.22330601e-04,  1.14360594e-04,\n",
       "            1.47524861e-04,  1.46709788e-04,  1.24830267e-04,\n",
       "            2.06252428e-04,  1.11966831e-04,  1.71633832e-04,\n",
       "            7.80098316e-05,  1.57549405e-04,  1.52568583e-04,\n",
       "            1.43245647e-04,  1.29528840e-04,  1.56522763e-04,\n",
       "            1.25666565e-04,  1.96738981e-04,  1.89358151e-04,\n",
       "            1.52250569e-04,  1.96756947e-04,  2.39279623e-04,\n",
       "            1.93683459e-04,  1.94833722e-04,  2.06068842e-04,\n",
       "            2.39987316e-04,  1.62424619e-04,  1.80321416e-04,\n",
       "            1.89184208e-04,  2.12361532e-04,  1.76310657e-04,\n",
       "            2.02121677e-04,  1.93629871e-04,  2.31977645e-04,\n",
       "            2.28717767e-04,  2.50787141e-04,  2.66451769e-04,\n",
       "            2.85695396e-04,  2.49736099e-04,  2.49904563e-04,\n",
       "            2.57015647e-04,  2.77151815e-04,  2.54466777e-04,\n",
       "            2.59449372e-04,  3.09065144e-04,  3.54867927e-04,\n",
       "            3.35329720e-04,  3.38019000e-04,  3.36307194e-04,\n",
       "            3.43348648e-04,  3.44883693e-04,  3.92765359e-04,\n",
       "            3.83196467e-04,  4.05311179e-04,  4.23367574e-04,\n",
       "            4.47450242e-04,  4.74573900e-04,  4.96415590e-04,\n",
       "            5.26108182e-04,  5.51157669e-04,  5.72744700e-04,\n",
       "            6.08437299e-04,  5.83640902e-04,  6.07037664e-04,\n",
       "            6.64809539e-04,  7.04669218e-04,  7.27544383e-04,\n",
       "            7.51216358e-04,  7.47592806e-04,  8.25020081e-04,\n",
       "            8.35114475e-04,  8.97030409e-04,  9.64537281e-04,\n",
       "            1.04301700e-03,  1.05713179e-03,  1.10850482e-03,\n",
       "            1.09893933e-03,  1.20783135e-03,  1.21100697e-03,\n",
       "            1.27533576e-03,  1.25943793e-03,  1.34359726e-03,\n",
       "            1.45110164e-03,  1.67375735e-03,  1.76252941e-03,\n",
       "            1.95510222e-03,  2.03254820e-03,  2.15784438e-03,\n",
       "            2.27161271e-03,  2.50207539e-03,  2.61479456e-03,\n",
       "            2.97156128e-03,  3.13557433e-03,  3.67880295e-03,\n",
       "            3.84031417e-03,  3.85862818e-03,  4.01313880e-03,\n",
       "            4.34801970e-03,  4.18439994e-03,  3.80370609e-03,\n",
       "            3.40548790e-03,  2.40209680e-04,  3.58796177e-06,\n",
       "            0.00000000e+00,  0.00000000e+00,  0.00000000e+00,\n",
       "            0.00000000e+00,  0.00000000e+00,  0.00000000e+00,\n",
       "            0.00000000e+00,  0.00000000e+00,  0.00000000e+00,\n",
       "            0.00000000e+00,  0.00000000e+00,  0.00000000e+00] Jy>, spectral_axis=<SpectralAxis [14.37702594, 14.36156365, 14.34608642, 14.33059405, 14.31508636,\n",
       "   14.29956316, 14.28402427, 14.26846951, 14.25289869, 14.23731161,\n",
       "   14.2217081 , 14.20608797, 14.19045104, 14.17479711, 14.15912601,\n",
       "   14.14343754, 14.12773152, 14.11200777, 14.0962661 , 14.08050632,\n",
       "   14.06472825, 14.0489317 , 14.03311648, 14.01728242, 14.00142932,\n",
       "   13.985557  , 13.96966527, 13.95375395, 13.93782285, 13.92187178,\n",
       "   13.90590056, 13.88990901, 13.87389693, 13.85786415, 13.84181047,\n",
       "   13.82573571, 13.80963969, 13.79352222, 13.7773831 , 13.76122217,\n",
       "   13.74503922, 13.72883409, 13.71260657, 13.69635648, 13.68008364,\n",
       "   13.66378787, 13.64746897, 13.63112676, 13.61476105, 13.59837167,\n",
       "   13.58195842, 13.56552111, 13.54905957, 13.5325736 , 13.51606302,\n",
       "   13.49952764, 13.48296728, 13.46638176, 13.44977088, 13.43313446,\n",
       "   13.41647232, 13.39978426, 13.38307011, 13.36632968, 13.34956277,\n",
       "   13.33276921, 13.31594882, 13.29910139, 13.28222676, 13.26532472,\n",
       "   13.24839511, 13.23143772, 13.21445238, 13.1974389 , 13.18039709,\n",
       "   13.16332677, 13.14622775, 13.12909985, 13.11194287, 13.09475664,\n",
       "   13.07754097, 13.06029567, 13.04302056, 13.02571545, 13.00838015,\n",
       "   12.99101449, 12.97361826, 12.9561913 , 12.9387334 , 12.92124439,\n",
       "   12.90372409, 12.88617229, 12.86858883, 12.8509735 , 12.83332614,\n",
       "   12.81564654, 12.79793453, 12.78018992, 12.76241253, 12.74460216,\n",
       "   12.72675863, 12.70888176, 12.69097136, 12.67302725, 12.65504923,\n",
       "   12.63703712, 12.61899075, 12.60090991, 12.58279443, 12.56464412,\n",
       "   12.54645879, 12.52823826, 12.50998235, 12.49169085, 12.4733636 ,\n",
       "   12.45500041, 12.43660108, 12.41816544, 12.39969329, 12.38118446,\n",
       "   12.36263875, 12.34405598, 12.32543596, 12.30677851, 12.28808345,\n",
       "   12.26935058, 12.25057972, 12.23177069, 12.21292329, 12.19403735,\n",
       "   12.17511267, 12.15614908, 12.13714639, 12.1181044 , 12.09902294,\n",
       "   12.07990181, 12.06074084, 12.04153983, 12.02229861, 12.00301698,\n",
       "   11.98369476, 11.96433176, 11.9449278 , 11.92548269, 11.90599625,\n",
       "   11.88646829, 11.86689862, 11.84728706, 11.82763343, 11.80793753,\n",
       "   11.78819918, 11.7684182 , 11.74859439, 11.72872758, 11.70881758,\n",
       "   11.6888642 , 11.66886725, 11.64882656, 11.62874193, 11.60861317,\n",
       "   11.58844012, 11.56822256, 11.54796033, 11.52765324, 11.50730109,\n",
       "   11.48690371, 11.4664609 , 11.44597249, 11.42543829, 11.4048581 ,\n",
       "   11.38423175, 11.36355905, 11.34283981, 11.32207385, 11.30126097,\n",
       "   11.28040101, 11.25949376, 11.23853905, 11.21753669, 11.19648649,\n",
       "   11.17538826, 11.15424183, 11.133047  , 11.11180359, 11.09051141,\n",
       "   11.06917028, 11.04778001, 11.02634042, 11.00485131, 10.98331251,\n",
       "   10.96172383, 10.94008508, 10.91839608, 10.89665664, 10.8748665 ,\n",
       "   10.85302509, 10.83113167, 10.80918548, 10.78718575, 10.76513171,\n",
       "   10.74302261, 10.72085768, 10.69863614, 10.67635725, 10.65402023,\n",
       "   10.63162431, 10.60916874, 10.58665276, 10.56407558, 10.54143646,\n",
       "   10.51873463, 10.49596931, 10.47313975, 10.45024519, 10.42728485,\n",
       "   10.40425798, 10.3811638 , 10.35800156, 10.33477049, 10.31146982,\n",
       "   10.2880988 , 10.26465665, 10.24114261, 10.21755592, 10.19389581,\n",
       "   10.17016152, 10.14635228, 10.12246733, 10.0985059 , 10.07446723,\n",
       "   10.05035056, 10.02615512, 10.00188014,  9.97752486,  9.95308852,\n",
       "    9.92857036,  9.90396959,  9.87928548,  9.85451724,  9.82966411,\n",
       "    9.80472533,  9.77970014,  9.75458777,  9.72938745,  9.70409843,\n",
       "    9.67871993,  9.65325119,  9.62769145,  9.60203994,  9.5762959 ,\n",
       "    9.55045856,  9.52452716,  9.49850093,  9.47237912,  9.44616095,\n",
       "    9.41984566,  9.39343248,  9.36692066,  9.34030942,  9.31359801,\n",
       "    9.28678565,  9.25987159,  9.23285506,  9.20573529,  9.17851151,\n",
       "    9.15118298,  9.12374891,  9.09620855,  9.06856113,  9.04080589,\n",
       "    9.01294205,  8.98496887,  8.95688557,  8.92869139,  8.90038556,\n",
       "    8.87196731,  8.8434359 ,  8.81479054,  8.78603048,  8.75715495,\n",
       "    8.72816319,  8.69905442,  8.6698279 ,  8.64048285,  8.6110185 ,\n",
       "    8.5814341 ,  8.55172888,  8.52190207,  8.49195291,  8.46188063,\n",
       "    8.43168448,  8.40136333,  8.37091451,  8.34033429,  8.30961881,\n",
       "    8.27876417,  8.24776651,  8.21662194,  8.18532658,  8.15387656,\n",
       "    8.12226798,  8.09049698,  8.05855967,  8.02645218,  7.99417062,\n",
       "    7.96171111,  7.92906977,  7.89624273,  7.8632261 ,  7.83001601,\n",
       "    7.79660857,  7.76299991,  7.72918613,  7.69516338,  7.66092776,\n",
       "    7.62647539,  7.59180241,  7.55690491,  7.52177903,  7.48642089,\n",
       "    7.45082661,  7.4149923 ,  7.37891408,  7.34258809,  7.30601043,\n",
       "    7.26917723,  7.2320846 ,  7.19472868,  7.15710557,  7.1192114 ,\n",
       "    7.08104229,  7.04259435,  7.00386372,  6.9648465 ,  6.92553882,\n",
       "    6.8859368 ,  6.84603656,  6.80583422,  6.7653259 ,  6.72450607,\n",
       "    6.68336168,  6.64187428,  6.60002445,  6.5577928 ,  6.51515994,\n",
       "    6.47210645,  6.42861295,  6.38466002,  6.34022828,  6.29529832,\n",
       "    6.24985073,  6.20386613,  6.15732511,  6.11020827,  6.06249621,\n",
       "    6.01416953,  5.96520883,  5.91559471,  5.86530777,  5.81432861,\n",
       "    5.76263783,  5.71021603,  5.65704381,  5.60309442,  5.54830721,\n",
       "    5.49259606,  5.43587024,  5.37803907,  5.31901185,  5.25869787,\n",
       "    5.19700644,  5.13384685,  5.06912841,  5.00276043,  4.93465219,\n",
       "    4.86466388,  4.79242792,  4.7174013 ,  4.63900938,  4.55667749,\n",
       "    4.46983099,  4.37741005,  4.27609906,  4.16082508,  4.02619621,\n",
       "    3.86682056,  3.67730621] um>, uncertainty=StdDevUncertainty([0., 0., 0., 0., 0., 0., 0., 0., 0., 0., 0., 0., 0., 0.,\n",
       "                   0., 0., 0., 0., 0., 0., 0., 0., 0., 0., 0., 0., 0., 0.,\n",
       "                   0., 0., 0., 0., 0., 0., 0., 0., 0., 0., 0., 0., 0., 0.,\n",
       "                   0., 0., 0., 0., 0., 0., 0., 0., 0., 0., 0., 0., 0., 0.,\n",
       "                   0., 0., 0., 0., 0., 0., 0., 0., 0., 0., 0., 0., 0., 0.,\n",
       "                   0., 0., 0., 0., 0., 0., 0., 0., 0., 0., 0., 0., 0., 0.,\n",
       "                   0., 0., 0., 0., 0., 0., 0., 0., 0., 0., 0., 0., 0., 0.,\n",
       "                   0., 0., 0., 0., 0., 0., 0., 0., 0., 0., 0., 0., 0., 0.,\n",
       "                   0., 0., 0., 0., 0., 0., 0., 0., 0., 0., 0., 0., 0., 0.,\n",
       "                   0., 0., 0., 0., 0., 0., 0., 0., 0., 0., 0., 0., 0., 0.,\n",
       "                   0., 0., 0., 0., 0., 0., 0., 0., 0., 0., 0., 0., 0., 0.,\n",
       "                   0., 0., 0., 0., 0., 0., 0., 0., 0., 0., 0., 0., 0., 0.,\n",
       "                   0., 0., 0., 0., 0., 0., 0., 0., 0., 0., 0., 0., 0., 0.,\n",
       "                   0., 0., 0., 0., 0., 0., 0., 0., 0., 0., 0., 0., 0., 0.,\n",
       "                   0., 0., 0., 0., 0., 0., 0., 0., 0., 0., 0., 0., 0., 0.,\n",
       "                   0., 0., 0., 0., 0., 0., 0., 0., 0., 0., 0., 0., 0., 0.,\n",
       "                   0., 0., 0., 0., 0., 0., 0., 0., 0., 0., 0., 0., 0., 0.,\n",
       "                   0., 0., 0., 0., 0., 0., 0., 0., 0., 0., 0., 0., 0., 0.,\n",
       "                   0., 0., 0., 0., 0., 0., 0., 0., 0., 0., 0., 0., 0., 0.,\n",
       "                   0., 0., 0., 0., 0., 0., 0., 0., 0., 0., 0., 0., 0., 0.,\n",
       "                   0., 0., 0., 0., 0., 0., 0., 0., 0., 0., 0., 0., 0., 0.,\n",
       "                   0., 0., 0., 0., 0., 0., 0., 0., 0., 0., 0., 0., 0., 0.,\n",
       "                   0., 0., 0., 0., 0., 0., 0., 0., 0., 0., 0., 0., 0., 0.,\n",
       "                   0., 0., 0., 0., 0., 0., 0., 0., 0., 0., 0., 0., 0., 0.,\n",
       "                   0., 0., 0., 0., 0., 0., 0., 0., 0., 0., 0., 0., 0., 0.,\n",
       "                   0., 0., 0., 0., 0., 0., 0., 0., 0., 0., 0., 0., 0., 0.,\n",
       "                   0., 0., 0., 0., 0., 0., 0., 0., 0., 0., 0., 0., 0., 0.,\n",
       "                   0., 0., 0., 0., 0., 0., 0., 0., 0.]))>"
      ]
     },
     "execution_count": 205,
     "metadata": {},
     "output_type": "execute_result"
    }
   ],
   "source": [
    "jpipe_x1d"
   ]
  },
  {
   "cell_type": "code",
   "execution_count": 207,
   "metadata": {},
   "outputs": [
    {
     "data": {
      "application/vnd.jupyter.widget-view+json": {
       "model_id": "0886e29336fe4d2890441c9b3bcc8309",
       "version_major": 2,
       "version_minor": 0
      },
      "text/plain": [
       "Application(config='specviz', events=['call_viewer_method', 'close_snackbar_message', 'data_item_selected', 'd…"
      ]
     },
     "metadata": {},
     "output_type": "display_data"
    }
   ],
   "source": [
    "specviz = Specviz()\n",
    "specviz.app"
   ]
  },
  {
   "cell_type": "code",
   "execution_count": 208,
   "metadata": {},
   "outputs": [],
   "source": [
    "specviz.load_spectrum(jpipe_x1d)"
   ]
  },
  {
   "cell_type": "raw",
   "metadata": {},
   "source": [
    "# for reference read in the JWST pipeline extracted spectrum\n",
    "jpipe_x1d = Table.read(x1dfile, hdu=1)\n",
    "print(jpipe_x1d.columns)\n",
    "# plot\n",
    "fig, ax = plt.subplots(figsize=(10, 6))\n",
    "ax.plot(jpipe_x1d['WAVELENGTH'], jpipe_x1d['FLUX'], 'k-', label=\"jpipe_x1d\")\n",
    "ax.set_title(\"JWST Pipeline x1d extracted spectrum\")\n",
    "ax.set_xlabel(\"Wavelength\")\n",
    "ax.set_ylabel(\"Flux Density [Jy]\")\n",
    "ax.set_yscale(\"log\")"
   ]
  },
  {
   "cell_type": "markdown",
   "metadata": {},
   "source": [
    "# Boxcar Extraction\n",
    "\n",
    "Extract a 1D spectrum using a simple boxcar.  Basically collapse the spectrum in the cross-dispersion direction over a specified number of pixels.\n",
    "\n",
    "#### Developer note: Allow for a bad pixel mask"
   ]
  },
  {
   "cell_type": "markdown",
   "metadata": {},
   "source": [
    "### Fixed width boxcar"
   ]
  },
  {
   "cell_type": "markdown",
   "metadata": {},
   "source": [
    "Define extraction parameters based on interaction in Imviz window above"
   ]
  },
  {
   "cell_type": "code",
   "execution_count": 210,
   "metadata": {},
   "outputs": [],
   "source": [
    "ext_center = 30\n",
    "ext_width = 8\n",
    "bkg_sep = 4\n",
    "bkg_width = 2"
   ]
  },
  {
   "cell_type": "markdown",
   "metadata": {},
   "source": [
    "Plot cross-disperion cut showing the extraction parameters\n",
    "\n",
    "#### Develepor Note: Place trace back into Specviz2d/Imviz/Etc"
   ]
  },
  {
   "cell_type": "markdown",
   "metadata": {},
   "source": [
    "fig, ax = plt.subplots(figsize=(6, 6))\n",
    "y = np.arange(image.shape[0])\n",
    "ax.plot(y, image[:,300], 'k-')\n",
    "mm = np.array([ext_center, ext_center])\n",
    "mm_y = ax.get_ylim()\n",
    "ax.plot(mm, mm_y, 'b--')\n",
    "ax.plot(mm - ext_width/2., mm_y, 'g:')\n",
    "ax.plot(mm + ext_width/2., mm_y, 'g:')\n",
    "ax.set_title(\"Cross-dispersion Cut at Pixel=300\")"
   ]
  },
  {
   "cell_type": "code",
   "execution_count": 213,
   "metadata": {},
   "outputs": [
    {
     "data": {
      "text/plain": [
       "Text(0.5, 1.0, 'Cross-dispersion Cut at Pixel=300')"
      ]
     },
     "execution_count": 213,
     "metadata": {},
     "output_type": "execute_result"
    },
    {
     "data": {
      "image/png": "[encoded data removed]",
      "text/plain": [
       "<Figure size 720x432 with 1 Axes>"
      ]
     },
     "metadata": {
      "needs_background": "light"
     },
     "output_type": "display_data"
    }
   ],
   "source": [
    "# Plot along cross-disperion cut showing the extraction parameters\n",
    "fig, ax = plt.subplots(figsize=(10, 6))\n",
    "y = np.arange(image.shape[0])\n",
    "ax.plot(y, image[:,300], 'k-')\n",
    "mm = np.array([ext_center, ext_center])\n",
    "mm_y = ax.get_ylim()\n",
    "\n",
    "# extraction region\n",
    "ax.axvspan(ext_center - ext_width/2., ext_center + ext_width/2., color='green', alpha=0.1)\n",
    "ax.plot(mm, mm_y, 'b--')\n",
    "ax.plot(mm - ext_width/2., mm_y, 'g:')\n",
    "ax.plot(mm + ext_width/2., mm_y, 'g:')\n",
    "\n",
    "# background region, symmetric on both sides of extraction region\n",
    "ax.axvspan(ext_center - bkg_sep - bkg_width/2., ext_center - bkg_sep + bkg_width/2., color='red', alpha=0.1)\n",
    "ax.plot(mm - bkg_sep - bkg_width/2., mm_y, 'r:')\n",
    "ax.plot(mm - bkg_sep + bkg_width/2., mm_y, 'r:')\n",
    "\n",
    "ax.axvspan(ext_center + bkg_sep - bkg_width/2., ext_center + bkg_sep + bkg_width/2., color='red', alpha=0.1)\n",
    "ax.plot(mm + bkg_sep - bkg_width/2., mm_y, 'r:')\n",
    "ax.plot(mm + bkg_sep + bkg_width/2., mm_y, 'r:')\n",
    "\n",
    "ax.set_title(\"Cross-dispersion Cut at Pixel=300\")"
   ]
  },
  {
   "cell_type": "markdown",
   "metadata": {},
   "source": [
    "## Background Subtraction"
   ]
  },
  {
   "cell_type": "code",
   "execution_count": 214,
   "metadata": {},
   "outputs": [],
   "source": [
    "# extract the background using custom individual traces\n",
    "trace = FlatTrace(image, ext_center)\n",
    "bg = Background(image, [trace-bkg_sep, trace+bkg_sep], width=bkg_width)\n",
    "\n",
    "# alternatively, call two_sided class, which does the same as above \n",
    "#bg = Background.two_sided(image, trace, bkg_sep, width=bkg_width)\n",
    "# or in the place of any trace, an int/float can be passed which resolves to a FlatTrace\n",
    "#bg = Background.two_sided(image, ext_center, bkg_sep, width=bkg_width)\n",
    "\n",
    "# or for single sided:\n",
    "# bg = Background.one_sided(image, trace, bkg_sep, width=bkg_width)\n",
    "# bg = Background.one_sided(image, trace, -bkg_sep, width=bkg_width)"
   ]
  },
  {
   "cell_type": "code",
   "execution_count": 215,
   "metadata": {},
   "outputs": [
    {
     "data": {
      "text/plain": [
       "Text(0.5, 1.0, 'slit[0] slice')"
      ]
     },
     "execution_count": 215,
     "metadata": {},
     "output_type": "execute_result"
    },
    {
     "data": {
      "image/png": "[encoded data removed]",
      "text/plain": [
       "<Figure size 1080x1080 with 1 Axes>"
      ]
     },
     "metadata": {
      "needs_background": "light"
     },
     "output_type": "display_data"
    }
   ],
   "source": [
    "# view the background weighted image\n",
    "plt.figure(figsize=(15, 15))\n",
    "plt.imshow(bg.bkg_wimage, origin=\"lower\")\n",
    "plt.title(\"slit[0] slice\")"
   ]
  },
  {
   "cell_type": "code",
   "execution_count": 218,
   "metadata": {},
   "outputs": [
    {
     "data": {
      "text/plain": [
       "Text(0.5, 1.0, 'slit[0] slice')"
      ]
     },
     "execution_count": 218,
     "metadata": {},
     "output_type": "execute_result"
    },
    {
     "data": {
      "image/png": "[encoded data removed]",
      "text/plain": [
       "<Figure size 1080x1080 with 1 Axes>"
      ]
     },
     "metadata": {
      "needs_background": "light"
     },
     "output_type": "display_data"
    }
   ],
   "source": [
    "# view the background image\n",
    "plt.figure(figsize=(15, 15))\n",
    "plt.imshow(bg.bkg_image(), norm=norm_data, origin=\"lower\")\n",
    "plt.title(\"slit[0] slice\")"
   ]
  },
  {
   "cell_type": "code",
   "execution_count": 219,
   "metadata": {},
   "outputs": [
    {
     "data": {
      "text/plain": [
       "Text(0.5, 1.0, 'slit[0] slice')"
      ]
     },
     "execution_count": 219,
     "metadata": {},
     "output_type": "execute_result"
    },
    {
     "data": {
      "image/png": "[encoded data removed]",
      "text/plain": [
       "<Figure size 1080x1080 with 1 Axes>"
      ]
     },
     "metadata": {
      "needs_background": "light"
     },
     "output_type": "display_data"
    }
   ],
   "source": [
    "# view the background-subtracted image\n",
    "plt.figure(figsize=(15, 15))\n",
    "plt.imshow(bg.sub_image(), norm=norm_data, origin=\"lower\")\n",
    "plt.title(\"slit[0] slice\")"
   ]
  },
  {
   "cell_type": "markdown",
   "metadata": {},
   "source": [
    "Note that when using median, partial pixel weights are not supported:"
   ]
  },
  {
   "cell_type": "code",
   "execution_count": 220,
   "metadata": {},
   "outputs": [
    {
     "data": {
      "text/plain": [
       "Text(0.5, 1.0, 'slit[0] slice')"
      ]
     },
     "execution_count": 220,
     "metadata": {},
     "output_type": "execute_result"
    },
    {
     "data": {
      "image/png": "[encoded data removed]",
      "text/plain": [
       "<Figure size 1080x1080 with 1 Axes>"
      ]
     },
     "metadata": {
      "needs_background": "light"
     },
     "output_type": "display_data"
    }
   ],
   "source": [
    "bg_med = Background.two_sided(image, ext_center, bkg_sep, width=bkg_width, statistic='median')\n",
    "plt.figure(figsize=(15, 15))\n",
    "plt.imshow(bg_med.bkg_wimage, origin=\"lower\")\n",
    "plt.title(\"slit[0] slice\")"
   ]
  },
  {
   "cell_type": "markdown",
   "metadata": {},
   "source": [
    "## Advanced Trace"
   ]
  },
  {
   "cell_type": "markdown",
   "metadata": {},
   "source": [
    "Optional: we could now refine the initial flat trace by running an automated KosmosTrace on the subtracted image. This process could be iterated as necessary (recreating the subtracted image with the refined trace, etc)."
   ]
  },
  {
   "cell_type": "code",
   "execution_count": 47,
   "metadata": {},
   "outputs": [],
   "source": [
    "auto_trace = KosmosTrace(np.transpose(s2d.data)-bg, guess=ext_center)"
   ]
  },
  {
   "cell_type": "markdown",
   "metadata": {},
   "source": [
    "#### Plot old vs new trace"
   ]
  },
  {
   "cell_type": "markdown",
   "metadata": {},
   "source": [
    "## Extract"
   ]
  },
  {
   "cell_type": "raw",
   "metadata": {},
   "source": [
    "from specutils import Spectrum1D\n",
    "from astropy import units as u\n",
    "flux = s2d.data * u.Jy\n",
    "wavelength = s2d.wavelength * u.um\n",
    "flux.data\n",
    "spec = Spectrum1D(spectral_axis=wavelength, flux=flux)"
   ]
  },
  {
   "cell_type": "code",
   "execution_count": 66,
   "metadata": {},
   "outputs": [],
   "source": [
    "boxcar = BoxcarExtract()\n",
    "spectrum = boxcar(np.transpose(s2d.data)-bg, auto_trace, width=ext_width)"
   ]
  },
  {
   "cell_type": "code",
   "execution_count": 85,
   "metadata": {},
   "outputs": [
    {
     "data": {
      "image/png": "[encoded data removed]",
      "text/plain": [
       "<Figure size 720x432 with 1 Axes>"
      ]
     },
     "metadata": {
      "needs_background": "light"
     },
     "output_type": "display_data"
    }
   ],
   "source": [
    "f, ax = plt.subplots(figsize=(10, 6))\n",
    "ax.plot(jpipe_x1d['WAVELENGTH'], spectrum.flux.value, 'k-')\n",
    "ax.set_title(\"Boxcar 1D extracted spectrum\")\n",
    "ax.set_xlabel(r\"pixel\")\n",
    "ax.set_ylabel(\"Flux Density [Jy]\")\n",
    "ax.set_yscale(\"log\")"
   ]
  },
  {
   "cell_type": "code",
   "execution_count": 122,
   "metadata": {},
   "outputs": [
    {
     "data": {
      "text/plain": [
       "numpy.ndarray"
      ]
     },
     "execution_count": 122,
     "metadata": {},
     "output_type": "execute_result"
    }
   ],
   "source": [
    "type(bg.image)"
   ]
  },
  {
   "cell_type": "code",
   "execution_count": 169,
   "metadata": {},
   "outputs": [],
   "source": [
    "from gwcs.wcstools import grid_from_bounding_box\n",
    "\n",
    "image = np.transpose(s2d.data)\n",
    "grid = grid_from_bounding_box(s2d.meta.wcs.bounding_box)\n",
    "ra, dec, lam = s2d.meta.wcs(*grid)\n",
    "lam_image = np.transpose(lam)\n",
    "\n",
    "# compute a \"rough\" wavelength scale to allow for aperture to scale with wavelength\n",
    "rough_waves = np.average(lam_image, axis=0)\n",
    "\n",
    "# images to use for extraction\n",
    "wimage, bkg_wimage = ap_weight_images(\n",
    "    ext_center,\n",
    "    ext_width,\n",
    "    bkg_width,\n",
    "    bkg_offset,\n",
    "    image.shape,\n",
    "    rough_waves,\n",
    "    wavescale=None,\n",
    ")\n",
    "\n",
    "boxcar = BoxcarExtract()\n",
    "\n",
    "# without background subtraction\n",
    "image_wg = image * wimage\n",
    "ext1d_boxcar = boxcar(image_wg, auto_trace, width=ext_width)\n",
    "ext1d_boxcar = ext1d_boxcar.flux.value\n",
    "# convert from MJy/sr to Jy\n",
    "ext1d_boxcar *= 1e6 * s2d.meta.photometry.pixelarea_steradians\n",
    "\n",
    "# with background subtraction\n",
    "image_bg = bg.sub_image()\n",
    "image_wg = image_bg * wimage\n",
    "ext1d_boxcar_bkgsub = boxcar(image_wg, auto_trace, width=ext_width)\n",
    "ext1d_boxcar_bkgsub = ext1d_boxcar_bkgsub.flux.value\n",
    "# convert from MJy/sr to Jy\n",
    "ext1d_boxcar_bkgsub *= 1e6 * s2d.meta.photometry.pixelarea_steradians\n",
    "\n",
    "# compute the average wavelength for each column using the weight image\n",
    "# this should correspond directly with the extracted spectrum\n",
    "# wavelengths account for any tiled spectra this way\n",
    "waves_boxcar = np.average(lam_image, weights=wimage, axis=0)\n",
    "waves_boxcar_bkgsub = np.average(lam_image, weights=wimage, axis=0)"
   ]
  },
  {
   "cell_type": "code",
   "execution_count": 170,
   "metadata": {},
   "outputs": [
    {
     "data": {
      "text/plain": [
       "<matplotlib.legend.Legend at 0x7fc9aaa93280>"
      ]
     },
     "execution_count": 170,
     "metadata": {},
     "output_type": "execute_result"
    },
    {
     "data": {
      "image/png": "[encoded data removed]",
      "text/plain": [
       "<Figure size 432x432 with 1 Axes>"
      ]
     },
     "metadata": {
      "needs_background": "light"
     },
     "output_type": "display_data"
    }
   ],
   "source": [
    "# plot\n",
    "fig, ax = plt.subplots(figsize=(6, 6))\n",
    "gpts = ext1d_boxcar_bkgsub > 0.\n",
    "gpts = ext1d_boxcar > 0.\n",
    "ax.plot(waves_boxcar[gpts], ext1d_boxcar[gpts], 'k-', label=\"boxcar\")\n",
    "ax.plot(waves_boxcar_bkgsub[gpts], ext1d_boxcar_bkgsub[gpts], 'k:', label=\"boxcar (bkgsub)\")\n",
    "ax.plot(jpipe_x1d['WAVELENGTH'], jpipe_x1d['FLUX'], 'k-', label=\"jpipe_x1d\")\n",
    "ax.set_title(\"Fixed boxcar 1D extracted spectrum\")\n",
    "ax.set_xlabel(r\"wavelength [$\\mu$m]\")\n",
    "ax.set_ylabel(\"Flux Density [Jy]\")\n",
    "ax.set_yscale(\"log\")\n",
    "ax.legend()"
   ]
  },
  {
   "cell_type": "markdown",
   "metadata": {},
   "source": [
    "### Wavelength scaled width boxcar\n",
    "\n",
    "The LRS spatial profile changes as a function of wavelength as JWST is diffraction limited at these wavelengths.  Nominally this means that the FWHM is changing linearly with wavelength.  Scaling the width of the extraction aperture with wavelength accounts for the changing diffraction limit with wavelength to first order."
   ]
  },
  {
   "cell_type": "code",
   "execution_count": null,
   "metadata": {},
   "outputs": [],
   "source": [
    "# visualize the weight images used in the scaled boxcar extraction \n",
    "wimage_scaledboxcar, wimage_sb_bkg = ap_weight_images(ext_center, ext_width, bkg_offset, bkg_width, \n",
    "                                                      image.shape, waves_boxcar, wavescale=10.0)\n",
    "\n",
    "norm_data = simple_norm(wimage_scaledboxcar)\n",
    "plt.figure(figsize=(10, 3))\n",
    "plt.imshow(wimage_scaledboxcar, norm=norm_data, origin=\"lower\")\n",
    "plt.title(\"Scaled boxcar weight image\")\n",
    "\n",
    "norm_data = simple_norm(wimage_sb_bkg)\n",
    "plt.figure(figsize=(10, 3))\n",
    "plt.imshow(wimage_sb_bkg, norm=norm_data, origin=\"lower\")\n",
    "plt.title(\"Scaled boxcar backgound weight image\")"
   ]
  },
  {
   "cell_type": "code",
   "execution_count": null,
   "metadata": {},
   "outputs": [],
   "source": [
    "# extract the spectrum using the weight image\n",
    "\n",
    "# with background subtraction\n",
    "waves_sboxcar_bkgsub, ext1d_sboxcar_bkgsub, sboxcar_bkgsub_image = extract_1dspec(s2d, ext_center, \n",
    "                                                                                  ext_width, bkg_offset, \n",
    "                                                                                  bkg_width, wavescale=10)\n",
    "\n",
    "# plot\n",
    "fig, ax = plt.subplots(figsize=(6, 6))\n",
    "gpts = ext1d_boxcar_bkgsub > 0.\n",
    "ax.plot(waves_boxcar_bkgsub[gpts], ext1d_boxcar_bkgsub[gpts], 'k:', label=\"fixed boxcar (bkgsub)\")\n",
    "gpts = ext1d_sboxcar_bkgsub > 0.\n",
    "ax.plot(waves_sboxcar_bkgsub[gpts], ext1d_sboxcar_bkgsub[gpts], 'k-', label=\"scaled boxcar (bkgsub)\")\n",
    "ax.set_title(\"Scaled boxcar 1D extracted spectrum\")\n",
    "ax.set_xlabel(\"wavelength [$\\mu$m]\")\n",
    "ax.set_ylabel(\"Flux Density [Jy]\")\n",
    "ax.set_yscale(\"log\")\n",
    "ax.set_ylim(1e-3, 1e-1)\n",
    "ax.legend()"
   ]
  },
  {
   "cell_type": "markdown",
   "metadata": {},
   "source": [
    "Note that the impact of the scaled boxcar is largest at shorter wavelengths.  This is the result of using the same aperature at 10 microns for both the boxcar and scaled boxcar."
   ]
  },
  {
   "cell_type": "markdown",
   "metadata": {},
   "source": [
    "\n",
    "## PSF based Extraction\n",
    "\n",
    "While to first order the PSF FHWM changes linearly with wavelength, this is an approximation.  It is better to use the measured spatial profile as a function of wavelength to extract the spectrum.  This tracks the actual variation with wavelength and optimizes the extraction to the higher S/N measurements.  In general, PSF based extractions show the most improvements over boxcar extractions at lower the S/N.\n",
    "\n",
    "There are two PSF based extraction methods.\n",
    "\n",
    "1. PSF weighted: the spatial profile at each wavelength is used to weight the extraction.\n",
    "2. PSF fitting: the spatial profile is fit at each wavelength with the scale parameter versus wavelength giving the spectrum.\n",
    "\n",
    "Only the PSF weighted technique is currently part of this notebook.\n",
    "\n",
    "Note 1: calibration reference file for the specific LRS slit position should be used.\n",
    "\n",
    "Note 2: Small shifts in the centering of the source in the slit should be investigated to see if they impact the PSF based extractions.\n",
    "\n",
    "Limitation: currently it is assumed there are no bad pixels."
   ]
  },
  {
   "cell_type": "markdown",
   "metadata": {},
   "source": [
    "### PSF weighted extaction"
   ]
  },
  {
   "cell_type": "markdown",
   "metadata": {},
   "source": [
    "#### Generate the PSF profile as a function of wavelength\n",
    "For MIRI LRS slit observations, observations are made at two nod position in the slit after target acquisition.  This means that the location of the sources in the slit is very well known.  Hence, spatial profile (PSF) as a function of wavelength for the two nod positions is straightforward to measure using observations of a bright source.\n",
    "\n",
    "The next few steps generate the needed information for the nod position for which we are extracting spectra based on a simulation of a bright source at the same nod position."
   ]
  },
  {
   "cell_type": "code",
   "execution_count": null,
   "metadata": {},
   "outputs": [],
   "source": [
    "# lrs spatial profile (PSF) as a function of wavelength\n",
    "# currently, this is just a \"high\" S/N observation of a flat spectrum source at the same slit position\n",
    "psf = datamodels.open(spatialprofilefile)\n",
    "# transpose to make it display better\n",
    "lrspsf = np.transpose(psf.data)\n",
    "norm_data = simple_norm(lrspsf, \"sqrt\")\n",
    "plt.figure(figsize=(10, 3))\n",
    "plt.imshow(lrspsf, norm=norm_data, origin=\"lower\")\n",
    "plt.title(\"The LRS Spatial Profile (PSF) Observation\")"
   ]
  },
  {
   "cell_type": "code",
   "execution_count": null,
   "metadata": {},
   "outputs": [],
   "source": [
    "# Mock a LRS spectral profile reference file\n",
    "# Sum along the spatial direction and normalize to 1\n",
    "# assume there is no background (none was included in the MIRISim for the flat spectrum source observation)\n",
    "# ignore regions far from the source using a scaled boxcar weight image\n",
    "#   the aperture (psf_width) used in the scaled boxcar weight image could be varied\n",
    "psf_width = 12.0\n",
    "(wimage_scaledboxcar, tmpvar) = ap_weight_images(ext_center, psf_width, bkg_offset, bkg_width, image.shape, waves_boxcar, wavescale=10.0)\n",
    "\n",
    "psf_weightimage = lrspsf*wimage_scaledboxcar\n",
    "\n",
    "# generate a 2D image of the column sums for division\n",
    "max_psf = np.max(psf_weightimage, axis=0)\n",
    "div_image = np.tile(max_psf, (psf_weightimage.shape[0], 1))\n",
    "div_image[div_image == 0.0] = 1.0  # avoid divide by zero issues\n",
    "\n",
    "# normalize \n",
    "psf_weightimage /= div_image\n",
    "\n",
    "# display\n",
    "norm_data = simple_norm(psf_weightimage, \"sqrt\")\n",
    "plt.figure(figsize=(10, 3))\n",
    "plt.imshow(psf_weightimage, norm=norm_data, origin=\"lower\")\n",
    "plt.title(\"The LRS Spatial Profile Reference Image (Normalized)\")"
   ]
  },
  {
   "cell_type": "code",
   "execution_count": null,
   "metadata": {},
   "outputs": [],
   "source": [
    "fig, ax = plt.subplots(figsize=(6, 6))\n",
    "y = np.arange(psf_weightimage.shape[0])\n",
    "ax.plot(y, psf_weightimage[:,150], label=\"pixel=150\")\n",
    "ax.plot(y, psf_weightimage[:,225], label=\"pixel=225\")\n",
    "ax.plot(y, psf_weightimage[:,300], label=\"pixel=300\")\n",
    "ax.plot(y, psf_weightimage[:,370], label=\"pixel=370\")\n",
    "ax.set_title(\"Cross-dispersion Cuts\")\n",
    "ax.set_xlim(ext_center-psf_width, ext_center+psf_width)\n",
    "ax.legend()"
   ]
  },
  {
   "cell_type": "markdown",
   "metadata": {},
   "source": [
    "Note that the spatial profile becomes narrower as the pixel values increases as this corresponds to the wavelength decreasing."
   ]
  },
  {
   "cell_type": "markdown",
   "metadata": {},
   "source": [
    "#### Extract spectrum using wavelength dependent PSF profiles"
   ]
  },
  {
   "cell_type": "code",
   "execution_count": null,
   "metadata": {},
   "outputs": [],
   "source": [
    "# use the normalized PSF weight image to extract the specrum\n",
    "# use the background subtracted image from the scaled boxcar extraction\n",
    "ext1d_psfweight = np.sum(sboxcar_bkgsub_image * psf_weightimage, axis=0)\n",
    "ext1d_psfweight *= 1e6 * s2d.meta.photometry.pixelarea_steradians\n",
    "\n",
    "# plot\n",
    "fig, ax = plt.subplots(figsize=(6, 6))\n",
    "gpts = ext1d_psfweight > 0.\n",
    "ax.plot(waves_boxcar_bkgsub[gpts], ext1d_psfweight[gpts], 'k-', label=\"psf weighted (bkgsub)\")\n",
    "gpts = ext1d_sboxcar_bkgsub > 0.\n",
    "ax.plot(waves_sboxcar_bkgsub[gpts], ext1d_sboxcar_bkgsub[gpts], 'k:', label=\"scaled boxcar (bkgsub)\")\n",
    "ax.set_title(\"PSF weigthed extracted spectrum\")\n",
    "ax.set_xlabel(\"wavelength [$\\mu$m]\")\n",
    "ax.set_ylabel(\"Flux Density [Jy]\")\n",
    "ax.set_yscale(\"log\")\n",
    "ax.set_ylim(1e-3, 1e-1)\n",
    "ax.legend()"
   ]
  },
  {
   "cell_type": "markdown",
   "metadata": {},
   "source": [
    "Note that the psf weighted extraction has visabily higher S/N, especially at the longer wavelengths where the S/N is lowest overall."
   ]
  },
  {
   "cell_type": "markdown",
   "metadata": {},
   "source": [
    "#### Plotting in Rayleigh-Jeans units\n",
    "\n",
    "For sources that have stellar continuum, it can be useful to plot MIR spectra in Rayleigh-Jeans units.  This just means removing the spectral shape expected for a blackbody with a peak at much shorter wavelengths than the MIR.  This is easily done by multiplying the spectrum by lambda^4 or nu^2.\n",
    "\n",
    "An example of this is given below."
   ]
  },
  {
   "cell_type": "code",
   "execution_count": null,
   "metadata": {},
   "outputs": [],
   "source": [
    "# Rayleigh-Jeans plot\n",
    "fig, ax = plt.subplots(figsize=(6, 6))\n",
    "gpts = ext1d_psfweight > 0.\n",
    "ax.plot(waves_boxcar_bkgsub[gpts], (waves_boxcar_bkgsub[gpts]**4)*ext1d_psfweight[gpts], 'k-', label=\"psf weighted (bkgsub)\")\n",
    "gpts = ext1d_sboxcar_bkgsub > 0.\n",
    "ax.plot(waves_sboxcar_bkgsub[gpts], (waves_sboxcar_bkgsub[gpts]**4)*ext1d_sboxcar_bkgsub[gpts], 'k:', label=\"scaled boxcar (bkgsub)\")\n",
    "gpts = ext1d_boxcar_bkgsub > 0.\n",
    "ax.plot(waves_boxcar_bkgsub[gpts], (waves_boxcar_bkgsub[gpts]**4)*ext1d_boxcar_bkgsub[gpts], 'k--', label=\"fixed boxcar (bkgsub)\")\n",
    "ax.set_title(\"Rayleigh-Jeans plot for all extractions\")\n",
    "ax.set_xlabel(\"wavelength [$\\mu$m]\")\n",
    "ax.set_ylabel(\"Rayleigh-Jeans Flux Density [$\\mu$m$^4$ Jy]\")\n",
    "ax.set_yscale(\"log\")\n",
    "ax.set_ylim(10, 100)\n",
    "ax.legend()"
   ]
  },
  {
   "cell_type": "markdown",
   "metadata": {},
   "source": [
    "## Additional Resources\n",
    "\n",
    "- [MIRI LRS](https://jwst-docs.stsci.edu/mid-infrared-instrument/miri-observing-modes/miri-low-resolution-spectroscopy)\n",
    "- [MIRISim](http://www.stsci.edu/jwst/science-planning/proposal-planning-toolbox/mirisim)\n",
    "- [JWST pipeline](https://jwst-docs.stsci.edu/jwst-data-reduction-pipeline)\n",
    "- PSF weighted extraction [Horne 1986, PASP, 98, 609](https://ui.adsabs.harvard.edu/abs/1986PASP...98..609H/abstract)."
   ]
  },
  {
   "cell_type": "markdown",
   "metadata": {
    "slideshow": {
     "slide_type": "slide"
    }
   },
   "source": [
    "## About this notebook\n",
    "\n",
    "**Author:** Karl Gordon, JWST\n",
    "**Updated On:** 2020-07-07"
   ]
  },
  {
   "cell_type": "markdown",
   "metadata": {},
   "source": [
    "***"
   ]
  },
  {
   "cell_type": "markdown",
   "metadata": {},
   "source": [
    "[Top of Page](#top)\n",
    "<img style=\"float: right;\" src=\"https://raw.githubusercontent.com/spacetelescope/notebooks/master/assets/stsci_pri_combo_mark_horizonal_white_bkgd.png\" alt=\"Space Telescope Logo\" width=\"200px\"/> "
   ]
  }
 ],
 "metadata": {
  "kernelspec": {
   "display_name": "Python 3 (ipykernel)",
   "language": "python",
   "name": "python3"
  },
  "language_info": {
   "codemirror_mode": {
    "name": "ipython",
    "version": 3
   },
   "file_extension": ".py",
   "mimetype": "text/x-python",
   "name": "python",
   "nbconvert_exporter": "python",
   "pygments_lexer": "ipython3",
   "version": "3.8.10"
  }
 },
 "nbformat": 4,
 "nbformat_minor": 2
}
