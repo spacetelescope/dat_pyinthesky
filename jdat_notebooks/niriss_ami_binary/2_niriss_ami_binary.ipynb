{
 "cells": [
  {
   "cell_type": "markdown",
   "metadata": {
    "slideshow": {
     "slide_type": "slide"
    }
   },
   "source": [
    "<a id=\"top\"></a>\n",
    "# NIRISS AMI calibration of binary point source AB Dor and calibrator HD37093"
   ]
  },
  {
   "cell_type": "markdown",
   "metadata": {
    "slideshow": {
     "slide_type": "skip"
    }
   },
   "source": [
    "***"
   ]
  },
  {
   "cell_type": "markdown",
   "metadata": {},
   "source": [
    "## Introduction\n",
    "This notebook runs JWST pipeline on Aperture Masking Interferometry(AMI) data of binary point source AB Dor and calibrator HD37093 simulated with Mirage.\n",
    "\n",
    "Steps:\n",
    "\n",
    "[1] Run Detector1 pipeline on all _uncal.fits files to create _rate.fits and _rateints.fits files.\n",
    "\n",
    "[2] Run Image2 pipeline on all _rate.fits files to create _cal.fits and on _rateints.fits files to\n",
    "   create _calints.fits files.\n",
    "\n",
    " \n",
    "[3] Run ImPlaneIA ([Greenbaum, A. et al. 2015](https://ui.adsabs.harvard.edu/abs/2015ApJ...798...68G/abstract)) to extract observables in oifits format.    "
   ]
  },
  {
   "cell_type": "markdown",
   "metadata": {},
   "source": [
    "***"
   ]
  },
  {
   "cell_type": "markdown",
   "metadata": {},
   "source": [
    "*Developer Note:*\n",
    "Create the conda environment needed to run this notebook by issuing the following command:\n",
    "```\n",
    "conda create -n <envname> python=3.9\n",
    "```\n",
    "\n",
    "Activate the environment and install dependencies.\n",
    "```\n",
    "conda activate <myenv>\n",
    "pip install -r pre-requirements.txt\n",
    "pip install -r requirements.txt\n",
    "```\n",
    "Contents of pre-requirements.txt\n",
    "```\n",
    "numpy==1.21\n",
    "astropy\n",
    "```\n",
    "Contents of requirements.txt\n",
    "\n",
    "```\n",
    "matplotlib\n",
    "healpy\n",
    "asdf==2.7.1\n",
    "git+https://github.com/spacetelescope/mirage@41684f432d04288cf9418d11a9192b92861ef7e6\n",
    "jwst==1.1.0\n",
    "git+https://github.com/anand0xff/ImPlaneIA.git@cd389c627caea8a90175f05c7651ad9a350bc692\n",
    "poppy\n",
    "webbpsf\n",
    "uncertainties\n",
    "munch\n",
    "astroquery\n",
    "termcolor\n",
    "git+https://github.com/SydneyAstrophotonicInstrumentationLab/AMICAL.git@781f73ddbc230d76f46717d48e2f9471e8b60842\n",
    "```\n",
    "\n",
    "Open the notebook.\n",
    "```\n",
    "jupyter notebook\n",
    "```"
   ]
  },
  {
   "cell_type": "markdown",
   "metadata": {},
   "source": [
    "***"
   ]
  },
  {
   "cell_type": "markdown",
   "metadata": {
    "slideshow": {
     "slide_type": "slide"
    }
   },
   "source": [
    "## Imports\n",
    "Describe the libraries we're using here. If there's something unusual, explain what the library is, and why we need it.\n",
    "- *numpy* to handle array functions\n",
    "- *astropy.io fits* for accessing FITS files\n",
    "- *matplotlib.pyplot* for plotting data\n",
    "- *zipfile* for accessing zip file\n",
    "- *urllib.request* to access URL\n",
    "- *jwst.pipeline Detector1Pipeline, Image2Pipeline* for calibrating raw data\n",
    "- ImplaneIA to extract interferometric obssrvables from calibrated data"
   ]
  },
  {
   "cell_type": "code",
   "execution_count": null,
   "metadata": {
    "slideshow": {
     "slide_type": "fragment"
    }
   },
   "outputs": [],
   "source": [
    "%matplotlib inline\n",
    "import os\n",
    "import sys\n",
    "import glob\n",
    "import time\n",
    "\n",
    "import numpy as np\n",
    "from astropy.io import fits\n",
    "import matplotlib.pyplot as plt\n",
    "from astropy import units as u\n",
    "import zipfile\n",
    "import urllib.request\n",
    "\n",
    "from jwst.pipeline import Detector1Pipeline, Image2Pipeline\n",
    "\n",
    "from nrm_analysis.misctools import utils\n",
    "import nrm_analysis\n",
    "from nrm_analysis.fringefitting.LG_Model import NRM_Model\n",
    "from nrm_analysis import nrm_core, InstrumentData\n",
    "from nrm_analysis import find_affine2d_parameters as FAP\n",
    "from nrm_analysis.misctools.implane2oifits import calibrate_oifits\n",
    "\n",
    "from nrm_analysis.misctools.utils import Affine2d\n"
   ]
  },
  {
   "cell_type": "markdown",
   "metadata": {},
   "source": [
    "*Developer Note:*\n",
    "Plese follow the instructions on https://webbpsf.readthedocs.io/en/latest/installation.html to download WebbPSF data \n",
    "files and create WEBBPSF_PATH location. "
   ]
  },
  {
   "cell_type": "code",
   "execution_count": null,
   "metadata": {},
   "outputs": [],
   "source": [
    "if os.environ.get('WEBBPSF_PATH', None) is None:\n",
    "    os.environ['WEBBPSF_PATH'] = '/path/to/webbpsf_data/'\n",
    "print(os.environ.get('WEBBPSF_PATH'))"
   ]
  },
  {
   "cell_type": "markdown",
   "metadata": {
    "slideshow": {
     "slide_type": "slide"
    }
   },
   "source": [
    "## Loading data\n",
    "Download simulated data created by 1_niriss_ami_binary.ipynb and reference files needed to calibrate data without bad pixels."
   ]
  },
  {
   "cell_type": "code",
   "execution_count": null,
   "metadata": {
    "slideshow": {
     "slide_type": "fragment"
    }
   },
   "outputs": [],
   "source": [
    "boxlink = 'https://data.science.stsci.edu/redirect/JWST/jwst-data_analysis_tools/niriss_ami_binary/niriss_ami_binary2.zip'\n",
    "boxfile = './niriss_ami_binary2.zip'\n",
    "\n",
    "# Download zip file\n",
    "if not os.path.exists(boxfile):\n",
    "    urllib.request.urlretrieve(boxlink, boxfile)\n",
    "\n",
    "    zf = zipfile.ZipFile(boxfile, 'r')\n",
    "    zf.extractall()\n",
    "else:\n",
    "    print(\"Input files exist. You may want to check if there is an updated version.\")\n",
    "    print(\"If you have not run the notebook in a long time, delete niriss_ami_binary2.zip and run this cell as there might be a newer version of the input files.\")"
   ]
  },
  {
   "cell_type": "code",
   "execution_count": null,
   "metadata": {},
   "outputs": [],
   "source": [
    "# Define directory that has existing Mirage simulations\n",
    "currentdir = os.getcwd()\n",
    "mirage_sim_dir = os.path.join(currentdir, 'mirage_sim_data/')\n",
    "print(mirage_sim_dir)\n",
    "datafiles = sorted(glob.glob(mirage_sim_dir + 'jw*00005*uncal.fits'))\n",
    "print(datafiles)"
   ]
  },
  {
   "cell_type": "markdown",
   "metadata": {},
   "source": [
    "## Examine the input raw files"
   ]
  },
  {
   "cell_type": "code",
   "execution_count": null,
   "metadata": {},
   "outputs": [],
   "source": [
    "data = []\n",
    "for i, df in enumerate(datafiles):\n",
    "    file = fits.open(df)\n",
    "    file.info()\n",
    "    im = file[1].data\n",
    "    print(im[0].shape)\n",
    "    data.append(im[0])\n",
    "print(data[0].shape, data[1].shape)\n",
    "f = plt.figure(figsize=(12, 6))\n",
    "plt.subplot(1, 2, 1)\n",
    "plt.title(\"AB-Dor\")\n",
    "plt.imshow(data[0][4], origin='lower')\n",
    "plt.subplot(1, 2, 2)\n",
    "plt.title(\"HD37093\")\n",
    "plt.imshow(data[1][11], origin='lower')"
   ]
  },
  {
   "cell_type": "markdown",
   "metadata": {},
   "source": [
    "## Define output directory, non-default reference files directory "
   ]
  },
  {
   "cell_type": "markdown",
   "metadata": {},
   "source": [
    "Note that we will not use the cfgfiles but update the steps and override reference files using the .run() method."
   ]
  },
  {
   "cell_type": "code",
   "execution_count": null,
   "metadata": {},
   "outputs": [],
   "source": [
    "# Define output directory to save pipeline output products and default configuration files.\n",
    "odir = './pipeline_calibrated_data/'\n",
    "if not os.path.exists(odir):\n",
    "    os.mkdir(odir)\n",
    "\n",
    "# Define path to non-default reference files.\n",
    "# We are using these files to calibrate data that is simulated without bad pixels.\n",
    "refdir = './ref_files_non_default/'"
   ]
  },
  {
   "cell_type": "markdown",
   "metadata": {},
   "source": [
    "## Define environment variables"
   ]
  },
  {
   "cell_type": "markdown",
   "metadata": {},
   "source": [
    "CRDS is the system that manages the reference files needed to run the pipeline. Inside the STScI network, \n",
    "the pipeline works with default CRDS setup with no modifications. To run the pipeline outside the STScI network,\n",
    "CRDS must be configured by setting two environment variables:"
   ]
  },
  {
   "cell_type": "code",
   "execution_count": null,
   "metadata": {},
   "outputs": [],
   "source": [
    "# Uncomment the following two lines if you are outside STScI.\n",
    "# os.environ['CRDS_PATH']='$HOME/crds_cache'\n",
    "os.environ['CRDS_SERVER_URL'] = 'https://jwst-crds.stsci.edu'\n",
    "os.environ['CRDS_CONTEXT'] = 'jwst_0682.pmap'"
   ]
  },
  {
   "cell_type": "markdown",
   "metadata": {},
   "source": [
    "## Run Detector1 and Image2 pipelines"
   ]
  },
  {
   "cell_type": "code",
   "execution_count": null,
   "metadata": {},
   "outputs": [],
   "source": [
    "for df in datafiles:\n",
    "    # Run Detector1 pipeline\n",
    "    result1 = Detector1Pipeline()\n",
    "    superbiasfile = refdir + 'jwst_niriss_superbias_sim.fits'\n",
    "    darkfile = refdir + 'jwst_niriss_dark_sub80_sim.fits'\n",
    "    result1.superbias.override_superbias = superbiasfile\n",
    "    result1.dark_current.override_dark = darkfile\n",
    "    result1.ipc.skip = True\n",
    "    result1.save_results = True\n",
    "    result1.output_dir = odir\n",
    "    result1.run(df)\n",
    "\n",
    "    # Run Image2 pipeline on *rate.fits files\n",
    "    df_rate = odir + os.path.basename(df.replace('uncal', 'rate'))\n",
    "    flatfieldfile = refdir + \"jwst_niriss_flat_general.fits\"\n",
    "    result2 = Image2Pipeline()\n",
    "    result2.flat_field.override_flat = flatfieldfile\n",
    "    result2.photom.skip = True\n",
    "    result2.resample.skip = True\n",
    "    result2.save_results = True\n",
    "    result2.output_dir = odir\n",
    "    result2.run(df_rate)\n",
    "\n",
    "    # Run Image2 pipeline on *rateints.fits files\n",
    "    df_rateints = odir + os.path.basename(df.replace('uncal', 'rateints'))\n",
    "    result3 = Image2Pipeline()\n",
    "    result3.flat_field.override_flat = flatfieldfile\n",
    "    result3.photom.skip = True\n",
    "    result3.resample.skip = True\n",
    "    result3.save_results = True\n",
    "    result3.output_dir = odir\n",
    "    result3.run(df_rateints)"
   ]
  },
  {
   "cell_type": "markdown",
   "metadata": {},
   "source": [
    "## Examine the output files"
   ]
  },
  {
   "cell_type": "code",
   "execution_count": null,
   "metadata": {},
   "outputs": [],
   "source": [
    "ratefiles = sorted(glob.glob(odir + 'jw*rate.fits'))\n",
    "print(ratefiles)\n",
    "rateintsfiles = sorted(glob.glob(odir + 'jw*rateints.fits'))\n",
    "print(rateintsfiles)\n",
    "calfiles = sorted(glob.glob(odir + 'jw*cal.fits'))\n",
    "print(calfiles)\n",
    "calintsfiles = sorted(glob.glob(odir + 'jw*calints.fits'))\n",
    "print(calintsfiles)"
   ]
  },
  {
   "cell_type": "markdown",
   "metadata": {},
   "source": [
    "### rate and rateints files"
   ]
  },
  {
   "cell_type": "code",
   "execution_count": null,
   "metadata": {},
   "outputs": [],
   "source": [
    "for i, rateintf in enumerate(rateintsfiles):\n",
    "    file = fits.open(rateintf)\n",
    "    file.info()\n",
    "for i, ratef in enumerate(ratefiles):\n",
    "    file = fits.open(ratef)\n",
    "    file.info()"
   ]
  },
  {
   "cell_type": "markdown",
   "metadata": {},
   "source": [
    "### cal and calints files "
   ]
  },
  {
   "cell_type": "code",
   "execution_count": null,
   "metadata": {},
   "outputs": [],
   "source": [
    "for i, calintf in enumerate(calintsfiles):\n",
    "    file = fits.open(calintf)\n",
    "    file.info()\n",
    "for i, calf in enumerate(calfiles):\n",
    "    file = fits.open(calf)\n",
    "    file.info()"
   ]
  },
  {
   "cell_type": "markdown",
   "metadata": {},
   "source": [
    "## Display calibrated data"
   ]
  },
  {
   "cell_type": "code",
   "execution_count": null,
   "metadata": {},
   "outputs": [],
   "source": [
    "data = []\n",
    "for df in calfiles:\n",
    "    file = fits.open(df)\n",
    "    im = file[1].data\n",
    "    print(im.shape)\n",
    "    data.append(im)\n",
    "# print(data[0].shape, data[1].shape)\n",
    "f = plt.figure(figsize=(12, 6))\n",
    "plt.subplot(1, 2, 1)\n",
    "plt.title(\"AB-Dor 2D calibrated file\")\n",
    "plt.imshow(data[0], origin='lower')\n",
    "plt.subplot(1, 2, 2)\n",
    "plt.title(\"HD37093 2D calibrated file\")\n",
    "plt.imshow(data[1], origin='lower')"
   ]
  },
  {
   "cell_type": "markdown",
   "metadata": {},
   "source": [
    "## Run ImPlaneIA to reduce calibrated images to fringe observables"
   ]
  },
  {
   "cell_type": "markdown",
   "metadata": {},
   "source": [
    "### Define functions"
   ]
  },
  {
   "cell_type": "code",
   "execution_count": null,
   "metadata": {},
   "outputs": [],
   "source": [
    "np.set_printoptions(precision=4, linewidth=160)\n",
    "\n",
    "\n",
    "def examine_observables(ff, trim=36):\n",
    "    \"\"\" input: FringeFitter instance after fringes are fit \"\"\"\n",
    "   \n",
    "    print(\"\\nExamine_observables, standard deviations & variances of *independent* CP's and CAs:\")\n",
    "    print(\"   Closure phase mean {:+.4f}  std dev {:.2e}  var {:.2e}\".format(ff.nrm.redundant_cps.mean(),\n",
    "          np.sqrt(utils.cp_var(ff.nrm.N, ff.nrm.redundant_cps)), utils.cp_var(ff.nrm.N, ff.nrm.redundant_cps)))\n",
    "\n",
    "    print(\"   Closure amp   mean {:+.4f}  std dev {:.2e}  var {:.2e}\".format(ff.nrm.redundant_cas.mean(),\n",
    "          np.sqrt(utils.cp_var(ff.nrm.N, ff.nrm.redundant_cas)), utils.cp_var(ff.nrm.N, ff.nrm.redundant_cas)))\n",
    "\n",
    "    print(\"   Fringe amp   mean {:+.4f}  std dev {:.2e}  var {:.2e}\".format(ff.nrm.fringeamp.mean(),\n",
    "                                                                            ff.nrm.fringeamp.std(), \n",
    "                                                                            ff.nrm.fringeamp.var()))\n",
    "\n",
    "    np.set_printoptions(precision=3, formatter={'float': lambda x: '{:+.1e}'.format(x)}, linewidth=80)\n",
    "    print(\" Normalized residuals central 6 pixels\")\n",
    "    tlo, thi = (ff.nrm.residual.shape[0]//2 - 3, ff.nrm.residual.shape[0]//2 + 3)\n",
    "    print((ff.nrm.residual/ff.datapeak)[tlo:thi, tlo:thi])\n",
    "    print(\" Normalized residuals max and min: {:.2e}, {:.2e}\".format(ff.nrm.residual.max() / ff.datapeak,\n",
    "                                                                     ff.nrm.residual.min() / ff.datapeak))\n",
    "    utils.default_printoptions()\n",
    "\n",
    "\n",
    "def raw_observables(fitsfn=None, fitsimdir=None, oitdir=None, oifdir=None, affine2d=None,                    \n",
    "                    psf_offset_find_rotation=(0.0, 0.0),\n",
    "                    psf_offset_ff=None,\n",
    "                    rotsearch_d=None,\n",
    "                    set_pistons=None,\n",
    "                    oversample=3,\n",
    "                    mnem='',\n",
    "                    firstfew=None,\n",
    "                    usebp=False,\n",
    "                    verbose=False):\n",
    "    \"\"\"\n",
    "        Reduce calibrated data to fringe observables\n",
    "\n",
    "        returns: affine2d (measured or input),\n",
    "        psf_offset_find_rotation (input),\n",
    "        psf_offset_ff (input or found),\n",
    "        fringe pistons/r (found)\n",
    "    \"\"\"\n",
    "\n",
    "    if verbose:\n",
    "        print(\"raw_observables: input\", fitsimdir + fitsfn)\n",
    "    if verbose:\n",
    "        print(\"raw_observables: oversample\", oversample)\n",
    "\n",
    "    fobj = fits.open(fitsimdir + fitsfn)\n",
    "\n",
    "    if verbose:\n",
    "        print(fobj[0].header['FILTER'])\n",
    "        \n",
    "    niriss = InstrumentData.NIRISS(fobj[0].header['FILTER'],\n",
    "                                   usebp=usebp,\n",
    "                                   firstfew=firstfew, # read_data truncation to only read first few slices...\n",
    "                                   )\n",
    "\n",
    "    ff = nrm_core.FringeFitter(niriss, \n",
    "                                 oitdir=oitdir, # write OI text files here, and diagnostic images if desired\n",
    "                                 oifdir=oifdir, # write OI fits files here\n",
    "                                 oversample=oversample,\n",
    "                                 interactive=False,\n",
    "                                 save_txt_only=False)\n",
    "\n",
    "    ff.fit_fringes(fitsimdir + fitsfn)\n",
    "    examine_observables(ff)\n",
    "\n",
    "    np.set_printoptions(formatter={'float': lambda x: '{:+.2e}'.format(x)}, linewidth=80)\n",
    "    if verbose:\n",
    "        print(\"raw_observables: fringepistons/rad\", ff.nrm.fringepistons)\n",
    "    utils.default_printoptions()\n",
    "    return affine2d, psf_offset_find_rotation, ff.nrm.psf_offset, ff.nrm.fringepistons\n",
    "\n",
    "\n",
    "def main(fitsimdir=None, oitdir=None, oifdir=None, ifn=None, oversample=3, mnem='', firstfew=None, verbose=False, usebp=True):\n",
    "    \"\"\"\n",
    "    fitsimdir: string: dir containing data file\n",
    "    ifn: str inout file name\n",
    "\n",
    "    \"\"\"\n",
    "\n",
    "    np.set_printoptions(formatter={'float': lambda x: '{:+.2e}'.format(x)}, linewidth=80)\n",
    "    if verbose:\n",
    "        print(\"main: \", ifn)\n",
    "    if verbose:\n",
    "        print(\"main: fitsimdir\", fitsimdir)\n",
    "      \n",
    "    aff, psf_offset_r, psf_offset_ff, fringepistons = raw_observables(fitsfn=ifn, \n",
    "                                                                   fitsimdir=fitsimdir, \n",
    "                                                                   oitdir=oitdir,\n",
    "                                                                   oifdir=oifdir,\n",
    "                                                                   oversample=oversample,\n",
    "                                                                   firstfew=firstfew,\n",
    "                                                                   usebp=usebp,\n",
    "                                                                   verbose=verbose)\n",
    "    print('aff', aff, 'psf_offset_r', psf_offset_r, 'psf_offset_ff', psf_offset_ff, 'fringepistons', fringepistons)\n",
    "    del aff\n",
    "    del psf_offset_r\n",
    "    del psf_offset_ff\n",
    "    del fringepistons"
   ]
  },
  {
   "cell_type": "markdown",
   "metadata": {},
   "source": [
    "### Run ImPlaneIA"
   ]
  },
  {
   "cell_type": "code",
   "execution_count": null,
   "metadata": {},
   "outputs": [],
   "source": [
    "mirdatafiles = ['jw01093001001_01101_00005_nis_calints.fits',\n",
    "                'jw01093002001_01101_00005_nis_calints.fits',\n",
    "                ]\n",
    "\n",
    "# Choose FIRSTFEW = None to analyze all integrations\n",
    "FIRSTFEW = 5\n",
    "OVERSAMPLE = 7\n",
    "\n",
    "print('FIRSTFEW', FIRSTFEW, 'OVERSAMPLE', OVERSAMPLE)\n",
    "\n",
    "datasuperdir = odir\n",
    "\n",
    "COUNT = 0\n",
    "for fnmir in mirdatafiles:\n",
    "    print('\\nAnalyzing\\n   ', COUNT, fnmir.replace('.fits', ''), end=' ')\n",
    "    hdr = fits.getheader(datasuperdir + fnmir)\n",
    "    print(hdr['FILTER'], end=' ')\n",
    "    print(hdr['TARGNAME'], end=' ')\n",
    "    print(hdr['TARGPROP'])\n",
    "    # next line for convenient use in oifits writer which looks up target online\n",
    "    catname = hdr['TARGPROP'].replace('-', '') # for target lookup on-line, otherwise UNKNOWN used\n",
    "    fits.setval(datasuperdir + fnmir, 'TARGNAME', value=catname)\n",
    "    fits.setval(datasuperdir + fnmir, 'TARGPROP', value=catname)\n",
    "    \n",
    "    usebp = False\n",
    "    \n",
    "    main(fitsimdir=datasuperdir,\n",
    "         oitdir=odir+'Saveoit/',\n",
    "         oifdir=odir+'Saveoif/',\n",
    "         ifn=fnmir, \n",
    "         oversample=OVERSAMPLE, \n",
    "         mnem='',\n",
    "         firstfew=FIRSTFEW,\n",
    "         usebp=usebp,\n",
    "         verbose=True) # verbose only has driver-function scope\n",
    "    COUNT += 1"
   ]
  },
  {
   "cell_type": "markdown",
   "metadata": {},
   "source": [
    "### Examine the output products"
   ]
  },
  {
   "cell_type": "markdown",
   "metadata": {},
   "source": [
    "Analytical model is created and interferometric observables are calculated for each integration of the data. The output products are stored in a folder that has rootname of the file, jw01093001001_01101_00001_nis_calints for AB-dor and jw01093001001_01101_00001_nis_calints foir HD37093. "
   ]
  },
  {
   "cell_type": "code",
   "execution_count": null,
   "metadata": {},
   "outputs": [],
   "source": [
    "# integration 0 (1st integration)\n",
    "results_int0 = glob.glob(odir + '/Saveoit/' + \"jw01093001001_01101_00005_nis_calints/*00*\")"
   ]
  },
  {
   "cell_type": "code",
   "execution_count": null,
   "metadata": {},
   "outputs": [],
   "source": [
    "results_int0"
   ]
  },
  {
   "cell_type": "markdown",
   "metadata": {},
   "source": [
    "### Information about observables calculated from the 1st integration\n",
    "\n",
    "\n",
    "```\n",
    "- phases_00.txt: 35 fringe phases\n",
    "- amplitudes_00.txt: 21 fringe amplitudes\n",
    "- CPs_00.txt: 35 closure phases\n",
    "- CAs_00.txt: 35 closure amplitudes\n",
    "- fringepistons_00.txt: 7 pistons (optical path delays between mask holes)\n",
    "- solutions_00.txt: 44 fringe coefficients of terms in the analytical model\n",
    "- modelsolution_00.fits: analytical model\n",
    "- n_modelsolution_00.fits: normalized analytical model\n",
    "- residual_00.fits: data - model\n",
    "- n_residual_00.fits: normalized residual\n",
    "\n",
    "```"
   ]
  },
  {
   "cell_type": "code",
   "execution_count": null,
   "metadata": {},
   "outputs": [],
   "source": [
    "cropped_data = fits.getdata(odir + '/Saveoit/' + \"jw01093001001_01101_00005_nis_calints/centered_0.fits\")\n",
    "model = fits.getdata(odir + '/Saveoit/' + \"jw01093001001_01101_00005_nis_calints/modelsolution_00.fits\")\n",
    "residual = fits.getdata(odir + '/Saveoit/' + \"jw01093001001_01101_00005_nis_calints/residual_00.fits\")\n",
    "n_residual = fits.getdata(odir + '/Saveoit/' + \"jw01093001001_01101_00005_nis_calints/n_residual_00.fits\")"
   ]
  },
  {
   "cell_type": "code",
   "execution_count": null,
   "metadata": {},
   "outputs": [],
   "source": [
    "f = plt.figure(figsize=(12, 3))\n",
    "plt.subplot(1, 3, 1)\n",
    "plt.title(\"AB-Dor cropped data\")\n",
    "plt.imshow(cropped_data, origin='lower')\n",
    "plt.subplot(1, 3, 2)\n",
    "plt.title(\"AB-Dor analytical model\")\n",
    "plt.imshow(model, origin='lower')\n",
    "plt.subplot(1, 3, 3)\n",
    "plt.title(\"AB-Dor residual (data - model)\")\n",
    "plt.imshow(residual, origin='lower')"
   ]
  },
  {
   "cell_type": "code",
   "execution_count": null,
   "metadata": {},
   "outputs": [],
   "source": [
    "plt.title(\"AB-Dor normalized residual\")\n",
    "plt.imshow(n_residual, clim=(-0.03, 0.03), origin='lower')\n",
    "plt.colorbar()"
   ]
  },
  {
   "cell_type": "markdown",
   "metadata": {},
   "source": [
    "### OIFITS files for the target and calibrator"
   ]
  },
  {
   "cell_type": "markdown",
   "metadata": {},
   "source": [
    "OIFITS is the standard data exchange format for Optical Interferometry.  It is based on the Flexible Image Transport System (FITS).  OIFITS files include data tables for storing interferometric observables, including squared visibilities and closure phases. "
   ]
  },
  {
   "cell_type": "code",
   "execution_count": null,
   "metadata": {},
   "outputs": [],
   "source": [
    "import glob\n",
    "odirfiles = glob.glob(odir + 'Saveoif/' + \"*oifits\")\n",
    "odirfiles"
   ]
  },
  {
   "cell_type": "markdown",
   "metadata": {},
   "source": [
    "### Calibrate the closure phases and fringe amplitudes of target with the closure phases and fringe amplitudes of the calibrator."
   ]
  },
  {
   "cell_type": "markdown",
   "metadata": {},
   "source": [
    "This step is necessary to remove instrumental contribution to closure phases and fringe amplitudes."
   ]
  },
  {
   "cell_type": "code",
   "execution_count": null,
   "metadata": {},
   "outputs": [],
   "source": [
    "# Define the target and calibrator OIFITS files\n",
    "targ_oifits = (odir + 'Saveoif/' + 'jw01093001001_01101_00005_nis.oifits')\n",
    "cal_oifits = (odir + 'Saveoif/' + 'jw01093002001_01101_00005_nis.oifits')\n",
    "print(targ_oifits)\n",
    "print(cal_oifits)\n",
    "\n",
    "# Produce a single calibrated OIFITS file\n",
    "print(\"************  Running calibrate ***************\")\n",
    "calibrate_oifits(targ_oifits, cal_oifits, oifdir=odir)\n",
    "\n",
    "print(\"The output of calibrate is calibrated oifits file that will be used as an input to 3_niriss_ami_binary.ipynb.\")"
   ]
  },
  {
   "cell_type": "markdown",
   "metadata": {},
   "source": [
    "*Developer Note:*\n",
    "The observable extraction performed in this notebook used only the first 5 integrations to save time while demonstrating the use of ImPlaneIA to reduce pipeline-calibrated observations. For accurate science use, we use all the integrations contained in the input data files. Therefore the input data for notebook 3 (3_niriss_ami_binary.ipynb) is slightly different from the output of 2_niriss_ami_binary.ipynb."
   ]
  },
  {
   "cell_type": "markdown",
   "metadata": {},
   "source": [
    "## Aditional Resources\n",
    "\n",
    "- [JWST NIRISS AMI](https://jwst-docs.stsci.edu/near-infrared-imager-and-slitless-spectrograph/niriss-observing-modes/niriss-aperture-masking-interferometry)"
   ]
  },
  {
   "cell_type": "markdown",
   "metadata": {
    "slideshow": {
     "slide_type": "slide"
    }
   },
   "source": [
    "## About this notebook\n",
    "\n",
    "**Author:** Deepashri Thatte, Anand Sivaramakrishnan, Rachel Cooper,\n",
    "**Updated On:** 2021-07-19"
   ]
  },
  {
   "cell_type": "markdown",
   "metadata": {},
   "source": [
    "***"
   ]
  },
  {
   "cell_type": "markdown",
   "metadata": {},
   "source": [
    "[Top of Page](#top)\n",
    "<img style=\"float: right;\" src=\"https://raw.githubusercontent.com/spacetelescope/notebooks/master/assets/stsci_pri_combo_mark_horizonal_white_bkgd.png\" alt=\"Space Telescope Logo\" width=\"200px\"/> "
   ]
  }
 ],
 "metadata": {
  "kernelspec": {
   "display_name": "Python 3 (ipykernel)",
   "language": "python",
   "name": "python3"
  },
  "language_info": {
   "codemirror_mode": {
    "name": "ipython",
    "version": 3
   },
   "file_extension": ".py",
   "mimetype": "text/x-python",
   "name": "python",
   "nbconvert_exporter": "python",
   "pygments_lexer": "ipython3",
   "version": "3.9.5"
  }
 },
 "nbformat": 4,
 "nbformat_minor": 2
}
