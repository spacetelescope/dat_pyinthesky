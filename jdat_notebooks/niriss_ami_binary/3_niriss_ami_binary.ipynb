{
 "cells": [
  {
   "cell_type": "markdown",
   "metadata": {
    "slideshow": {
     "slide_type": "slide"
    }
   },
   "source": [
    "# NIRISS AMI: Binary fitting of AB Dor using AMICAL"
   ]
  },
  {
   "cell_type": "markdown",
   "metadata": {
    "slideshow": {
     "slide_type": "slide"
    }
   },
   "source": [
    "## Introduction\n",
    "This notebook takes a calibrated OIFITS file (see _Defining Terms_ below) from NIRISS Aperture Masking Interferometry (AMI) data of binary point source AB Dor and calibrator HD 37093. The data is simulated with Mirage ([Multi-Instrument Ramp Generator](https://mirage-data-simulator.readthedocs.io/en/latest/)), calibrated with the [JWST pipeline](https://jwst-pipeline.readthedocs.io/en/latest/index.html), and has interferometric observables extracted using the Image Plane approach to Interferometric Analysis ([ImPlaneIA](http://ascl.net/1808.004)). This notebook estimates the parameters of a best-fit binary model for this data. It is closely based on Anthony Soulain's example script analyzing NIRISS AMI commissioning on the known binary AB Dor AC. \n",
    "\n",
    "We use AMICAL (Aperture Masking Interferometry Calibration and Analysis Library, developed by the Sydney Astrophotonic Instrumentation Lab) to extract binary point source parameters. AMICAL interfaces with the [CANDID (Companion Analysis and Non-Detection in Interferometric Data) analysis package](https://github.com/amerand/CANDID) analysis package, which is included with AMICAL. The CANDID code is described by [Galenne et al. 2015](https://ui.adsabs.harvard.edu/link_gateway/2015A&A...579A..68G/doi:10.1051/0004-6361/201525917). It utilizes model-fitting and chi-squared minimization. See the [CANDID github page](https://github.com/amerand/CANDID) for further details."
   ]
  },
  {
   "cell_type": "markdown",
   "metadata": {
    "slideshow": {
     "slide_type": "slide"
    }
   },
   "source": [
    "### Defining terms\n",
    "\n",
    "**[OIFITS](https://doi.org/10.1051/0004-6361/201526405)** files are the Optical Interferometry standard FITS files used by the community. A science target's observables are **calibrated** by the observables of a PSF calibrator star's image, to remove telescope/instrument effects (as far as possible).\n",
    "\n",
    "**AMICAL** is **A**perture **M**asking **I**nterferometry **C**alibration and **A**nalysis **L**ibrary.  It is developed by the Sydney Astrophotonic Instrumentation Lab https://github.com/DrSoulain/dat_pyinthesky.git"
   ]
  },
  {
   "cell_type": "markdown",
   "metadata": {},
   "source": [
    "**Developer Note:**\n",
    "\n",
    "Create the conda environment needed to run this notebook by issuing the following command:\n",
    "```\n",
    "conda create -n <myenv> python=3.8\n",
    "```\n",
    "Activate the environment, install the requirements, and then open the notebook.\n",
    "\n",
    "```\n",
    "conda activate <myenv>\n",
    "pip install -r pre-requirements.txt \n",
    "pip install -r requirements.txt \n",
    "jupyter notebook\n",
    "```"
   ]
  },
  {
   "cell_type": "markdown",
   "metadata": {
    "slideshow": {
     "slide_type": "skip"
    }
   },
   "source": [
    "***"
   ]
  },
  {
   "cell_type": "markdown",
   "metadata": {
    "slideshow": {
     "slide_type": "slide"
    }
   },
   "source": [
    "## Imports\n",
    "\n",
    "- *numpy* to handle array functions\n",
    "- *scipy.ndimage* for image handling\n",
    "- *multiprocessing* to parallelize binary extraction\n",
    "- *astropy.io fits* for accessing FITS files\n",
    "- *astropy.units* for unit conversion\n",
    "- *matplotlib.pyplot* for plotting data\n",
    "- *zipfile* for accessing zip file\n",
    "- *urllib.request* to access URL\n",
    "- *amical* University of Sydney interferometric package for interface with CANDID high-contrast companion detection\n"
   ]
  },
  {
   "cell_type": "code",
   "execution_count": null,
   "metadata": {
    "slideshow": {
     "slide_type": "fragment"
    }
   },
   "outputs": [],
   "source": [
    "%matplotlib inline\n",
    "\n",
    "import numpy as np\n",
    "import os\n",
    "import glob\n",
    "import multiprocessing\n",
    "\n",
    "import zipfile\n",
    "import urllib.request\n",
    "\n",
    "from astropy.io import fits\n",
    "from astropy import units as u\n",
    "import matplotlib.pyplot as plt\n",
    "from scipy import ndimage\n",
    "\n",
    "import amical"
   ]
  },
  {
   "cell_type": "markdown",
   "metadata": {},
   "source": [
    "***"
   ]
  },
  {
   "cell_type": "markdown",
   "metadata": {},
   "source": [
    "\n",
    "\n",
    "The provided data is a NIRISS simulated dataset representing a binary star: a 4.61 $M_L$ K0V primary (AB Dor A) with a faint companion. At the date for which these data were simulated, we expect to observe the following characteristics of the binary system observed in filter F430M:  \n",
    "- Magnitude difference: dm = 4.2 mag at 4.3 μm (a flux ratio of 48)\n",
    "- Sub-λ/D separation: sep = 363.04 mas\n",
    "- Position angle: theta = 285.40 degrees (from North)\n",
    "  "
   ]
  },
  {
   "cell_type": "code",
   "execution_count": null,
   "metadata": {},
   "outputs": [],
   "source": [
    "# These are the binary parameters we expect CANDID to extract\n",
    "\n",
    "sep = 363.04 # binary separation [mas]\n",
    "theta = 285.398112 # position angle (pa) [deg]\n",
    "dm = 4.2  # delta magnitude [mag]"
   ]
  },
  {
   "cell_type": "markdown",
   "metadata": {
    "slideshow": {
     "slide_type": "slide"
    }
   },
   "source": [
    "## Loading data\n",
    "Load the input data file. This is the science target's calibrated oifits file, created by running `2_niriss_ami_binary.ipynb`. The zipped file also includes a FITS image with the faint companion artificially brightened so we can examine its position relative to the host star."
   ]
  },
  {
   "cell_type": "code",
   "execution_count": null,
   "metadata": {},
   "outputs": [],
   "source": [
    "# Download the products\n",
    "\n",
    "boxlink = 'https://data.science.stsci.edu/redirect/JWST/jwst-data_analysis_tools/niriss_ami_binary/niriss_ami_binary3.zip'\n",
    "boxfile = './niriss_ami_binary3.zip'\n",
    "\n",
    "# Download zip file\n",
    "if not os.path.exists(boxfile):\n",
    "    urllib.request.urlretrieve(boxlink, boxfile)\n",
    "\n",
    "    zf = zipfile.ZipFile(boxfile, 'r')\n",
    "    zf.extractall()"
   ]
  },
  {
   "cell_type": "code",
   "execution_count": null,
   "metadata": {},
   "outputs": [],
   "source": [
    "# The data file is now in the current working directory\n",
    "calib_oifits = glob.glob('calib*oifits')[0]\n",
    "print(os.path.abspath(calib_oifits))\n",
    "\n"
   ]
  },
  {
   "cell_type": "markdown",
   "metadata": {
    "slideshow": {
     "slide_type": "slide"
    }
   },
   "source": [
    "## File Information\n",
    "The science target's calibrated oifits file needs to have interferometric observables corresponding to all possible baselines in the non-redundant mask, and their associated uncertainties. The uncertainty on each observable is taken to be the \"straight\" standard deviation (without consideration for linear dependence within a set of variables).\n",
    "OIFITS files are multi-extension FITS binary tables.\n",
    "\n",
    "The file contains seven extensions. The primary data extension is empty, and the remaining six extensions binary tables contain information about the observations and the interferometric data.\n",
    "* **OI_WAVELENGTH**: Bandpass info (e.g. weighted central wavelength) \n",
    "* **OI_TARGET**: Properties of the target retrieved from SIMBAD, observation date and duration\n",
    "* **OI_ARRAY**: Telescope info (e.g. sub-aperture locations, primary mirror diameter) \n",
    "* **OI_VIS**: Fringe visibility amplitudes and phases (calibrated visibility amplitudes of the target, corresponding to 21 baselines)\n",
    "* **OI_VIS2**: Squared visibility amplitudes and phases (calibrated squared visibility of the target, corresponding to 21 baselines)\n",
    "* **OI_T3**: Triple product amplitudes and phases (calibrated closure phases of the target corresponding to 35 triangles between sub-apertures)"
   ]
  },
  {
   "cell_type": "code",
   "execution_count": null,
   "metadata": {},
   "outputs": [],
   "source": [
    "# Display OIFITS file information\n",
    "fits.info(calib_oifits)"
   ]
  },
  {
   "cell_type": "markdown",
   "metadata": {},
   "source": [
    "The primary header tells us some information about the contents, such as the telescope (JWST), aperture mask design used (g7s6), the name of the target (AB Dor), and the name of the calibrator (HD37093):"
   ]
  },
  {
   "cell_type": "code",
   "execution_count": null,
   "metadata": {},
   "outputs": [],
   "source": [
    "# Display primary header contents\n",
    "fits.getheader(calib_oifits)"
   ]
  },
  {
   "cell_type": "markdown",
   "metadata": {},
   "source": [
    "## Examine the data\n",
    "\n",
    "First, we will plot the interferometric observables we will be fitting with CANDID. These are the 35 closure phases and 21 squared visibilities of simulated AB Dor observations, calibrated by our reference star HD 37093. We will plot observables against $B_{max}/\\lambda$, where $B_{max}$ is the baseline between the centers of two sub-apertures (for squared visibility) or the longest of the three baselines between three sub-apertures (for closure phase) and $\\lambda$ is the central wavelength of the filter (4.82 $\\mu$m)"
   ]
  },
  {
   "cell_type": "code",
   "execution_count": null,
   "metadata": {
    "scrolled": true
   },
   "outputs": [],
   "source": [
    "# Your input data is an oifits file\n",
    "with fits.open(calib_oifits) as hdu:\n",
    "    cp_ext = hdu['OI_T3'].data\n",
    "    sqvis_ext = hdu['OI_VIS2'].data\n",
    "    oiarray = hdu['OI_ARRAY'].data\n",
    "    wavel = hdu['OI_WAVELENGTH'].data['EFF_WAVE']\n",
    "    pscale = hdu['OI_ARRAY'].header['PSCALE']\n",
    "    pav3 = hdu[0].header['PA']\n",
    "print('Wavelength: %.2e m' % wavel) \n",
    "print('V3 PA: %.2f degrees' % pav3)\n",
    "cp = cp_ext['T3PHI']\n",
    "cp_err = cp_ext['T3PHIERR']\n",
    "tri_idx = cp_ext['STA_INDEX']\n",
    "\n",
    "sqvis = sqvis_ext['VIS2DATA']\n",
    "sqvis_err = sqvis_ext['VIS2ERR']\n",
    "bl_idx = sqvis_ext['STA_INDEX']\n",
    "\n",
    "hole_ctrs = oiarray['STAXYZ']\n",
    "hole_idx = oiarray['STA_INDEX']"
   ]
  },
  {
   "cell_type": "code",
   "execution_count": null,
   "metadata": {},
   "outputs": [],
   "source": [
    "# Calculate the length of the baseline [m] for each pair\n",
    "baselines = []\n",
    "for bl in bl_idx:\n",
    "    hole1,hole2 = (bl[0] - 1), (bl[1] - 1) # because hole numbers start at 1\n",
    "    x1, y1 = hole_ctrs[hole1][0], hole_ctrs[hole1][1] \n",
    "    x2, y2 = hole_ctrs[hole2][0], hole_ctrs[hole2][1] \n",
    "    length = np.abs(np.sqrt((x2 - x1)**2. + (y2 - y1)**2.))\n",
    "    baselines.append(length)\n",
    "# Calculate the length of three baselines for each triangle\n",
    "# Select the longest for plotting\n",
    "tri_baselines = []\n",
    "tri_longest = []\n",
    "for tri in tri_idx:\n",
    "    hole1, hole2, hole3 = tri[0] - 1, tri[1] - 1, tri[2] - 1\n",
    "    x1, y1 = hole_ctrs[hole1][0], hole_ctrs[hole1][1] \n",
    "    x2, y2 = hole_ctrs[hole2][0], hole_ctrs[hole2][1] \n",
    "    x3, y3 = hole_ctrs[hole3][0], hole_ctrs[hole3][1] \n",
    "    length12 = np.abs(np.sqrt((x2 - x1)**2. + (y2 - y1)**2.))\n",
    "    length23 = np.abs(np.sqrt((x3 - x2)**2. + (y3 - y2)**2.))\n",
    "    length31 = np.abs(np.sqrt((x1 - x3)**2. + (y1 - y3)**2.))\n",
    "    tri_lengths = [length12,length23,length31]\n",
    "    tri_baselines.append(tri_lengths)\n",
    "    tri_longest.append(np.max(tri_lengths))\n",
    "    \n",
    "# Calculate B_max/lambda\n",
    "bmaxlambda_sqvis = baselines / wavel\n",
    "bmaxlambda_cp = tri_longest / wavel\n",
    "\n",
    "# Label baselines and triangles\n",
    "bl_strings = []\n",
    "for idx in bl_idx:\n",
    "    bl_strings.append(str(idx[0])+'_'+str(idx[1]))\n",
    "\n",
    "tri_strings = []\n",
    "for idx in tri_idx:\n",
    "    tri_strings.append(str(idx[0])+'_'+str(idx[1])+'_'+str(idx[2]))"
   ]
  },
  {
   "cell_type": "code",
   "execution_count": null,
   "metadata": {},
   "outputs": [],
   "source": [
    "print(sorted(baselines))"
   ]
  },
  {
   "cell_type": "code",
   "execution_count": null,
   "metadata": {},
   "outputs": [],
   "source": [
    "# Plot closure phases, square visibilities\n",
    "# Label which point corresponds to which hole pair or triple\n",
    "\n",
    "fig, (ax1, ax2) = plt.subplots(1,2, figsize=(20,7))\n",
    "ax1.errorbar(bmaxlambda_cp, cp, yerr=cp_err, fmt='go')\n",
    "ax1.set_xlabel(r'$B_{max}/\\lambda$',size=16)\n",
    "ax1.set_ylabel('Closure phase [deg]',size=14)\n",
    "ax1.set_title('Calibrated Closure Phase',size=14)\n",
    "for ii, tri in enumerate(tri_strings):\n",
    "    ax1.annotate(tri, (bmaxlambda_cp[ii], cp[ii]), xytext=(bmaxlambda_cp[ii]+10000, cp[ii]))\n",
    "    \n",
    "ax2.errorbar(bmaxlambda_sqvis, sqvis, yerr=sqvis_err, fmt='go')\n",
    "ax2.set_title('Calibrated Squared Visibility',size=16)\n",
    "ax2.set_xlabel(r'$B_{max}/\\lambda$',size=14)\n",
    "ax2.set_ylabel('Squared visibility amplitude',size=14)\n",
    "for ii, bl in enumerate(bl_strings):\n",
    "    ax2.annotate(bl, (bmaxlambda_sqvis[ii], sqvis[ii]), xytext=(bmaxlambda_sqvis[ii]+10000, sqvis[ii]))"
   ]
  },
  {
   "cell_type": "markdown",
   "metadata": {},
   "source": [
    "The above plots show the calibrated closure phases (left) and the calibrated squared visibilities (right). Each quantity is plotted against $B_{max}/\\lambda$, the baseline length divided by the wavelength of the observation. In the case of closure phases, where the triangle is formed by three baselines, the longest one is selected. \n",
    "\n",
    "For a monochromatic observation of a point source, we would expect all 35 closure phases to be zero, and all 21 squared visibilities to be unity. Asymmetries in the target caused by, e.g., an unresolved companion, cause the closure phases and visibilities corresponding to the baselines between affected sub-apertures to diverge from zero or unity. We can now use the set of calibrated observables to model the most probable location and contrast ratio of the companion. "
   ]
  },
  {
   "cell_type": "code",
   "execution_count": null,
   "metadata": {},
   "outputs": [],
   "source": [
    "# You can also use the dedicated tool from AMICAL to plot the data:\n",
    "\n",
    "plot = amical.show(calib_oifits, cmax=30)"
   ]
  },
  {
   "cell_type": "markdown",
   "metadata": {},
   "source": [
    "## Perform the binary parameter extraction\n",
    "\n",
    "CANDID performs a search for faint companions over a coarse grid of starting points for the position of the companion and companion/star flux ratio. A multiparameter fit is performed for each starting position, and the companion position and flux ratio are adjusted, leading to a local $\\chi^2$ minimum. Based on the distance each starting point must travel to reach the local minima, CANDID creates a finer search grid and repeats the process. This iterative process eventually identifies a global minimum in the  $\\chi^2$ map.\n",
    "\n",
    "Each point on the grid is fitted with a model of a resolved primary star with a point-source companion. The interferometric observables are estimated using a least-squares minimization between the data and model. \n",
    "\n",
    "CANDID also estimates the number of standard deviations for each point in the search grid, to produce an $n\\sigma$ detection map. This map shows the significance of the binary detection over a model of a single resolved star. This value is capped at $50\\sigma$. "
   ]
  },
  {
   "cell_type": "markdown",
   "metadata": {},
   "source": [
    "### Utilize the provided interface to the CANDID package\n",
    "This function is an user friendly interface between the users of `amical`\n",
    "pipeline and the `CANDID` analysis package (https://github.com/amerand/CANDID).\n",
    "\n",
    "    Parameters:\n",
    "    -----------\n",
    "    `input_data` {str or list}:\n",
    "        oifits file names or list of oifits files,\\n\n",
    "    `step` {int}:\n",
    "        step used to compute the binary grid positions,\\n\n",
    "    `rmin`, `rmax` {float}:\n",
    "        Bounds of the grid [mas],\\n\n",
    "    `diam` {float}:\n",
    "        Stellar diameter of the primary star [mas] (default=0),\\n\n",
    "    `obs` {list}:\n",
    "        List of observables to be fitted (default: ['cp', 'v2']),\\n\n",
    "    `doNotFit` {list}:\n",
    "        Parameters not fitted (default: ['diam*']),\\n\n",
    "    `verbose` {boolean}:\n",
    "        print some informations {default: False}.\n",
    "\n",
    "    Outputs:\n",
    "    --------\n",
    "    `res` {dict}:\n",
    "        Dictionary of the results ('best'), uncertainties ('uncer'),\n",
    "        reduced chi2 ('chi2') and sigma detection ('nsigma').\n"
   ]
  },
  {
   "cell_type": "code",
   "execution_count": null,
   "metadata": {},
   "outputs": [],
   "source": [
    "# Set up parameters for the binary search grid\n",
    "# Calculate an appropriate step size based on the observation wavelength\n",
    "\n",
    "bmax = 5.28 * u.meter\n",
    "wavel = 4.8e-6 * u.meter\n",
    "maxstep = wavel/(4*bmax) * u.rad\n",
    "stepsize = int(maxstep.to(u.mas)/u.mas)\n",
    "print('Using a step size of %i mas' % stepsize)\n",
    "\n",
    "param_candid = {'rmin': 10,  # inner radius of the grid\n",
    "                'rmax': 500,  # outer radius of the grid\n",
    "                'step': stepsize,  # grid sampling\n",
    "                'ncore': multiprocessing.cpu_count()  # core for multiprocessing\n",
    "                }\n",
    "# Perform the fit\n",
    "fit1 = amical.candid_grid(calib_oifits, **param_candid, diam=0, doNotFit=['diam*'])\n",
    "\n",
    "# plot the fitted model on data with residuals\n",
    "mod_v2, mod_cp, chi2 = amical.plot_model(calib_oifits, fit1['best'])\n"
   ]
  },
  {
   "cell_type": "markdown",
   "metadata": {},
   "source": [
    "In the above output, CANDID provides a best-fit angular size for the target star, 'best fit diameter (UD)', and the $\\chi^2$ and n$\\sigma$ (capped at 50$\\sigma$) of the detection. It gives us estimates for the binary separation ('sep'), position angle ('theta'), contrast ratio ('CR'), and delta magnitudes ('dm'). \n",
    "\n",
    "It also produces plots of the squared visibilities and closure phases, and plots the residual (difference between the data and the best-fit model for each observable).\n",
    "\n",
    "We can now compare these with our expected values from above:"
   ]
  },
  {
   "cell_type": "code",
   "execution_count": null,
   "metadata": {},
   "outputs": [],
   "source": [
    "sep_fit, sep_unc = fit1['best']['sep'], fit1['uncer']['sep']\n",
    "theta_fit, theta_unc = fit1['best']['theta'], fit1['uncer']['theta']\n",
    "dm_fit, dm_unc = fit1['best']['dm'], fit1['uncer']['dm']\n",
    "\n",
    "print('             Expected      Model')\n",
    "print('Sep [mas]:   %.3f      %.3f +/- %.2f' % (sep, sep_fit, sep_unc))\n",
    "print('Theta [deg]: %.3f      %.3f +/- %.2f' % (theta, theta_fit, theta_unc))\n",
    "print('dm [mag]:    %.3f        %.3f +/- %.2f' % (dm, dm_fit, dm_unc))"
   ]
  },
  {
   "cell_type": "markdown",
   "metadata": {},
   "source": [
    "Next, we will use CANDID to find the detection limit at different angular separations. To do this, CANDID injects an additional companion at each grid position with different flux ratios and estimates the number of sigma for a theoretical detection at that point. It interpolates the flux ratio values at 3$\\sigma$ for all points in the grid to produce a 3$\\sigma$ detection map of the contrast (flux) ratio. "
   ]
  },
  {
   "cell_type": "code",
   "execution_count": null,
   "metadata": {},
   "outputs": [],
   "source": [
    "#  Find detection limits using the fake injection method\n",
    "cr_candid = amical.candid_cr_limit(\n",
    "            calib_oifits, **param_candid, fitComp=fit1['comp'])"
   ]
  },
  {
   "cell_type": "markdown",
   "metadata": {},
   "source": [
    "The first plot above shows the detection limit, in terms of contrast ($\\Delta$Mag), at each location in the search grid based on the injection/detection of false companions. The second plot show an estimate of the same detection limit with respect to the angular separation [mas] from the primary target. For a complete description of the CANDID algorithm, see [Galenne et al. 2015](https://ui.adsabs.harvard.edu/link_gateway/2015A&A...579A..68G/doi:10.1051/0004-6361/201525917)."
   ]
  },
  {
   "cell_type": "markdown",
   "metadata": {},
   "source": [
    "### Visually compare the position\n",
    "\n",
    "We can now look at an image with the faint companion artificially brightened, and we see that the position of the primary star at the center and its faint companion appear to match the position of the companion detected on the above $\\chi^2$ and $n\\sigma$ maps output by CANDID."
   ]
  },
  {
   "cell_type": "code",
   "execution_count": null,
   "metadata": {},
   "outputs": [],
   "source": [
    "bright_im = fits.getdata('jw01093001001_01101_00001_nis_uncal_F480M_NRM_final_seed_image_fakemag_4.8131.fits')\n",
    "# center and trim the image around the bright pixel before rotating\n",
    "bright_idx = np.where(bright_im == np.max(bright_im))\n",
    "left, right = bright_idx[1][0] - 30, bright_idx[1][0] + 30\n",
    "down, up = bright_idx[0][0] - 30, bright_idx[0][0] + 30\n",
    "trimmed = bright_im[down:up,left:right]\n",
    "\n",
    "# rotate the image by pav3 to match orientation\n",
    "rot_im = ndimage.rotate(trimmed, -pav3, reshape=False)\n",
    "# convert image coordinates from pixels to milliarcsec, centered on target\n",
    "xsize_px, ysize_px = rot_im.shape[0],rot_im.shape[1]\n",
    "xsize_mas, ysize_mas = xsize_px*pscale, ysize_px*pscale\n",
    "bright_loc = np.where(rot_im == np.max(rot_im))\n",
    "brightx_mas, brighty_mas = bright_loc[1][0]*pscale, bright_loc[0][0]*pscale\n",
    "xmin, xmax = 0. - brightx_mas, xsize_mas - brightx_mas\n",
    "ymin, ymax = 0. - brighty_mas, ysize_mas - brighty_mas\n",
    "\n",
    "# Plot the image on the same scale as CANDID maps above\n",
    "fig = plt.figure(figsize=(4,4))\n",
    "plt.imshow(rot_im, origin='lower', extent=[-xmin,-xmax,ymin,ymax])\n",
    "plt.xlim([500,-500])\n",
    "plt.ylim([-500,500])\n",
    "plt.title('AB Dor and Companion')\n",
    "plt.xlabel(r'$\\Delta\\alpha$ [mas]')\n",
    "plt.ylabel(r'$\\Delta\\delta$ [mas]')\n",
    "\n"
   ]
  },
  {
   "cell_type": "markdown",
   "metadata": {},
   "source": [
    "The above plot confirms the position of the faint companion relative to the target, shown here as change in right ascension and declination from the center of the target star."
   ]
  },
  {
   "cell_type": "markdown",
   "metadata": {},
   "source": [
    "## Additional Resources\n",
    "\n",
    "- [JWST NIRISS AMI](https://jwst-docs.stsci.edu/near-infrared-imager-and-slitless-spectrograph/niriss-observing-modes/niriss-aperture-masking-interferometry)\n",
    "- [CANDID paper (Galenne et al. 2015)](https://ui.adsabs.harvard.edu/link_gateway/2015A&A...579A..68G/doi:10.1051/0004-6361/201525917)"
   ]
  },
  {
   "cell_type": "markdown",
   "metadata": {
    "slideshow": {
     "slide_type": "slide"
    }
   },
   "source": [
    "## About this notebook\n",
    "**Author:** Rachel Cooper and Anand Sivaramakrishnan's transcription of an analysis script written by Anthony Soulain (University of Sydney) that runs the CANDID interferometric package  \n",
    "**Updated On:** 2021-02-08"
   ]
  },
  {
   "cell_type": "markdown",
   "metadata": {},
   "source": [
    "***"
   ]
  },
  {
   "cell_type": "markdown",
   "metadata": {},
   "source": [
    "[Top of Page](#top)\n",
    "<img style=\"float: right;\" src=\"https://raw.githubusercontent.com/spacetelescope/notebooks/master/assets/stsci_pri_combo_mark_horizonal_white_bkgd.png\" alt=\"Space Telescope Logo\" width=\"200px\"/> "
   ]
  }
 ],
 "metadata": {
  "kernelspec": {
   "display_name": "Python 3",
   "language": "python",
   "name": "python3"
  },
  "language_info": {
   "codemirror_mode": {
    "name": "ipython",
    "version": 3
   },
   "file_extension": ".py",
   "mimetype": "text/x-python",
   "name": "python",
   "nbconvert_exporter": "python",
   "pygments_lexer": "ipython3",
   "version": "3.8.8"
  }
 },
 "nbformat": 4,
 "nbformat_minor": 2
}
