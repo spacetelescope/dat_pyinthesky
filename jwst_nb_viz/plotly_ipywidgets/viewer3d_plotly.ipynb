{
 "cells": [
  {
   "cell_type": "markdown",
   "metadata": {},
   "source": [
    "## Plotly Example Notebook"
   ]
  },
  {
   "cell_type": "markdown",
   "metadata": {},
   "source": [
    "Note: This does not appear to work in jupyter lab, only in jupyter notebooks. As I remember it was an issue with displaying widgets in jupyter labs.\n",
    "\n",
    "pip install: astropy numpy spectral-cube scipy plotly jupyter-notebook https://github.com/brechmos-stsci/vizapp"
   ]
  },
  {
   "cell_type": "markdown",
   "metadata": {},
   "source": [
    "Load up the correct imports"
   ]
  },
  {
   "cell_type": "code",
   "execution_count": null,
   "metadata": {},
   "outputs": [],
   "source": [
    "import numpy as np\n",
    "from spectral_cube import SpectralCube\n",
    "from astropy.wcs import WCS\n",
    "\n",
    "\n",
    "import sys\n",
    "sys.path.append('/home/craig/Documents/STScI/vizapp/vizapp')\n",
    "\n",
    "from vizapp.vizapp import VizApp\n",
    "from vizapp.viewers.viewer1d import PlotlyViewer1D\n",
    "from vizapp.viewers.viewernd import PlotlyViewerND"
   ]
  },
  {
   "cell_type": "markdown",
   "metadata": {},
   "source": [
    "## Load Dataset"
   ]
  },
  {
   "cell_type": "code",
   "execution_count": null,
   "metadata": {},
   "outputs": [],
   "source": [
    "from astropy.io import fits\n",
    "\n",
    "fits_file = fits.open('/home/craig/Documents/STScI/cubeviz/data/manga-7495-12704-LOGCUBE_fixed.fits.gz')"
   ]
  },
  {
   "cell_type": "markdown",
   "metadata": {},
   "source": [
    "## Add the Dataset to the VizApp"
   ]
  },
  {
   "cell_type": "code",
   "execution_count": null,
   "metadata": {},
   "outputs": [],
   "source": [
    "vizapp = VizApp()"
   ]
  },
  {
   "cell_type": "markdown",
   "metadata": {},
   "source": [
    "### Add some 3D Data"
   ]
  },
  {
   "cell_type": "code",
   "execution_count": null,
   "metadata": {},
   "outputs": [],
   "source": [
    "vizapp.add_data('manga-flux', fits_file['FLUX'].data)\n",
    "vizapp.add_data('manga-ivar', fits_file['IVAR'].data)\n",
    "vizapp.add_data('manga-mask', fits_file['MASK'].data)"
   ]
  },
  {
   "cell_type": "markdown",
   "metadata": {},
   "source": [
    "### Add some 2D Data"
   ]
  },
  {
   "cell_type": "code",
   "execution_count": null,
   "metadata": {},
   "outputs": [],
   "source": [
    "# Pre-load so the overlay has something to show.\n",
    "vizapp.add_data('median-flux', np.nanmedian(fits_file['FLUX'].data, axis=0))"
   ]
  },
  {
   "cell_type": "markdown",
   "metadata": {},
   "source": [
    "### Add some 1D Data"
   ]
  },
  {
   "cell_type": "code",
   "execution_count": null,
   "metadata": {},
   "outputs": [],
   "source": [
    "vizapp.add_data('median-spatial-flux', np.nanmedian(fits_file['FLUX'].data, axis=(1,2)))\n",
    "vizapp.add_data('mean-spatial-flux', np.nanmean(fits_file['FLUX'].data, axis=(1,2)))"
   ]
  },
  {
   "cell_type": "markdown",
   "metadata": {},
   "source": [
    "### Add a 3D Processing Method"
   ]
  },
  {
   "cell_type": "code",
   "execution_count": null,
   "metadata": {},
   "outputs": [],
   "source": [
    "import scipy.ndimage\n",
    "vizapp.add_3d_processing('gaussian-filter', scipy.ndimage.gaussian_filter, 'input', [('sigma', 3.0)],)"
   ]
  },
  {
   "cell_type": "markdown",
   "metadata": {},
   "source": [
    "## Add vizapp to the Viewer"
   ]
  },
  {
   "cell_type": "code",
   "execution_count": null,
   "metadata": {
    "scrolled": false
   },
   "outputs": [],
   "source": [
    "viewernd = PlotlyViewerND(vizapp)"
   ]
  },
  {
   "cell_type": "code",
   "execution_count": null,
   "metadata": {
    "scrolled": false
   },
   "outputs": [],
   "source": [
    "viewernd.show()"
   ]
  },
  {
   "cell_type": "markdown",
   "metadata": {},
   "source": [
    "## 1D Viewer"
   ]
  },
  {
   "cell_type": "code",
   "execution_count": null,
   "metadata": {},
   "outputs": [],
   "source": [
    "viewer1d = PlotlyViewer1D(vizapp)"
   ]
  },
  {
   "cell_type": "code",
   "execution_count": null,
   "metadata": {
    "scrolled": false
   },
   "outputs": [],
   "source": [
    "viewer1d.show()"
   ]
  },
  {
   "cell_type": "code",
   "execution_count": null,
   "metadata": {},
   "outputs": [],
   "source": []
  }
 ],
 "metadata": {
  "kernelspec": {
   "display_name": "Python 3",
   "language": "python",
   "name": "python3"
  },
  "language_info": {
   "codemirror_mode": {
    "name": "ipython",
    "version": 3
   },
   "file_extension": ".py",
   "mimetype": "text/x-python",
   "name": "python",
   "nbconvert_exporter": "python",
   "pygments_lexer": "ipython3",
   "version": "3.7.2"
  }
 },
 "nbformat": 4,
 "nbformat_minor": 2
}
