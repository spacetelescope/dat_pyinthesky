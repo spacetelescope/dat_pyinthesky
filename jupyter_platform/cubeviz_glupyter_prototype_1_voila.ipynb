{
 "cells": [
  {
   "cell_type": "code",
   "execution_count": 1,
   "metadata": {},
   "outputs": [],
   "source": [
    "# This is a version of the cubeviz_glupyter_prototype_1.ipynb notebook which is\n",
    "# suitable for use with voila. We need to make sure there is no output except\n",
    "# for the widgets we are interested in.\n",
    "#\n",
    "# To run, do the following at the command-line:\n",
    "#\n",
    "#    voila cubeviz_glupyter_prototype_1_voila\n",
    "\n",
    "import os\n",
    "import warnings\n",
    "import numpy as np\n",
    "import glue_jupyter as gj\n",
    "from urllib.request import urlretrieve\n",
    "\n",
    "warnings.simplefilter('ignore')\n",
    "\n",
    "if not os.path.exists('manga-7495-12704-LOGCUBE.fits.gz'):\n",
    "    _ = urlretrieve('http://data.sdss.org/sas/dr13/manga/spectro/redux/v1_5_4/7495/stack/manga-7495-12704-LOGCUBE.fits.gz',\n",
    "                    'manga-7495-12704-LOGCUBE.fits.gz')\n",
    "    \n",
    "app = gj.jglue()\n",
    "\n",
    "cube = app.load_data('manga-7495-12704-LOGCUBE.fits.gz')[0]\n",
    "\n",
    "image = app.imshow(data=cube)\n",
    "profile = app.profile1d(data=cube)"
   ]
  },
  {
   "cell_type": "code",
   "execution_count": 5,
   "metadata": {},
   "outputs": [],
   "source": [
    "from ipyevents import Event\n",
    "from ipywidgets import Text, VBox\n",
    "\n",
    "t = Text()\n",
    "d = Event(source=image.figure, watched_events=['mousemove'])\n",
    "def handle_event(event):\n",
    "    x = event['relativeX']\n",
    "    y = event['relativeX']\n",
    "    t.value = 'x={0} y={1}'.format(x, y)\n",
    "d.on_dom_event(handle_event)\n",
    "\n",
    "image.main_widget.children += (t,)"
   ]
  }
 ],
 "metadata": {
  "kernelspec": {
   "display_name": "Python 3",
   "language": "python",
   "name": "python3"
  },
  "language_info": {
   "codemirror_mode": {
    "name": "ipython",
    "version": 3
   },
   "file_extension": ".py",
   "mimetype": "text/x-python",
   "name": "python",
   "nbconvert_exporter": "python",
   "pygments_lexer": "ipython3",
   "version": "3.7.1"
  }
 },
 "nbformat": 4,
 "nbformat_minor": 2
}
