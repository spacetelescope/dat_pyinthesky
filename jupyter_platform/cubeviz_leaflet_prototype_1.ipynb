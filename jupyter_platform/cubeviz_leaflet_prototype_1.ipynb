{
 "cells": [
  {
   "cell_type": "markdown",
   "metadata": {},
   "source": [
    "# Cubeviz base functionality with leaflet\n",
    "\n",
    "1. Load a data cube\n",
    "2. Scrub through the channels, displaying 2D and 1D\n",
    "3. Median collapse cube\n",
    "4. Stretch goal: Hover stats at cursor (x, y, counts, RA, Dec)"
   ]
  },
  {
   "cell_type": "code",
   "execution_count": null,
   "metadata": {},
   "outputs": [],
   "source": [
    "import io\n",
    "import logging\n",
    "import random\n",
    "import threading\n",
    "\n",
    "import numpy as np\n",
    "\n",
    "from astropy import visualization\n",
    "from astropy.nddata import CCDData\n",
    "\n",
    "import ipyleaflet\n",
    "import ipywidgets\n",
    "\n",
    "from IPython.display import display\n",
    "\n",
    "import flask\n",
    "\n",
    "# NOTE: In-place plot update does not work with inline\n",
    "%matplotlib notebook\n",
    "from matplotlib import pyplot as plt"
   ]
  },
  {
   "cell_type": "markdown",
   "metadata": {},
   "source": [
    "Create sample data cube."
   ]
  },
  {
   "cell_type": "code",
   "execution_count": null,
   "metadata": {},
   "outputs": [],
   "source": [
    "np.random.seed(1234)\n",
    "cube = np.random.random(10000000).reshape((1000, 100, 100))"
   ]
  },
  {
   "cell_type": "code",
   "execution_count": null,
   "metadata": {},
   "outputs": [],
   "source": [
    "c1 = CCDData(cube, unit='count')"
   ]
  },
  {
   "cell_type": "markdown",
   "metadata": {},
   "source": [
    "Some functions copied over from `html_view_into_leaflet.ipynb`.\n",
    "\n",
    "**TODO: These functions should be documented because I have no idea what they are supposed to do.**"
   ]
  },
  {
   "cell_type": "code",
   "execution_count": null,
   "metadata": {},
   "outputs": [],
   "source": [
    "\"\"\"\n",
    "Writing PNGs\n",
    "\"\"\"\n",
    "\n",
    "#-----------------------------------------------------------------------------\n",
    "# Copyright (c) 2013, yt Development Team.\n",
    "#\n",
    "# Distributed under the terms of the Modified BSD License.\n",
    "#\n",
    "# The full license is in the file COPYING.txt, distributed with this software.\n",
    "#-----------------------------------------------------------------------------\n",
    "\n",
    "import matplotlib._png as _png\n",
    "\n",
    "from io import BytesIO as StringIO\n",
    "\n",
    "\n",
    "def call_png_write_png(buffer, width, height, filename, dpi):\n",
    "    _png.write_png(buffer, filename, dpi)\n",
    "\n",
    "    \n",
    "def write_png(buffer, filename, dpi=100):\n",
    "    width = buffer.shape[1]\n",
    "    height = buffer.shape[0]\n",
    "    call_png_write_png(buffer, width, height, filename, dpi)\n",
    "\n",
    "    \n",
    "def write_png_to_string(buffer, dpi=100, gray=0):\n",
    "    width = buffer.shape[1]\n",
    "    height = buffer.shape[0]\n",
    "    fileobj = StringIO()\n",
    "    call_png_write_png(buffer, width, height, fileobj, dpi)\n",
    "    png_str = fileobj.getvalue()\n",
    "    fileobj.close()\n",
    "    return png_str"
   ]
  },
  {
   "cell_type": "code",
   "execution_count": null,
   "metadata": {},
   "outputs": [],
   "source": [
    "# SERVER:\n",
    "\n",
    "visdat = None\n",
    "\n",
    "\n",
    "# NOTE: Unlike html_view_into_leaflet.ipynb, there is extra\n",
    "# arg named i_slice here for slicing the cube.\n",
    "def re_stretch(stretch, i_slice):\n",
    "    global visdat\n",
    "    visdat = np.flip(stretch(c1.data[i_slice]), 0)\n",
    "\n",
    "\n",
    "def ccd_to_pngstr_app(dat):\n",
    "    return write_png_to_string((dat*255).astype('uint8')[:,:,np.newaxis])\n",
    "\n",
    "\n",
    "logstream = io.StringIO()\n",
    "logging.basicConfig(stream=logstream)\n",
    "\n",
    "app = flask.Flask(__name__)\n",
    "\n",
    "\n",
    "# TODO: Need to document this. Tiling still weird.\n",
    "# Taken from Leaflet_image_viewer.ipynb\n",
    "@app.route('/fits<int:cachebuster>/<string:z>/<int:x>/<int:y>.png')\n",
    "def get_subfits(z, x, y, cachebuster):\n",
    "    z = int(z)\n",
    "    \n",
    "    if z < 0:\n",
    "        factor = 2 ** -z\n",
    "        wid = 256 * factor\n",
    "        xrng = slice(x * wid, (x + 1) * wid, factor)\n",
    "        yrng = slice(y * wid, (y + 1) * wid, factor)\n",
    "\n",
    "        subdat = visdat[yrng, xrng]\n",
    "        \n",
    "    else:\n",
    "        wid = 256 // (2 ** z)\n",
    "        xrng = slice(x * wid, (x + 1) * wid)\n",
    "        yrng = slice(y * wid, (y + 1) * wid)\n",
    "        subdat = visdat[yrng, xrng]\n",
    "        if z > 1:\n",
    "            subdat = subdat.repeat(z, 0).repeat(z, 1)\n",
    "            wid = subdat.shape[0]\n",
    "\n",
    "    if subdat.shape != (wid, wid):\n",
    "        if 0 in subdat.shape:\n",
    "            1 / 0  # TODO: Why not raise exception explicitly?\n",
    "        else:\n",
    "            # Pad out with NaNs\n",
    "            temp = subdat\n",
    "            subdat = np.empty((256, 256), dtype=temp.dtype)\n",
    "            subdat.fill(np.nan)\n",
    "            subdat[:temp.shape[0], :temp.shape[1]] = temp\n",
    "            \n",
    "    return ccd_to_pngstr_app(subdat)"
   ]
  },
  {
   "cell_type": "markdown",
   "metadata": {},
   "source": [
    "**TODO: Do users need to worry about server warning from `th.start()`?**"
   ]
  },
  {
   "cell_type": "code",
   "execution_count": null,
   "metadata": {},
   "outputs": [],
   "source": [
    "th = threading.Thread(target=lambda:app.run(debug=False, use_reloader=False, port=5013))\n",
    "th.start()"
   ]
  },
  {
   "cell_type": "markdown",
   "metadata": {},
   "source": [
    "Create an empty `ipyleaflet` viewer. We will display here later.\n",
    "\n",
    "**TODO: It looks like ipyleaflet is solely to support Earth map view, so using it like this is too hacky?**"
   ]
  },
  {
   "cell_type": "code",
   "execution_count": null,
   "metadata": {},
   "outputs": [],
   "source": [
    "url_templ = 'http://127.0.0.1:5013/fitsNUM/{z}/{x}/{y}.png'\n",
    "\n",
    "m = ipyleaflet.Map(crs='Simple', center=(0, 0), zoom=1, min_zoom=1,\n",
    "                   layers=[], scroll_wheel_zoom=True)\n",
    "\n",
    "# https://github.com/jupyter-widgets/ipyleaflet/issues/332\n",
    "lbl = ipywidgets.Label()\n",
    "display(lbl)\n",
    "\n",
    "# For debugging\n",
    "lbl2 = ipywidgets.Label()\n",
    "display(lbl2)\n",
    "\n",
    "# For 1D plotting\n",
    "fig, ax = plt.subplots()\n",
    "\n",
    "\n",
    "# Event names taken from\n",
    "# https://github.com/jupyter-widgets/ipyleaflet/blob/5f27207ac7a3f2a08f45181613e9ed9ab37eb759/ipyleaflet/leaflet.py#L100\n",
    "def handle_interaction(**kwargs):\n",
    "    global lbl, lbl2\n",
    "    event_type = kwargs.get('type')\n",
    "    coo = kwargs.get('coordinates')\n",
    "    \n",
    "    if event_type == 'mousemove':\n",
    "        # TODO: Translate Map coordinates to something meaningful.\n",
    "        # See https://leafletjs.com/examples/crs-simple/crs-simple.html\n",
    "        lbl.value = str(coo)\n",
    "        \n",
    "    elif event_type == 'click':\n",
    "        # TODO: How to translate coo to iy and ix?\n",
    "        lbl2.value = str(kwargs)\n",
    "        iy = ix = 50\n",
    "        \n",
    "        # Matplotlib for 1D\n",
    "        ax.clear()\n",
    "        ax.plot(cube[:, iy, ix])\n",
    "        fig.canvas.draw_idle()\n",
    "\n",
    "\n",
    "# TODO: Why random int here?\n",
    "cachebuster_int = random.randint(0, 1000000)\n",
    "local_fits_layer = ipyleaflet.basemap_to_tiles(\n",
    "    {'url': url_templ.replace('NUM', str(cachebuster_int)), \n",
    "     'attribution': 'fitsfile'})\n",
    "local_fits_layer.cachebuster_int = cachebuster_int\n",
    "\n",
    "m.add_layer(local_fits_layer)\n",
    "m.on_interaction(handle_interaction)\n",
    "\n",
    "m"
   ]
  },
  {
   "cell_type": "markdown",
   "metadata": {},
   "source": [
    "# Interactivity:\n",
    "\n",
    "**TODO: Functions need documentation.**"
   ]
  },
  {
   "cell_type": "code",
   "execution_count": null,
   "metadata": {},
   "outputs": [],
   "source": [
    "def refresh():\n",
    "    local_fits_layer.cachebuster_int += 1\n",
    "    local_fits_layer.url = url_templ.replace('NUM', str(local_fits_layer.cachebuster_int))\n",
    "    \n",
    "    \n",
    "def rere_stretch(stretch, i_slice):\n",
    "    re_stretch(stretch, i_slice)\n",
    "    refresh()"
   ]
  },
  {
   "cell_type": "markdown",
   "metadata": {},
   "source": [
    "The following hooks up the slider to display chosen slice in the cube on the viewer above."
   ]
  },
  {
   "cell_type": "code",
   "execution_count": null,
   "metadata": {},
   "outputs": [],
   "source": [
    "fav_stretch = visualization.LogStretch() + visualization.PercentileInterval(95)\n",
    "\n",
    "\n",
    "def change_slice(x):\n",
    "    rere_stretch(fav_stretch, x)"
   ]
  },
  {
   "cell_type": "code",
   "execution_count": null,
   "metadata": {},
   "outputs": [],
   "source": [
    "ipywidgets.interact(change_slice, x=ipywidgets.IntSlider(min=0, max=cube.shape[0]-1, step=1, value=0))"
   ]
  },
  {
   "cell_type": "code",
   "execution_count": null,
   "metadata": {},
   "outputs": [],
   "source": []
  }
 ],
 "metadata": {
  "kernelspec": {
   "display_name": "Python 3",
   "language": "python",
   "name": "python3"
  },
  "language_info": {
   "codemirror_mode": {
    "name": "ipython",
    "version": 3
   },
   "file_extension": ".py",
   "mimetype": "text/x-python",
   "name": "python",
   "nbconvert_exporter": "python",
   "pygments_lexer": "ipython3",
   "version": "3.7.1"
  }
 },
 "nbformat": 4,
 "nbformat_minor": 2
}
