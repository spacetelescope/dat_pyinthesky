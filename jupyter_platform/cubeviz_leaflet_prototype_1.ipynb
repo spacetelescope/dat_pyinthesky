{
 "cells": [
  {
   "cell_type": "markdown",
   "metadata": {},
   "source": [
    "# Cubeviz base functionality with leaflet\n",
    "\n",
    "1. Load a data cube\n",
    "2. Scrub through the channels, displaying 2D and 1D\n",
    "3. Median collapse cube\n",
    "4. Stretch goal: Hover stats at cursor (x, y, counts, RA, Dec)"
   ]
  },
  {
   "cell_type": "code",
   "execution_count": null,
   "metadata": {},
   "outputs": [],
   "source": [
    "import io\n",
    "import logging\n",
    "import random\n",
    "import threading\n",
    "import warnings\n",
    "\n",
    "import numpy as np\n",
    "\n",
    "from astropy import visualization\n",
    "from astropy.nddata import CCDData\n",
    "from skimage import transform\n",
    "\n",
    "import ipyleaflet\n",
    "import ipywidgets\n",
    "\n",
    "from IPython.display import display\n",
    "\n",
    "import flask\n",
    "\n",
    "from matplotlib import pyplot as plt"
   ]
  },
  {
   "cell_type": "markdown",
   "metadata": {},
   "source": [
    "Create sample data cube."
   ]
  },
  {
   "cell_type": "code",
   "execution_count": null,
   "metadata": {},
   "outputs": [],
   "source": [
    "from astropy.io import fits\n",
    "from astropy.wcs import WCS\n",
    "\n",
    "with fits.open('/redkeep/ironthrone/ssb/stginga/test_data/ngc6946.fits') as pf:\n",
    "    cube = pf[0].data\n",
    "    hdr = pf[0].header\n",
    "    wcs = WCS(hdr)\n",
    "    ylbl_1d = hdr['BUNIT']\n",
    "    xlbl_1d = hdr['CTYPE3']\n",
    "    flux_unit = 'Jy'\n",
    "    \n",
    "# NOTE: Random cube if you cannot access the data file\n",
    "#np.random.seed(1234)\n",
    "#cube = np.random.random(10000000).reshape((1000, 100, 100))\n",
    "#wcs = None\n",
    "#ylbl_1d = 'count'\n",
    "#xlbl_1d = 'index'\n",
    "#flux_unit = ylbl_1d"
   ]
  },
  {
   "cell_type": "code",
   "execution_count": null,
   "metadata": {},
   "outputs": [],
   "source": [
    "c1 = CCDData(cube, unit=flux_unit, wcs=wcs)"
   ]
  },
  {
   "cell_type": "code",
   "execution_count": null,
   "metadata": {},
   "outputs": [],
   "source": [
    "c1.wcs"
   ]
  },
  {
   "cell_type": "markdown",
   "metadata": {},
   "source": [
    "Some functions copied over from `html_view_into_leaflet.ipynb`.\n",
    "\n",
    "**TODO: These functions should be documented because I have no idea what they are supposed to do.**"
   ]
  },
  {
   "cell_type": "code",
   "execution_count": null,
   "metadata": {},
   "outputs": [],
   "source": [
    "\"\"\"\n",
    "Writing PNGs\n",
    "\"\"\"\n",
    "\n",
    "#-----------------------------------------------------------------------------\n",
    "# Copyright (c) 2013, yt Development Team.\n",
    "#\n",
    "# Distributed under the terms of the Modified BSD License.\n",
    "#\n",
    "# The full license is in the file COPYING.txt, distributed with this software.\n",
    "#-----------------------------------------------------------------------------\n",
    "\n",
    "import matplotlib._png as _png\n",
    "\n",
    "from io import BytesIO as StringIO\n",
    "\n",
    "\n",
    "def call_png_write_png(buffer, width, height, filename, dpi):\n",
    "    _png.write_png(buffer, filename, dpi)\n",
    "\n",
    "    \n",
    "def write_png(buffer, filename, dpi=100):\n",
    "    width = buffer.shape[1]\n",
    "    height = buffer.shape[0]\n",
    "    call_png_write_png(buffer, width, height, filename, dpi)\n",
    "\n",
    "    \n",
    "def write_png_to_string(buffer, dpi=100, gray=0):\n",
    "    width = buffer.shape[1]\n",
    "    height = buffer.shape[0]\n",
    "    fileobj = StringIO()\n",
    "    call_png_write_png(buffer, width, height, fileobj, dpi)\n",
    "    png_str = fileobj.getvalue()\n",
    "    fileobj.close()\n",
    "    return png_str"
   ]
  },
  {
   "cell_type": "code",
   "execution_count": null,
   "metadata": {},
   "outputs": [],
   "source": [
    "# SERVER:\n",
    "\n",
    "visdat = None\n",
    "\n",
    "\n",
    "# NOTE: Unlike html_view_into_leaflet.ipynb, there is extra\n",
    "# arg named i_slice here for slicing the cube.\n",
    "def re_stretch(stretch, i_slice):\n",
    "    global visdat\n",
    "    visdat = np.flip(stretch(c1.data[i_slice]), 0)\n",
    "\n",
    "\n",
    "def ccd_to_pngstr_app(dat):\n",
    "    return write_png_to_string((dat*255).astype('uint8')[:,:,np.newaxis])\n",
    "\n",
    "\n",
    "logstream = io.StringIO()\n",
    "logging.basicConfig(stream=logstream)\n",
    "\n",
    "app = flask.Flask(__name__)\n",
    "\n",
    "\n",
    "# https://en.wikipedia.org/wiki/Tiled_web_map\n",
    "# Taken from Leaflet_image_viewer.ipynb\n",
    "@app.route('/fits<int:cachebuster>/<string:z>/<int:x>/<int:y>.png')\n",
    "def get_subfits(z, x, y, cachebuster):\n",
    "    # Zoom\n",
    "    z = int(z)\n",
    "    \n",
    "    if z < 0:  # TODO: Not used?\n",
    "        factor = 2 ** -z\n",
    "        wid = 256 * factor\n",
    "        xrng = slice(x * wid, (x + 1) * wid, factor)\n",
    "        yrng = slice(y * wid, (y + 1) * wid, factor)\n",
    "\n",
    "        subdat = visdat[yrng, xrng]\n",
    "        \n",
    "    else:\n",
    "        if z == 1:  # Default zoom\n",
    "            wid = 256\n",
    "        else:    \n",
    "            wid = 256 // (2 ** z)\n",
    "            \n",
    "        xrng = slice(x * wid, (x + 1) * wid)\n",
    "        yrng = slice(y * wid, (y + 1) * wid)\n",
    "        subdat = visdat[yrng, xrng]\n",
    "        \n",
    "        if z > 1 or (z == 1 and subdat.shape[0] < 256 and subdat.shape[1] < 256):\n",
    "            # TODO: Did not work for upper-right and lower-left quadrants.\n",
    "            #subdat = subdat.repeat(z, 0).repeat(z, 1)\n",
    "            # TODO: Prettier but scientifically inaccurate.\n",
    "            with warnings.catch_warnings():\n",
    "                warnings.simplefilter('ignore')\n",
    "                subdat = transform.resize(subdat, (256, 256), mode='constant')\n",
    "            wid = subdat.shape[0]\n",
    "            \n",
    "    if subdat.shape != (wid, wid):\n",
    "        if 0 in subdat.shape:\n",
    "            1 / 0  # TODO: Why not raise exception explicitly?\n",
    "        else:\n",
    "            # Pad out with NaNs\n",
    "            temp = subdat.copy()\n",
    "            subdat = np.empty((256, 256), dtype=temp.dtype)\n",
    "            subdat.fill(np.nan)\n",
    "            subdat[:temp.shape[0], :temp.shape[1]] = temp\n",
    "            \n",
    "    return ccd_to_pngstr_app(subdat)"
   ]
  },
  {
   "cell_type": "markdown",
   "metadata": {},
   "source": [
    "Set your favorite display stretch and cuts."
   ]
  },
  {
   "cell_type": "code",
   "execution_count": null,
   "metadata": {},
   "outputs": [],
   "source": [
    "fav_stretch = visualization.LogStretch() + visualization.PercentileInterval(95)"
   ]
  },
  {
   "cell_type": "markdown",
   "metadata": {},
   "source": [
    "**TODO: Do users need to worry about server warning from `th.start()`?**"
   ]
  },
  {
   "cell_type": "code",
   "execution_count": null,
   "metadata": {},
   "outputs": [],
   "source": [
    "th = threading.Thread(target=lambda:app.run(debug=False, use_reloader=False, port=5013))\n",
    "th.start()"
   ]
  },
  {
   "cell_type": "markdown",
   "metadata": {},
   "source": [
    "Create an empty `ipyleaflet` viewer. We will display here later.\n",
    "\n",
    "**TODO: It looks like ipyleaflet is solely to support Earth map view, so using it like this is too hacky?**"
   ]
  },
  {
   "cell_type": "code",
   "execution_count": null,
   "metadata": {},
   "outputs": [],
   "source": [
    "url_templ = 'http://127.0.0.1:5013/fitsNUM/{z}/{x}/{y}.png'\n",
    "\n",
    "m = ipyleaflet.Map(crs='Simple', center=(0, 0), zoom=1, min_zoom=1,\n",
    "                   layers=[], scroll_wheel_zoom=True)\n",
    "\n",
    "# NOTE: Need to put this here for 1D plotting to update.\n",
    "# NOTE: In-place plot update does not work with inline.\n",
    "%matplotlib notebook\n",
    "\n",
    "# For 1D plotting\n",
    "fig, ax = plt.subplots()\n",
    "\n",
    "# https://github.com/jupyter-widgets/ipyleaflet/issues/332\n",
    "lbl = ipywidgets.Label()\n",
    "display(lbl)\n",
    "\n",
    "# For debugging\n",
    "lbl2 = ipywidgets.Label()\n",
    "display(lbl2)\n",
    "\n",
    "# Event names taken from\n",
    "# https://github.com/jupyter-widgets/ipyleaflet/blob/5f27207ac7a3f2a08f45181613e9ed9ab37eb759/ipyleaflet/leaflet.py#L100\n",
    "def handle_interaction(**kwargs):\n",
    "    global lbl, lbl2\n",
    "    event_type = kwargs.get('type')\n",
    "    coo = kwargs.get('coordinates')\n",
    "    disp_size = 128\n",
    "    \n",
    "    lbl2.value = 'LEAF_X: {:.2f}, LEAF_Y: {:.2f}, Zoom: {}'.format(coo[1], coo[0], m.zoom)\n",
    "    \n",
    "    # Rough map coord to X, Y translation\n",
    "    img_y = (coo[0] + disp_size) * visdat.shape[0] / disp_size\n",
    "    img_x = coo[1] * visdat.shape[1] / disp_size\n",
    "    \n",
    "    iy = int(img_y)\n",
    "    ix = int(img_x)\n",
    "    \n",
    "    # TODO: Can we make this more robust?\n",
    "    # See https://leafletjs.com/examples/crs-simple/crs-simple.html\n",
    "    if event_type == 'mousemove':       \n",
    "        if (0 <= ix < visdat.shape[1] and\n",
    "                0 <= iy < visdat.shape[0]):\n",
    "            img_val = cube[slider_obj.value, iy, ix]\n",
    "        else:\n",
    "            img_val = np.nan\n",
    "            \n",
    "        # TODO: Format RA and Dec to nicer output\n",
    "        skycoord = c1.wcs.pixel_to_world(img_x, img_y, slider_obj.value)[0]\n",
    "        lbl.value = 'Value: {:.4e}, X: {:.2f}, Y: {:.2f} (RA: {:.3f}, Dec: {:.3f})'.format(\n",
    "            img_val, img_x, img_y, skycoord.ra.deg, skycoord.dec.deg)\n",
    "        \n",
    "    elif event_type == 'click':\n",
    "        ax.clear()\n",
    "        \n",
    "        # Matplotlib for 1D\n",
    "        if (0 <= ix < visdat.shape[1] and\n",
    "                0 <= iy < visdat.shape[0]):\n",
    "            data_1d = cube[:, iy, ix]\n",
    "            ax.plot(data_1d)\n",
    "            ax.set_ylabel(ylbl_1d)\n",
    "            ax.set_xlabel(xlbl_1d)\n",
    "            fig.canvas.draw_idle()\n",
    "\n",
    "\n",
    "# NOTE: Random int here is how they do cache invalidation...\n",
    "cachebuster_int = random.randint(0, 1000000)\n",
    "local_fits_layer = ipyleaflet.basemap_to_tiles(\n",
    "    {'url': url_templ.replace('NUM', str(cachebuster_int)), \n",
    "     'attribution': 'fitsfile'})\n",
    "local_fits_layer.cachebuster_int = cachebuster_int\n",
    "\n",
    "\n",
    "def refresh():\n",
    "    local_fits_layer.cachebuster_int += 1\n",
    "    local_fits_layer.url = url_templ.replace('NUM', str(local_fits_layer.cachebuster_int))\n",
    "    \n",
    "    \n",
    "def rere_stretch(stretch, i_slice):\n",
    "    re_stretch(stretch, i_slice)\n",
    "    refresh()\n",
    "\n",
    "    \n",
    "def change_slice(x):\n",
    "    rere_stretch(fav_stretch, x)\n",
    "\n",
    "    \n",
    "m.add_layer(local_fits_layer)\n",
    "m.on_interaction(handle_interaction)\n",
    "\n",
    "m"
   ]
  },
  {
   "cell_type": "markdown",
   "metadata": {},
   "source": [
    "The following hooks up the slider to display chosen slice in the cube on the viewer above."
   ]
  },
  {
   "cell_type": "code",
   "execution_count": null,
   "metadata": {},
   "outputs": [],
   "source": [
    "slider_obj = ipywidgets.IntSlider(min=0, max=cube.shape[0]-1, step=1, value=0)\n",
    "interact_obj = ipywidgets.interact(change_slice, x=slider_obj)"
   ]
  },
  {
   "cell_type": "markdown",
   "metadata": {},
   "source": [
    "End of prototype demo."
   ]
  }
 ],
 "metadata": {
  "kernelspec": {
   "display_name": "Python 3",
   "language": "python",
   "name": "python3"
  },
  "language_info": {
   "codemirror_mode": {
    "name": "ipython",
    "version": 3
   },
   "file_extension": ".py",
   "mimetype": "text/x-python",
   "name": "python",
   "nbconvert_exporter": "python",
   "pygments_lexer": "ipython3",
   "version": "3.7.1"
  }
 },
 "nbformat": 4,
 "nbformat_minor": 2
}
