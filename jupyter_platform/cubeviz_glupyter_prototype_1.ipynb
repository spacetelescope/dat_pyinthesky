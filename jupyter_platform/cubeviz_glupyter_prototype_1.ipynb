{
 "cells": [
  {
   "cell_type": "markdown",
   "metadata": {},
   "source": [
    "# Test Cubeviz Base Functionality with Glupyter\n",
    "\n",
    "This work is to satisfy https://github.com/spacetelescope/dat_pyinthesky/issues/28. The goals are:\n",
    "\n",
    "1. Load a data cube\n",
    "2. Display 1D and 2D\n",
    "3. Median collapse cube\n",
    "4. Stretch goal: Hover stats with X, Y, value, RA, DEC\n",
    "\n",
    "This notebook was originally written by Pey-Lian Lim and updated by Tom Robitaille."
   ]
  },
  {
   "cell_type": "code",
   "execution_count": null,
   "metadata": {},
   "outputs": [],
   "source": [
    "import numpy as np\n",
    "import glue_jupyter as gj"
   ]
  },
  {
   "cell_type": "markdown",
   "metadata": {},
   "source": [
    "### Step 1 - load a data cube"
   ]
  },
  {
   "cell_type": "markdown",
   "metadata": {},
   "source": [
    "Start off by downloading the required data"
   ]
  },
  {
   "cell_type": "code",
   "execution_count": null,
   "metadata": {},
   "outputs": [],
   "source": [
    "import os\n",
    "from urllib.request import urlretrieve\n",
    "if not os.path.exists('manga-7495-12704-LOGCUBE.fits.gz'):\n",
    "    _ = urlretrieve('http://data.sdss.org/sas/dr13/manga/spectro/redux/v1_5_4/7495/stack/manga-7495-12704-LOGCUBE.fits.gz',\n",
    "                    'manga-7495-12704-LOGCUBE.fits.gz')"
   ]
  },
  {
   "cell_type": "markdown",
   "metadata": {},
   "source": [
    "Next we start up glue then load the data in"
   ]
  },
  {
   "cell_type": "code",
   "execution_count": null,
   "metadata": {},
   "outputs": [],
   "source": [
    "app = gj.jglue()"
   ]
  },
  {
   "cell_type": "code",
   "execution_count": null,
   "metadata": {},
   "outputs": [],
   "source": [
    "flux, ivar, mask = app.load_data('manga-7495-12704-LOGCUBE.fits')[0:3]"
   ]
  },
  {
   "cell_type": "code",
   "execution_count": null,
   "metadata": {},
   "outputs": [],
   "source": [
    "app.data_collection.merge(flux, ivar, mask, label='manga-cube')"
   ]
  },
  {
   "cell_type": "code",
   "execution_count": null,
   "metadata": {},
   "outputs": [],
   "source": [
    "cube = app.data_collection[14]\n",
    "print(cube)"
   ]
  },
  {
   "cell_type": "markdown",
   "metadata": {},
   "source": [
    "### Step 2 - Show 2D image and 1D spectrum view"
   ]
  },
  {
   "cell_type": "code",
   "execution_count": null,
   "metadata": {
    "scrolled": false
   },
   "outputs": [],
   "source": [
    "image = app.imshow(data=cube)"
   ]
  },
  {
   "cell_type": "code",
   "execution_count": null,
   "metadata": {},
   "outputs": [],
   "source": [
    "profile = app.profile1d(data=cube)"
   ]
  },
  {
   "cell_type": "markdown",
   "metadata": {},
   "source": [
    "### Step 3 - Median collapse spectral range"
   ]
  },
  {
   "cell_type": "markdown",
   "metadata": {},
   "source": [
    "Before continuing, select a spectral range in the profile viewer, preferably around an interesting line!"
   ]
  },
  {
   "cell_type": "code",
   "execution_count": null,
   "metadata": {},
   "outputs": [],
   "source": [
    "from glue.core import Data\n",
    "data_subset = cube['FLUX'].copy()\n",
    "data_subset[~cube.subsets[0].to_mask()] = np.nan\n",
    "data_subset_collapsed = np.nanmedian(data_subset, axis=0)\n",
    "cube_subset = Data(FLUX=data_subset_collapsed, label='Median collapsed')"
   ]
  },
  {
   "cell_type": "code",
   "execution_count": null,
   "metadata": {},
   "outputs": [],
   "source": [
    "app.add_data(cube_subset)"
   ]
  },
  {
   "cell_type": "code",
   "execution_count": null,
   "metadata": {},
   "outputs": [],
   "source": [
    "image_collapsed = app.imshow(data=cube_subset)"
   ]
  },
  {
   "cell_type": "markdown",
   "metadata": {},
   "source": [
    "### Step 4 - show hover over \n",
    "\n",
    "For now, this requires manual code, but we could incorporate this into glue-jupyter"
   ]
  },
  {
   "cell_type": "code",
   "execution_count": null,
   "metadata": {},
   "outputs": [],
   "source": [
    "from ipyevents import Event\n",
    "from ipywidgets import Text, VBox\n",
    "\n",
    "t = Text()\n",
    "d = Event(source=image_collapsed.figure, watched_events=['mousemove'])\n",
    "def handle_event(event):\n",
    "    x = event['relativeX']\n",
    "    y = event['relativeX']\n",
    "    t.value = 'x={0} y={1}'.format(x, y)\n",
    "d.on_dom_event(handle_event)\n",
    "\n",
    "image_collapsed.main_widget.children += (t,)"
   ]
  },
  {
   "cell_type": "markdown",
   "metadata": {},
   "source": [
    "This adds a small box with the x/y coordinates below the collapsed image viewer. Note that for now the coordinates are not actually the data coordinates, but with some upcoming changes in ipyevents we will be able to convert these to real pixel coordinates and subsequently world coordinates."
   ]
  }
 ],
 "metadata": {
  "kernelspec": {
   "display_name": "Python 3",
   "language": "python",
   "name": "python3"
  },
  "language_info": {
   "codemirror_mode": {
    "name": "ipython",
    "version": 3
   },
   "file_extension": ".py",
   "mimetype": "text/x-python",
   "name": "python",
   "nbconvert_exporter": "python",
   "pygments_lexer": "ipython3",
   "version": "3.7.1"
  }
 },
 "nbformat": 4,
 "nbformat_minor": 2
}
